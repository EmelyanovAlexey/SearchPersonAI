{
 "cells": [
  {
   "cell_type": "markdown",
   "metadata": {},
   "source": [
    "Скрит позволяет разбивать изображения на части для обучения"
   ]
  },
  {
   "cell_type": "code",
   "execution_count": 14,
   "metadata": {},
   "outputs": [],
   "source": [
    "import os\n",
    "import cv2\n",
    "import numpy as np\n",
    "from tqdm import tqdm\n",
    "import random\n",
    "\n",
    "# Параметры разбиения\n",
    "IMAGE_DIR = \"../DataSet/SplitDataAll/Valid/images/\"\n",
    "LABEL_DIR = \"../DataSet/SplitDataAll/Valid/labels/\"\n",
    "\n",
    "IMAGE_EXTENSIONS = {\".jpg\", \".jpeg\", \".png\", \".bmp\", \".tiff\"}"
   ]
  },
  {
   "cell_type": "code",
   "execution_count": 17,
   "metadata": {},
   "outputs": [
    {
     "name": "stdout",
     "output_type": "stream",
     "text": [
      "Количество изображений без меток: 54624\n"
     ]
    }
   ],
   "source": [
    "def count_images_without_labels(image_dir, label_dir):\n",
    "    count = 0\n",
    "\n",
    "    for file in os.listdir(image_dir):\n",
    "        if os.path.splitext(file)[1].lower() in IMAGE_EXTENSIONS:\n",
    "            image_name = os.path.splitext(file)[0]\n",
    "            label_path = os.path.join(label_dir, f\"{image_name}.txt\")\n",
    "\n",
    "            # Проверяем, существует ли файл метки и не пустой ли он\n",
    "            if not os.path.exists(label_path) or os.path.getsize(label_path) == 0:\n",
    "                count += 1\n",
    "\n",
    "    return count\n",
    "\n",
    "missing_labels = count_images_without_labels(IMAGE_DIR, LABEL_DIR)\n",
    "print(f\"Количество изображений без меток: {missing_labels}\")\n"
   ]
  },
  {
   "cell_type": "markdown",
   "metadata": {},
   "source": [
    "train - Количество изображений без меток: 477548 было и 166877 стало из 172475\n",
    "valid - Количество изображений без меток: 136363 было и 54624 стало из 56169\n",
    "test  - Количество изображений без меток: 68204 было из 69000 и 34418 стало из 35214"
   ]
  },
  {
   "cell_type": "code",
   "execution_count": 16,
   "metadata": {},
   "outputs": [
    {
     "name": "stdout",
     "output_type": "stream",
     "text": [
      "Удалено 81739 изображений без меток.\n"
     ]
    }
   ],
   "source": [
    "\n",
    "def delete_images_without_labels(image_dir, label_dir, probability=0.5):\n",
    "    \"\"\"\n",
    "    Удаляет изображения, у которых нет меток, с заданной вероятностью.\n",
    "\n",
    "    :param image_dir: Папка с изображениями.\n",
    "    :param label_dir: Папка с метками (если метки в той же папке, указать image_dir).\n",
    "    :param probability: Вероятность удаления (от 0 до 1).\n",
    "    \"\"\"\n",
    "    IMAGE_EXTENSIONS = {\".jpg\", \".jpeg\", \".png\", \".bmp\", \".tiff\"}\n",
    "    deleted_count = 0\n",
    "\n",
    "    for file in os.listdir(image_dir):\n",
    "        if os.path.splitext(file)[1].lower() in IMAGE_EXTENSIONS:\n",
    "            image_name = os.path.splitext(file)[0]\n",
    "            label_path = os.path.join(label_dir, f\"{image_name}.txt\")\n",
    "            image_path = os.path.join(image_dir, file)\n",
    "\n",
    "            # Если файла метки нет или он пустой\n",
    "            if not os.path.exists(label_path) or os.path.getsize(label_path) == 0:\n",
    "                if random.random() < probability:  # Удаляем с вероятностью probability\n",
    "                    os.remove(image_path)\n",
    "                    deleted_count += 1\n",
    "\n",
    "    print(f\"Удалено {deleted_count} изображений без меток.\")\n",
    "\n",
    "delete_images_without_labels(IMAGE_DIR, LABEL_DIR, probability=0.6)"
   ]
  }
 ],
 "metadata": {
  "kernelspec": {
   "display_name": "Python 3",
   "language": "python",
   "name": "python3"
  },
  "language_info": {
   "codemirror_mode": {
    "name": "ipython",
    "version": 3
   },
   "file_extension": ".py",
   "mimetype": "text/x-python",
   "name": "python",
   "nbconvert_exporter": "python",
   "pygments_lexer": "ipython3",
   "version": "3.10.0"
  }
 },
 "nbformat": 4,
 "nbformat_minor": 2
}
