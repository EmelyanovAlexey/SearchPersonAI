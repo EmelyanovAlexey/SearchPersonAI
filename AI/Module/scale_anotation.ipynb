{
 "cells": [
  {
   "cell_type": "markdown",
   "metadata": {},
   "source": [
    "увиличение меток на изображении"
   ]
  },
  {
   "cell_type": "code",
   "execution_count": 27,
   "metadata": {},
   "outputs": [],
   "source": [
    "import os\n",
    "import cv2\n",
    "import numpy as np\n",
    "from tqdm import tqdm\n",
    "\n",
    "# Параметры разбиения\n",
    "DATA_DIR = \"../DataSet/SplitData/Valid/labels/\"\n",
    "\n",
    "# Папка с аннотациями (замени на свою)\n",
    "LABELS_DIR = DATA_DIR\n"
   ]
  },
  {
   "cell_type": "code",
   "execution_count": 28,
   "metadata": {},
   "outputs": [],
   "source": [
    "# Коэффициент увеличения боксов (например, на 30%)\n",
    "SCALE = 1.5\n",
    "\n",
    "# Размер изображения (если у тебя другой, поменяй)\n",
    "IMG_SIZE = (640, 640)\n",
    "\n",
    "def expand_bbox(bbox, scale, img_size):\n",
    "    \"\"\" Расширяет bounding box с ограничением по границам изображения \"\"\"\n",
    "    x_center, y_center, w, h = bbox\n",
    "    new_w, new_h = w * scale, h * scale\n",
    "    new_x_min = max(0, x_center - new_w / 2)\n",
    "    new_y_min = max(0, y_center - new_h / 2)\n",
    "    new_x_max = min(img_size[0], x_center + new_w / 2)\n",
    "    new_y_max = min(img_size[1], y_center + new_h / 2)\n",
    "\n",
    "    new_w = new_x_max - new_x_min\n",
    "    new_h = new_y_max - new_y_min\n",
    "    return [x_center, y_center, new_w, new_h]\n",
    "\n",
    "def process_labels():\n",
    "    for file_name in os.listdir(LABELS_DIR):\n",
    "        if file_name.endswith(\".txt\"):\n",
    "            file_path = os.path.join(LABELS_DIR, file_name)\n",
    "\n",
    "            with open(file_path, \"r\") as f:\n",
    "                lines = f.readlines()\n",
    "\n",
    "            new_lines = []\n",
    "            for line in lines:\n",
    "                parts = line.strip().split()\n",
    "                class_id = parts[0]\n",
    "                bbox = list(map(float, parts[1:]))  # x_center, y_center, width, height\n",
    "                new_bbox = expand_bbox(bbox, SCALE, IMG_SIZE)\n",
    "                new_lines.append(f\"{class_id} {' '.join(map(str, new_bbox))}\\n\")\n",
    "\n",
    "            # Перезаписываем файл\n",
    "            with open(file_path, \"w\") as f:\n",
    "                f.writelines(new_lines)\n"
   ]
  },
  {
   "cell_type": "code",
   "execution_count": 29,
   "metadata": {},
   "outputs": [
    {
     "name": "stdout",
     "output_type": "stream",
     "text": [
      "✅ Аннотации успешно обновлены!\n"
     ]
    }
   ],
   "source": [
    "if __name__ == \"__main__\":\n",
    "    process_labels()\n",
    "    print(\"✅ Аннотации успешно обновлены!\")"
   ]
  }
 ],
 "metadata": {
  "kernelspec": {
   "display_name": "Python 3",
   "language": "python",
   "name": "python3"
  },
  "language_info": {
   "codemirror_mode": {
    "name": "ipython",
    "version": 3
   },
   "file_extension": ".py",
   "mimetype": "text/x-python",
   "name": "python",
   "nbconvert_exporter": "python",
   "pygments_lexer": "ipython3",
   "version": "3.10.0"
  }
 },
 "nbformat": 4,
 "nbformat_minor": 2
}
