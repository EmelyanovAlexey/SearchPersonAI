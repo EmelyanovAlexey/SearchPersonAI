{
 "cells": [
  {
   "cell_type": "markdown",
   "metadata": {},
   "source": [
    "Скрит позволяет разбивать изображения на части для обучения"
   ]
  },
  {
   "cell_type": "code",
   "execution_count": 17,
   "metadata": {},
   "outputs": [],
   "source": [
    "import os\n",
    "import cv2\n",
    "import numpy as np\n",
    "from tqdm import tqdm\n",
    "\n",
    "# Параметры разбиения\n",
    "PATCH_SIZE = 640\n",
    "OVERLAP = 5\n",
    "OUTPUT_DIR = \"../DataSet/SplitDataAll/Valid/\"\n",
    "DATA_DIR = \"../DataSet/NewDataAll/Valid/\"\n"
   ]
  },
  {
   "cell_type": "code",
   "execution_count": 18,
   "metadata": {},
   "outputs": [],
   "source": [
    "import os\n",
    "import cv2\n",
    "\n",
    "def split_image_and_labels(image_path, label_path, patch_size, overlap, output_dir):\n",
    "    image = cv2.imread(image_path)\n",
    "    h, w, _ = image.shape\n",
    "    step = patch_size - overlap\n",
    "\n",
    "    os.makedirs(os.path.join(output_dir, \"images\"), exist_ok=True)\n",
    "    os.makedirs(os.path.join(output_dir, \"labels\"), exist_ok=True)\n",
    "\n",
    "    # Читаем метки (если файл пустой, то labels = [])\n",
    "    labels = []\n",
    "    if os.path.exists(label_path):\n",
    "        with open(label_path, \"r\") as f:\n",
    "            for line in f:\n",
    "                parts = line.strip().split()\n",
    "                if len(parts) == 5:  # Фильтруем строки, где не 5 значений\n",
    "                    labels.append([float(x) for x in parts])\n",
    "\n",
    "    # Разрезаем изображение\n",
    "    idx = 0\n",
    "    for y in range(0, h, step):\n",
    "        for x in range(0, w, step):\n",
    "            x_end = min(x + patch_size, w)\n",
    "            y_end = min(y + patch_size, h)\n",
    "            patch = image[y:y_end, x:x_end]\n",
    "            patch_h, patch_w, _ = patch.shape\n",
    "\n",
    "            # Генерируем имя файла\n",
    "            img_name = f\"{os.path.splitext(os.path.basename(image_path))[0]}_{idx}.jpg\"\n",
    "            lbl_name = f\"{os.path.splitext(os.path.basename(label_path))[0]}_{idx}.txt\"\n",
    "\n",
    "            cv2.imwrite(os.path.join(output_dir, \"images\", img_name), patch)\n",
    "\n",
    "            # Собираем метки для этого патча\n",
    "            patch_labels = []\n",
    "            for label in labels:\n",
    "                if len(label) == 5:  # Защита от некорректных данных\n",
    "                    cls, x_center, y_center, width, height = label\n",
    "                    x_abs = x_center * w\n",
    "                    y_abs = y_center * h\n",
    "                    box_w = width * w\n",
    "                    box_h = height * h\n",
    "\n",
    "                    # Проверяем, попадает ли объект в область\n",
    "                    if x < x_abs < x_end and y < y_abs < y_end:\n",
    "                        new_x_center = (x_abs - x) / patch_w\n",
    "                        new_y_center = (y_abs - y) / patch_h\n",
    "                        new_width = box_w / patch_w\n",
    "                        new_height = box_h / patch_h\n",
    "                        patch_labels.append([cls, new_x_center, new_y_center, new_width, new_height])\n",
    "\n",
    "            # Сохраняем метки, если они есть\n",
    "            label_output_path = os.path.join(output_dir, \"labels\", lbl_name)\n",
    "            if patch_labels:  # Записываем только если есть метки\n",
    "                with open(label_output_path, \"w\") as f:\n",
    "                    for lbl in patch_labels:\n",
    "                        f.write(\" \".join(map(str, lbl)) + \"\\n\")\n",
    "            else:\n",
    "                open(label_output_path, \"w\").close()  # Создаём пустой файл, если меток нет\n",
    "\n",
    "            idx += 1\n"
   ]
  },
  {
   "cell_type": "code",
   "execution_count": 19,
   "metadata": {},
   "outputs": [
    {
     "name": "stderr",
     "output_type": "stream",
     "text": [
      "100%|██████████| 1469/1469 [23:56<00:00,  1.02it/s]\n"
     ]
    }
   ],
   "source": [
    "\n",
    "# Обработка всего набора данных\n",
    "\n",
    "for img_name in tqdm(os.listdir(os.path.join(DATA_DIR, \"images\"))):\n",
    "    img_path = os.path.join(DATA_DIR, \"images\", img_name)\n",
    "    label_path = os.path.join(DATA_DIR, \"labels\", f\"{os.path.splitext(img_name)[0]}.txt\")\n",
    "\n",
    "    # print(img_path, label_path)\n",
    "\n",
    "    # with open(label_path, \"r\", encoding=\"utf-8\") as f:\n",
    "    #     labels = [line.strip().split() for line in f.readlines()]\n",
    "    #     print(\"Содержимое labels:\", labels)  # Посмотри, что реально загружено\n",
    "\n",
    "    split_image_and_labels(\n",
    "        image_path=img_path,\n",
    "        label_path=label_path,\n",
    "        patch_size=PATCH_SIZE,\n",
    "        overlap=OVERLAP,\n",
    "        output_dir=OUTPUT_DIR,\n",
    "    )"
   ]
  }
 ],
 "metadata": {
  "kernelspec": {
   "display_name": "Python 3",
   "language": "python",
   "name": "python3"
  },
  "language_info": {
   "codemirror_mode": {
    "name": "ipython",
    "version": 3
   },
   "file_extension": ".py",
   "mimetype": "text/x-python",
   "name": "python",
   "nbconvert_exporter": "python",
   "pygments_lexer": "ipython3",
   "version": "3.10.0"
  }
 },
 "nbformat": 4,
 "nbformat_minor": 2
}
