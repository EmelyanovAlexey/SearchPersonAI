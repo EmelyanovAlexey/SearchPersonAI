{
 "cells": [
  {
   "cell_type": "markdown",
   "metadata": {},
   "source": [
    "# Обучение\n",
    "\n",
    "## 1 Выбор модели\n",
    "- YOLOv8n (nano): Этот вариант — самый лёгкий и быстрый, подходящий для устройств с ограниченными ресурсами, таких как дроны с мобильными процессорами или устройства типа NVIDIA Jetson Nano. Однако точность этой модели ниже, чем у более крупных вариантов.\n",
    "\n",
    "- YOLOv8s (small): Этот вариант предлагает хороший баланс между точностью и скоростью, лучше подходит для реальных условий, если у дрона есть чуть более мощный процессор, например, Jetson Xavier NX или эквивалент.\n",
    "\n",
    "- YOLOv8m (medium): Используйте его, если вам важна более высокая точность и вы можете позволить себе снижение скорости, например, если дрон оснащён мощным вычислительным блоком. Модель будет давать более стабильные и точные результаты.\n"
   ]
  },
  {
   "cell_type": "markdown",
   "metadata": {},
   "source": [
    "# Библиотеки"
   ]
  },
  {
   "cell_type": "code",
   "execution_count": 1,
   "metadata": {},
   "outputs": [],
   "source": [
    "from ultralytics import YOLO\n",
    "import torch"
   ]
  },
  {
   "cell_type": "markdown",
   "metadata": {},
   "source": [
    "# Константы"
   ]
  },
  {
   "cell_type": "code",
   "execution_count": 2,
   "metadata": {},
   "outputs": [
    {
     "name": "stdout",
     "output_type": "stream",
     "text": [
      "cuda\n"
     ]
    }
   ],
   "source": [
    "PATH_DATASET = './DataSet/SplitData/dataset.yaml'\n",
    "MODEL = 'yolo11s.pt'\n",
    "DEVICE = 'cuda' if torch.cuda.is_available() else 'cpu'\n",
    "CONFIG = './Param/train.yaml'\n",
    "\n",
    "# print(torch.cuda.is_available()) \n",
    "print(DEVICE)"
   ]
  },
  {
   "cell_type": "markdown",
   "metadata": {},
   "source": [
    "# Программа"
   ]
  },
  {
   "cell_type": "code",
   "execution_count": 7,
   "metadata": {},
   "outputs": [
    {
     "name": "stdout",
     "output_type": "stream",
     "text": [
      "Downloading https://github.com/ultralytics/assets/releases/download/v8.3.0/yolo11s.pt to 'yolo11s.pt'...\n"
     ]
    },
    {
     "name": "stderr",
     "output_type": "stream",
     "text": [
      "100%|██████████| 18.4M/18.4M [00:02<00:00, 9.40MB/s]\n"
     ]
    }
   ],
   "source": [
    "model = YOLO(MODEL) "
   ]
  },
  {
   "cell_type": "code",
   "execution_count": 3,
   "metadata": {},
   "outputs": [],
   "source": [
    "model = YOLO(\"./runs/detect/train/weights/best.pt\") "
   ]
  },
  {
   "cell_type": "code",
   "execution_count": 4,
   "metadata": {},
   "outputs": [
    {
     "name": "stdout",
     "output_type": "stream",
     "text": [
      "New https://pypi.org/project/ultralytics/8.3.72 available  Update with 'pip install -U ultralytics'\n",
      "Ultralytics 8.3.23  Python-3.10.0 torch-2.5.0+cu121 CUDA:0 (NVIDIA GeForce RTX 3060, 12287MiB)\n",
      "\u001b[34m\u001b[1mengine\\trainer: \u001b[0mtask=detect, mode=train, model=runs\\detect\\train\\weights\\best.pt, data=./DataSet/SplitData/dataset.yaml, epochs=210, time=None, patience=30, batch=18, imgsz=640, save=True, save_period=-1, cache=False, device=cuda, workers=8, project=None, name=train, exist_ok=False, pretrained=True, optimizer=auto, verbose=True, seed=0, deterministic=True, single_cls=True, rect=False, cos_lr=False, close_mosaic=10, resume=runs\\detect\\train\\weights\\best.pt, amp=True, fraction=1.0, profile=False, freeze=None, multi_scale=False, overlap_mask=True, mask_ratio=4, dropout=0.0, val=True, split=val, save_json=False, save_hybrid=False, conf=None, iou=0.6, max_det=30, half=False, dnn=False, plots=True, source=None, vid_stride=1, stream_buffer=False, visualize=False, augment=True, agnostic_nms=False, classes=None, retina_masks=False, embed=None, show=False, save_frames=False, save_txt=False, save_conf=False, save_crop=False, show_labels=True, show_conf=True, show_boxes=True, line_width=None, format=torchscript, keras=False, optimize=False, int8=False, dynamic=False, simplify=True, opset=None, workspace=4, nms=False, lr0=0.01, lrf=0.01, momentum=0.937, weight_decay=0.0005, warmup_epochs=3.0, warmup_momentum=0.8, warmup_bias_lr=0.0, box=7.5, cls=0.5, dfl=1.5, pose=12.0, kobj=1.0, label_smoothing=0.0, nbs=64, hsv_h=0.015, hsv_s=0.7, hsv_v=0.4, degrees=0.3, translate=0.2, scale=0.5, shear=0.3, perspective=0.0, flipud=0.5, fliplr=0.5, bgr=0.0, mosaic=1.0, mixup=0.7, copy_paste=0.2, copy_paste_mode=flip, auto_augment=randaugment, erasing=0.4, crop_fraction=1.0, cfg=None, tracker=botsort.yaml, save_dir=runs\\detect\\train\n",
      "\n",
      "                   from  n    params  module                                       arguments                     \n",
      "  0                  -1  1       928  ultralytics.nn.modules.conv.Conv             [3, 32, 3, 2]                 \n",
      "  1                  -1  1     18560  ultralytics.nn.modules.conv.Conv             [32, 64, 3, 2]                \n",
      "  2                  -1  1     26080  ultralytics.nn.modules.block.C3k2            [64, 128, 1, False, 0.25]     \n",
      "  3                  -1  1    147712  ultralytics.nn.modules.conv.Conv             [128, 128, 3, 2]              \n",
      "  4                  -1  1    103360  ultralytics.nn.modules.block.C3k2            [128, 256, 1, False, 0.25]    \n",
      "  5                  -1  1    590336  ultralytics.nn.modules.conv.Conv             [256, 256, 3, 2]              \n",
      "  6                  -1  1    346112  ultralytics.nn.modules.block.C3k2            [256, 256, 1, True]           \n",
      "  7                  -1  1   1180672  ultralytics.nn.modules.conv.Conv             [256, 512, 3, 2]              \n",
      "  8                  -1  1   1380352  ultralytics.nn.modules.block.C3k2            [512, 512, 1, True]           \n",
      "  9                  -1  1    656896  ultralytics.nn.modules.block.SPPF            [512, 512, 5]                 \n",
      " 10                  -1  1    990976  ultralytics.nn.modules.block.C2PSA           [512, 512, 1]                 \n",
      " 11                  -1  1         0  torch.nn.modules.upsampling.Upsample         [None, 2, 'nearest']          \n",
      " 12             [-1, 6]  1         0  ultralytics.nn.modules.conv.Concat           [1]                           \n",
      " 13                  -1  1    443776  ultralytics.nn.modules.block.C3k2            [768, 256, 1, False]          \n",
      " 14                  -1  1         0  torch.nn.modules.upsampling.Upsample         [None, 2, 'nearest']          \n",
      " 15             [-1, 4]  1         0  ultralytics.nn.modules.conv.Concat           [1]                           \n",
      " 16                  -1  1    127680  ultralytics.nn.modules.block.C3k2            [512, 128, 1, False]          \n",
      " 17                  -1  1    147712  ultralytics.nn.modules.conv.Conv             [128, 128, 3, 2]              \n",
      " 18            [-1, 13]  1         0  ultralytics.nn.modules.conv.Concat           [1]                           \n",
      " 19                  -1  1    345472  ultralytics.nn.modules.block.C3k2            [384, 256, 1, False]          \n",
      " 20                  -1  1    590336  ultralytics.nn.modules.conv.Conv             [256, 256, 3, 2]              \n",
      " 21            [-1, 10]  1         0  ultralytics.nn.modules.conv.Concat           [1]                           \n",
      " 22                  -1  1   1511424  ultralytics.nn.modules.block.C3k2            [768, 512, 1, True]           \n",
      " 23        [16, 19, 22]  1    819795  ultralytics.nn.modules.head.Detect           [1, [128, 256, 512]]          \n",
      "YOLO11s summary: 319 layers, 9,428,179 parameters, 9,428,163 gradients, 21.5 GFLOPs\n",
      "\n",
      "Transferred 499/499 items from pretrained weights\n",
      "Freezing layer 'model.23.dfl.conv.weight'\n",
      "\u001b[34m\u001b[1mAMP: \u001b[0mrunning Automatic Mixed Precision (AMP) checks...\n",
      "\u001b[34m\u001b[1mAMP: \u001b[0mchecks passed \n"
     ]
    },
    {
     "name": "stderr",
     "output_type": "stream",
     "text": [
      "\u001b[34m\u001b[1mtrain: \u001b[0mScanning D:\\Nsu\\SearchPersonAI\\AI\\DataSet\\SplitData\\Train2\\labels.cache... 36054 images, 33735 backgrounds, 0 corrupt: 100%|██████████| 36054/36054 [00:00<?, ?it/s]\n",
      "\u001b[34m\u001b[1mval: \u001b[0mScanning D:\\Nsu\\SearchPersonAI\\AI\\DataSet\\SplitData\\Valid2\\labels.cache... 10399 images, 9715 backgrounds, 0 corrupt: 100%|██████████| 10399/10399 [00:00<?, ?it/s]\n"
     ]
    },
    {
     "name": "stdout",
     "output_type": "stream",
     "text": [
      "Plotting labels to runs\\detect\\train\\labels.jpg... \n",
      "\u001b[34m\u001b[1moptimizer:\u001b[0m 'optimizer=auto' found, ignoring 'lr0=0.01' and 'momentum=0.937' and determining best 'optimizer', 'lr0' and 'momentum' automatically... \n",
      "\u001b[34m\u001b[1moptimizer:\u001b[0m SGD(lr=0.01, momentum=0.9) with parameter groups 81 weight(decay=0.0), 88 weight(decay=0.0005625000000000001), 87 bias(decay=0.0)\n",
      "Resuming training runs\\detect\\train\\weights\\best.pt from epoch 163 to 210 total epochs\n",
      "Image sizes 640 train, 640 val\n",
      "Using 8 dataloader workers\n",
      "Logging results to \u001b[1mruns\\detect\\train\u001b[0m\n",
      "Starting training for 210 epochs...\n",
      "\n",
      "      Epoch    GPU_mem   box_loss   cls_loss   dfl_loss  Instances       Size\n"
     ]
    },
    {
     "name": "stderr",
     "output_type": "stream",
     "text": [
      "    163/210      4.74G      1.236      1.176      1.177          3        640: 100%|██████████| 2003/2003 [08:12<00:00,  4.07it/s]\n",
      "                 Class     Images  Instances      Box(P          R      mAP50  mAP50-95): 100%|██████████| 289/289 [00:48<00:00,  5.91it/s]"
     ]
    },
    {
     "name": "stdout",
     "output_type": "stream",
     "text": [
      "                   all      10399       1029      0.819      0.756      0.831      0.563\n"
     ]
    },
    {
     "name": "stderr",
     "output_type": "stream",
     "text": [
      "\n"
     ]
    },
    {
     "name": "stdout",
     "output_type": "stream",
     "text": [
      "\n",
      "      Epoch    GPU_mem   box_loss   cls_loss   dfl_loss  Instances       Size\n"
     ]
    },
    {
     "name": "stderr",
     "output_type": "stream",
     "text": [
      "    164/210      4.79G      1.275      1.224      1.186          0        640: 100%|██████████| 2003/2003 [08:04<00:00,  4.13it/s]\n",
      "                 Class     Images  Instances      Box(P          R      mAP50  mAP50-95): 100%|██████████| 289/289 [00:48<00:00,  6.01it/s]"
     ]
    },
    {
     "name": "stdout",
     "output_type": "stream",
     "text": [
      "                   all      10399       1029      0.819      0.756       0.83      0.563\n"
     ]
    },
    {
     "name": "stderr",
     "output_type": "stream",
     "text": [
      "\n"
     ]
    },
    {
     "name": "stdout",
     "output_type": "stream",
     "text": [
      "\n",
      "      Epoch    GPU_mem   box_loss   cls_loss   dfl_loss  Instances       Size\n"
     ]
    },
    {
     "name": "stderr",
     "output_type": "stream",
     "text": [
      "    165/210       4.8G       1.29      1.227      1.198          2        640: 100%|██████████| 2003/2003 [08:10<00:00,  4.08it/s]\n",
      "                 Class     Images  Instances      Box(P          R      mAP50  mAP50-95): 100%|██████████| 289/289 [00:48<00:00,  5.95it/s]"
     ]
    },
    {
     "name": "stdout",
     "output_type": "stream",
     "text": [
      "                   all      10399       1029      0.819      0.758       0.83      0.565\n"
     ]
    },
    {
     "name": "stderr",
     "output_type": "stream",
     "text": [
      "\n"
     ]
    },
    {
     "name": "stdout",
     "output_type": "stream",
     "text": [
      "\n",
      "      Epoch    GPU_mem   box_loss   cls_loss   dfl_loss  Instances       Size\n"
     ]
    },
    {
     "name": "stderr",
     "output_type": "stream",
     "text": [
      "    166/210      4.71G      1.256      1.177      1.181          2        640: 100%|██████████| 2003/2003 [08:10<00:00,  4.08it/s]\n",
      "                 Class     Images  Instances      Box(P          R      mAP50  mAP50-95): 100%|██████████| 289/289 [00:48<00:00,  5.96it/s]"
     ]
    },
    {
     "name": "stdout",
     "output_type": "stream",
     "text": [
      "                   all      10399       1029      0.814      0.758       0.83      0.564\n"
     ]
    },
    {
     "name": "stderr",
     "output_type": "stream",
     "text": [
      "\n"
     ]
    },
    {
     "name": "stdout",
     "output_type": "stream",
     "text": [
      "\n",
      "      Epoch    GPU_mem   box_loss   cls_loss   dfl_loss  Instances       Size\n"
     ]
    },
    {
     "name": "stderr",
     "output_type": "stream",
     "text": [
      "    167/210      4.79G      1.262        1.2      1.174          2        640: 100%|██████████| 2003/2003 [08:10<00:00,  4.08it/s]\n",
      "                 Class     Images  Instances      Box(P          R      mAP50  mAP50-95): 100%|██████████| 289/289 [00:48<00:00,  5.94it/s]"
     ]
    },
    {
     "name": "stdout",
     "output_type": "stream",
     "text": [
      "                   all      10399       1029      0.813       0.76      0.829      0.564\n"
     ]
    },
    {
     "name": "stderr",
     "output_type": "stream",
     "text": [
      "\n"
     ]
    },
    {
     "name": "stdout",
     "output_type": "stream",
     "text": [
      "\n",
      "      Epoch    GPU_mem   box_loss   cls_loss   dfl_loss  Instances       Size\n"
     ]
    },
    {
     "name": "stderr",
     "output_type": "stream",
     "text": [
      "    168/210      4.71G      1.281      1.245      1.192          3        640: 100%|██████████| 2003/2003 [08:10<00:00,  4.08it/s]\n",
      "                 Class     Images  Instances      Box(P          R      mAP50  mAP50-95): 100%|██████████| 289/289 [00:48<00:00,  5.94it/s]"
     ]
    },
    {
     "name": "stdout",
     "output_type": "stream",
     "text": [
      "                   all      10399       1029       0.81      0.761      0.831      0.564\n"
     ]
    },
    {
     "name": "stderr",
     "output_type": "stream",
     "text": [
      "\n"
     ]
    },
    {
     "name": "stdout",
     "output_type": "stream",
     "text": [
      "\n",
      "      Epoch    GPU_mem   box_loss   cls_loss   dfl_loss  Instances       Size\n"
     ]
    },
    {
     "name": "stderr",
     "output_type": "stream",
     "text": [
      "    169/210      4.92G      1.289      1.231       1.19         13        640: 100%|██████████| 2003/2003 [08:10<00:00,  4.08it/s]\n",
      "                 Class     Images  Instances      Box(P          R      mAP50  mAP50-95): 100%|██████████| 289/289 [00:48<00:00,  5.92it/s]"
     ]
    },
    {
     "name": "stdout",
     "output_type": "stream",
     "text": [
      "                   all      10399       1029      0.813      0.762      0.832      0.565\n"
     ]
    },
    {
     "name": "stderr",
     "output_type": "stream",
     "text": [
      "\n"
     ]
    },
    {
     "name": "stdout",
     "output_type": "stream",
     "text": [
      "\n",
      "      Epoch    GPU_mem   box_loss   cls_loss   dfl_loss  Instances       Size\n"
     ]
    },
    {
     "name": "stderr",
     "output_type": "stream",
     "text": [
      "    170/210      4.92G      1.265      1.194      1.184          1        640: 100%|██████████| 2003/2003 [08:12<00:00,  4.07it/s]\n",
      "                 Class     Images  Instances      Box(P          R      mAP50  mAP50-95): 100%|██████████| 289/289 [00:48<00:00,  5.95it/s]"
     ]
    },
    {
     "name": "stdout",
     "output_type": "stream",
     "text": [
      "                   all      10399       1029      0.814      0.764      0.832      0.566\n"
     ]
    },
    {
     "name": "stderr",
     "output_type": "stream",
     "text": [
      "\n"
     ]
    },
    {
     "name": "stdout",
     "output_type": "stream",
     "text": [
      "\n",
      "      Epoch    GPU_mem   box_loss   cls_loss   dfl_loss  Instances       Size\n"
     ]
    },
    {
     "name": "stderr",
     "output_type": "stream",
     "text": [
      "    171/210      4.79G      1.272      1.212      1.189          1        640: 100%|██████████| 2003/2003 [08:07<00:00,  4.11it/s]\n",
      "                 Class     Images  Instances      Box(P          R      mAP50  mAP50-95): 100%|██████████| 289/289 [00:48<00:00,  5.99it/s]"
     ]
    },
    {
     "name": "stdout",
     "output_type": "stream",
     "text": [
      "                   all      10399       1029      0.815      0.764      0.833      0.566\n"
     ]
    },
    {
     "name": "stderr",
     "output_type": "stream",
     "text": [
      "\n"
     ]
    },
    {
     "name": "stdout",
     "output_type": "stream",
     "text": [
      "\n",
      "      Epoch    GPU_mem   box_loss   cls_loss   dfl_loss  Instances       Size\n"
     ]
    },
    {
     "name": "stderr",
     "output_type": "stream",
     "text": [
      "    172/210      4.79G      1.262      1.214      1.177          3        640: 100%|██████████| 2003/2003 [08:08<00:00,  4.10it/s]\n",
      "                 Class     Images  Instances      Box(P          R      mAP50  mAP50-95): 100%|██████████| 289/289 [00:48<00:00,  5.98it/s]"
     ]
    },
    {
     "name": "stdout",
     "output_type": "stream",
     "text": [
      "                   all      10399       1029      0.818      0.766      0.836      0.566\n"
     ]
    },
    {
     "name": "stderr",
     "output_type": "stream",
     "text": [
      "\n"
     ]
    },
    {
     "name": "stdout",
     "output_type": "stream",
     "text": [
      "\n",
      "      Epoch    GPU_mem   box_loss   cls_loss   dfl_loss  Instances       Size\n"
     ]
    },
    {
     "name": "stderr",
     "output_type": "stream",
     "text": [
      "    173/210      4.79G      1.265      1.188      1.187          0        640: 100%|██████████| 2003/2003 [08:05<00:00,  4.13it/s]\n",
      "                 Class     Images  Instances      Box(P          R      mAP50  mAP50-95): 100%|██████████| 289/289 [00:47<00:00,  6.02it/s]"
     ]
    },
    {
     "name": "stdout",
     "output_type": "stream",
     "text": [
      "                   all      10399       1029      0.815      0.767      0.838      0.566\n"
     ]
    },
    {
     "name": "stderr",
     "output_type": "stream",
     "text": [
      "\n"
     ]
    },
    {
     "name": "stdout",
     "output_type": "stream",
     "text": [
      "\n",
      "      Epoch    GPU_mem   box_loss   cls_loss   dfl_loss  Instances       Size\n"
     ]
    },
    {
     "name": "stderr",
     "output_type": "stream",
     "text": [
      "    174/210      4.79G      1.269      1.147      1.194          7        640: 100%|██████████| 2003/2003 [08:04<00:00,  4.13it/s]\n",
      "                 Class     Images  Instances      Box(P          R      mAP50  mAP50-95): 100%|██████████| 289/289 [00:47<00:00,  6.03it/s]"
     ]
    },
    {
     "name": "stdout",
     "output_type": "stream",
     "text": [
      "                   all      10399       1029      0.817      0.767      0.837      0.568\n"
     ]
    },
    {
     "name": "stderr",
     "output_type": "stream",
     "text": [
      "\n"
     ]
    },
    {
     "name": "stdout",
     "output_type": "stream",
     "text": [
      "\n",
      "      Epoch    GPU_mem   box_loss   cls_loss   dfl_loss  Instances       Size\n"
     ]
    },
    {
     "name": "stderr",
     "output_type": "stream",
     "text": [
      "    175/210      4.79G      1.268      1.187      1.183          4        640: 100%|██████████| 2003/2003 [08:12<00:00,  4.07it/s]\n",
      "                 Class     Images  Instances      Box(P          R      mAP50  mAP50-95): 100%|██████████| 289/289 [00:48<00:00,  5.96it/s]"
     ]
    },
    {
     "name": "stdout",
     "output_type": "stream",
     "text": [
      "                   all      10399       1029      0.826      0.765      0.837      0.569\n"
     ]
    },
    {
     "name": "stderr",
     "output_type": "stream",
     "text": [
      "\n"
     ]
    },
    {
     "name": "stdout",
     "output_type": "stream",
     "text": [
      "\n",
      "      Epoch    GPU_mem   box_loss   cls_loss   dfl_loss  Instances       Size\n"
     ]
    },
    {
     "name": "stderr",
     "output_type": "stream",
     "text": [
      "    176/210      4.79G      1.242      1.122      1.173          6        640: 100%|██████████| 2003/2003 [08:07<00:00,  4.11it/s]\n",
      "                 Class     Images  Instances      Box(P          R      mAP50  mAP50-95): 100%|██████████| 289/289 [00:48<00:00,  5.99it/s]"
     ]
    },
    {
     "name": "stdout",
     "output_type": "stream",
     "text": [
      "                   all      10399       1029      0.824      0.766      0.837      0.568\n"
     ]
    },
    {
     "name": "stderr",
     "output_type": "stream",
     "text": [
      "\n"
     ]
    },
    {
     "name": "stdout",
     "output_type": "stream",
     "text": [
      "\n",
      "      Epoch    GPU_mem   box_loss   cls_loss   dfl_loss  Instances       Size\n"
     ]
    },
    {
     "name": "stderr",
     "output_type": "stream",
     "text": [
      "    177/210      4.79G      1.268      1.182      1.188          1        640: 100%|██████████| 2003/2003 [08:07<00:00,  4.11it/s]\n",
      "                 Class     Images  Instances      Box(P          R      mAP50  mAP50-95): 100%|██████████| 289/289 [00:48<00:00,  5.98it/s]"
     ]
    },
    {
     "name": "stdout",
     "output_type": "stream",
     "text": [
      "                   all      10399       1029      0.825      0.766      0.837      0.569\n"
     ]
    },
    {
     "name": "stderr",
     "output_type": "stream",
     "text": [
      "\n"
     ]
    },
    {
     "name": "stdout",
     "output_type": "stream",
     "text": [
      "\n",
      "      Epoch    GPU_mem   box_loss   cls_loss   dfl_loss  Instances       Size\n"
     ]
    },
    {
     "name": "stderr",
     "output_type": "stream",
     "text": [
      "    178/210      4.78G      1.285      1.218      1.205          4        640: 100%|██████████| 2003/2003 [08:05<00:00,  4.13it/s]\n",
      "                 Class     Images  Instances      Box(P          R      mAP50  mAP50-95): 100%|██████████| 289/289 [00:47<00:00,  6.02it/s]"
     ]
    },
    {
     "name": "stdout",
     "output_type": "stream",
     "text": [
      "                   all      10399       1029      0.826      0.767      0.838      0.569\n"
     ]
    },
    {
     "name": "stderr",
     "output_type": "stream",
     "text": [
      "\n"
     ]
    },
    {
     "name": "stdout",
     "output_type": "stream",
     "text": [
      "\n",
      "      Epoch    GPU_mem   box_loss   cls_loss   dfl_loss  Instances       Size\n"
     ]
    },
    {
     "name": "stderr",
     "output_type": "stream",
     "text": [
      "    179/210      4.91G      1.247      1.162      1.176          5        640: 100%|██████████| 2003/2003 [08:01<00:00,  4.16it/s]\n",
      "                 Class     Images  Instances      Box(P          R      mAP50  mAP50-95): 100%|██████████| 289/289 [00:47<00:00,  6.07it/s]"
     ]
    },
    {
     "name": "stdout",
     "output_type": "stream",
     "text": [
      "                   all      10399       1029      0.827      0.767      0.839       0.57\n"
     ]
    },
    {
     "name": "stderr",
     "output_type": "stream",
     "text": [
      "\n"
     ]
    },
    {
     "name": "stdout",
     "output_type": "stream",
     "text": [
      "\n",
      "      Epoch    GPU_mem   box_loss   cls_loss   dfl_loss  Instances       Size\n"
     ]
    },
    {
     "name": "stderr",
     "output_type": "stream",
     "text": [
      "    180/210      4.79G      1.267      1.153      1.193          5        640: 100%|██████████| 2003/2003 [08:06<00:00,  4.12it/s]\n",
      "                 Class     Images  Instances      Box(P          R      mAP50  mAP50-95): 100%|██████████| 289/289 [00:48<00:00,  6.01it/s]"
     ]
    },
    {
     "name": "stdout",
     "output_type": "stream",
     "text": [
      "                   all      10399       1029      0.819      0.766      0.837      0.569\n"
     ]
    },
    {
     "name": "stderr",
     "output_type": "stream",
     "text": [
      "\n"
     ]
    },
    {
     "name": "stdout",
     "output_type": "stream",
     "text": [
      "\n",
      "      Epoch    GPU_mem   box_loss   cls_loss   dfl_loss  Instances       Size\n"
     ]
    },
    {
     "name": "stderr",
     "output_type": "stream",
     "text": [
      "    181/210      4.71G      1.243      1.157      1.177          4        640: 100%|██████████| 2003/2003 [08:05<00:00,  4.13it/s]\n",
      "                 Class     Images  Instances      Box(P          R      mAP50  mAP50-95): 100%|██████████| 289/289 [00:48<00:00,  6.02it/s]"
     ]
    },
    {
     "name": "stdout",
     "output_type": "stream",
     "text": [
      "                   all      10399       1029      0.821      0.766      0.837       0.57\n"
     ]
    },
    {
     "name": "stderr",
     "output_type": "stream",
     "text": [
      "\n"
     ]
    },
    {
     "name": "stdout",
     "output_type": "stream",
     "text": [
      "\n",
      "      Epoch    GPU_mem   box_loss   cls_loss   dfl_loss  Instances       Size\n"
     ]
    },
    {
     "name": "stderr",
     "output_type": "stream",
     "text": [
      "    182/210      4.79G      1.239      1.179      1.161          4        640: 100%|██████████| 2003/2003 [08:01<00:00,  4.16it/s]\n",
      "                 Class     Images  Instances      Box(P          R      mAP50  mAP50-95): 100%|██████████| 289/289 [00:47<00:00,  6.07it/s]"
     ]
    },
    {
     "name": "stdout",
     "output_type": "stream",
     "text": [
      "                   all      10399       1029      0.825      0.766      0.838       0.57\n"
     ]
    },
    {
     "name": "stderr",
     "output_type": "stream",
     "text": [
      "\n"
     ]
    },
    {
     "name": "stdout",
     "output_type": "stream",
     "text": [
      "\n",
      "      Epoch    GPU_mem   box_loss   cls_loss   dfl_loss  Instances       Size\n"
     ]
    },
    {
     "name": "stderr",
     "output_type": "stream",
     "text": [
      "    183/210      4.79G      1.237      1.082      1.171          6        640: 100%|██████████| 2003/2003 [08:06<00:00,  4.12it/s]\n",
      "                 Class     Images  Instances      Box(P          R      mAP50  mAP50-95): 100%|██████████| 289/289 [00:48<00:00,  6.00it/s]"
     ]
    },
    {
     "name": "stdout",
     "output_type": "stream",
     "text": [
      "                   all      10399       1029      0.827      0.765      0.839      0.571\n"
     ]
    },
    {
     "name": "stderr",
     "output_type": "stream",
     "text": [
      "\n"
     ]
    },
    {
     "name": "stdout",
     "output_type": "stream",
     "text": [
      "\n",
      "      Epoch    GPU_mem   box_loss   cls_loss   dfl_loss  Instances       Size\n"
     ]
    },
    {
     "name": "stderr",
     "output_type": "stream",
     "text": [
      "    184/210      4.79G      1.237      1.121      1.168         11        640: 100%|██████████| 2003/2003 [08:06<00:00,  4.12it/s]\n",
      "                 Class     Images  Instances      Box(P          R      mAP50  mAP50-95): 100%|██████████| 289/289 [00:47<00:00,  6.02it/s]"
     ]
    },
    {
     "name": "stdout",
     "output_type": "stream",
     "text": [
      "                   all      10399       1029       0.83      0.762       0.84      0.571\n"
     ]
    },
    {
     "name": "stderr",
     "output_type": "stream",
     "text": [
      "\n"
     ]
    },
    {
     "name": "stdout",
     "output_type": "stream",
     "text": [
      "\n",
      "      Epoch    GPU_mem   box_loss   cls_loss   dfl_loss  Instances       Size\n"
     ]
    },
    {
     "name": "stderr",
     "output_type": "stream",
     "text": [
      "    185/210      4.79G      1.252      1.136      1.175          1        640: 100%|██████████| 2003/2003 [08:00<00:00,  4.17it/s]\n",
      "                 Class     Images  Instances      Box(P          R      mAP50  mAP50-95): 100%|██████████| 289/289 [00:47<00:00,  6.09it/s]"
     ]
    },
    {
     "name": "stdout",
     "output_type": "stream",
     "text": [
      "                   all      10399       1029      0.824      0.764       0.84      0.571\n"
     ]
    },
    {
     "name": "stderr",
     "output_type": "stream",
     "text": [
      "\n"
     ]
    },
    {
     "name": "stdout",
     "output_type": "stream",
     "text": [
      "\n",
      "      Epoch    GPU_mem   box_loss   cls_loss   dfl_loss  Instances       Size\n"
     ]
    },
    {
     "name": "stderr",
     "output_type": "stream",
     "text": [
      "    186/210      4.79G      1.201      1.096      1.144         12        640: 100%|██████████| 2003/2003 [08:04<00:00,  4.13it/s]\n",
      "                 Class     Images  Instances      Box(P          R      mAP50  mAP50-95): 100%|██████████| 289/289 [00:48<00:00,  6.02it/s]"
     ]
    },
    {
     "name": "stdout",
     "output_type": "stream",
     "text": [
      "                   all      10399       1029      0.834      0.756      0.839      0.572\n"
     ]
    },
    {
     "name": "stderr",
     "output_type": "stream",
     "text": [
      "\n"
     ]
    },
    {
     "name": "stdout",
     "output_type": "stream",
     "text": [
      "\n",
      "      Epoch    GPU_mem   box_loss   cls_loss   dfl_loss  Instances       Size\n"
     ]
    },
    {
     "name": "stderr",
     "output_type": "stream",
     "text": [
      "    187/210      4.79G      1.226      1.114      1.163         13        640: 100%|██████████| 2003/2003 [08:03<00:00,  4.15it/s]\n",
      "                 Class     Images  Instances      Box(P          R      mAP50  mAP50-95): 100%|██████████| 289/289 [00:47<00:00,  6.04it/s]"
     ]
    },
    {
     "name": "stdout",
     "output_type": "stream",
     "text": [
      "                   all      10399       1029      0.831       0.76       0.84      0.572\n"
     ]
    },
    {
     "name": "stderr",
     "output_type": "stream",
     "text": [
      "\n"
     ]
    },
    {
     "name": "stdout",
     "output_type": "stream",
     "text": [
      "\n",
      "      Epoch    GPU_mem   box_loss   cls_loss   dfl_loss  Instances       Size\n"
     ]
    },
    {
     "name": "stderr",
     "output_type": "stream",
     "text": [
      "    188/210      4.79G      1.238      1.118      1.157          8        640: 100%|██████████| 2003/2003 [08:04<00:00,  4.14it/s]\n",
      "                 Class     Images  Instances      Box(P          R      mAP50  mAP50-95): 100%|██████████| 289/289 [00:47<00:00,  6.03it/s]"
     ]
    },
    {
     "name": "stdout",
     "output_type": "stream",
     "text": [
      "                   all      10399       1029      0.832      0.758       0.84      0.571\n"
     ]
    },
    {
     "name": "stderr",
     "output_type": "stream",
     "text": [
      "\n"
     ]
    },
    {
     "name": "stdout",
     "output_type": "stream",
     "text": [
      "\n",
      "      Epoch    GPU_mem   box_loss   cls_loss   dfl_loss  Instances       Size\n"
     ]
    },
    {
     "name": "stderr",
     "output_type": "stream",
     "text": [
      "    189/210      4.79G      1.207      1.098      1.144          2        640: 100%|██████████| 2003/2003 [08:06<00:00,  4.12it/s]\n",
      "                 Class     Images  Instances      Box(P          R      mAP50  mAP50-95): 100%|██████████| 289/289 [00:48<00:00,  6.01it/s]"
     ]
    },
    {
     "name": "stdout",
     "output_type": "stream",
     "text": [
      "                   all      10399       1029      0.832      0.751      0.838      0.572\n"
     ]
    },
    {
     "name": "stderr",
     "output_type": "stream",
     "text": [
      "\n"
     ]
    },
    {
     "name": "stdout",
     "output_type": "stream",
     "text": [
      "\n",
      "      Epoch    GPU_mem   box_loss   cls_loss   dfl_loss  Instances       Size\n"
     ]
    },
    {
     "name": "stderr",
     "output_type": "stream",
     "text": [
      "    190/210      4.94G       1.25      1.165      1.171          4        640: 100%|██████████| 2003/2003 [08:01<00:00,  4.16it/s]\n",
      "                 Class     Images  Instances      Box(P          R      mAP50  mAP50-95): 100%|██████████| 289/289 [00:47<00:00,  6.09it/s]"
     ]
    },
    {
     "name": "stdout",
     "output_type": "stream",
     "text": [
      "                   all      10399       1029      0.831      0.753      0.838      0.572\n"
     ]
    },
    {
     "name": "stderr",
     "output_type": "stream",
     "text": [
      "\n"
     ]
    },
    {
     "name": "stdout",
     "output_type": "stream",
     "text": [
      "\n",
      "      Epoch    GPU_mem   box_loss   cls_loss   dfl_loss  Instances       Size\n"
     ]
    },
    {
     "name": "stderr",
     "output_type": "stream",
     "text": [
      "    191/210      4.83G      1.216      1.113      1.149          4        640: 100%|██████████| 2003/2003 [08:05<00:00,  4.13it/s]\n",
      "                 Class     Images  Instances      Box(P          R      mAP50  mAP50-95): 100%|██████████| 289/289 [00:47<00:00,  6.03it/s]"
     ]
    },
    {
     "name": "stdout",
     "output_type": "stream",
     "text": [
      "                   all      10399       1029      0.834      0.752      0.838      0.572\n"
     ]
    },
    {
     "name": "stderr",
     "output_type": "stream",
     "text": [
      "\n"
     ]
    },
    {
     "name": "stdout",
     "output_type": "stream",
     "text": [
      "\n",
      "      Epoch    GPU_mem   box_loss   cls_loss   dfl_loss  Instances       Size\n"
     ]
    },
    {
     "name": "stderr",
     "output_type": "stream",
     "text": [
      "    192/210      4.83G      1.211       1.08      1.148          2        640: 100%|██████████| 2003/2003 [08:03<00:00,  4.14it/s]\n",
      "                 Class     Images  Instances      Box(P          R      mAP50  mAP50-95): 100%|██████████| 289/289 [00:47<00:00,  6.06it/s]"
     ]
    },
    {
     "name": "stdout",
     "output_type": "stream",
     "text": [
      "                   all      10399       1029      0.811      0.769      0.838      0.571\n"
     ]
    },
    {
     "name": "stderr",
     "output_type": "stream",
     "text": [
      "\n"
     ]
    },
    {
     "name": "stdout",
     "output_type": "stream",
     "text": [
      "\n",
      "      Epoch    GPU_mem   box_loss   cls_loss   dfl_loss  Instances       Size\n"
     ]
    },
    {
     "name": "stderr",
     "output_type": "stream",
     "text": [
      "    193/210      4.79G      1.211      1.115      1.146          4        640: 100%|██████████| 2003/2003 [08:03<00:00,  4.14it/s]\n",
      "                 Class     Images  Instances      Box(P          R      mAP50  mAP50-95): 100%|██████████| 289/289 [00:47<00:00,  6.05it/s]"
     ]
    },
    {
     "name": "stdout",
     "output_type": "stream",
     "text": [
      "                   all      10399       1029       0.81       0.77       0.84      0.572\n"
     ]
    },
    {
     "name": "stderr",
     "output_type": "stream",
     "text": [
      "\n"
     ]
    },
    {
     "name": "stdout",
     "output_type": "stream",
     "text": [
      "\n",
      "      Epoch    GPU_mem   box_loss   cls_loss   dfl_loss  Instances       Size\n"
     ]
    },
    {
     "name": "stderr",
     "output_type": "stream",
     "text": [
      "    194/210      4.79G       1.22       1.09      1.147         16        640: 100%|██████████| 2003/2003 [08:00<00:00,  4.17it/s]\n",
      "                 Class     Images  Instances      Box(P          R      mAP50  mAP50-95): 100%|██████████| 289/289 [00:47<00:00,  6.09it/s]"
     ]
    },
    {
     "name": "stdout",
     "output_type": "stream",
     "text": [
      "                   all      10399       1029       0.81       0.77      0.838      0.572\n"
     ]
    },
    {
     "name": "stderr",
     "output_type": "stream",
     "text": [
      "\n"
     ]
    },
    {
     "name": "stdout",
     "output_type": "stream",
     "text": [
      "\n",
      "      Epoch    GPU_mem   box_loss   cls_loss   dfl_loss  Instances       Size\n"
     ]
    },
    {
     "name": "stderr",
     "output_type": "stream",
     "text": [
      "    195/210      4.92G      1.254      1.117      1.175          8        640: 100%|██████████| 2003/2003 [08:00<00:00,  4.17it/s]\n",
      "                 Class     Images  Instances      Box(P          R      mAP50  mAP50-95): 100%|██████████| 289/289 [00:47<00:00,  6.11it/s]"
     ]
    },
    {
     "name": "stdout",
     "output_type": "stream",
     "text": [
      "                   all      10399       1029      0.814       0.77      0.838      0.572\n"
     ]
    },
    {
     "name": "stderr",
     "output_type": "stream",
     "text": [
      "\n"
     ]
    },
    {
     "name": "stdout",
     "output_type": "stream",
     "text": [
      "\n",
      "      Epoch    GPU_mem   box_loss   cls_loss   dfl_loss  Instances       Size\n"
     ]
    },
    {
     "name": "stderr",
     "output_type": "stream",
     "text": [
      "    196/210      4.79G      1.212      1.073      1.149          3        640: 100%|██████████| 2003/2003 [08:03<00:00,  4.14it/s]\n",
      "                 Class     Images  Instances      Box(P          R      mAP50  mAP50-95): 100%|██████████| 289/289 [00:47<00:00,  6.05it/s]"
     ]
    },
    {
     "name": "stdout",
     "output_type": "stream",
     "text": [
      "                   all      10399       1029      0.817      0.771      0.838      0.572\n"
     ]
    },
    {
     "name": "stderr",
     "output_type": "stream",
     "text": [
      "\n"
     ]
    },
    {
     "name": "stdout",
     "output_type": "stream",
     "text": [
      "\n",
      "      Epoch    GPU_mem   box_loss   cls_loss   dfl_loss  Instances       Size\n"
     ]
    },
    {
     "name": "stderr",
     "output_type": "stream",
     "text": [
      "    197/210      4.79G      1.237      1.077      1.163          3        640: 100%|██████████| 2003/2003 [08:03<00:00,  4.14it/s]\n",
      "                 Class     Images  Instances      Box(P          R      mAP50  mAP50-95): 100%|██████████| 289/289 [00:47<00:00,  6.05it/s]"
     ]
    },
    {
     "name": "stdout",
     "output_type": "stream",
     "text": [
      "                   all      10399       1029      0.822      0.768      0.839      0.572\n"
     ]
    },
    {
     "name": "stderr",
     "output_type": "stream",
     "text": [
      "\n"
     ]
    },
    {
     "name": "stdout",
     "output_type": "stream",
     "text": [
      "\n",
      "      Epoch    GPU_mem   box_loss   cls_loss   dfl_loss  Instances       Size\n"
     ]
    },
    {
     "name": "stderr",
     "output_type": "stream",
     "text": [
      "    198/210      4.78G      1.213      1.048      1.149          1        640: 100%|██████████| 2003/2003 [08:02<00:00,  4.15it/s]\n",
      "                 Class     Images  Instances      Box(P          R      mAP50  mAP50-95): 100%|██████████| 289/289 [00:47<00:00,  6.07it/s]"
     ]
    },
    {
     "name": "stdout",
     "output_type": "stream",
     "text": [
      "                   all      10399       1029      0.824      0.763      0.839      0.574\n"
     ]
    },
    {
     "name": "stderr",
     "output_type": "stream",
     "text": [
      "\n"
     ]
    },
    {
     "name": "stdout",
     "output_type": "stream",
     "text": [
      "\n",
      "      Epoch    GPU_mem   box_loss   cls_loss   dfl_loss  Instances       Size\n"
     ]
    },
    {
     "name": "stderr",
     "output_type": "stream",
     "text": [
      "    199/210      4.79G       1.21      1.069      1.149          2        640: 100%|██████████| 2003/2003 [08:03<00:00,  4.14it/s]\n",
      "                 Class     Images  Instances      Box(P          R      mAP50  mAP50-95): 100%|██████████| 289/289 [00:47<00:00,  6.06it/s]"
     ]
    },
    {
     "name": "stdout",
     "output_type": "stream",
     "text": [
      "                   all      10399       1029      0.827       0.76      0.838      0.576\n"
     ]
    },
    {
     "name": "stderr",
     "output_type": "stream",
     "text": [
      "\n"
     ]
    },
    {
     "name": "stdout",
     "output_type": "stream",
     "text": [
      "\n",
      "      Epoch    GPU_mem   box_loss   cls_loss   dfl_loss  Instances       Size\n"
     ]
    },
    {
     "name": "stderr",
     "output_type": "stream",
     "text": [
      "    200/210      4.79G      1.215      1.064      1.149          4        640: 100%|██████████| 2003/2003 [08:04<00:00,  4.13it/s]\n",
      "                 Class     Images  Instances      Box(P          R      mAP50  mAP50-95): 100%|██████████| 289/289 [00:47<00:00,  6.03it/s]"
     ]
    },
    {
     "name": "stdout",
     "output_type": "stream",
     "text": [
      "                   all      10399       1029      0.826      0.759      0.839      0.576\n"
     ]
    },
    {
     "name": "stderr",
     "output_type": "stream",
     "text": [
      "\n"
     ]
    },
    {
     "name": "stdout",
     "output_type": "stream",
     "text": [
      "Closing dataloader mosaic\n",
      "\n",
      "      Epoch    GPU_mem   box_loss   cls_loss   dfl_loss  Instances       Size\n"
     ]
    },
    {
     "name": "stderr",
     "output_type": "stream",
     "text": [
      "    201/210      4.79G     0.7249     0.5904      0.749          2        640: 100%|██████████| 2003/2003 [07:39<00:00,  4.36it/s]\n",
      "                 Class     Images  Instances      Box(P          R      mAP50  mAP50-95): 100%|██████████| 289/289 [00:47<00:00,  6.13it/s]"
     ]
    },
    {
     "name": "stdout",
     "output_type": "stream",
     "text": [
      "                   all      10399       1029      0.828      0.757      0.839      0.576\n"
     ]
    },
    {
     "name": "stderr",
     "output_type": "stream",
     "text": [
      "\n"
     ]
    },
    {
     "name": "stdout",
     "output_type": "stream",
     "text": [
      "\n",
      "      Epoch    GPU_mem   box_loss   cls_loss   dfl_loss  Instances       Size\n"
     ]
    },
    {
     "name": "stderr",
     "output_type": "stream",
     "text": [
      "    202/210      4.79G     0.7156     0.5581     0.7344          1        640: 100%|██████████| 2003/2003 [07:36<00:00,  4.38it/s]\n",
      "                 Class     Images  Instances      Box(P          R      mAP50  mAP50-95): 100%|██████████| 289/289 [00:47<00:00,  6.12it/s]"
     ]
    },
    {
     "name": "stdout",
     "output_type": "stream",
     "text": [
      "                   all      10399       1029      0.828      0.759       0.84      0.578\n"
     ]
    },
    {
     "name": "stderr",
     "output_type": "stream",
     "text": [
      "\n"
     ]
    },
    {
     "name": "stdout",
     "output_type": "stream",
     "text": [
      "\n",
      "      Epoch    GPU_mem   box_loss   cls_loss   dfl_loss  Instances       Size\n"
     ]
    },
    {
     "name": "stderr",
     "output_type": "stream",
     "text": [
      "    203/210      4.79G     0.7216     0.5715     0.7443          1        640: 100%|██████████| 2003/2003 [07:43<00:00,  4.32it/s]\n",
      "                 Class     Images  Instances      Box(P          R      mAP50  mAP50-95): 100%|██████████| 289/289 [00:47<00:00,  6.03it/s]"
     ]
    },
    {
     "name": "stdout",
     "output_type": "stream",
     "text": [
      "                   all      10399       1029      0.826      0.758      0.841       0.58\n"
     ]
    },
    {
     "name": "stderr",
     "output_type": "stream",
     "text": [
      "\n"
     ]
    },
    {
     "name": "stdout",
     "output_type": "stream",
     "text": [
      "\n",
      "      Epoch    GPU_mem   box_loss   cls_loss   dfl_loss  Instances       Size\n"
     ]
    },
    {
     "name": "stderr",
     "output_type": "stream",
     "text": [
      "    204/210      4.79G      0.726     0.5773      0.742          0        640: 100%|██████████| 2003/2003 [07:43<00:00,  4.32it/s]\n",
      "                 Class     Images  Instances      Box(P          R      mAP50  mAP50-95): 100%|██████████| 289/289 [00:47<00:00,  6.04it/s]"
     ]
    },
    {
     "name": "stdout",
     "output_type": "stream",
     "text": [
      "                   all      10399       1029      0.831      0.758      0.841      0.579\n"
     ]
    },
    {
     "name": "stderr",
     "output_type": "stream",
     "text": [
      "\n"
     ]
    },
    {
     "name": "stdout",
     "output_type": "stream",
     "text": [
      "\n",
      "      Epoch    GPU_mem   box_loss   cls_loss   dfl_loss  Instances       Size\n"
     ]
    },
    {
     "name": "stderr",
     "output_type": "stream",
     "text": [
      "    205/210      4.79G     0.7172     0.5468     0.7432          3        640: 100%|██████████| 2003/2003 [07:44<00:00,  4.32it/s]\n",
      "                 Class     Images  Instances      Box(P          R      mAP50  mAP50-95): 100%|██████████| 289/289 [00:47<00:00,  6.04it/s]"
     ]
    },
    {
     "name": "stdout",
     "output_type": "stream",
     "text": [
      "                   all      10399       1029      0.842      0.747      0.842      0.581\n"
     ]
    },
    {
     "name": "stderr",
     "output_type": "stream",
     "text": [
      "\n"
     ]
    },
    {
     "name": "stdout",
     "output_type": "stream",
     "text": [
      "\n",
      "      Epoch    GPU_mem   box_loss   cls_loss   dfl_loss  Instances       Size\n"
     ]
    },
    {
     "name": "stderr",
     "output_type": "stream",
     "text": [
      "    206/210      4.71G     0.7139     0.5613     0.7382          0        640: 100%|██████████| 2003/2003 [07:43<00:00,  4.32it/s]\n",
      "                 Class     Images  Instances      Box(P          R      mAP50  mAP50-95): 100%|██████████| 289/289 [00:48<00:00,  6.02it/s]"
     ]
    },
    {
     "name": "stdout",
     "output_type": "stream",
     "text": [
      "                   all      10399       1029       0.84      0.753      0.841      0.581\n"
     ]
    },
    {
     "name": "stderr",
     "output_type": "stream",
     "text": [
      "\n"
     ]
    },
    {
     "name": "stdout",
     "output_type": "stream",
     "text": [
      "\n",
      "      Epoch    GPU_mem   box_loss   cls_loss   dfl_loss  Instances       Size\n"
     ]
    },
    {
     "name": "stderr",
     "output_type": "stream",
     "text": [
      "    207/210      4.71G     0.7136     0.5699     0.7389          0        640: 100%|██████████| 2003/2003 [07:43<00:00,  4.32it/s]\n",
      "                 Class     Images  Instances      Box(P          R      mAP50  mAP50-95): 100%|██████████| 289/289 [00:47<00:00,  6.06it/s]"
     ]
    },
    {
     "name": "stdout",
     "output_type": "stream",
     "text": [
      "                   all      10399       1029      0.841      0.751      0.841      0.583\n"
     ]
    },
    {
     "name": "stderr",
     "output_type": "stream",
     "text": [
      "\n"
     ]
    },
    {
     "name": "stdout",
     "output_type": "stream",
     "text": [
      "\n",
      "      Epoch    GPU_mem   box_loss   cls_loss   dfl_loss  Instances       Size\n"
     ]
    },
    {
     "name": "stderr",
     "output_type": "stream",
     "text": [
      "    208/210      4.79G     0.6973     0.5356      0.726          3        640: 100%|██████████| 2003/2003 [07:41<00:00,  4.34it/s]\n",
      "                 Class     Images  Instances      Box(P          R      mAP50  mAP50-95): 100%|██████████| 289/289 [00:47<00:00,  6.08it/s]"
     ]
    },
    {
     "name": "stdout",
     "output_type": "stream",
     "text": [
      "                   all      10399       1029      0.842      0.753      0.842      0.583\n"
     ]
    },
    {
     "name": "stderr",
     "output_type": "stream",
     "text": [
      "\n"
     ]
    },
    {
     "name": "stdout",
     "output_type": "stream",
     "text": [
      "\n",
      "      Epoch    GPU_mem   box_loss   cls_loss   dfl_loss  Instances       Size\n"
     ]
    },
    {
     "name": "stderr",
     "output_type": "stream",
     "text": [
      "    209/210      4.79G     0.6933     0.5063     0.7327          0        640: 100%|██████████| 2003/2003 [07:41<00:00,  4.34it/s]\n",
      "                 Class     Images  Instances      Box(P          R      mAP50  mAP50-95): 100%|██████████| 289/289 [00:47<00:00,  6.04it/s]"
     ]
    },
    {
     "name": "stdout",
     "output_type": "stream",
     "text": [
      "                   all      10399       1029      0.843      0.756      0.843      0.586\n"
     ]
    },
    {
     "name": "stderr",
     "output_type": "stream",
     "text": [
      "\n"
     ]
    },
    {
     "name": "stdout",
     "output_type": "stream",
     "text": [
      "\n",
      "      Epoch    GPU_mem   box_loss   cls_loss   dfl_loss  Instances       Size\n"
     ]
    },
    {
     "name": "stderr",
     "output_type": "stream",
     "text": [
      "    210/210      4.78G     0.7082     0.5685     0.7416          0        640: 100%|██████████| 2003/2003 [07:44<00:00,  4.31it/s]\n",
      "                 Class     Images  Instances      Box(P          R      mAP50  mAP50-95): 100%|██████████| 289/289 [00:47<00:00,  6.03it/s]"
     ]
    },
    {
     "name": "stdout",
     "output_type": "stream",
     "text": [
      "                   all      10399       1029      0.841      0.754      0.844      0.586\n"
     ]
    },
    {
     "name": "stderr",
     "output_type": "stream",
     "text": [
      "\n"
     ]
    },
    {
     "name": "stdout",
     "output_type": "stream",
     "text": [
      "\n",
      "48 epochs completed in 7.074 hours.\n",
      "Optimizer stripped from runs\\detect\\train\\weights\\last.pt, 19.2MB\n",
      "Optimizer stripped from runs\\detect\\train\\weights\\best.pt, 19.2MB\n",
      "\n",
      "Validating runs\\detect\\train\\weights\\best.pt...\n",
      "Ultralytics 8.3.23  Python-3.10.0 torch-2.5.0+cu121 CUDA:0 (NVIDIA GeForce RTX 3060, 12287MiB)\n",
      "YOLO11s summary (fused): 238 layers, 9,413,187 parameters, 0 gradients, 21.3 GFLOPs\n"
     ]
    },
    {
     "name": "stderr",
     "output_type": "stream",
     "text": [
      "                 Class     Images  Instances      Box(P          R      mAP50  mAP50-95): 100%|██████████| 289/289 [01:36<00:00,  3.01it/s]\n"
     ]
    },
    {
     "name": "stdout",
     "output_type": "stream",
     "text": [
      "                   all      10399       1029      0.814      0.807      0.851      0.582\n",
      "Speed: 0.1ms preprocess, 8.4ms inference, 0.0ms loss, 0.2ms postprocess per image\n",
      "Results saved to \u001b[1mruns\\detect\\train\u001b[0m\n"
     ]
    },
    {
     "data": {
      "text/plain": [
       "ultralytics.utils.metrics.DetMetrics object with attributes:\n",
       "\n",
       "ap_class_index: array([0])\n",
       "box: ultralytics.utils.metrics.Metric object\n",
       "confusion_matrix: <ultralytics.utils.metrics.ConfusionMatrix object at 0x00000192CD4999C0>\n",
       "curves: ['Precision-Recall(B)', 'F1-Confidence(B)', 'Precision-Confidence(B)', 'Recall-Confidence(B)']\n",
       "curves_results: [[array([          0,    0.001001,    0.002002,    0.003003,    0.004004,    0.005005,    0.006006,    0.007007,    0.008008,    0.009009,     0.01001,    0.011011,    0.012012,    0.013013,    0.014014,    0.015015,    0.016016,    0.017017,    0.018018,    0.019019,     0.02002,    0.021021,    0.022022,    0.023023,\n",
       "          0.024024,    0.025025,    0.026026,    0.027027,    0.028028,    0.029029,     0.03003,    0.031031,    0.032032,    0.033033,    0.034034,    0.035035,    0.036036,    0.037037,    0.038038,    0.039039,     0.04004,    0.041041,    0.042042,    0.043043,    0.044044,    0.045045,    0.046046,    0.047047,\n",
       "          0.048048,    0.049049,     0.05005,    0.051051,    0.052052,    0.053053,    0.054054,    0.055055,    0.056056,    0.057057,    0.058058,    0.059059,     0.06006,    0.061061,    0.062062,    0.063063,    0.064064,    0.065065,    0.066066,    0.067067,    0.068068,    0.069069,     0.07007,    0.071071,\n",
       "          0.072072,    0.073073,    0.074074,    0.075075,    0.076076,    0.077077,    0.078078,    0.079079,     0.08008,    0.081081,    0.082082,    0.083083,    0.084084,    0.085085,    0.086086,    0.087087,    0.088088,    0.089089,     0.09009,    0.091091,    0.092092,    0.093093,    0.094094,    0.095095,\n",
       "          0.096096,    0.097097,    0.098098,    0.099099,      0.1001,      0.1011,      0.1021,      0.1031,      0.1041,     0.10511,     0.10611,     0.10711,     0.10811,     0.10911,     0.11011,     0.11111,     0.11211,     0.11311,     0.11411,     0.11512,     0.11612,     0.11712,     0.11812,     0.11912,\n",
       "           0.12012,     0.12112,     0.12212,     0.12312,     0.12412,     0.12513,     0.12613,     0.12713,     0.12813,     0.12913,     0.13013,     0.13113,     0.13213,     0.13313,     0.13413,     0.13514,     0.13614,     0.13714,     0.13814,     0.13914,     0.14014,     0.14114,     0.14214,     0.14314,\n",
       "           0.14414,     0.14515,     0.14615,     0.14715,     0.14815,     0.14915,     0.15015,     0.15115,     0.15215,     0.15315,     0.15415,     0.15516,     0.15616,     0.15716,     0.15816,     0.15916,     0.16016,     0.16116,     0.16216,     0.16316,     0.16416,     0.16517,     0.16617,     0.16717,\n",
       "           0.16817,     0.16917,     0.17017,     0.17117,     0.17217,     0.17317,     0.17417,     0.17518,     0.17618,     0.17718,     0.17818,     0.17918,     0.18018,     0.18118,     0.18218,     0.18318,     0.18418,     0.18519,     0.18619,     0.18719,     0.18819,     0.18919,     0.19019,     0.19119,\n",
       "           0.19219,     0.19319,     0.19419,      0.1952,      0.1962,      0.1972,      0.1982,      0.1992,      0.2002,      0.2012,      0.2022,      0.2032,      0.2042,     0.20521,     0.20621,     0.20721,     0.20821,     0.20921,     0.21021,     0.21121,     0.21221,     0.21321,     0.21421,     0.21522,\n",
       "           0.21622,     0.21722,     0.21822,     0.21922,     0.22022,     0.22122,     0.22222,     0.22322,     0.22422,     0.22523,     0.22623,     0.22723,     0.22823,     0.22923,     0.23023,     0.23123,     0.23223,     0.23323,     0.23423,     0.23524,     0.23624,     0.23724,     0.23824,     0.23924,\n",
       "           0.24024,     0.24124,     0.24224,     0.24324,     0.24424,     0.24525,     0.24625,     0.24725,     0.24825,     0.24925,     0.25025,     0.25125,     0.25225,     0.25325,     0.25425,     0.25526,     0.25626,     0.25726,     0.25826,     0.25926,     0.26026,     0.26126,     0.26226,     0.26326,\n",
       "           0.26426,     0.26527,     0.26627,     0.26727,     0.26827,     0.26927,     0.27027,     0.27127,     0.27227,     0.27327,     0.27427,     0.27528,     0.27628,     0.27728,     0.27828,     0.27928,     0.28028,     0.28128,     0.28228,     0.28328,     0.28428,     0.28529,     0.28629,     0.28729,\n",
       "           0.28829,     0.28929,     0.29029,     0.29129,     0.29229,     0.29329,     0.29429,      0.2953,      0.2963,      0.2973,      0.2983,      0.2993,      0.3003,      0.3013,      0.3023,      0.3033,      0.3043,     0.30531,     0.30631,     0.30731,     0.30831,     0.30931,     0.31031,     0.31131,\n",
       "           0.31231,     0.31331,     0.31431,     0.31532,     0.31632,     0.31732,     0.31832,     0.31932,     0.32032,     0.32132,     0.32232,     0.32332,     0.32432,     0.32533,     0.32633,     0.32733,     0.32833,     0.32933,     0.33033,     0.33133,     0.33233,     0.33333,     0.33433,     0.33534,\n",
       "           0.33634,     0.33734,     0.33834,     0.33934,     0.34034,     0.34134,     0.34234,     0.34334,     0.34434,     0.34535,     0.34635,     0.34735,     0.34835,     0.34935,     0.35035,     0.35135,     0.35235,     0.35335,     0.35435,     0.35536,     0.35636,     0.35736,     0.35836,     0.35936,\n",
       "           0.36036,     0.36136,     0.36236,     0.36336,     0.36436,     0.36537,     0.36637,     0.36737,     0.36837,     0.36937,     0.37037,     0.37137,     0.37237,     0.37337,     0.37437,     0.37538,     0.37638,     0.37738,     0.37838,     0.37938,     0.38038,     0.38138,     0.38238,     0.38338,\n",
       "           0.38438,     0.38539,     0.38639,     0.38739,     0.38839,     0.38939,     0.39039,     0.39139,     0.39239,     0.39339,     0.39439,      0.3954,      0.3964,      0.3974,      0.3984,      0.3994,      0.4004,      0.4014,      0.4024,      0.4034,      0.4044,     0.40541,     0.40641,     0.40741,\n",
       "           0.40841,     0.40941,     0.41041,     0.41141,     0.41241,     0.41341,     0.41441,     0.41542,     0.41642,     0.41742,     0.41842,     0.41942,     0.42042,     0.42142,     0.42242,     0.42342,     0.42442,     0.42543,     0.42643,     0.42743,     0.42843,     0.42943,     0.43043,     0.43143,\n",
       "           0.43243,     0.43343,     0.43443,     0.43544,     0.43644,     0.43744,     0.43844,     0.43944,     0.44044,     0.44144,     0.44244,     0.44344,     0.44444,     0.44545,     0.44645,     0.44745,     0.44845,     0.44945,     0.45045,     0.45145,     0.45245,     0.45345,     0.45445,     0.45546,\n",
       "           0.45646,     0.45746,     0.45846,     0.45946,     0.46046,     0.46146,     0.46246,     0.46346,     0.46446,     0.46547,     0.46647,     0.46747,     0.46847,     0.46947,     0.47047,     0.47147,     0.47247,     0.47347,     0.47447,     0.47548,     0.47648,     0.47748,     0.47848,     0.47948,\n",
       "           0.48048,     0.48148,     0.48248,     0.48348,     0.48448,     0.48549,     0.48649,     0.48749,     0.48849,     0.48949,     0.49049,     0.49149,     0.49249,     0.49349,     0.49449,      0.4955,      0.4965,      0.4975,      0.4985,      0.4995,      0.5005,      0.5015,      0.5025,      0.5035,\n",
       "            0.5045,     0.50551,     0.50651,     0.50751,     0.50851,     0.50951,     0.51051,     0.51151,     0.51251,     0.51351,     0.51451,     0.51552,     0.51652,     0.51752,     0.51852,     0.51952,     0.52052,     0.52152,     0.52252,     0.52352,     0.52452,     0.52553,     0.52653,     0.52753,\n",
       "           0.52853,     0.52953,     0.53053,     0.53153,     0.53253,     0.53353,     0.53453,     0.53554,     0.53654,     0.53754,     0.53854,     0.53954,     0.54054,     0.54154,     0.54254,     0.54354,     0.54454,     0.54555,     0.54655,     0.54755,     0.54855,     0.54955,     0.55055,     0.55155,\n",
       "           0.55255,     0.55355,     0.55455,     0.55556,     0.55656,     0.55756,     0.55856,     0.55956,     0.56056,     0.56156,     0.56256,     0.56356,     0.56456,     0.56557,     0.56657,     0.56757,     0.56857,     0.56957,     0.57057,     0.57157,     0.57257,     0.57357,     0.57457,     0.57558,\n",
       "           0.57658,     0.57758,     0.57858,     0.57958,     0.58058,     0.58158,     0.58258,     0.58358,     0.58458,     0.58559,     0.58659,     0.58759,     0.58859,     0.58959,     0.59059,     0.59159,     0.59259,     0.59359,     0.59459,      0.5956,      0.5966,      0.5976,      0.5986,      0.5996,\n",
       "            0.6006,      0.6016,      0.6026,      0.6036,      0.6046,     0.60561,     0.60661,     0.60761,     0.60861,     0.60961,     0.61061,     0.61161,     0.61261,     0.61361,     0.61461,     0.61562,     0.61662,     0.61762,     0.61862,     0.61962,     0.62062,     0.62162,     0.62262,     0.62362,\n",
       "           0.62462,     0.62563,     0.62663,     0.62763,     0.62863,     0.62963,     0.63063,     0.63163,     0.63263,     0.63363,     0.63463,     0.63564,     0.63664,     0.63764,     0.63864,     0.63964,     0.64064,     0.64164,     0.64264,     0.64364,     0.64464,     0.64565,     0.64665,     0.64765,\n",
       "           0.64865,     0.64965,     0.65065,     0.65165,     0.65265,     0.65365,     0.65465,     0.65566,     0.65666,     0.65766,     0.65866,     0.65966,     0.66066,     0.66166,     0.66266,     0.66366,     0.66466,     0.66567,     0.66667,     0.66767,     0.66867,     0.66967,     0.67067,     0.67167,\n",
       "           0.67267,     0.67367,     0.67467,     0.67568,     0.67668,     0.67768,     0.67868,     0.67968,     0.68068,     0.68168,     0.68268,     0.68368,     0.68468,     0.68569,     0.68669,     0.68769,     0.68869,     0.68969,     0.69069,     0.69169,     0.69269,     0.69369,     0.69469,      0.6957,\n",
       "            0.6967,      0.6977,      0.6987,      0.6997,      0.7007,      0.7017,      0.7027,      0.7037,      0.7047,     0.70571,     0.70671,     0.70771,     0.70871,     0.70971,     0.71071,     0.71171,     0.71271,     0.71371,     0.71471,     0.71572,     0.71672,     0.71772,     0.71872,     0.71972,\n",
       "           0.72072,     0.72172,     0.72272,     0.72372,     0.72472,     0.72573,     0.72673,     0.72773,     0.72873,     0.72973,     0.73073,     0.73173,     0.73273,     0.73373,     0.73473,     0.73574,     0.73674,     0.73774,     0.73874,     0.73974,     0.74074,     0.74174,     0.74274,     0.74374,\n",
       "           0.74474,     0.74575,     0.74675,     0.74775,     0.74875,     0.74975,     0.75075,     0.75175,     0.75275,     0.75375,     0.75475,     0.75576,     0.75676,     0.75776,     0.75876,     0.75976,     0.76076,     0.76176,     0.76276,     0.76376,     0.76476,     0.76577,     0.76677,     0.76777,\n",
       "           0.76877,     0.76977,     0.77077,     0.77177,     0.77277,     0.77377,     0.77477,     0.77578,     0.77678,     0.77778,     0.77878,     0.77978,     0.78078,     0.78178,     0.78278,     0.78378,     0.78478,     0.78579,     0.78679,     0.78779,     0.78879,     0.78979,     0.79079,     0.79179,\n",
       "           0.79279,     0.79379,     0.79479,      0.7958,      0.7968,      0.7978,      0.7988,      0.7998,      0.8008,      0.8018,      0.8028,      0.8038,      0.8048,     0.80581,     0.80681,     0.80781,     0.80881,     0.80981,     0.81081,     0.81181,     0.81281,     0.81381,     0.81481,     0.81582,\n",
       "           0.81682,     0.81782,     0.81882,     0.81982,     0.82082,     0.82182,     0.82282,     0.82382,     0.82482,     0.82583,     0.82683,     0.82783,     0.82883,     0.82983,     0.83083,     0.83183,     0.83283,     0.83383,     0.83483,     0.83584,     0.83684,     0.83784,     0.83884,     0.83984,\n",
       "           0.84084,     0.84184,     0.84284,     0.84384,     0.84484,     0.84585,     0.84685,     0.84785,     0.84885,     0.84985,     0.85085,     0.85185,     0.85285,     0.85385,     0.85485,     0.85586,     0.85686,     0.85786,     0.85886,     0.85986,     0.86086,     0.86186,     0.86286,     0.86386,\n",
       "           0.86486,     0.86587,     0.86687,     0.86787,     0.86887,     0.86987,     0.87087,     0.87187,     0.87287,     0.87387,     0.87487,     0.87588,     0.87688,     0.87788,     0.87888,     0.87988,     0.88088,     0.88188,     0.88288,     0.88388,     0.88488,     0.88589,     0.88689,     0.88789,\n",
       "           0.88889,     0.88989,     0.89089,     0.89189,     0.89289,     0.89389,     0.89489,      0.8959,      0.8969,      0.8979,      0.8989,      0.8999,      0.9009,      0.9019,      0.9029,      0.9039,      0.9049,     0.90591,     0.90691,     0.90791,     0.90891,     0.90991,     0.91091,     0.91191,\n",
       "           0.91291,     0.91391,     0.91491,     0.91592,     0.91692,     0.91792,     0.91892,     0.91992,     0.92092,     0.92192,     0.92292,     0.92392,     0.92492,     0.92593,     0.92693,     0.92793,     0.92893,     0.92993,     0.93093,     0.93193,     0.93293,     0.93393,     0.93493,     0.93594,\n",
       "           0.93694,     0.93794,     0.93894,     0.93994,     0.94094,     0.94194,     0.94294,     0.94394,     0.94494,     0.94595,     0.94695,     0.94795,     0.94895,     0.94995,     0.95095,     0.95195,     0.95295,     0.95395,     0.95495,     0.95596,     0.95696,     0.95796,     0.95896,     0.95996,\n",
       "           0.96096,     0.96196,     0.96296,     0.96396,     0.96496,     0.96597,     0.96697,     0.96797,     0.96897,     0.96997,     0.97097,     0.97197,     0.97297,     0.97397,     0.97497,     0.97598,     0.97698,     0.97798,     0.97898,     0.97998,     0.98098,     0.98198,     0.98298,     0.98398,\n",
       "           0.98498,     0.98599,     0.98699,     0.98799,     0.98899,     0.98999,     0.99099,     0.99199,     0.99299,     0.99399,     0.99499,       0.996,       0.997,       0.998,       0.999,           1]), array([[          1,           1,           1,           1,           1,           1,           1,           1,           1,           1,           1,           1,           1,           1,           1,           1,           1,           1,           1,           1,           1,           1,           1,\n",
       "                  1,           1,           1,           1,           1,           1,     0.99468,     0.99468,     0.99468,     0.99468,     0.99468,     0.99468,     0.99468,     0.99468,     0.99468,     0.99468,     0.99468,     0.99468,     0.99468,     0.99468,     0.99468,     0.99468,     0.99468,\n",
       "            0.99468,     0.99468,     0.99468,     0.99468,     0.99468,     0.99468,     0.99468,     0.99468,     0.99468,     0.99468,     0.99468,     0.99468,     0.99468,     0.99468,     0.99468,     0.99468,     0.99468,     0.99468,     0.99468,     0.99468,     0.99468,     0.99468,     0.99468,\n",
       "            0.99468,     0.99468,     0.99468,     0.99468,     0.99468,     0.99468,     0.99468,     0.99468,     0.99468,     0.99468,     0.99468,     0.99468,     0.99468,     0.99468,     0.99468,     0.99468,     0.99468,     0.99468,     0.99468,     0.99468,     0.99468,     0.99468,     0.99468,\n",
       "            0.99468,     0.99468,     0.99468,     0.99468,     0.99468,     0.99468,     0.99468,     0.99468,     0.99468,     0.99468,     0.99468,     0.99468,     0.99468,     0.99468,     0.99468,     0.99468,     0.99468,     0.99468,     0.99468,     0.99468,     0.99468,     0.99468,     0.99468,\n",
       "            0.99468,     0.99468,     0.99468,     0.99468,     0.99468,     0.99468,     0.99468,     0.99468,     0.99468,     0.99468,     0.99468,     0.99468,     0.99468,     0.99468,     0.99468,     0.99468,     0.99468,     0.99468,     0.99468,     0.99468,     0.99468,     0.99468,     0.99468,\n",
       "            0.99468,     0.99468,     0.99468,     0.99468,     0.99468,     0.99468,     0.99468,     0.99468,     0.99468,     0.99468,     0.99468,     0.99468,     0.99468,     0.99468,     0.99468,     0.99468,     0.99468,     0.99468,     0.99468,     0.99468,     0.99468,     0.99468,     0.99468,\n",
       "            0.99468,     0.99468,     0.99468,     0.99468,     0.99468,     0.99468,     0.99468,     0.99468,     0.99468,     0.99468,     0.99468,     0.99468,     0.99468,     0.99468,     0.99468,     0.99468,     0.99468,     0.99468,     0.99468,     0.99468,     0.99468,     0.99228,     0.99228,\n",
       "            0.99228,     0.99228,     0.99228,     0.99228,     0.99228,     0.99228,     0.99228,     0.99228,     0.99228,     0.99228,     0.99228,     0.99228,     0.99228,     0.99228,     0.99228,     0.99228,     0.99228,     0.99228,     0.99228,     0.99228,     0.99228,     0.99228,     0.99228,\n",
       "            0.99228,     0.99228,     0.99228,     0.99228,     0.99228,     0.99228,     0.99228,     0.99228,     0.99228,     0.99228,     0.99228,     0.99228,     0.99228,     0.99228,     0.99228,     0.99228,     0.99228,     0.99228,     0.99228,     0.99228,     0.99228,     0.99228,     0.99228,\n",
       "            0.99228,     0.99228,     0.99228,     0.99228,     0.99228,     0.99228,     0.99228,     0.99228,     0.99228,     0.99228,     0.99228,     0.99228,     0.99228,     0.99228,     0.99228,     0.99228,     0.99228,     0.99228,     0.99228,     0.99228,     0.98909,     0.98909,     0.98909,\n",
       "            0.98909,     0.98909,     0.98909,     0.98909,     0.98909,     0.98909,     0.98909,     0.98909,     0.98909,     0.98909,     0.98909,     0.98909,     0.98695,     0.98695,     0.98695,     0.98695,     0.98695,     0.98695,     0.98695,     0.98695,     0.98695,     0.98695,     0.98695,\n",
       "            0.98695,     0.98695,     0.98695,     0.98695,     0.98695,     0.98695,     0.98695,     0.98695,     0.98695,     0.98695,     0.98695,     0.98695,     0.98695,     0.98695,     0.98695,     0.98695,     0.98695,     0.98695,     0.98695,     0.98695,     0.98695,     0.98695,     0.98695,\n",
       "            0.98695,     0.98695,     0.98695,     0.98695,     0.98695,     0.98695,     0.98695,     0.98695,     0.98695,     0.98695,     0.98695,     0.98695,     0.98695,     0.98695,     0.98695,     0.98695,     0.98695,     0.98695,     0.98695,     0.98695,     0.98695,     0.98695,     0.98695,\n",
       "            0.98695,     0.98695,     0.98695,     0.98695,     0.98695,     0.98695,     0.98695,     0.98695,     0.98695,     0.98695,     0.98695,     0.98695,     0.98695,     0.98695,     0.98695,     0.98695,     0.98695,     0.98695,     0.98695,     0.98695,     0.98695,     0.98695,     0.98695,\n",
       "            0.98695,     0.98695,     0.98695,     0.98695,     0.98695,     0.98695,     0.98695,     0.98695,     0.98695,     0.98695,     0.98695,     0.98695,     0.98695,     0.98695,     0.98695,     0.98695,     0.98695,     0.98695,     0.98695,     0.98695,     0.98695,     0.98695,     0.98446,\n",
       "            0.98446,     0.98232,     0.98232,     0.98232,     0.98232,     0.98232,     0.98232,     0.98232,     0.98232,     0.98232,      0.9801,      0.9801,      0.9801,      0.9801,      0.9801,     0.97826,     0.97826,     0.97826,     0.97826,     0.97826,     0.97826,     0.97826,     0.97826,\n",
       "            0.97826,     0.97826,     0.97826,     0.97706,     0.97706,     0.97706,     0.97706,     0.97706,     0.97706,     0.97706,     0.97706,     0.97706,     0.97706,     0.97706,     0.97706,     0.97706,     0.97706,     0.97706,     0.97706,     0.97706,     0.97706,     0.97706,     0.97706,\n",
       "            0.97489,     0.97285,     0.97285,     0.97285,     0.97021,     0.97021,     0.97021,     0.97021,     0.97021,     0.97021,     0.97021,     0.97021,     0.97021,     0.97021,     0.97021,     0.97021,     0.97021,     0.97021,     0.97021,     0.97021,     0.97021,     0.97021,     0.97021,\n",
       "            0.97021,     0.97021,     0.97021,     0.97021,     0.97021,     0.97021,     0.96849,     0.96849,     0.96849,     0.96849,     0.96849,     0.96715,     0.96715,     0.96715,     0.96715,     0.96715,     0.96715,     0.96715,     0.96715,     0.96715,     0.96715,     0.96538,     0.96538,\n",
       "            0.96538,     0.96378,     0.96378,     0.96378,     0.96378,     0.96378,      0.9626,      0.9626,      0.9626,      0.9626,      0.9626,      0.9626,      0.9626,      0.9626,      0.9626,     0.96094,     0.96094,     0.96094,     0.95914,     0.95761,     0.95761,     0.95761,     0.95761,\n",
       "            0.95594,     0.95594,     0.95455,     0.95455,     0.95455,     0.95455,     0.95455,     0.95301,     0.95301,     0.95301,     0.95176,     0.95176,     0.95176,     0.95176,     0.95176,     0.95176,     0.95037,     0.95037,     0.95037,     0.94872,     0.94756,     0.94756,     0.94756,\n",
       "            0.94756,     0.94756,     0.94756,     0.94614,     0.94614,     0.94614,     0.94552,     0.94552,     0.94552,     0.94552,     0.94552,     0.94552,     0.94552,     0.94552,     0.94552,     0.94552,     0.94552,     0.94406,     0.94406,      0.9432,      0.9432,      0.9432,      0.9432,\n",
       "             0.9432,      0.9432,      0.9432,      0.9432,     0.94178,      0.9401,      0.9401,      0.9401,      0.9401,      0.9401,      0.9401,      0.9401,      0.9401,      0.9401,      0.9401,      0.9401,      0.9401,      0.9401,      0.9401,      0.9401,     0.93884,     0.93884,     0.93884,\n",
       "            0.93841,     0.93841,     0.93841,     0.93841,     0.93841,     0.93841,     0.93841,     0.93841,     0.93841,     0.93841,     0.93841,      0.9372,      0.9372,      0.9372,     0.93711,     0.93711,     0.93711,     0.93711,     0.93711,     0.93711,     0.93711,     0.93711,     0.93711,\n",
       "            0.93711,     0.93711,     0.93711,     0.93711,     0.93663,     0.93663,     0.93663,     0.93663,     0.93663,     0.93663,     0.93663,     0.93663,     0.93663,     0.93663,     0.93385,     0.93119,     0.93119,     0.92998,     0.92998,     0.92879,     0.92879,     0.92749,     0.92741,\n",
       "            0.92741,     0.92741,     0.92741,     0.92741,     0.92741,     0.92741,     0.92741,     0.92741,     0.92741,     0.92741,     0.92625,     0.92625,     0.92576,     0.92576,     0.92576,     0.92576,     0.92576,     0.92576,     0.92576,     0.92576,     0.92535,     0.92535,     0.92535,\n",
       "            0.92535,     0.92535,     0.92535,     0.92535,     0.92535,     0.92535,     0.92535,     0.92535,     0.92535,     0.92535,     0.92535,     0.92535,     0.92535,     0.92535,     0.92535,     0.92535,     0.92535,     0.92286,      0.9205,      0.9205,     0.91944,     0.91944,      0.9184,\n",
       "             0.9184,     0.91598,     0.91544,     0.91544,     0.91544,     0.91544,     0.91544,     0.91544,     0.91544,     0.91544,     0.91544,     0.91544,     0.91544,     0.91544,     0.91544,     0.91544,     0.91544,     0.91544,     0.91544,     0.91447,     0.91447,     0.91447,     0.91447,\n",
       "            0.91447,     0.91447,     0.91447,     0.91447,     0.91447,     0.91447,     0.91447,     0.91447,      0.9135,      0.9135,     0.91265,     0.91265,     0.91265,     0.91157,     0.91074,     0.91074,     0.91074,     0.90851,     0.90769,     0.90769,     0.90769,     0.90573,     0.90573,\n",
       "            0.90573,     0.90482,     0.90482,      0.9044,      0.9044,      0.9044,      0.9044,      0.9044,      0.9044,     0.90411,     0.90411,     0.90411,     0.90411,     0.90411,     0.90411,     0.90311,     0.90099,         0.9,     0.89901,     0.89803,     0.89706,     0.89609,     0.89512,\n",
       "            0.89359,     0.89359,     0.89359,     0.89359,     0.89359,      0.8917,      0.8917,     0.88982,     0.88982,     0.88902,     0.88902,     0.88717,     0.88717,     0.88652,     0.88652,     0.88652,     0.88588,     0.88588,     0.88588,     0.88538,     0.88538,     0.88538,     0.88475,\n",
       "            0.88475,     0.88475,     0.88399,     0.88399,     0.88324,     0.88324,     0.88235,     0.88046,     0.87358,     0.87148,     0.87148,     0.87148,     0.87148,     0.87148,     0.87148,     0.86869,     0.86496,     0.86031,     0.85589,     0.85589,      0.8551,     0.85339,     0.84984,\n",
       "            0.84832,     0.84832,     0.84665,     0.84227,     0.84154,     0.84026,     0.84026,     0.84004,     0.84004,     0.84004,     0.84004,     0.83861,     0.83861,     0.83543,     0.83543,     0.83212,     0.83091,     0.83091,     0.83091,     0.82869,     0.82869,     0.82801,     0.82497,\n",
       "            0.82497,     0.82449,     0.82449,     0.82132,     0.82067,     0.82038,     0.82038,     0.82038,     0.81974,       0.818,       0.818,       0.818,       0.818,     0.81683,     0.81683,     0.81683,     0.81683,     0.81683,     0.81683,      0.8154,     0.81416,     0.81416,     0.81391,\n",
       "            0.81391,     0.81391,     0.81268,     0.81268,     0.81165,     0.81165,     0.81165,     0.81026,     0.80966,     0.80769,     0.80769,     0.80267,     0.80267,     0.79679,     0.79398,     0.79268,     0.79233,     0.79233,     0.78321,     0.78321,     0.77364,     0.77364,     0.77285,\n",
       "            0.77285,     0.77285,     0.76819,      0.7645,      0.7645,     0.76174,     0.76174,     0.75993,     0.75947,     0.75768,     0.75723,     0.75152,     0.74399,     0.74315,     0.74315,     0.73832,     0.73751,     0.73751,     0.73586,     0.73569,     0.73569,     0.73529,     0.72659,\n",
       "            0.72659,     0.72562,     0.72525,     0.72272,     0.72272,     0.71941,     0.71348,     0.71348,     0.71084,     0.70767,     0.70341,     0.69756,     0.69075,     0.68462,     0.66942,     0.66419,     0.66419,     0.66003,     0.65689,     0.65522,       0.655,     0.65051,     0.64841,\n",
       "            0.64265,     0.63432,     0.63191,     0.62997,     0.62457,      0.6214,     0.61659,     0.60817,       0.606,     0.60385,     0.60212,     0.58763,     0.57603,     0.56983,     0.56656,     0.56613,     0.55915,      0.5567,     0.55195,     0.54374,     0.53391,     0.53172,     0.51825,\n",
       "            0.51765,      0.5136,     0.47781,     0.47663,     0.47181,     0.47041,     0.46021,     0.45979,     0.45646,     0.45583,     0.45521,     0.44806,     0.41571,     0.41486,      0.4122,     0.40834,     0.34813,     0.34531,     0.33607,     0.26487,     0.25596,     0.25396,     0.25341,\n",
       "            0.23588,     0.22912,     0.22139,     0.17647,      0.1553,     0.15323,     0.15116,     0.14909,     0.14702,     0.14494,     0.14287,      0.1408,     0.13873,     0.13666,     0.13459,     0.13252,     0.13045,     0.12838,     0.12631,     0.12424,     0.12217,      0.1201,     0.11803,\n",
       "            0.11596,     0.11389,     0.11181,     0.10974,     0.10767,      0.1056,     0.10353,     0.10146,    0.099391,     0.09732,     0.09525,    0.093179,    0.091108,    0.089038,    0.086967,    0.084896,    0.082826,    0.080755,    0.078684,    0.076614,    0.074543,    0.072472,    0.070402,\n",
       "           0.068331,    0.066261,     0.06419,    0.062119,    0.060049,    0.057978,    0.055907,    0.053837,    0.051766,    0.049695,    0.047625,    0.045554,    0.043483,    0.041413,    0.039342,    0.037272,    0.035201,     0.03313,     0.03106,    0.028989,    0.026918,    0.024848,    0.022777,\n",
       "           0.020706,    0.018636,    0.016565,    0.014494,    0.012424,    0.010353,   0.0082826,   0.0062119,   0.0041413,   0.0020706,           0]]), 'Recall', 'Precision'], [array([          0,    0.001001,    0.002002,    0.003003,    0.004004,    0.005005,    0.006006,    0.007007,    0.008008,    0.009009,     0.01001,    0.011011,    0.012012,    0.013013,    0.014014,    0.015015,    0.016016,    0.017017,    0.018018,    0.019019,     0.02002,    0.021021,    0.022022,    0.023023,\n",
       "          0.024024,    0.025025,    0.026026,    0.027027,    0.028028,    0.029029,     0.03003,    0.031031,    0.032032,    0.033033,    0.034034,    0.035035,    0.036036,    0.037037,    0.038038,    0.039039,     0.04004,    0.041041,    0.042042,    0.043043,    0.044044,    0.045045,    0.046046,    0.047047,\n",
       "          0.048048,    0.049049,     0.05005,    0.051051,    0.052052,    0.053053,    0.054054,    0.055055,    0.056056,    0.057057,    0.058058,    0.059059,     0.06006,    0.061061,    0.062062,    0.063063,    0.064064,    0.065065,    0.066066,    0.067067,    0.068068,    0.069069,     0.07007,    0.071071,\n",
       "          0.072072,    0.073073,    0.074074,    0.075075,    0.076076,    0.077077,    0.078078,    0.079079,     0.08008,    0.081081,    0.082082,    0.083083,    0.084084,    0.085085,    0.086086,    0.087087,    0.088088,    0.089089,     0.09009,    0.091091,    0.092092,    0.093093,    0.094094,    0.095095,\n",
       "          0.096096,    0.097097,    0.098098,    0.099099,      0.1001,      0.1011,      0.1021,      0.1031,      0.1041,     0.10511,     0.10611,     0.10711,     0.10811,     0.10911,     0.11011,     0.11111,     0.11211,     0.11311,     0.11411,     0.11512,     0.11612,     0.11712,     0.11812,     0.11912,\n",
       "           0.12012,     0.12112,     0.12212,     0.12312,     0.12412,     0.12513,     0.12613,     0.12713,     0.12813,     0.12913,     0.13013,     0.13113,     0.13213,     0.13313,     0.13413,     0.13514,     0.13614,     0.13714,     0.13814,     0.13914,     0.14014,     0.14114,     0.14214,     0.14314,\n",
       "           0.14414,     0.14515,     0.14615,     0.14715,     0.14815,     0.14915,     0.15015,     0.15115,     0.15215,     0.15315,     0.15415,     0.15516,     0.15616,     0.15716,     0.15816,     0.15916,     0.16016,     0.16116,     0.16216,     0.16316,     0.16416,     0.16517,     0.16617,     0.16717,\n",
       "           0.16817,     0.16917,     0.17017,     0.17117,     0.17217,     0.17317,     0.17417,     0.17518,     0.17618,     0.17718,     0.17818,     0.17918,     0.18018,     0.18118,     0.18218,     0.18318,     0.18418,     0.18519,     0.18619,     0.18719,     0.18819,     0.18919,     0.19019,     0.19119,\n",
       "           0.19219,     0.19319,     0.19419,      0.1952,      0.1962,      0.1972,      0.1982,      0.1992,      0.2002,      0.2012,      0.2022,      0.2032,      0.2042,     0.20521,     0.20621,     0.20721,     0.20821,     0.20921,     0.21021,     0.21121,     0.21221,     0.21321,     0.21421,     0.21522,\n",
       "           0.21622,     0.21722,     0.21822,     0.21922,     0.22022,     0.22122,     0.22222,     0.22322,     0.22422,     0.22523,     0.22623,     0.22723,     0.22823,     0.22923,     0.23023,     0.23123,     0.23223,     0.23323,     0.23423,     0.23524,     0.23624,     0.23724,     0.23824,     0.23924,\n",
       "           0.24024,     0.24124,     0.24224,     0.24324,     0.24424,     0.24525,     0.24625,     0.24725,     0.24825,     0.24925,     0.25025,     0.25125,     0.25225,     0.25325,     0.25425,     0.25526,     0.25626,     0.25726,     0.25826,     0.25926,     0.26026,     0.26126,     0.26226,     0.26326,\n",
       "           0.26426,     0.26527,     0.26627,     0.26727,     0.26827,     0.26927,     0.27027,     0.27127,     0.27227,     0.27327,     0.27427,     0.27528,     0.27628,     0.27728,     0.27828,     0.27928,     0.28028,     0.28128,     0.28228,     0.28328,     0.28428,     0.28529,     0.28629,     0.28729,\n",
       "           0.28829,     0.28929,     0.29029,     0.29129,     0.29229,     0.29329,     0.29429,      0.2953,      0.2963,      0.2973,      0.2983,      0.2993,      0.3003,      0.3013,      0.3023,      0.3033,      0.3043,     0.30531,     0.30631,     0.30731,     0.30831,     0.30931,     0.31031,     0.31131,\n",
       "           0.31231,     0.31331,     0.31431,     0.31532,     0.31632,     0.31732,     0.31832,     0.31932,     0.32032,     0.32132,     0.32232,     0.32332,     0.32432,     0.32533,     0.32633,     0.32733,     0.32833,     0.32933,     0.33033,     0.33133,     0.33233,     0.33333,     0.33433,     0.33534,\n",
       "           0.33634,     0.33734,     0.33834,     0.33934,     0.34034,     0.34134,     0.34234,     0.34334,     0.34434,     0.34535,     0.34635,     0.34735,     0.34835,     0.34935,     0.35035,     0.35135,     0.35235,     0.35335,     0.35435,     0.35536,     0.35636,     0.35736,     0.35836,     0.35936,\n",
       "           0.36036,     0.36136,     0.36236,     0.36336,     0.36436,     0.36537,     0.36637,     0.36737,     0.36837,     0.36937,     0.37037,     0.37137,     0.37237,     0.37337,     0.37437,     0.37538,     0.37638,     0.37738,     0.37838,     0.37938,     0.38038,     0.38138,     0.38238,     0.38338,\n",
       "           0.38438,     0.38539,     0.38639,     0.38739,     0.38839,     0.38939,     0.39039,     0.39139,     0.39239,     0.39339,     0.39439,      0.3954,      0.3964,      0.3974,      0.3984,      0.3994,      0.4004,      0.4014,      0.4024,      0.4034,      0.4044,     0.40541,     0.40641,     0.40741,\n",
       "           0.40841,     0.40941,     0.41041,     0.41141,     0.41241,     0.41341,     0.41441,     0.41542,     0.41642,     0.41742,     0.41842,     0.41942,     0.42042,     0.42142,     0.42242,     0.42342,     0.42442,     0.42543,     0.42643,     0.42743,     0.42843,     0.42943,     0.43043,     0.43143,\n",
       "           0.43243,     0.43343,     0.43443,     0.43544,     0.43644,     0.43744,     0.43844,     0.43944,     0.44044,     0.44144,     0.44244,     0.44344,     0.44444,     0.44545,     0.44645,     0.44745,     0.44845,     0.44945,     0.45045,     0.45145,     0.45245,     0.45345,     0.45445,     0.45546,\n",
       "           0.45646,     0.45746,     0.45846,     0.45946,     0.46046,     0.46146,     0.46246,     0.46346,     0.46446,     0.46547,     0.46647,     0.46747,     0.46847,     0.46947,     0.47047,     0.47147,     0.47247,     0.47347,     0.47447,     0.47548,     0.47648,     0.47748,     0.47848,     0.47948,\n",
       "           0.48048,     0.48148,     0.48248,     0.48348,     0.48448,     0.48549,     0.48649,     0.48749,     0.48849,     0.48949,     0.49049,     0.49149,     0.49249,     0.49349,     0.49449,      0.4955,      0.4965,      0.4975,      0.4985,      0.4995,      0.5005,      0.5015,      0.5025,      0.5035,\n",
       "            0.5045,     0.50551,     0.50651,     0.50751,     0.50851,     0.50951,     0.51051,     0.51151,     0.51251,     0.51351,     0.51451,     0.51552,     0.51652,     0.51752,     0.51852,     0.51952,     0.52052,     0.52152,     0.52252,     0.52352,     0.52452,     0.52553,     0.52653,     0.52753,\n",
       "           0.52853,     0.52953,     0.53053,     0.53153,     0.53253,     0.53353,     0.53453,     0.53554,     0.53654,     0.53754,     0.53854,     0.53954,     0.54054,     0.54154,     0.54254,     0.54354,     0.54454,     0.54555,     0.54655,     0.54755,     0.54855,     0.54955,     0.55055,     0.55155,\n",
       "           0.55255,     0.55355,     0.55455,     0.55556,     0.55656,     0.55756,     0.55856,     0.55956,     0.56056,     0.56156,     0.56256,     0.56356,     0.56456,     0.56557,     0.56657,     0.56757,     0.56857,     0.56957,     0.57057,     0.57157,     0.57257,     0.57357,     0.57457,     0.57558,\n",
       "           0.57658,     0.57758,     0.57858,     0.57958,     0.58058,     0.58158,     0.58258,     0.58358,     0.58458,     0.58559,     0.58659,     0.58759,     0.58859,     0.58959,     0.59059,     0.59159,     0.59259,     0.59359,     0.59459,      0.5956,      0.5966,      0.5976,      0.5986,      0.5996,\n",
       "            0.6006,      0.6016,      0.6026,      0.6036,      0.6046,     0.60561,     0.60661,     0.60761,     0.60861,     0.60961,     0.61061,     0.61161,     0.61261,     0.61361,     0.61461,     0.61562,     0.61662,     0.61762,     0.61862,     0.61962,     0.62062,     0.62162,     0.62262,     0.62362,\n",
       "           0.62462,     0.62563,     0.62663,     0.62763,     0.62863,     0.62963,     0.63063,     0.63163,     0.63263,     0.63363,     0.63463,     0.63564,     0.63664,     0.63764,     0.63864,     0.63964,     0.64064,     0.64164,     0.64264,     0.64364,     0.64464,     0.64565,     0.64665,     0.64765,\n",
       "           0.64865,     0.64965,     0.65065,     0.65165,     0.65265,     0.65365,     0.65465,     0.65566,     0.65666,     0.65766,     0.65866,     0.65966,     0.66066,     0.66166,     0.66266,     0.66366,     0.66466,     0.66567,     0.66667,     0.66767,     0.66867,     0.66967,     0.67067,     0.67167,\n",
       "           0.67267,     0.67367,     0.67467,     0.67568,     0.67668,     0.67768,     0.67868,     0.67968,     0.68068,     0.68168,     0.68268,     0.68368,     0.68468,     0.68569,     0.68669,     0.68769,     0.68869,     0.68969,     0.69069,     0.69169,     0.69269,     0.69369,     0.69469,      0.6957,\n",
       "            0.6967,      0.6977,      0.6987,      0.6997,      0.7007,      0.7017,      0.7027,      0.7037,      0.7047,     0.70571,     0.70671,     0.70771,     0.70871,     0.70971,     0.71071,     0.71171,     0.71271,     0.71371,     0.71471,     0.71572,     0.71672,     0.71772,     0.71872,     0.71972,\n",
       "           0.72072,     0.72172,     0.72272,     0.72372,     0.72472,     0.72573,     0.72673,     0.72773,     0.72873,     0.72973,     0.73073,     0.73173,     0.73273,     0.73373,     0.73473,     0.73574,     0.73674,     0.73774,     0.73874,     0.73974,     0.74074,     0.74174,     0.74274,     0.74374,\n",
       "           0.74474,     0.74575,     0.74675,     0.74775,     0.74875,     0.74975,     0.75075,     0.75175,     0.75275,     0.75375,     0.75475,     0.75576,     0.75676,     0.75776,     0.75876,     0.75976,     0.76076,     0.76176,     0.76276,     0.76376,     0.76476,     0.76577,     0.76677,     0.76777,\n",
       "           0.76877,     0.76977,     0.77077,     0.77177,     0.77277,     0.77377,     0.77477,     0.77578,     0.77678,     0.77778,     0.77878,     0.77978,     0.78078,     0.78178,     0.78278,     0.78378,     0.78478,     0.78579,     0.78679,     0.78779,     0.78879,     0.78979,     0.79079,     0.79179,\n",
       "           0.79279,     0.79379,     0.79479,      0.7958,      0.7968,      0.7978,      0.7988,      0.7998,      0.8008,      0.8018,      0.8028,      0.8038,      0.8048,     0.80581,     0.80681,     0.80781,     0.80881,     0.80981,     0.81081,     0.81181,     0.81281,     0.81381,     0.81481,     0.81582,\n",
       "           0.81682,     0.81782,     0.81882,     0.81982,     0.82082,     0.82182,     0.82282,     0.82382,     0.82482,     0.82583,     0.82683,     0.82783,     0.82883,     0.82983,     0.83083,     0.83183,     0.83283,     0.83383,     0.83483,     0.83584,     0.83684,     0.83784,     0.83884,     0.83984,\n",
       "           0.84084,     0.84184,     0.84284,     0.84384,     0.84484,     0.84585,     0.84685,     0.84785,     0.84885,     0.84985,     0.85085,     0.85185,     0.85285,     0.85385,     0.85485,     0.85586,     0.85686,     0.85786,     0.85886,     0.85986,     0.86086,     0.86186,     0.86286,     0.86386,\n",
       "           0.86486,     0.86587,     0.86687,     0.86787,     0.86887,     0.86987,     0.87087,     0.87187,     0.87287,     0.87387,     0.87487,     0.87588,     0.87688,     0.87788,     0.87888,     0.87988,     0.88088,     0.88188,     0.88288,     0.88388,     0.88488,     0.88589,     0.88689,     0.88789,\n",
       "           0.88889,     0.88989,     0.89089,     0.89189,     0.89289,     0.89389,     0.89489,      0.8959,      0.8969,      0.8979,      0.8989,      0.8999,      0.9009,      0.9019,      0.9029,      0.9039,      0.9049,     0.90591,     0.90691,     0.90791,     0.90891,     0.90991,     0.91091,     0.91191,\n",
       "           0.91291,     0.91391,     0.91491,     0.91592,     0.91692,     0.91792,     0.91892,     0.91992,     0.92092,     0.92192,     0.92292,     0.92392,     0.92492,     0.92593,     0.92693,     0.92793,     0.92893,     0.92993,     0.93093,     0.93193,     0.93293,     0.93393,     0.93493,     0.93594,\n",
       "           0.93694,     0.93794,     0.93894,     0.93994,     0.94094,     0.94194,     0.94294,     0.94394,     0.94494,     0.94595,     0.94695,     0.94795,     0.94895,     0.94995,     0.95095,     0.95195,     0.95295,     0.95395,     0.95495,     0.95596,     0.95696,     0.95796,     0.95896,     0.95996,\n",
       "           0.96096,     0.96196,     0.96296,     0.96396,     0.96496,     0.96597,     0.96697,     0.96797,     0.96897,     0.96997,     0.97097,     0.97197,     0.97297,     0.97397,     0.97497,     0.97598,     0.97698,     0.97798,     0.97898,     0.97998,     0.98098,     0.98198,     0.98298,     0.98398,\n",
       "           0.98498,     0.98599,     0.98699,     0.98799,     0.98899,     0.98999,     0.99099,     0.99199,     0.99299,     0.99399,     0.99499,       0.996,       0.997,       0.998,       0.999,           1]), array([[    0.26811,     0.26811,     0.33181,     0.37125,     0.39889,     0.42365,     0.44492,     0.46111,     0.47725,     0.48932,     0.50106,     0.51206,      0.5234,     0.53408,       0.544,     0.55197,     0.55801,     0.56559,     0.57194,     0.57894,     0.58573,     0.59155,     0.59892,\n",
       "             0.6038,     0.60905,      0.6142,     0.61968,     0.62338,     0.62697,     0.63242,     0.63832,     0.64266,     0.64717,     0.65215,     0.65372,     0.65647,      0.6589,     0.66255,     0.66603,     0.66878,     0.66991,     0.67316,     0.67556,     0.67675,     0.67803,     0.68085,\n",
       "            0.68188,     0.68268,     0.68678,     0.68735,     0.69067,     0.69183,      0.6935,     0.69462,     0.69683,     0.69836,     0.69969,     0.70025,     0.70144,     0.70298,     0.70475,      0.7064,     0.70763,     0.70846,        0.71,     0.71106,     0.71275,     0.71628,     0.71766,\n",
       "            0.71753,     0.71863,      0.7188,      0.7201,     0.72255,     0.72323,     0.72477,     0.72563,     0.72623,     0.72722,     0.72757,     0.72786,     0.72812,     0.72925,     0.72999,     0.73076,     0.73347,     0.73465,     0.73571,     0.73644,     0.73711,     0.73853,     0.73994,\n",
       "            0.74124,     0.74393,     0.74437,     0.74542,     0.74662,     0.74826,     0.74771,     0.74836,     0.74954,     0.75007,     0.75061,     0.75132,     0.75157,     0.75207,     0.75265,     0.75193,     0.75263,     0.75416,     0.75528,     0.75467,     0.75599,     0.75678,     0.75816,\n",
       "            0.75889,     0.75975,     0.76002,     0.76057,     0.76097,     0.76123,     0.76154,     0.76211,     0.76293,      0.7635,     0.76412,     0.76389,     0.76461,     0.76519,     0.76614,     0.76672,     0.76727,      0.7686,     0.76952,     0.76982,     0.77097,     0.77128,     0.77146,\n",
       "            0.77287,     0.77327,     0.77444,     0.77461,     0.77516,     0.77538,     0.77571,     0.77606,     0.77639,     0.77664,     0.77633,     0.77721,     0.77764,      0.7781,     0.77856,     0.77918,     0.77854,     0.77957,     0.77996,      0.7802,     0.78056,     0.78087,     0.78115,\n",
       "            0.78173,     0.78199,     0.78213,      0.7822,     0.78208,     0.78292,      0.7833,     0.78358,      0.7838,     0.78345,     0.78314,     0.78381,     0.78405,     0.78421,     0.78407,     0.78402,     0.78393,     0.78364,     0.78383,     0.78398,     0.78441,     0.78483,     0.78571,\n",
       "            0.78661,     0.78677,     0.78763,     0.78796,     0.78855,     0.78811,     0.78826,      0.7884,     0.78738,     0.78738,     0.78767,     0.78768,     0.78771,     0.78747,      0.7886,     0.78883,     0.78893,     0.78903,     0.78934,     0.78975,     0.78928,     0.78919,     0.78933,\n",
       "            0.78972,     0.78963,     0.79009,      0.7905,     0.79087,     0.79153,     0.79173,     0.79218,     0.79232,     0.79247,     0.79276,     0.79311,     0.79368,     0.79435,     0.79508,     0.79599,     0.79627,     0.79563,     0.79588,     0.79644,     0.79614,     0.79612,     0.79629,\n",
       "            0.79642,     0.79654,     0.79666,     0.79692,     0.79639,     0.79601,     0.79584,       0.796,     0.79624,     0.79656,     0.79675,     0.79687,     0.79693,     0.79699,     0.79705,     0.79711,     0.79717,     0.79706,     0.79652,     0.79635,     0.79683,     0.79721,     0.79732,\n",
       "            0.79742,     0.79753,     0.79789,     0.79836,     0.79857,     0.79872,     0.79887,     0.79918,     0.79942,     0.79965,     0.80002,     0.80028,      0.8002,     0.79991,     0.79918,      0.7988,     0.79926,     0.79832,     0.79946,     0.80009,     0.80033,      0.8005,     0.80101,\n",
       "            0.80111,     0.80121,     0.80132,     0.80173,     0.80189,     0.80205,     0.80326,      0.8034,     0.80354,     0.80299,     0.80338,     0.80374,     0.80414,     0.80531,     0.80605,     0.80643,     0.80717,      0.8074,     0.80705,     0.80658,     0.80664,     0.80638,     0.80612,\n",
       "            0.80637,     0.80658,     0.80676,     0.80674,     0.80634,     0.80665,     0.80683,     0.80699,     0.80722,     0.80758,     0.80767,     0.80729,     0.80752,     0.80783,      0.8089,     0.80946,      0.8103,     0.80941,     0.81037,     0.81079,     0.81138,     0.81176,     0.81195,\n",
       "            0.81091,     0.81104,     0.81118,     0.81183,     0.81155,     0.81182,     0.81139,     0.81091,     0.81046,     0.81066,     0.81063,      0.8101,     0.81039,     0.81066,     0.81048,      0.8103,     0.81003,     0.80903,     0.80922,     0.80927,     0.80888,     0.80865,     0.80844,\n",
       "            0.80859,     0.80874,     0.80892,     0.80915,     0.80854,     0.80815,     0.80768,     0.80736,     0.80718,       0.807,     0.80675,     0.80641,     0.80651,     0.80655,     0.80625,     0.80618,     0.80585,     0.80442,     0.80402,     0.80501,     0.80479,     0.80457,      0.8047,\n",
       "            0.80486,     0.80482,     0.80455,     0.80323,     0.80325,     0.80324,     0.80298,     0.80329,     0.80376,     0.80394,     0.80356,     0.80331,     0.80339,     0.80316,     0.80246,     0.80266,     0.80291,     0.80363,     0.80391,     0.80359,     0.80369,     0.80345,     0.80342,\n",
       "            0.80311,      0.8029,     0.80269,     0.80205,     0.80238,     0.80284,     0.80352,     0.80372,     0.80369,     0.80338,      0.8028,     0.80306,     0.80353,      0.8038,     0.80408,     0.80375,     0.80375,     0.80267,     0.80152,     0.80151,     0.80074,     0.80049,     0.80035,\n",
       "             0.8002,     0.80005,     0.80011,     0.80027,     0.80044,     0.80061,     0.80078,     0.80074,     0.80064,     0.80054,     0.80044,     0.80034,     0.80024,     0.80003,     0.80018,     0.80033,     0.80133,     0.80187,     0.80156,     0.80189,     0.80205,      0.8022,     0.80147,\n",
       "            0.80168,      0.8018,     0.80154,     0.80129,     0.80176,     0.80218,     0.80256,     0.80284,     0.80234,     0.80272,     0.80281,     0.80291,       0.803,     0.80308,     0.80288,     0.80256,     0.80216,     0.80208,     0.80224,     0.80239,      0.8026,     0.80289,     0.80317,\n",
       "            0.80311,     0.80356,     0.80398,     0.80405,     0.80412,     0.80419,     0.80427,     0.80434,     0.80466,     0.80497,     0.80465,     0.80462,     0.80468,     0.80474,      0.8048,     0.80487,     0.80493,     0.80499,     0.80526,     0.80582,     0.80604,     0.80623,     0.80565,\n",
       "            0.80593,     0.80656,     0.80434,     0.80391,     0.80414,     0.80382,     0.80404,     0.80431,     0.80517,      0.8056,     0.80603,     0.80662,     0.80665,     0.80694,     0.80637,      0.8065,     0.80667,     0.80654,     0.80608,     0.80559,     0.80577,     0.80578,     0.80516,\n",
       "            0.80494,     0.80472,     0.80368,     0.80339,     0.80265,     0.80161,     0.80128,     0.80111,     0.80126,      0.8014,     0.80096,     0.79981,     0.79997,     0.79904,      0.7987,     0.79819,     0.79841,     0.79825,     0.79731,     0.79783,     0.79786,     0.79682,     0.79704,\n",
       "            0.79706,     0.79622,     0.79665,     0.79621,     0.79562,     0.79622,     0.79576,     0.79557,     0.79544,      0.7953,     0.79517,     0.79503,     0.79434,     0.79349,     0.79312,     0.79356,     0.79385,     0.79336,      0.7936,     0.79316,     0.79339,     0.79294,     0.79276,\n",
       "            0.79273,     0.79288,     0.79303,     0.79276,     0.79242,     0.79255,     0.79273,     0.79227,     0.79249,     0.79236,     0.79195,     0.79217,     0.79242,     0.79262,     0.79181,     0.79035,     0.78832,       0.788,     0.78808,     0.78816,     0.78824,     0.78833,     0.78789,\n",
       "            0.78675,     0.78641,     0.78596,     0.78484,     0.78438,     0.78388,     0.78191,     0.78199,     0.78077,     0.78111,     0.78065,     0.78106,     0.78129,     0.77951,     0.77942,     0.77913,     0.77936,     0.77908,       0.778,     0.77753,     0.77772,     0.77726,     0.77637,\n",
       "            0.77596,      0.7756,     0.77354,     0.77318,     0.77282,     0.77235,     0.77145,     0.77121,     0.77098,     0.76957,     0.76959,     0.76923,     0.76852,     0.76764,     0.76665,     0.76618,      0.7655,     0.76408,     0.76358,      0.7631,     0.76262,     0.76144,     0.75978,\n",
       "            0.75913,     0.75945,     0.75932,     0.75919,     0.75906,     0.75892,     0.75868,     0.75801,     0.75753,     0.75746,     0.75747,      0.7578,     0.75756,     0.75731,     0.75697,      0.7566,     0.75622,     0.75606,      0.7559,     0.75574,     0.75562,     0.75521,     0.75532,\n",
       "            0.75544,     0.75458,     0.75334,     0.75195,     0.75158,     0.75023,      0.7497,     0.74949,     0.74927,     0.74889,     0.74828,     0.74791,     0.74708,     0.74669,     0.74639,     0.74612,     0.74587,     0.74562,     0.74523,     0.74474,     0.74424,     0.74249,     0.74118,\n",
       "            0.74147,     0.74115,     0.74065,     0.73923,      0.7381,     0.73735,     0.73634,     0.73546,     0.73562,     0.73548,      0.7345,      0.7333,     0.73028,     0.72876,     0.72799,     0.72647,     0.72579,     0.72609,     0.72571,     0.72562,     0.72523,     0.72485,     0.72446,\n",
       "            0.72421,     0.72362,     0.72246,     0.72253,     0.72058,     0.71796,     0.71555,     0.71557,     0.71419,     0.71379,     0.71272,     0.71252,     0.71233,     0.71213,     0.71157,     0.70726,     0.70572,     0.70519,     0.70433,     0.70333,     0.70186,     0.70154,     0.70121,\n",
       "            0.70003,     0.69963,     0.69688,     0.69573,      0.6952,     0.69445,     0.69205,     0.69123,      0.6904,     0.68958,     0.68754,     0.68662,     0.68402,     0.68247,     0.68137,     0.68078,     0.68053,     0.67866,     0.67722,     0.67528,     0.67321,     0.67179,      0.6701,\n",
       "            0.66757,     0.66424,     0.66243,     0.65907,     0.65738,     0.65731,     0.65552,     0.65332,     0.64983,      0.6471,     0.64701,     0.64445,     0.64329,     0.64193,     0.64188,     0.63985,     0.63894,     0.63805,      0.6362,     0.63462,     0.63021,     0.62776,      0.6272,\n",
       "            0.62329,     0.62098,     0.62044,     0.61998,     0.61572,     0.61231,     0.61144,     0.61016,     0.60816,     0.60614,     0.60258,     0.59855,     0.59573,     0.59279,     0.59084,     0.58409,     0.58342,     0.58276,     0.57877,     0.57772,     0.57379,      0.5708,      0.5678,\n",
       "            0.56577,     0.56102,     0.56009,     0.55201,     0.54931,     0.54557,      0.5373,     0.53633,     0.53173,     0.52833,     0.52369,     0.52297,     0.51465,     0.50924,     0.50162,     0.49332,     0.48947,     0.47942,     0.46924,     0.46349,     0.45886,     0.45603,     0.44789,\n",
       "            0.44477,     0.43938,     0.43439,     0.42837,     0.42351,     0.41409,     0.40545,     0.39921,     0.39447,     0.38307,     0.37665,     0.36888,     0.36031,     0.35443,     0.35173,     0.33838,     0.33024,     0.31929,     0.31647,     0.30712,     0.30432,     0.29563,     0.29132,\n",
       "            0.28445,      0.2812,     0.26666,     0.26074,     0.25624,     0.23677,     0.22759,     0.21831,     0.20582,     0.20017,     0.19466,     0.18823,     0.17854,     0.17361,      0.1654,     0.15049,     0.14374,     0.13525,     0.11985,     0.11287,      0.1071,    0.097011,      0.0934,\n",
       "           0.084447,    0.078999,    0.071439,    0.062557,    0.061271,    0.060335,    0.054815,    0.050266,    0.047451,    0.036219,    0.034209,    0.029544,     0.02836,    0.027714,    0.027068,    0.022403,    0.016589,    0.012663,     0.01102,    0.010232,   0.0085279,   0.0053601,   0.0047938,\n",
       "          0.0042271,   0.0038267,   0.0036898,   0.0035529,    0.003416,   0.0032791,   0.0031421,   0.0030052,   0.0028682,   0.0027311,   0.0025941,   0.0024571,     0.00232,   0.0021829,   0.0020458,           0,           0,           0,           0,           0,           0,           0,           0,\n",
       "                  0,           0,           0,           0,           0,           0,           0,           0,           0,           0,           0,           0,           0,           0,           0,           0,           0,           0,           0,           0,           0,           0,           0,\n",
       "                  0,           0,           0,           0,           0,           0,           0,           0,           0,           0,           0,           0,           0,           0,           0,           0,           0,           0,           0,           0,           0,           0,           0,\n",
       "                  0,           0,           0,           0,           0,           0,           0,           0,           0,           0,           0,           0,           0,           0,           0,           0,           0,           0,           0,           0,           0,           0,           0,\n",
       "                  0,           0,           0,           0,           0,           0,           0,           0,           0,           0,           0,           0,           0,           0,           0,           0,           0,           0,           0,           0,           0,           0,           0,\n",
       "                  0,           0,           0,           0,           0,           0,           0,           0,           0,           0,           0]]), 'Confidence', 'F1'], [array([          0,    0.001001,    0.002002,    0.003003,    0.004004,    0.005005,    0.006006,    0.007007,    0.008008,    0.009009,     0.01001,    0.011011,    0.012012,    0.013013,    0.014014,    0.015015,    0.016016,    0.017017,    0.018018,    0.019019,     0.02002,    0.021021,    0.022022,    0.023023,\n",
       "          0.024024,    0.025025,    0.026026,    0.027027,    0.028028,    0.029029,     0.03003,    0.031031,    0.032032,    0.033033,    0.034034,    0.035035,    0.036036,    0.037037,    0.038038,    0.039039,     0.04004,    0.041041,    0.042042,    0.043043,    0.044044,    0.045045,    0.046046,    0.047047,\n",
       "          0.048048,    0.049049,     0.05005,    0.051051,    0.052052,    0.053053,    0.054054,    0.055055,    0.056056,    0.057057,    0.058058,    0.059059,     0.06006,    0.061061,    0.062062,    0.063063,    0.064064,    0.065065,    0.066066,    0.067067,    0.068068,    0.069069,     0.07007,    0.071071,\n",
       "          0.072072,    0.073073,    0.074074,    0.075075,    0.076076,    0.077077,    0.078078,    0.079079,     0.08008,    0.081081,    0.082082,    0.083083,    0.084084,    0.085085,    0.086086,    0.087087,    0.088088,    0.089089,     0.09009,    0.091091,    0.092092,    0.093093,    0.094094,    0.095095,\n",
       "          0.096096,    0.097097,    0.098098,    0.099099,      0.1001,      0.1011,      0.1021,      0.1031,      0.1041,     0.10511,     0.10611,     0.10711,     0.10811,     0.10911,     0.11011,     0.11111,     0.11211,     0.11311,     0.11411,     0.11512,     0.11612,     0.11712,     0.11812,     0.11912,\n",
       "           0.12012,     0.12112,     0.12212,     0.12312,     0.12412,     0.12513,     0.12613,     0.12713,     0.12813,     0.12913,     0.13013,     0.13113,     0.13213,     0.13313,     0.13413,     0.13514,     0.13614,     0.13714,     0.13814,     0.13914,     0.14014,     0.14114,     0.14214,     0.14314,\n",
       "           0.14414,     0.14515,     0.14615,     0.14715,     0.14815,     0.14915,     0.15015,     0.15115,     0.15215,     0.15315,     0.15415,     0.15516,     0.15616,     0.15716,     0.15816,     0.15916,     0.16016,     0.16116,     0.16216,     0.16316,     0.16416,     0.16517,     0.16617,     0.16717,\n",
       "           0.16817,     0.16917,     0.17017,     0.17117,     0.17217,     0.17317,     0.17417,     0.17518,     0.17618,     0.17718,     0.17818,     0.17918,     0.18018,     0.18118,     0.18218,     0.18318,     0.18418,     0.18519,     0.18619,     0.18719,     0.18819,     0.18919,     0.19019,     0.19119,\n",
       "           0.19219,     0.19319,     0.19419,      0.1952,      0.1962,      0.1972,      0.1982,      0.1992,      0.2002,      0.2012,      0.2022,      0.2032,      0.2042,     0.20521,     0.20621,     0.20721,     0.20821,     0.20921,     0.21021,     0.21121,     0.21221,     0.21321,     0.21421,     0.21522,\n",
       "           0.21622,     0.21722,     0.21822,     0.21922,     0.22022,     0.22122,     0.22222,     0.22322,     0.22422,     0.22523,     0.22623,     0.22723,     0.22823,     0.22923,     0.23023,     0.23123,     0.23223,     0.23323,     0.23423,     0.23524,     0.23624,     0.23724,     0.23824,     0.23924,\n",
       "           0.24024,     0.24124,     0.24224,     0.24324,     0.24424,     0.24525,     0.24625,     0.24725,     0.24825,     0.24925,     0.25025,     0.25125,     0.25225,     0.25325,     0.25425,     0.25526,     0.25626,     0.25726,     0.25826,     0.25926,     0.26026,     0.26126,     0.26226,     0.26326,\n",
       "           0.26426,     0.26527,     0.26627,     0.26727,     0.26827,     0.26927,     0.27027,     0.27127,     0.27227,     0.27327,     0.27427,     0.27528,     0.27628,     0.27728,     0.27828,     0.27928,     0.28028,     0.28128,     0.28228,     0.28328,     0.28428,     0.28529,     0.28629,     0.28729,\n",
       "           0.28829,     0.28929,     0.29029,     0.29129,     0.29229,     0.29329,     0.29429,      0.2953,      0.2963,      0.2973,      0.2983,      0.2993,      0.3003,      0.3013,      0.3023,      0.3033,      0.3043,     0.30531,     0.30631,     0.30731,     0.30831,     0.30931,     0.31031,     0.31131,\n",
       "           0.31231,     0.31331,     0.31431,     0.31532,     0.31632,     0.31732,     0.31832,     0.31932,     0.32032,     0.32132,     0.32232,     0.32332,     0.32432,     0.32533,     0.32633,     0.32733,     0.32833,     0.32933,     0.33033,     0.33133,     0.33233,     0.33333,     0.33433,     0.33534,\n",
       "           0.33634,     0.33734,     0.33834,     0.33934,     0.34034,     0.34134,     0.34234,     0.34334,     0.34434,     0.34535,     0.34635,     0.34735,     0.34835,     0.34935,     0.35035,     0.35135,     0.35235,     0.35335,     0.35435,     0.35536,     0.35636,     0.35736,     0.35836,     0.35936,\n",
       "           0.36036,     0.36136,     0.36236,     0.36336,     0.36436,     0.36537,     0.36637,     0.36737,     0.36837,     0.36937,     0.37037,     0.37137,     0.37237,     0.37337,     0.37437,     0.37538,     0.37638,     0.37738,     0.37838,     0.37938,     0.38038,     0.38138,     0.38238,     0.38338,\n",
       "           0.38438,     0.38539,     0.38639,     0.38739,     0.38839,     0.38939,     0.39039,     0.39139,     0.39239,     0.39339,     0.39439,      0.3954,      0.3964,      0.3974,      0.3984,      0.3994,      0.4004,      0.4014,      0.4024,      0.4034,      0.4044,     0.40541,     0.40641,     0.40741,\n",
       "           0.40841,     0.40941,     0.41041,     0.41141,     0.41241,     0.41341,     0.41441,     0.41542,     0.41642,     0.41742,     0.41842,     0.41942,     0.42042,     0.42142,     0.42242,     0.42342,     0.42442,     0.42543,     0.42643,     0.42743,     0.42843,     0.42943,     0.43043,     0.43143,\n",
       "           0.43243,     0.43343,     0.43443,     0.43544,     0.43644,     0.43744,     0.43844,     0.43944,     0.44044,     0.44144,     0.44244,     0.44344,     0.44444,     0.44545,     0.44645,     0.44745,     0.44845,     0.44945,     0.45045,     0.45145,     0.45245,     0.45345,     0.45445,     0.45546,\n",
       "           0.45646,     0.45746,     0.45846,     0.45946,     0.46046,     0.46146,     0.46246,     0.46346,     0.46446,     0.46547,     0.46647,     0.46747,     0.46847,     0.46947,     0.47047,     0.47147,     0.47247,     0.47347,     0.47447,     0.47548,     0.47648,     0.47748,     0.47848,     0.47948,\n",
       "           0.48048,     0.48148,     0.48248,     0.48348,     0.48448,     0.48549,     0.48649,     0.48749,     0.48849,     0.48949,     0.49049,     0.49149,     0.49249,     0.49349,     0.49449,      0.4955,      0.4965,      0.4975,      0.4985,      0.4995,      0.5005,      0.5015,      0.5025,      0.5035,\n",
       "            0.5045,     0.50551,     0.50651,     0.50751,     0.50851,     0.50951,     0.51051,     0.51151,     0.51251,     0.51351,     0.51451,     0.51552,     0.51652,     0.51752,     0.51852,     0.51952,     0.52052,     0.52152,     0.52252,     0.52352,     0.52452,     0.52553,     0.52653,     0.52753,\n",
       "           0.52853,     0.52953,     0.53053,     0.53153,     0.53253,     0.53353,     0.53453,     0.53554,     0.53654,     0.53754,     0.53854,     0.53954,     0.54054,     0.54154,     0.54254,     0.54354,     0.54454,     0.54555,     0.54655,     0.54755,     0.54855,     0.54955,     0.55055,     0.55155,\n",
       "           0.55255,     0.55355,     0.55455,     0.55556,     0.55656,     0.55756,     0.55856,     0.55956,     0.56056,     0.56156,     0.56256,     0.56356,     0.56456,     0.56557,     0.56657,     0.56757,     0.56857,     0.56957,     0.57057,     0.57157,     0.57257,     0.57357,     0.57457,     0.57558,\n",
       "           0.57658,     0.57758,     0.57858,     0.57958,     0.58058,     0.58158,     0.58258,     0.58358,     0.58458,     0.58559,     0.58659,     0.58759,     0.58859,     0.58959,     0.59059,     0.59159,     0.59259,     0.59359,     0.59459,      0.5956,      0.5966,      0.5976,      0.5986,      0.5996,\n",
       "            0.6006,      0.6016,      0.6026,      0.6036,      0.6046,     0.60561,     0.60661,     0.60761,     0.60861,     0.60961,     0.61061,     0.61161,     0.61261,     0.61361,     0.61461,     0.61562,     0.61662,     0.61762,     0.61862,     0.61962,     0.62062,     0.62162,     0.62262,     0.62362,\n",
       "           0.62462,     0.62563,     0.62663,     0.62763,     0.62863,     0.62963,     0.63063,     0.63163,     0.63263,     0.63363,     0.63463,     0.63564,     0.63664,     0.63764,     0.63864,     0.63964,     0.64064,     0.64164,     0.64264,     0.64364,     0.64464,     0.64565,     0.64665,     0.64765,\n",
       "           0.64865,     0.64965,     0.65065,     0.65165,     0.65265,     0.65365,     0.65465,     0.65566,     0.65666,     0.65766,     0.65866,     0.65966,     0.66066,     0.66166,     0.66266,     0.66366,     0.66466,     0.66567,     0.66667,     0.66767,     0.66867,     0.66967,     0.67067,     0.67167,\n",
       "           0.67267,     0.67367,     0.67467,     0.67568,     0.67668,     0.67768,     0.67868,     0.67968,     0.68068,     0.68168,     0.68268,     0.68368,     0.68468,     0.68569,     0.68669,     0.68769,     0.68869,     0.68969,     0.69069,     0.69169,     0.69269,     0.69369,     0.69469,      0.6957,\n",
       "            0.6967,      0.6977,      0.6987,      0.6997,      0.7007,      0.7017,      0.7027,      0.7037,      0.7047,     0.70571,     0.70671,     0.70771,     0.70871,     0.70971,     0.71071,     0.71171,     0.71271,     0.71371,     0.71471,     0.71572,     0.71672,     0.71772,     0.71872,     0.71972,\n",
       "           0.72072,     0.72172,     0.72272,     0.72372,     0.72472,     0.72573,     0.72673,     0.72773,     0.72873,     0.72973,     0.73073,     0.73173,     0.73273,     0.73373,     0.73473,     0.73574,     0.73674,     0.73774,     0.73874,     0.73974,     0.74074,     0.74174,     0.74274,     0.74374,\n",
       "           0.74474,     0.74575,     0.74675,     0.74775,     0.74875,     0.74975,     0.75075,     0.75175,     0.75275,     0.75375,     0.75475,     0.75576,     0.75676,     0.75776,     0.75876,     0.75976,     0.76076,     0.76176,     0.76276,     0.76376,     0.76476,     0.76577,     0.76677,     0.76777,\n",
       "           0.76877,     0.76977,     0.77077,     0.77177,     0.77277,     0.77377,     0.77477,     0.77578,     0.77678,     0.77778,     0.77878,     0.77978,     0.78078,     0.78178,     0.78278,     0.78378,     0.78478,     0.78579,     0.78679,     0.78779,     0.78879,     0.78979,     0.79079,     0.79179,\n",
       "           0.79279,     0.79379,     0.79479,      0.7958,      0.7968,      0.7978,      0.7988,      0.7998,      0.8008,      0.8018,      0.8028,      0.8038,      0.8048,     0.80581,     0.80681,     0.80781,     0.80881,     0.80981,     0.81081,     0.81181,     0.81281,     0.81381,     0.81481,     0.81582,\n",
       "           0.81682,     0.81782,     0.81882,     0.81982,     0.82082,     0.82182,     0.82282,     0.82382,     0.82482,     0.82583,     0.82683,     0.82783,     0.82883,     0.82983,     0.83083,     0.83183,     0.83283,     0.83383,     0.83483,     0.83584,     0.83684,     0.83784,     0.83884,     0.83984,\n",
       "           0.84084,     0.84184,     0.84284,     0.84384,     0.84484,     0.84585,     0.84685,     0.84785,     0.84885,     0.84985,     0.85085,     0.85185,     0.85285,     0.85385,     0.85485,     0.85586,     0.85686,     0.85786,     0.85886,     0.85986,     0.86086,     0.86186,     0.86286,     0.86386,\n",
       "           0.86486,     0.86587,     0.86687,     0.86787,     0.86887,     0.86987,     0.87087,     0.87187,     0.87287,     0.87387,     0.87487,     0.87588,     0.87688,     0.87788,     0.87888,     0.87988,     0.88088,     0.88188,     0.88288,     0.88388,     0.88488,     0.88589,     0.88689,     0.88789,\n",
       "           0.88889,     0.88989,     0.89089,     0.89189,     0.89289,     0.89389,     0.89489,      0.8959,      0.8969,      0.8979,      0.8989,      0.8999,      0.9009,      0.9019,      0.9029,      0.9039,      0.9049,     0.90591,     0.90691,     0.90791,     0.90891,     0.90991,     0.91091,     0.91191,\n",
       "           0.91291,     0.91391,     0.91491,     0.91592,     0.91692,     0.91792,     0.91892,     0.91992,     0.92092,     0.92192,     0.92292,     0.92392,     0.92492,     0.92593,     0.92693,     0.92793,     0.92893,     0.92993,     0.93093,     0.93193,     0.93293,     0.93393,     0.93493,     0.93594,\n",
       "           0.93694,     0.93794,     0.93894,     0.93994,     0.94094,     0.94194,     0.94294,     0.94394,     0.94494,     0.94595,     0.94695,     0.94795,     0.94895,     0.94995,     0.95095,     0.95195,     0.95295,     0.95395,     0.95495,     0.95596,     0.95696,     0.95796,     0.95896,     0.95996,\n",
       "           0.96096,     0.96196,     0.96296,     0.96396,     0.96496,     0.96597,     0.96697,     0.96797,     0.96897,     0.96997,     0.97097,     0.97197,     0.97297,     0.97397,     0.97497,     0.97598,     0.97698,     0.97798,     0.97898,     0.97998,     0.98098,     0.98198,     0.98298,     0.98398,\n",
       "           0.98498,     0.98599,     0.98699,     0.98799,     0.98899,     0.98999,     0.99099,     0.99199,     0.99299,     0.99399,     0.99499,       0.996,       0.997,       0.998,       0.999,           1]), array([[     0.1568,      0.1568,     0.20225,     0.23246,     0.25478,     0.27551,     0.29378,     0.30805,     0.32263,     0.33377,     0.34493,     0.35573,     0.36677,     0.37734,     0.38733,     0.39546,     0.40169,     0.40979,      0.4171,     0.42458,     0.43193,      0.4383,     0.44643,\n",
       "            0.45212,     0.45877,     0.46516,     0.47173,      0.4763,     0.48134,      0.4878,     0.49485,     0.50009,     0.50558,     0.51168,     0.51394,     0.51751,     0.52103,      0.5256,     0.52999,     0.53383,     0.53561,     0.53978,     0.54287,     0.54478,     0.54644,     0.55012,\n",
       "            0.55146,     0.55287,     0.55866,      0.5598,     0.56421,      0.5664,     0.56879,     0.57071,     0.57369,     0.57577,     0.57799,     0.57875,     0.58039,     0.58249,     0.58494,     0.58763,     0.58935,     0.59049,     0.59264,     0.59412,     0.59648,     0.60144,     0.60384,\n",
       "            0.60411,     0.60568,     0.60638,     0.60869,      0.6122,     0.61318,     0.61539,     0.61711,     0.61797,     0.61941,     0.61991,     0.62034,      0.6212,     0.62284,     0.62442,     0.62554,     0.62953,     0.63177,     0.63385,     0.63544,     0.63645,     0.63856,     0.64068,\n",
       "            0.64315,     0.64721,     0.64824,     0.65034,     0.65237,     0.65488,     0.65514,     0.65665,     0.65851,     0.65932,     0.66073,     0.66183,     0.66221,     0.66299,      0.6639,      0.6639,     0.66499,     0.66739,     0.66916,     0.66935,     0.67144,     0.67268,     0.67486,\n",
       "            0.67602,     0.67738,     0.67781,      0.6787,     0.67932,     0.67974,     0.68024,     0.68114,     0.68246,     0.68336,     0.68437,     0.68461,     0.68576,      0.6867,     0.68822,     0.68916,     0.69068,     0.69283,     0.69433,     0.69483,     0.69669,     0.69746,     0.69814,\n",
       "            0.70044,      0.7011,     0.70303,     0.70331,     0.70487,     0.70523,     0.70577,     0.70635,     0.70691,     0.70758,     0.70744,     0.70891,     0.70963,      0.7104,     0.71184,     0.71287,     0.71314,     0.71487,     0.71553,     0.71594,     0.71653,     0.71706,     0.71754,\n",
       "            0.71851,     0.71896,      0.7192,     0.71939,     0.71979,     0.72122,     0.72187,     0.72234,     0.72272,     0.72257,     0.72297,     0.72412,     0.72453,     0.72514,     0.72553,     0.72588,     0.72638,     0.72664,     0.72696,     0.72722,     0.72797,     0.72869,     0.73022,\n",
       "            0.73177,     0.73205,     0.73353,     0.73411,     0.73513,      0.7351,     0.73535,      0.7356,     0.73573,     0.73602,     0.73653,     0.73728,     0.73826,      0.7384,     0.74039,     0.74079,     0.74096,     0.74114,     0.74168,     0.74241,      0.7428,     0.74292,     0.74317,\n",
       "            0.74387,     0.74446,     0.74528,     0.74601,     0.74668,     0.74786,     0.74821,     0.74901,     0.74928,     0.74954,     0.75005,     0.75068,     0.75249,     0.75369,       0.755,     0.75665,     0.75715,     0.75757,     0.75803,     0.75938,     0.75927,     0.75979,     0.76037,\n",
       "            0.76061,     0.76083,     0.76105,     0.76169,     0.76149,     0.76135,     0.76199,     0.76227,     0.76271,      0.7633,     0.76365,     0.76387,     0.76398,     0.76409,      0.7642,     0.76431,     0.76442,     0.76444,     0.76424,     0.76456,     0.76545,     0.76614,     0.76634,\n",
       "            0.76654,     0.76674,     0.76804,      0.7691,     0.76949,     0.76977,     0.77006,     0.77062,     0.77107,     0.77149,     0.77219,     0.77267,     0.77279,     0.77268,     0.77241,     0.77227,     0.77357,     0.77324,     0.77539,     0.77658,     0.77702,     0.77735,     0.77831,\n",
       "             0.7785,      0.7787,     0.77889,     0.77968,     0.77997,     0.78027,     0.78257,     0.78284,     0.78311,     0.78381,     0.78456,     0.78524,     0.78602,     0.78825,     0.78967,     0.79039,     0.79182,     0.79226,      0.7922,     0.79204,     0.79267,     0.79258,     0.79249,\n",
       "            0.79298,      0.7934,     0.79374,     0.79393,     0.79383,     0.79445,      0.7948,     0.79511,     0.79554,     0.79624,     0.79672,      0.7966,     0.79704,     0.79766,     0.79975,     0.80084,     0.80249,     0.80261,     0.80449,     0.80534,      0.8065,     0.80725,     0.80768,\n",
       "            0.80747,     0.80773,       0.808,      0.8093,     0.80969,     0.81023,     0.81012,     0.81129,      0.8114,     0.81181,     0.81254,     0.81263,     0.81323,     0.81389,     0.81383,     0.81377,     0.81369,     0.81337,     0.81382,     0.81412,       0.814,     0.81466,     0.81525,\n",
       "            0.81555,     0.81585,     0.81622,      0.8167,     0.81662,      0.8165,     0.81635,     0.81625,      0.8162,     0.81614,     0.81606,     0.81596,     0.81637,     0.81669,      0.8166,     0.81774,     0.81786,     0.81741,     0.81729,      0.8197,     0.81963,     0.81956,     0.81987,\n",
       "             0.8202,     0.82034,     0.82026,     0.81995,     0.82057,     0.82104,     0.82155,      0.8222,     0.82318,     0.82436,     0.82424,     0.82417,     0.82456,     0.82485,     0.82475,     0.82518,     0.82571,     0.82724,     0.82782,     0.82789,     0.82844,     0.82859,     0.83007,\n",
       "            0.83071,     0.83065,     0.83059,     0.83046,     0.83117,     0.83329,     0.83475,     0.83519,     0.83539,      0.8353,     0.83513,     0.83603,     0.83704,     0.83764,     0.83825,     0.83847,     0.83981,     0.83971,     0.83957,     0.84017,     0.83995,     0.83988,     0.83984,\n",
       "             0.8398,     0.83976,     0.83998,     0.84035,     0.84072,     0.84109,     0.84146,     0.84152,     0.84149,     0.84146,     0.84144,     0.84141,     0.84138,     0.84217,      0.8425,     0.84284,     0.84507,     0.84626,     0.84677,     0.84751,     0.84786,      0.8482,     0.84899,\n",
       "            0.84946,     0.84982,     0.84976,     0.84969,     0.85087,     0.85182,     0.85267,     0.85331,     0.85325,     0.85425,     0.85447,     0.85468,     0.85489,      0.8551,     0.85588,      0.8558,      0.8557,     0.85655,      0.8569,     0.85726,     0.85773,     0.85838,     0.85903,\n",
       "            0.86017,     0.86118,     0.86216,     0.86232,     0.86249,     0.86265,     0.86281,     0.86298,     0.86371,      0.8649,     0.86482,     0.86491,     0.86505,      0.8652,     0.86534,     0.86548,     0.86562,     0.86576,     0.86639,     0.86769,     0.86821,     0.86868,     0.86858,\n",
       "            0.86925,     0.87072,     0.87088,     0.87078,     0.87295,     0.87354,     0.87405,     0.87469,     0.87672,     0.87775,     0.87878,     0.88018,      0.8816,     0.88229,     0.88223,     0.88261,     0.88303,     0.88319,     0.88309,      0.8832,     0.88362,     0.88396,     0.88383,\n",
       "            0.88378,     0.88373,     0.88445,     0.88484,     0.88518,     0.88496,     0.88489,     0.88496,     0.88531,     0.88567,     0.88577,     0.88553,     0.88645,     0.88632,     0.88625,      0.8864,     0.88694,     0.88712,     0.88714,     0.88841,     0.88898,     0.88886,      0.8894,\n",
       "            0.88979,     0.88962,     0.89167,     0.89158,      0.8918,      0.8933,     0.89348,     0.89344,     0.89341,     0.89339,     0.89336,     0.89333,     0.89319,     0.89303,     0.89304,     0.89416,      0.8951,     0.89517,     0.89606,      0.8962,     0.89704,     0.89695,     0.89794,\n",
       "            0.89821,     0.89859,     0.89896,     0.89896,      0.8989,     0.89931,     0.89976,     0.90015,     0.90072,     0.90095,      0.9009,     0.90148,     0.90211,     0.90307,     0.90397,      0.9037,     0.90334,     0.90342,     0.90363,     0.90384,     0.90405,     0.90427,     0.90431,\n",
       "            0.90411,     0.90405,     0.90396,     0.90376,     0.90368,     0.90573,     0.90542,     0.90756,     0.90744,      0.9085,     0.90842,     0.90995,     0.91055,      0.9109,     0.91152,     0.91162,     0.91222,     0.91257,     0.91239,     0.91231,     0.91347,     0.91339,     0.91437,\n",
       "            0.91431,     0.91425,     0.91391,     0.91385,     0.91379,     0.91371,     0.91356,     0.91352,     0.91348,     0.91368,      0.9144,     0.91434,     0.91538,     0.91523,     0.91507,     0.91499,     0.91488,     0.91465,     0.91456,     0.91448,      0.9144,     0.91421,     0.91393,\n",
       "            0.91392,     0.91506,     0.91503,     0.91501,     0.91499,     0.91497,     0.91493,     0.91482,     0.91474,     0.91592,     0.91686,     0.91836,     0.91833,     0.91829,     0.91823,     0.91817,     0.91932,      0.9193,     0.91927,     0.91924,     0.91933,     0.92038,     0.92284,\n",
       "            0.92533,      0.9252,     0.92502,     0.92481,     0.92476,     0.92456,     0.92448,     0.92445,     0.92441,     0.92436,     0.92427,     0.92421,     0.92409,     0.92403,     0.92398,     0.92394,      0.9239,     0.92387,     0.92381,     0.92373,     0.92366,     0.92339,     0.92334,\n",
       "            0.92425,     0.92575,     0.92567,     0.92546,      0.9253,     0.92519,     0.92503,      0.9249,      0.9257,     0.92621,     0.92664,      0.9272,     0.92676,     0.92653,     0.92642,      0.9262,     0.92618,     0.92714,     0.92742,     0.92875,      0.9287,     0.92864,     0.92859,\n",
       "             0.9299,      0.9309,     0.93189,     0.93455,      0.9363,     0.93596,     0.93564,     0.93706,     0.93689,     0.93683,      0.9367,     0.93667,     0.93664,     0.93662,     0.93655,     0.93599,     0.93578,     0.93571,     0.93705,     0.93839,      0.9382,     0.93816,     0.93812,\n",
       "            0.93797,     0.93792,     0.93756,     0.93741,     0.93875,     0.93874,     0.93995,     0.93985,     0.93974,     0.93964,     0.93938,     0.93927,     0.93894,     0.93874,      0.9386,     0.94164,     0.94238,     0.94295,     0.94278,     0.94255,       0.945,     0.94534,     0.94514,\n",
       "            0.94485,     0.94446,     0.94745,     0.94718,     0.94705,     0.95036,     0.95017,     0.95166,     0.95129,     0.95326,     0.95451,     0.95425,     0.95414,     0.95579,     0.95759,      0.9574,     0.95881,     0.96089,      0.9621,     0.96246,     0.96209,     0.96367,     0.96374,\n",
       "            0.96342,     0.96524,     0.96708,     0.96704,     0.96672,     0.96694,      0.9684,     0.96831,     0.96895,     0.97006,     0.96981,     0.96953,     0.96933,     0.96912,     0.96898,     0.96849,     0.97277,     0.97273,     0.97691,     0.97685,     0.97664,     0.97647,      0.9763,\n",
       "            0.97618,     0.97635,      0.9782,     0.97776,     0.98003,     0.98231,     0.98194,     0.98443,     0.98682,     0.98671,     0.98655,     0.98653,     0.98624,     0.98604,     0.98576,     0.98545,      0.9853,     0.98489,     0.98447,     0.98422,     0.98402,     0.98389,     0.98352,\n",
       "            0.98337,     0.98643,     0.98624,     0.98599,     0.98579,     0.98899,      0.9887,     0.98848,     0.99217,     0.99188,     0.99171,      0.9915,     0.99125,     0.99107,     0.99099,     0.99056,     0.99029,     0.98989,     0.98979,     0.99069,     0.99462,     0.99443,     0.99434,\n",
       "            0.99418,      0.9941,     0.99373,     0.99357,     0.99344,     0.99282,      0.9925,     0.99214,     0.99161,     0.99135,     0.99108,     0.99074,     0.99019,     0.98989,     0.98935,     0.98821,     0.98762,     0.98679,       0.985,     0.98403,     0.98313,     0.98131,     0.98056,\n",
       "            0.97845,     0.97693,     0.97446,      0.9708,     0.97019,     0.96973,     0.99643,           1,           1,           1,           1,           1,           1,           1,           1,           1,           1,           1,           1,           1,           1,           1,           1,\n",
       "                  1,           1,           1,           1,           1,           1,           1,           1,           1,           1,           1,           1,           1,           1,           1,           1,           1,           1,           1,           1,           1,           1,           1,\n",
       "                  1,           1,           1,           1,           1,           1,           1,           1,           1,           1,           1,           1,           1,           1,           1,           1,           1,           1,           1,           1,           1,           1,           1,\n",
       "                  1,           1,           1,           1,           1,           1,           1,           1,           1,           1,           1,           1,           1,           1,           1,           1,           1,           1,           1,           1,           1,           1,           1,\n",
       "                  1,           1,           1,           1,           1,           1,           1,           1,           1,           1,           1,           1,           1,           1,           1,           1,           1,           1,           1,           1,           1,           1,           1,\n",
       "                  1,           1,           1,           1,           1,           1,           1,           1,           1,           1,           1,           1,           1,           1,           1,           1,           1,           1,           1,           1,           1,           1,           1,\n",
       "                  1,           1,           1,           1,           1,           1,           1,           1,           1,           1,           1]]), 'Confidence', 'Precision'], [array([          0,    0.001001,    0.002002,    0.003003,    0.004004,    0.005005,    0.006006,    0.007007,    0.008008,    0.009009,     0.01001,    0.011011,    0.012012,    0.013013,    0.014014,    0.015015,    0.016016,    0.017017,    0.018018,    0.019019,     0.02002,    0.021021,    0.022022,    0.023023,\n",
       "          0.024024,    0.025025,    0.026026,    0.027027,    0.028028,    0.029029,     0.03003,    0.031031,    0.032032,    0.033033,    0.034034,    0.035035,    0.036036,    0.037037,    0.038038,    0.039039,     0.04004,    0.041041,    0.042042,    0.043043,    0.044044,    0.045045,    0.046046,    0.047047,\n",
       "          0.048048,    0.049049,     0.05005,    0.051051,    0.052052,    0.053053,    0.054054,    0.055055,    0.056056,    0.057057,    0.058058,    0.059059,     0.06006,    0.061061,    0.062062,    0.063063,    0.064064,    0.065065,    0.066066,    0.067067,    0.068068,    0.069069,     0.07007,    0.071071,\n",
       "          0.072072,    0.073073,    0.074074,    0.075075,    0.076076,    0.077077,    0.078078,    0.079079,     0.08008,    0.081081,    0.082082,    0.083083,    0.084084,    0.085085,    0.086086,    0.087087,    0.088088,    0.089089,     0.09009,    0.091091,    0.092092,    0.093093,    0.094094,    0.095095,\n",
       "          0.096096,    0.097097,    0.098098,    0.099099,      0.1001,      0.1011,      0.1021,      0.1031,      0.1041,     0.10511,     0.10611,     0.10711,     0.10811,     0.10911,     0.11011,     0.11111,     0.11211,     0.11311,     0.11411,     0.11512,     0.11612,     0.11712,     0.11812,     0.11912,\n",
       "           0.12012,     0.12112,     0.12212,     0.12312,     0.12412,     0.12513,     0.12613,     0.12713,     0.12813,     0.12913,     0.13013,     0.13113,     0.13213,     0.13313,     0.13413,     0.13514,     0.13614,     0.13714,     0.13814,     0.13914,     0.14014,     0.14114,     0.14214,     0.14314,\n",
       "           0.14414,     0.14515,     0.14615,     0.14715,     0.14815,     0.14915,     0.15015,     0.15115,     0.15215,     0.15315,     0.15415,     0.15516,     0.15616,     0.15716,     0.15816,     0.15916,     0.16016,     0.16116,     0.16216,     0.16316,     0.16416,     0.16517,     0.16617,     0.16717,\n",
       "           0.16817,     0.16917,     0.17017,     0.17117,     0.17217,     0.17317,     0.17417,     0.17518,     0.17618,     0.17718,     0.17818,     0.17918,     0.18018,     0.18118,     0.18218,     0.18318,     0.18418,     0.18519,     0.18619,     0.18719,     0.18819,     0.18919,     0.19019,     0.19119,\n",
       "           0.19219,     0.19319,     0.19419,      0.1952,      0.1962,      0.1972,      0.1982,      0.1992,      0.2002,      0.2012,      0.2022,      0.2032,      0.2042,     0.20521,     0.20621,     0.20721,     0.20821,     0.20921,     0.21021,     0.21121,     0.21221,     0.21321,     0.21421,     0.21522,\n",
       "           0.21622,     0.21722,     0.21822,     0.21922,     0.22022,     0.22122,     0.22222,     0.22322,     0.22422,     0.22523,     0.22623,     0.22723,     0.22823,     0.22923,     0.23023,     0.23123,     0.23223,     0.23323,     0.23423,     0.23524,     0.23624,     0.23724,     0.23824,     0.23924,\n",
       "           0.24024,     0.24124,     0.24224,     0.24324,     0.24424,     0.24525,     0.24625,     0.24725,     0.24825,     0.24925,     0.25025,     0.25125,     0.25225,     0.25325,     0.25425,     0.25526,     0.25626,     0.25726,     0.25826,     0.25926,     0.26026,     0.26126,     0.26226,     0.26326,\n",
       "           0.26426,     0.26527,     0.26627,     0.26727,     0.26827,     0.26927,     0.27027,     0.27127,     0.27227,     0.27327,     0.27427,     0.27528,     0.27628,     0.27728,     0.27828,     0.27928,     0.28028,     0.28128,     0.28228,     0.28328,     0.28428,     0.28529,     0.28629,     0.28729,\n",
       "           0.28829,     0.28929,     0.29029,     0.29129,     0.29229,     0.29329,     0.29429,      0.2953,      0.2963,      0.2973,      0.2983,      0.2993,      0.3003,      0.3013,      0.3023,      0.3033,      0.3043,     0.30531,     0.30631,     0.30731,     0.30831,     0.30931,     0.31031,     0.31131,\n",
       "           0.31231,     0.31331,     0.31431,     0.31532,     0.31632,     0.31732,     0.31832,     0.31932,     0.32032,     0.32132,     0.32232,     0.32332,     0.32432,     0.32533,     0.32633,     0.32733,     0.32833,     0.32933,     0.33033,     0.33133,     0.33233,     0.33333,     0.33433,     0.33534,\n",
       "           0.33634,     0.33734,     0.33834,     0.33934,     0.34034,     0.34134,     0.34234,     0.34334,     0.34434,     0.34535,     0.34635,     0.34735,     0.34835,     0.34935,     0.35035,     0.35135,     0.35235,     0.35335,     0.35435,     0.35536,     0.35636,     0.35736,     0.35836,     0.35936,\n",
       "           0.36036,     0.36136,     0.36236,     0.36336,     0.36436,     0.36537,     0.36637,     0.36737,     0.36837,     0.36937,     0.37037,     0.37137,     0.37237,     0.37337,     0.37437,     0.37538,     0.37638,     0.37738,     0.37838,     0.37938,     0.38038,     0.38138,     0.38238,     0.38338,\n",
       "           0.38438,     0.38539,     0.38639,     0.38739,     0.38839,     0.38939,     0.39039,     0.39139,     0.39239,     0.39339,     0.39439,      0.3954,      0.3964,      0.3974,      0.3984,      0.3994,      0.4004,      0.4014,      0.4024,      0.4034,      0.4044,     0.40541,     0.40641,     0.40741,\n",
       "           0.40841,     0.40941,     0.41041,     0.41141,     0.41241,     0.41341,     0.41441,     0.41542,     0.41642,     0.41742,     0.41842,     0.41942,     0.42042,     0.42142,     0.42242,     0.42342,     0.42442,     0.42543,     0.42643,     0.42743,     0.42843,     0.42943,     0.43043,     0.43143,\n",
       "           0.43243,     0.43343,     0.43443,     0.43544,     0.43644,     0.43744,     0.43844,     0.43944,     0.44044,     0.44144,     0.44244,     0.44344,     0.44444,     0.44545,     0.44645,     0.44745,     0.44845,     0.44945,     0.45045,     0.45145,     0.45245,     0.45345,     0.45445,     0.45546,\n",
       "           0.45646,     0.45746,     0.45846,     0.45946,     0.46046,     0.46146,     0.46246,     0.46346,     0.46446,     0.46547,     0.46647,     0.46747,     0.46847,     0.46947,     0.47047,     0.47147,     0.47247,     0.47347,     0.47447,     0.47548,     0.47648,     0.47748,     0.47848,     0.47948,\n",
       "           0.48048,     0.48148,     0.48248,     0.48348,     0.48448,     0.48549,     0.48649,     0.48749,     0.48849,     0.48949,     0.49049,     0.49149,     0.49249,     0.49349,     0.49449,      0.4955,      0.4965,      0.4975,      0.4985,      0.4995,      0.5005,      0.5015,      0.5025,      0.5035,\n",
       "            0.5045,     0.50551,     0.50651,     0.50751,     0.50851,     0.50951,     0.51051,     0.51151,     0.51251,     0.51351,     0.51451,     0.51552,     0.51652,     0.51752,     0.51852,     0.51952,     0.52052,     0.52152,     0.52252,     0.52352,     0.52452,     0.52553,     0.52653,     0.52753,\n",
       "           0.52853,     0.52953,     0.53053,     0.53153,     0.53253,     0.53353,     0.53453,     0.53554,     0.53654,     0.53754,     0.53854,     0.53954,     0.54054,     0.54154,     0.54254,     0.54354,     0.54454,     0.54555,     0.54655,     0.54755,     0.54855,     0.54955,     0.55055,     0.55155,\n",
       "           0.55255,     0.55355,     0.55455,     0.55556,     0.55656,     0.55756,     0.55856,     0.55956,     0.56056,     0.56156,     0.56256,     0.56356,     0.56456,     0.56557,     0.56657,     0.56757,     0.56857,     0.56957,     0.57057,     0.57157,     0.57257,     0.57357,     0.57457,     0.57558,\n",
       "           0.57658,     0.57758,     0.57858,     0.57958,     0.58058,     0.58158,     0.58258,     0.58358,     0.58458,     0.58559,     0.58659,     0.58759,     0.58859,     0.58959,     0.59059,     0.59159,     0.59259,     0.59359,     0.59459,      0.5956,      0.5966,      0.5976,      0.5986,      0.5996,\n",
       "            0.6006,      0.6016,      0.6026,      0.6036,      0.6046,     0.60561,     0.60661,     0.60761,     0.60861,     0.60961,     0.61061,     0.61161,     0.61261,     0.61361,     0.61461,     0.61562,     0.61662,     0.61762,     0.61862,     0.61962,     0.62062,     0.62162,     0.62262,     0.62362,\n",
       "           0.62462,     0.62563,     0.62663,     0.62763,     0.62863,     0.62963,     0.63063,     0.63163,     0.63263,     0.63363,     0.63463,     0.63564,     0.63664,     0.63764,     0.63864,     0.63964,     0.64064,     0.64164,     0.64264,     0.64364,     0.64464,     0.64565,     0.64665,     0.64765,\n",
       "           0.64865,     0.64965,     0.65065,     0.65165,     0.65265,     0.65365,     0.65465,     0.65566,     0.65666,     0.65766,     0.65866,     0.65966,     0.66066,     0.66166,     0.66266,     0.66366,     0.66466,     0.66567,     0.66667,     0.66767,     0.66867,     0.66967,     0.67067,     0.67167,\n",
       "           0.67267,     0.67367,     0.67467,     0.67568,     0.67668,     0.67768,     0.67868,     0.67968,     0.68068,     0.68168,     0.68268,     0.68368,     0.68468,     0.68569,     0.68669,     0.68769,     0.68869,     0.68969,     0.69069,     0.69169,     0.69269,     0.69369,     0.69469,      0.6957,\n",
       "            0.6967,      0.6977,      0.6987,      0.6997,      0.7007,      0.7017,      0.7027,      0.7037,      0.7047,     0.70571,     0.70671,     0.70771,     0.70871,     0.70971,     0.71071,     0.71171,     0.71271,     0.71371,     0.71471,     0.71572,     0.71672,     0.71772,     0.71872,     0.71972,\n",
       "           0.72072,     0.72172,     0.72272,     0.72372,     0.72472,     0.72573,     0.72673,     0.72773,     0.72873,     0.72973,     0.73073,     0.73173,     0.73273,     0.73373,     0.73473,     0.73574,     0.73674,     0.73774,     0.73874,     0.73974,     0.74074,     0.74174,     0.74274,     0.74374,\n",
       "           0.74474,     0.74575,     0.74675,     0.74775,     0.74875,     0.74975,     0.75075,     0.75175,     0.75275,     0.75375,     0.75475,     0.75576,     0.75676,     0.75776,     0.75876,     0.75976,     0.76076,     0.76176,     0.76276,     0.76376,     0.76476,     0.76577,     0.76677,     0.76777,\n",
       "           0.76877,     0.76977,     0.77077,     0.77177,     0.77277,     0.77377,     0.77477,     0.77578,     0.77678,     0.77778,     0.77878,     0.77978,     0.78078,     0.78178,     0.78278,     0.78378,     0.78478,     0.78579,     0.78679,     0.78779,     0.78879,     0.78979,     0.79079,     0.79179,\n",
       "           0.79279,     0.79379,     0.79479,      0.7958,      0.7968,      0.7978,      0.7988,      0.7998,      0.8008,      0.8018,      0.8028,      0.8038,      0.8048,     0.80581,     0.80681,     0.80781,     0.80881,     0.80981,     0.81081,     0.81181,     0.81281,     0.81381,     0.81481,     0.81582,\n",
       "           0.81682,     0.81782,     0.81882,     0.81982,     0.82082,     0.82182,     0.82282,     0.82382,     0.82482,     0.82583,     0.82683,     0.82783,     0.82883,     0.82983,     0.83083,     0.83183,     0.83283,     0.83383,     0.83483,     0.83584,     0.83684,     0.83784,     0.83884,     0.83984,\n",
       "           0.84084,     0.84184,     0.84284,     0.84384,     0.84484,     0.84585,     0.84685,     0.84785,     0.84885,     0.84985,     0.85085,     0.85185,     0.85285,     0.85385,     0.85485,     0.85586,     0.85686,     0.85786,     0.85886,     0.85986,     0.86086,     0.86186,     0.86286,     0.86386,\n",
       "           0.86486,     0.86587,     0.86687,     0.86787,     0.86887,     0.86987,     0.87087,     0.87187,     0.87287,     0.87387,     0.87487,     0.87588,     0.87688,     0.87788,     0.87888,     0.87988,     0.88088,     0.88188,     0.88288,     0.88388,     0.88488,     0.88589,     0.88689,     0.88789,\n",
       "           0.88889,     0.88989,     0.89089,     0.89189,     0.89289,     0.89389,     0.89489,      0.8959,      0.8969,      0.8979,      0.8989,      0.8999,      0.9009,      0.9019,      0.9029,      0.9039,      0.9049,     0.90591,     0.90691,     0.90791,     0.90891,     0.90991,     0.91091,     0.91191,\n",
       "           0.91291,     0.91391,     0.91491,     0.91592,     0.91692,     0.91792,     0.91892,     0.91992,     0.92092,     0.92192,     0.92292,     0.92392,     0.92492,     0.92593,     0.92693,     0.92793,     0.92893,     0.92993,     0.93093,     0.93193,     0.93293,     0.93393,     0.93493,     0.93594,\n",
       "           0.93694,     0.93794,     0.93894,     0.93994,     0.94094,     0.94194,     0.94294,     0.94394,     0.94494,     0.94595,     0.94695,     0.94795,     0.94895,     0.94995,     0.95095,     0.95195,     0.95295,     0.95395,     0.95495,     0.95596,     0.95696,     0.95796,     0.95896,     0.95996,\n",
       "           0.96096,     0.96196,     0.96296,     0.96396,     0.96496,     0.96597,     0.96697,     0.96797,     0.96897,     0.96997,     0.97097,     0.97197,     0.97297,     0.97397,     0.97497,     0.97598,     0.97698,     0.97798,     0.97898,     0.97998,     0.98098,     0.98198,     0.98298,     0.98398,\n",
       "           0.98498,     0.98599,     0.98699,     0.98799,     0.98899,     0.98999,     0.99099,     0.99199,     0.99299,     0.99399,     0.99499,       0.996,       0.997,       0.998,       0.999,           1]), array([[     0.9242,      0.9242,     0.92323,     0.92128,     0.91837,     0.91642,     0.91642,     0.91642,     0.91642,     0.91642,     0.91545,     0.91351,     0.91351,     0.91351,     0.91351,     0.91351,     0.91351,     0.91254,     0.90962,     0.90962,     0.90962,     0.90962,     0.90962,\n",
       "            0.90865,     0.90573,     0.90379,     0.90282,     0.90185,     0.89893,     0.89893,     0.89893,     0.89893,     0.89893,     0.89893,     0.89796,     0.89746,     0.89602,     0.89602,     0.89602,     0.89504,     0.89407,     0.89407,     0.89407,      0.8931,      0.8931,      0.8931,\n",
       "             0.8931,     0.89213,     0.89116,     0.89018,     0.89018,     0.88862,     0.88824,     0.88727,     0.88727,     0.88727,      0.8863,      0.8863,      0.8863,      0.8863,      0.8863,     0.88533,     0.88533,     0.88533,     0.88533,     0.88533,     0.88533,     0.88533,     0.88434,\n",
       "            0.88338,     0.88338,     0.88241,     0.88144,     0.88144,     0.88144,     0.88144,     0.88047,     0.88047,     0.88047,     0.88047,     0.88047,     0.87949,     0.87949,     0.87852,     0.87852,     0.87852,     0.87755,     0.87658,     0.87561,     0.87561,     0.87561,     0.87561,\n",
       "            0.87464,     0.87464,     0.87397,     0.87304,     0.87269,     0.87269,     0.87075,     0.86983,     0.86978,     0.86978,      0.8688,      0.8688,      0.8688,      0.8688,      0.8688,     0.86686,     0.86686,     0.86686,     0.86685,     0.86492,     0.86492,     0.86492,     0.86492,\n",
       "            0.86492,     0.86492,     0.86492,     0.86492,     0.86492,     0.86492,     0.86492,     0.86492,     0.86492,     0.86492,     0.86492,     0.86395,     0.86395,     0.86395,     0.86395,     0.86395,     0.86297,     0.86297,     0.86297,     0.86297,     0.86297,     0.86256,       0.862,\n",
       "              0.862,       0.862,       0.862,       0.862,     0.86103,     0.86103,     0.86103,     0.86103,     0.86103,     0.86065,     0.86008,     0.86006,     0.86006,     0.86006,     0.85909,     0.85909,     0.85714,     0.85714,     0.85714,     0.85714,     0.85714,     0.85714,     0.85714,\n",
       "            0.85714,     0.85714,     0.85714,     0.85703,     0.85617,     0.85617,     0.85617,     0.85617,     0.85617,     0.85552,     0.85423,     0.85423,     0.85423,     0.85376,     0.85289,     0.85228,     0.85138,     0.85034,     0.85034,     0.85034,     0.85034,     0.85034,     0.85034,\n",
       "            0.85034,     0.85034,     0.85034,     0.85034,     0.85034,     0.84937,     0.84937,     0.84937,     0.84683,     0.84645,     0.84645,     0.84546,     0.84427,     0.84354,     0.84354,     0.84354,     0.84354,     0.84354,     0.84354,     0.84354,     0.84197,     0.84159,     0.84159,\n",
       "            0.84159,     0.84062,     0.84062,     0.84062,     0.84062,     0.84062,     0.84062,     0.84062,     0.84062,     0.84062,     0.84062,     0.84062,     0.83965,     0.83965,     0.83965,     0.83965,     0.83965,     0.83771,     0.83771,      0.8373,     0.83677,     0.83609,     0.83576,\n",
       "            0.83576,     0.83576,     0.83576,     0.83556,     0.83464,     0.83398,     0.83285,     0.83285,     0.83285,     0.83285,     0.83285,     0.83285,     0.83285,     0.83285,     0.83285,     0.83285,     0.83285,     0.83258,     0.83165,      0.8309,      0.8309,      0.8309,      0.8309,\n",
       "             0.8309,      0.8309,     0.83016,     0.82993,     0.82993,     0.82993,     0.82993,     0.82993,     0.82993,     0.82993,     0.82993,     0.82993,     0.82963,     0.82913,     0.82787,     0.82721,     0.82672,     0.82507,     0.82507,     0.82507,     0.82507,     0.82507,     0.82507,\n",
       "            0.82507,     0.82507,     0.82507,     0.82507,     0.82507,     0.82507,     0.82507,     0.82507,     0.82507,     0.82313,     0.82313,     0.82313,     0.82313,     0.82313,     0.82313,     0.82313,     0.82313,     0.82313,     0.82246,     0.82167,     0.82112,     0.82067,     0.82023,\n",
       "            0.82021,     0.82021,     0.82021,     0.81997,     0.81924,     0.81924,     0.81924,     0.81924,     0.81924,     0.81924,     0.81893,     0.81827,     0.81827,     0.81827,     0.81827,     0.81827,     0.81827,     0.81633,     0.81633,     0.81633,     0.81633,     0.81633,     0.81626,\n",
       "            0.81438,     0.81438,     0.81438,     0.81438,     0.81341,     0.81341,     0.81267,     0.81053,     0.80952,     0.80952,     0.80874,     0.80758,     0.80758,     0.80747,     0.80716,     0.80685,     0.80641,     0.80473,     0.80466,     0.80448,     0.80382,     0.80272,     0.80175,\n",
       "            0.80175,     0.80175,     0.80175,     0.80175,     0.80063,     0.79996,      0.7992,     0.79867,     0.79836,     0.79805,     0.79765,     0.79708,     0.79689,     0.79667,     0.79617,     0.79495,     0.79418,     0.79183,     0.79117,     0.79084,     0.79048,     0.79012,     0.79009,\n",
       "            0.79009,     0.78988,     0.78944,     0.78717,     0.78665,      0.7862,     0.78523,     0.78523,     0.78523,     0.78451,     0.78388,     0.78349,     0.78328,     0.78259,     0.78134,     0.78134,     0.78134,     0.78134,     0.78134,     0.78068,     0.78037,      0.7798,     0.77843,\n",
       "            0.77728,     0.77695,     0.77662,     0.77551,     0.77551,     0.77454,     0.77454,     0.77454,      0.7743,      0.7738,     0.77287,     0.77259,     0.77259,     0.77259,     0.77259,      0.7718,     0.77065,     0.76876,     0.76676,     0.76626,     0.76503,     0.76463,      0.7644,\n",
       "            0.76417,     0.76393,     0.76385,     0.76385,     0.76385,     0.76385,     0.76385,     0.76373,     0.76357,     0.76341,     0.76325,     0.76309,     0.76293,      0.7619,      0.7619,      0.7619,      0.7619,      0.7619,     0.76093,     0.76093,     0.76093,     0.76093,     0.75899,\n",
       "            0.75899,     0.75891,     0.75851,     0.75811,     0.75802,     0.75802,     0.75802,     0.75802,     0.75716,     0.75705,     0.75705,     0.75705,     0.75705,     0.75702,     0.75606,     0.75556,     0.75493,     0.75413,     0.75413,     0.75413,     0.75413,     0.75413,     0.75413,\n",
       "            0.75316,     0.75316,     0.75316,     0.75316,     0.75316,     0.75316,     0.75316,     0.75316,     0.75316,      0.7528,      0.7523,     0.75219,     0.75219,     0.75219,     0.75219,     0.75219,     0.75219,     0.75219,     0.75219,     0.75219,     0.75219,     0.75215,     0.75121,\n",
       "            0.75121,     0.75121,     0.74724,     0.74657,     0.74538,     0.74441,     0.74441,     0.74441,     0.74441,     0.74441,     0.74441,     0.74441,     0.74344,     0.74344,     0.74253,     0.74247,     0.74247,     0.74214,     0.74142,     0.74052,     0.74052,     0.74031,     0.73935,\n",
       "            0.73901,     0.73868,     0.73643,     0.73567,      0.7342,     0.73261,     0.73211,     0.73178,     0.73178,     0.73178,     0.73098,     0.72923,     0.72886,     0.72741,     0.72689,     0.72595,     0.72595,     0.72557,       0.724,       0.724,     0.72369,     0.72206,     0.72206,\n",
       "            0.72183,     0.72058,     0.71993,     0.71927,     0.71817,     0.71817,     0.71731,     0.71702,     0.71682,     0.71663,     0.71643,     0.71622,     0.71518,     0.71392,     0.71331,     0.71331,     0.71318,     0.71234,     0.71216,     0.71137,     0.71122,     0.71055,     0.70963,\n",
       "            0.70943,     0.70943,     0.70943,     0.70899,      0.7085,     0.70845,     0.70845,     0.70748,     0.70748,     0.70713,     0.70651,     0.70651,     0.70651,     0.70624,     0.70441,     0.70226,     0.69929,     0.69874,     0.69874,     0.69874,     0.69874,     0.69874,     0.69803,\n",
       "            0.69636,     0.69586,     0.69521,     0.69358,     0.69291,     0.69093,     0.68805,     0.68695,     0.68513,     0.68506,     0.68439,     0.68416,     0.68416,     0.68124,     0.68076,     0.68027,     0.68027,     0.67966,     0.67811,     0.67744,      0.6771,     0.67644,     0.67456,\n",
       "            0.67397,     0.67347,     0.67055,     0.67005,     0.66954,     0.66888,      0.6676,     0.66727,     0.66694,     0.66472,     0.66438,     0.66388,     0.66226,     0.66104,     0.65966,       0.659,     0.65805,     0.65608,     0.65538,     0.65472,     0.65406,     0.65242,     0.65013,\n",
       "            0.64917,     0.64907,     0.64889,     0.64871,     0.64853,     0.64835,     0.64802,     0.64709,     0.64643,     0.64574,     0.64529,     0.64502,     0.64469,     0.64436,     0.64388,     0.64338,     0.64228,     0.64205,     0.64183,     0.64161,      0.6414,      0.6403,     0.63928,\n",
       "            0.63826,      0.6371,     0.63541,     0.63353,     0.63303,     0.63121,      0.6305,     0.63021,     0.62993,     0.62941,     0.62859,     0.62809,     0.62698,     0.62646,     0.62606,     0.62569,     0.62536,     0.62503,     0.62451,     0.62385,     0.62318,     0.62085,     0.61905,\n",
       "            0.61905,     0.61794,     0.61727,     0.61539,      0.6139,     0.61291,     0.61158,     0.61043,      0.6103,      0.6099,     0.60836,     0.60648,     0.60254,     0.60057,     0.59957,      0.5976,      0.5967,      0.5967,     0.59607,      0.5954,      0.5949,      0.5944,     0.59391,\n",
       "            0.59303,     0.59184,     0.58989,     0.58892,     0.58565,     0.58233,     0.57928,     0.57877,     0.57703,     0.57653,     0.57519,     0.57494,     0.57469,     0.57444,     0.57374,     0.56837,     0.56646,      0.5658,      0.5642,     0.56245,     0.56063,     0.56024,     0.55984,\n",
       "            0.55839,     0.55789,     0.55453,     0.55312,     0.55199,     0.55105,     0.54763,     0.54663,     0.54563,     0.54464,     0.54218,     0.54107,     0.53797,     0.53612,      0.5348,      0.5331,     0.53256,     0.53009,     0.52838,     0.52611,     0.52284,     0.52102,     0.51905,\n",
       "            0.51611,     0.51226,     0.50923,     0.50536,      0.5034,     0.50239,     0.50035,     0.49739,     0.49345,      0.4898,     0.48936,      0.4865,     0.48521,     0.48324,     0.48273,     0.48048,     0.47911,     0.47759,     0.47522,     0.47338,     0.46857,      0.4655,     0.46487,\n",
       "            0.46065,     0.45773,     0.45673,     0.45623,     0.45171,     0.44801,     0.44676,     0.44541,     0.44315,     0.44078,     0.43708,     0.43291,        0.43,     0.42698,     0.42499,     0.41814,     0.41665,     0.41599,     0.41119,     0.41014,     0.40622,     0.40327,      0.4003,\n",
       "            0.39831,     0.39359,     0.39238,     0.38456,     0.38159,     0.37766,     0.36984,     0.36857,     0.36391,     0.36074,     0.35645,     0.35579,     0.34816,     0.34326,      0.3364,     0.32901,     0.32562,     0.31682,     0.30803,     0.30312,     0.29918,      0.2968,     0.28997,\n",
       "            0.28738,     0.28263,     0.27853,     0.27362,     0.26969,     0.26187,     0.25501,     0.25011,     0.24617,     0.23738,     0.23247,     0.22659,     0.22017,      0.2158,     0.21381,     0.20404,     0.19816,     0.19034,     0.18835,     0.18173,     0.17964,     0.17362,     0.17066,\n",
       "            0.16597,     0.16376,     0.15399,     0.15006,     0.14709,     0.13441,     0.12853,     0.12265,     0.11483,     0.11133,     0.10793,     0.10399,    0.098113,    0.095149,    0.090241,    0.081446,     0.07751,    0.072602,    0.063807,    0.059871,    0.056636,    0.051028,    0.049035,\n",
       "           0.044128,    0.041164,    0.037078,     0.03232,    0.031634,    0.031136,    0.028183,    0.025781,    0.024302,    0.018444,    0.017402,    0.014994,    0.014384,    0.014052,     0.01372,    0.011328,    0.008364,   0.0063718,   0.0055406,   0.0051422,   0.0042822,   0.0026873,   0.0024027,\n",
       "           0.002118,    0.001917,   0.0018483,   0.0017796,   0.0017109,   0.0016422,   0.0015735,   0.0015048,   0.0014361,   0.0013674,   0.0012987,     0.00123,   0.0011613,   0.0010926,   0.0010239,           0,           0,           0,           0,           0,           0,           0,           0,\n",
       "                  0,           0,           0,           0,           0,           0,           0,           0,           0,           0,           0,           0,           0,           0,           0,           0,           0,           0,           0,           0,           0,           0,           0,\n",
       "                  0,           0,           0,           0,           0,           0,           0,           0,           0,           0,           0,           0,           0,           0,           0,           0,           0,           0,           0,           0,           0,           0,           0,\n",
       "                  0,           0,           0,           0,           0,           0,           0,           0,           0,           0,           0,           0,           0,           0,           0,           0,           0,           0,           0,           0,           0,           0,           0,\n",
       "                  0,           0,           0,           0,           0,           0,           0,           0,           0,           0,           0,           0,           0,           0,           0,           0,           0,           0,           0,           0,           0,           0,           0,\n",
       "                  0,           0,           0,           0,           0,           0,           0,           0,           0,           0,           0]]), 'Confidence', 'Recall']]\n",
       "fitness: 0.6086969438237593\n",
       "keys: ['metrics/precision(B)', 'metrics/recall(B)', 'metrics/mAP50(B)', 'metrics/mAP50-95(B)']\n",
       "maps: array([    0.58183])\n",
       "names: {0: 'person'}\n",
       "plot: True\n",
       "results_dict: {'metrics/precision(B)': 0.8137713292790015, 'metrics/recall(B)': 0.8068525279409633, 'metrics/mAP50(B)': 0.8505426584470288, 'metrics/mAP50-95(B)': 0.581825197754507, 'fitness': 0.6086969438237593}\n",
       "save_dir: WindowsPath('runs/detect/train')\n",
       "speed: {'preprocess': 0.11897064170100068, 'inference': 8.370883167449161, 'loss': 0.00028851422246505074, 'postprocess': 0.2335662027427423}\n",
       "task: 'detect'"
      ]
     },
     "execution_count": 4,
     "metadata": {},
     "output_type": "execute_result"
    }
   ],
   "source": [
    "# model.train(data=PATH_DATASET, cfg=CONFIG)\n",
    "model.train(data=PATH_DATASET,\n",
    "            augment=True,\n",
    "            single_cls=True,\n",
    "            copy_paste=0.2,\n",
    "            max_det=30,\n",
    "            iou=0.6,\n",
    "            close_mosaic=10,\n",
    "            patience=30,\n",
    "            batch=18, \n",
    "            epochs=210, \n",
    "            imgsz=640, \n",
    "            mixup=0.7, \n",
    "            flipud=0.5, \n",
    "            shear=0.3, \n",
    "            degrees=0.3,\n",
    "            translate=0.2,\n",
    "            resume=True,\n",
    "            device=DEVICE)\n",
    "# results = model.val(data=PATH_DATASET, split='test', imgsz=640, conf=0.3, save_json=True)"
   ]
  }
 ],
 "metadata": {
  "kernelspec": {
   "display_name": "Python 3",
   "language": "python",
   "name": "python3"
  },
  "language_info": {
   "codemirror_mode": {
    "name": "ipython",
    "version": 3
   },
   "file_extension": ".py",
   "mimetype": "text/x-python",
   "name": "python",
   "nbconvert_exporter": "python",
   "pygments_lexer": "ipython3",
   "version": "3.10.0"
  }
 },
 "nbformat": 4,
 "nbformat_minor": 2
}
