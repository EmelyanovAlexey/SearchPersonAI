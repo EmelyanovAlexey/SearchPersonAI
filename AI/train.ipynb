{
 "cells": [
  {
   "cell_type": "markdown",
   "metadata": {},
   "source": [
    "# Обучение\n",
    "\n",
    "## 1 Выбор модели\n",
    "- YOLOv8n (nano): Этот вариант — самый лёгкий и быстрый, подходящий для устройств с ограниченными ресурсами, таких как дроны с мобильными процессорами или устройства типа NVIDIA Jetson Nano. Однако точность этой модели ниже, чем у более крупных вариантов.\n",
    "\n",
    "- YOLOv8s (small): Этот вариант предлагает хороший баланс между точностью и скоростью, лучше подходит для реальных условий, если у дрона есть чуть более мощный процессор, например, Jetson Xavier NX или эквивалент.\n",
    "\n",
    "- YOLOv8m (medium): Используйте его, если вам важна более высокая точность и вы можете позволить себе снижение скорости, например, если дрон оснащён мощным вычислительным блоком. Модель будет давать более стабильные и точные результаты.\n"
   ]
  },
  {
   "cell_type": "markdown",
   "metadata": {},
   "source": [
    "# Библиотеки"
   ]
  },
  {
   "cell_type": "code",
   "execution_count": 1,
   "metadata": {},
   "outputs": [],
   "source": [
    "from ultralytics import YOLO\n",
    "import torch"
   ]
  },
  {
   "cell_type": "markdown",
   "metadata": {},
   "source": [
    "# Константы"
   ]
  },
  {
   "cell_type": "code",
   "execution_count": 2,
   "metadata": {},
   "outputs": [
    {
     "name": "stdout",
     "output_type": "stream",
     "text": [
      "cuda\n"
     ]
    }
   ],
   "source": [
    "PATH_DATASET = './DataSet/SplitData/dataset.yaml'\n",
    "MODEL = 'yolov8s.pt'\n",
    "DEVICE = 'cuda' if torch.cuda.is_available() else 'cpu'\n",
    "CONFIG = './Param/train.yaml'\n",
    "\n",
    "# print(torch.cuda.is_available()) \n",
    "print(DEVICE)"
   ]
  },
  {
   "cell_type": "markdown",
   "metadata": {},
   "source": [
    "# Программа"
   ]
  },
  {
   "cell_type": "code",
   "execution_count": 3,
   "metadata": {},
   "outputs": [
    {
     "name": "stdout",
     "output_type": "stream",
     "text": [
      "Downloading https://github.com/ultralytics/assets/releases/download/v8.3.0/yolov8s.pt to 'yolov8s.pt'...\n"
     ]
    },
    {
     "name": "stderr",
     "output_type": "stream",
     "text": [
      "100%|██████████| 21.5M/21.5M [00:03<00:00, 7.38MB/s]\n"
     ]
    }
   ],
   "source": [
    "model = YOLO(MODEL) "
   ]
  },
  {
   "cell_type": "code",
   "execution_count": 4,
   "metadata": {},
   "outputs": [
    {
     "name": "stdout",
     "output_type": "stream",
     "text": [
      "New https://pypi.org/project/ultralytics/8.3.58 available  Update with 'pip install -U ultralytics'\n",
      "Ultralytics 8.3.23  Python-3.10.0 torch-2.5.0+cu121 CUDA:0 (NVIDIA GeForce RTX 3060, 12287MiB)\n",
      "\u001b[34m\u001b[1mengine\\trainer: \u001b[0mtask=detect, mode=train, model=yolov8s.pt, data=./DataSet/SplitData/dataset.yaml, epochs=120, time=None, patience=100, batch=18, imgsz=640, save=True, save_period=-1, cache=False, device=cuda, workers=8, project=None, name=train, exist_ok=False, pretrained=True, optimizer=auto, verbose=True, seed=0, deterministic=True, single_cls=False, rect=False, cos_lr=False, close_mosaic=10, resume=False, amp=True, fraction=1.0, profile=False, freeze=None, multi_scale=False, overlap_mask=True, mask_ratio=4, dropout=0.0, val=True, split=val, save_json=False, save_hybrid=False, conf=None, iou=0.7, max_det=300, half=False, dnn=False, plots=True, source=None, vid_stride=1, stream_buffer=False, visualize=False, augment=False, agnostic_nms=False, classes=None, retina_masks=False, embed=None, show=False, save_frames=False, save_txt=False, save_conf=False, save_crop=False, show_labels=True, show_conf=True, show_boxes=True, line_width=None, format=torchscript, keras=False, optimize=False, int8=False, dynamic=False, simplify=True, opset=None, workspace=4, nms=False, lr0=0.01, lrf=0.01, momentum=0.937, weight_decay=0.0005, warmup_epochs=3.0, warmup_momentum=0.8, warmup_bias_lr=0.1, box=7.5, cls=0.5, dfl=1.5, pose=12.0, kobj=1.0, label_smoothing=0.0, nbs=64, hsv_h=0.015, hsv_s=0.7, hsv_v=0.4, degrees=0.3, translate=0.1, scale=0.5, shear=0.3, perspective=0.0, flipud=0.5, fliplr=0.5, bgr=0.0, mosaic=1.0, mixup=0.7, copy_paste=0.0, copy_paste_mode=flip, auto_augment=randaugment, erasing=0.4, crop_fraction=1.0, cfg=None, tracker=botsort.yaml, save_dir=runs\\detect\\train\n",
      "Overriding model.yaml nc=80 with nc=1\n",
      "\n",
      "                   from  n    params  module                                       arguments                     \n",
      "  0                  -1  1       928  ultralytics.nn.modules.conv.Conv             [3, 32, 3, 2]                 \n",
      "  1                  -1  1     18560  ultralytics.nn.modules.conv.Conv             [32, 64, 3, 2]                \n",
      "  2                  -1  1     29056  ultralytics.nn.modules.block.C2f             [64, 64, 1, True]             \n",
      "  3                  -1  1     73984  ultralytics.nn.modules.conv.Conv             [64, 128, 3, 2]               \n",
      "  4                  -1  2    197632  ultralytics.nn.modules.block.C2f             [128, 128, 2, True]           \n",
      "  5                  -1  1    295424  ultralytics.nn.modules.conv.Conv             [128, 256, 3, 2]              \n",
      "  6                  -1  2    788480  ultralytics.nn.modules.block.C2f             [256, 256, 2, True]           \n",
      "  7                  -1  1   1180672  ultralytics.nn.modules.conv.Conv             [256, 512, 3, 2]              \n",
      "  8                  -1  1   1838080  ultralytics.nn.modules.block.C2f             [512, 512, 1, True]           \n",
      "  9                  -1  1    656896  ultralytics.nn.modules.block.SPPF            [512, 512, 5]                 \n",
      " 10                  -1  1         0  torch.nn.modules.upsampling.Upsample         [None, 2, 'nearest']          \n",
      " 11             [-1, 6]  1         0  ultralytics.nn.modules.conv.Concat           [1]                           \n",
      " 12                  -1  1    591360  ultralytics.nn.modules.block.C2f             [768, 256, 1]                 \n",
      " 13                  -1  1         0  torch.nn.modules.upsampling.Upsample         [None, 2, 'nearest']          \n",
      " 14             [-1, 4]  1         0  ultralytics.nn.modules.conv.Concat           [1]                           \n",
      " 15                  -1  1    148224  ultralytics.nn.modules.block.C2f             [384, 128, 1]                 \n",
      " 16                  -1  1    147712  ultralytics.nn.modules.conv.Conv             [128, 128, 3, 2]              \n",
      " 17            [-1, 12]  1         0  ultralytics.nn.modules.conv.Concat           [1]                           \n",
      " 18                  -1  1    493056  ultralytics.nn.modules.block.C2f             [384, 256, 1]                 \n",
      " 19                  -1  1    590336  ultralytics.nn.modules.conv.Conv             [256, 256, 3, 2]              \n",
      " 20             [-1, 9]  1         0  ultralytics.nn.modules.conv.Concat           [1]                           \n",
      " 21                  -1  1   1969152  ultralytics.nn.modules.block.C2f             [768, 512, 1]                 \n",
      " 22        [15, 18, 21]  1   2116435  ultralytics.nn.modules.head.Detect           [1, [128, 256, 512]]          \n",
      "Model summary: 225 layers, 11,135,987 parameters, 11,135,971 gradients, 28.6 GFLOPs\n",
      "\n",
      "Transferred 349/355 items from pretrained weights\n",
      "Freezing layer 'model.22.dfl.conv.weight'\n",
      "\u001b[34m\u001b[1mAMP: \u001b[0mrunning Automatic Mixed Precision (AMP) checks...\n",
      "\u001b[34m\u001b[1mAMP: \u001b[0mchecks passed \n"
     ]
    },
    {
     "name": "stderr",
     "output_type": "stream",
     "text": [
      "\u001b[34m\u001b[1mtrain: \u001b[0mScanning D:\\Nsu\\SearchPersonAI\\AI\\DataSet\\SplitData\\Train2\\labels.cache... 36054 images, 33735 backgrounds, 0 corrupt: 100%|██████████| 36054/36054 [00:00<?, ?it/s]\n",
      "\u001b[34m\u001b[1mval: \u001b[0mScanning D:\\Nsu\\SearchPersonAI\\AI\\DataSet\\SplitData\\Valid2\\labels.cache... 10399 images, 9715 backgrounds, 0 corrupt: 100%|██████████| 10399/10399 [00:00<?, ?it/s]\n"
     ]
    },
    {
     "name": "stdout",
     "output_type": "stream",
     "text": [
      "Plotting labels to runs\\detect\\train\\labels.jpg... \n",
      "\u001b[34m\u001b[1moptimizer:\u001b[0m 'optimizer=auto' found, ignoring 'lr0=0.01' and 'momentum=0.937' and determining best 'optimizer', 'lr0' and 'momentum' automatically... \n",
      "\u001b[34m\u001b[1moptimizer:\u001b[0m SGD(lr=0.01, momentum=0.9) with parameter groups 57 weight(decay=0.0), 64 weight(decay=0.0005625000000000001), 63 bias(decay=0.0)\n",
      "Image sizes 640 train, 640 val\n",
      "Using 8 dataloader workers\n",
      "Logging results to \u001b[1mruns\\detect\\train\u001b[0m\n",
      "Starting training for 120 epochs...\n",
      "\n",
      "      Epoch    GPU_mem   box_loss   cls_loss   dfl_loss  Instances       Size\n"
     ]
    },
    {
     "name": "stderr",
     "output_type": "stream",
     "text": [
      "      1/120      4.22G      1.624      5.866      1.361          3        640: 100%|██████████| 2003/2003 [08:04<00:00,  4.13it/s]\n",
      "                 Class     Images  Instances      Box(P          R      mAP50  mAP50-95): 100%|██████████| 289/289 [00:50<00:00,  5.77it/s]\n"
     ]
    },
    {
     "name": "stdout",
     "output_type": "stream",
     "text": [
      "                   all      10399       1029      0.452      0.481      0.419      0.223\n",
      "\n",
      "      Epoch    GPU_mem   box_loss   cls_loss   dfl_loss  Instances       Size\n"
     ]
    },
    {
     "name": "stderr",
     "output_type": "stream",
     "text": [
      "      2/120      4.27G      1.832      2.642      1.486          1        640: 100%|██████████| 2003/2003 [08:00<00:00,  4.16it/s]\n",
      "                 Class     Images  Instances      Box(P          R      mAP50  mAP50-95): 100%|██████████| 289/289 [00:50<00:00,  5.70it/s]\n"
     ]
    },
    {
     "name": "stdout",
     "output_type": "stream",
     "text": [
      "                   all      10399       1029      0.555      0.292      0.317      0.137\n",
      "\n",
      "      Epoch    GPU_mem   box_loss   cls_loss   dfl_loss  Instances       Size\n"
     ]
    },
    {
     "name": "stderr",
     "output_type": "stream",
     "text": [
      "      3/120       4.4G      2.115      3.021      1.708          3        640: 100%|██████████| 2003/2003 [08:02<00:00,  4.15it/s]\n",
      "                 Class     Images  Instances      Box(P          R      mAP50  mAP50-95): 100%|██████████| 289/289 [00:53<00:00,  5.40it/s]\n"
     ]
    },
    {
     "name": "stdout",
     "output_type": "stream",
     "text": [
      "                   all      10399       1029      0.443      0.367      0.305       0.13\n",
      "\n",
      "      Epoch    GPU_mem   box_loss   cls_loss   dfl_loss  Instances       Size\n"
     ]
    },
    {
     "name": "stderr",
     "output_type": "stream",
     "text": [
      "      4/120      4.29G      2.085      2.881      1.727          3        640: 100%|██████████| 2003/2003 [07:55<00:00,  4.21it/s]\n",
      "                 Class     Images  Instances      Box(P          R      mAP50  mAP50-95): 100%|██████████| 289/289 [00:50<00:00,  5.77it/s]\n"
     ]
    },
    {
     "name": "stdout",
     "output_type": "stream",
     "text": [
      "                   all      10399       1029       0.41       0.33      0.288      0.118\n",
      "\n",
      "      Epoch    GPU_mem   box_loss   cls_loss   dfl_loss  Instances       Size\n"
     ]
    },
    {
     "name": "stderr",
     "output_type": "stream",
     "text": [
      "      5/120       4.4G      1.952      2.645      1.653          2        640: 100%|██████████| 2003/2003 [07:54<00:00,  4.22it/s]\n",
      "                 Class     Images  Instances      Box(P          R      mAP50  mAP50-95): 100%|██████████| 289/289 [00:52<00:00,  5.52it/s]"
     ]
    },
    {
     "name": "stdout",
     "output_type": "stream",
     "text": [
      "                   all      10399       1029      0.547      0.558       0.53      0.268\n"
     ]
    },
    {
     "name": "stderr",
     "output_type": "stream",
     "text": [
      "\n"
     ]
    },
    {
     "name": "stdout",
     "output_type": "stream",
     "text": [
      "\n",
      "      Epoch    GPU_mem   box_loss   cls_loss   dfl_loss  Instances       Size\n"
     ]
    },
    {
     "name": "stderr",
     "output_type": "stream",
     "text": [
      "      6/120       4.2G      1.909      2.561      1.647          3        640: 100%|██████████| 2003/2003 [07:52<00:00,  4.24it/s]\n",
      "                 Class     Images  Instances      Box(P          R      mAP50  mAP50-95): 100%|██████████| 289/289 [00:50<00:00,  5.75it/s]\n"
     ]
    },
    {
     "name": "stdout",
     "output_type": "stream",
     "text": [
      "                   all      10399       1029      0.629      0.599      0.606      0.334\n",
      "\n",
      "      Epoch    GPU_mem   box_loss   cls_loss   dfl_loss  Instances       Size\n"
     ]
    },
    {
     "name": "stderr",
     "output_type": "stream",
     "text": [
      "      7/120      4.28G       1.86      2.423      1.603         15        640: 100%|██████████| 2003/2003 [07:42<00:00,  4.33it/s]\n",
      "                 Class     Images  Instances      Box(P          R      mAP50  mAP50-95): 100%|██████████| 289/289 [00:50<00:00,  5.74it/s]\n"
     ]
    },
    {
     "name": "stdout",
     "output_type": "stream",
     "text": [
      "                   all      10399       1029       0.58      0.489      0.517      0.276\n",
      "\n",
      "      Epoch    GPU_mem   box_loss   cls_loss   dfl_loss  Instances       Size\n"
     ]
    },
    {
     "name": "stderr",
     "output_type": "stream",
     "text": [
      "      8/120      4.39G      1.792      2.271      1.556          1        640: 100%|██████████| 2003/2003 [07:42<00:00,  4.33it/s]\n",
      "                 Class     Images  Instances      Box(P          R      mAP50  mAP50-95): 100%|██████████| 289/289 [00:50<00:00,  5.77it/s]"
     ]
    },
    {
     "name": "stdout",
     "output_type": "stream",
     "text": [
      "                   all      10399       1029      0.675      0.631       0.67       0.38\n"
     ]
    },
    {
     "name": "stderr",
     "output_type": "stream",
     "text": [
      "\n"
     ]
    },
    {
     "name": "stdout",
     "output_type": "stream",
     "text": [
      "\n",
      "      Epoch    GPU_mem   box_loss   cls_loss   dfl_loss  Instances       Size\n"
     ]
    },
    {
     "name": "stderr",
     "output_type": "stream",
     "text": [
      "      9/120      4.28G      1.764       2.23      1.528          1        640: 100%|██████████| 2003/2003 [07:42<00:00,  4.33it/s]\n",
      "                 Class     Images  Instances      Box(P          R      mAP50  mAP50-95): 100%|██████████| 289/289 [00:49<00:00,  5.81it/s]\n"
     ]
    },
    {
     "name": "stdout",
     "output_type": "stream",
     "text": [
      "                   all      10399       1029       0.66       0.61      0.644      0.377\n",
      "\n",
      "      Epoch    GPU_mem   box_loss   cls_loss   dfl_loss  Instances       Size\n"
     ]
    },
    {
     "name": "stderr",
     "output_type": "stream",
     "text": [
      "     10/120       4.4G      1.742      2.215      1.524          3        640: 100%|██████████| 2003/2003 [07:39<00:00,  4.36it/s]\n",
      "                 Class     Images  Instances      Box(P          R      mAP50  mAP50-95): 100%|██████████| 289/289 [00:49<00:00,  5.86it/s]"
     ]
    },
    {
     "name": "stdout",
     "output_type": "stream",
     "text": [
      "                   all      10399       1029      0.617      0.609      0.622      0.364\n"
     ]
    },
    {
     "name": "stderr",
     "output_type": "stream",
     "text": [
      "\n"
     ]
    },
    {
     "name": "stdout",
     "output_type": "stream",
     "text": [
      "\n",
      "      Epoch    GPU_mem   box_loss   cls_loss   dfl_loss  Instances       Size\n"
     ]
    },
    {
     "name": "stderr",
     "output_type": "stream",
     "text": [
      "     11/120       4.4G      1.708      2.144      1.514          0        640: 100%|██████████| 2003/2003 [07:37<00:00,  4.38it/s]\n",
      "                 Class     Images  Instances      Box(P          R      mAP50  mAP50-95): 100%|██████████| 289/289 [00:48<00:00,  5.94it/s]"
     ]
    },
    {
     "name": "stdout",
     "output_type": "stream",
     "text": [
      "                   all      10399       1029      0.692      0.606      0.653      0.394\n"
     ]
    },
    {
     "name": "stderr",
     "output_type": "stream",
     "text": [
      "\n"
     ]
    },
    {
     "name": "stdout",
     "output_type": "stream",
     "text": [
      "\n",
      "      Epoch    GPU_mem   box_loss   cls_loss   dfl_loss  Instances       Size\n"
     ]
    },
    {
     "name": "stderr",
     "output_type": "stream",
     "text": [
      "     12/120      4.38G      1.712      2.059      1.511          7        640: 100%|██████████| 2003/2003 [07:39<00:00,  4.35it/s]\n",
      "                 Class     Images  Instances      Box(P          R      mAP50  mAP50-95): 100%|██████████| 289/289 [00:48<00:00,  5.92it/s]"
     ]
    },
    {
     "name": "stdout",
     "output_type": "stream",
     "text": [
      "                   all      10399       1029      0.693      0.628      0.695      0.415\n"
     ]
    },
    {
     "name": "stderr",
     "output_type": "stream",
     "text": [
      "\n"
     ]
    },
    {
     "name": "stdout",
     "output_type": "stream",
     "text": [
      "\n",
      "      Epoch    GPU_mem   box_loss   cls_loss   dfl_loss  Instances       Size\n"
     ]
    },
    {
     "name": "stderr",
     "output_type": "stream",
     "text": [
      "     13/120      4.28G      1.681      2.055      1.482          4        640: 100%|██████████| 2003/2003 [07:39<00:00,  4.36it/s]\n",
      "                 Class     Images  Instances      Box(P          R      mAP50  mAP50-95): 100%|██████████| 289/289 [00:48<00:00,  5.97it/s]"
     ]
    },
    {
     "name": "stdout",
     "output_type": "stream",
     "text": [
      "                   all      10399       1029      0.729      0.637      0.698      0.421\n"
     ]
    },
    {
     "name": "stderr",
     "output_type": "stream",
     "text": [
      "\n"
     ]
    },
    {
     "name": "stdout",
     "output_type": "stream",
     "text": [
      "\n",
      "      Epoch    GPU_mem   box_loss   cls_loss   dfl_loss  Instances       Size\n"
     ]
    },
    {
     "name": "stderr",
     "output_type": "stream",
     "text": [
      "     14/120      4.27G      1.654      1.969      1.468          6        640: 100%|██████████| 2003/2003 [07:39<00:00,  4.36it/s]\n",
      "                 Class     Images  Instances      Box(P          R      mAP50  mAP50-95): 100%|██████████| 289/289 [00:50<00:00,  5.77it/s]"
     ]
    },
    {
     "name": "stdout",
     "output_type": "stream",
     "text": [
      "                   all      10399       1029      0.737      0.668      0.727      0.443\n"
     ]
    },
    {
     "name": "stderr",
     "output_type": "stream",
     "text": [
      "\n"
     ]
    },
    {
     "name": "stdout",
     "output_type": "stream",
     "text": [
      "\n",
      "      Epoch    GPU_mem   box_loss   cls_loss   dfl_loss  Instances       Size\n"
     ]
    },
    {
     "name": "stderr",
     "output_type": "stream",
     "text": [
      "     15/120      4.27G      1.651      1.975      1.464          2        640: 100%|██████████| 2003/2003 [07:41<00:00,  4.34it/s]\n",
      "                 Class     Images  Instances      Box(P          R      mAP50  mAP50-95): 100%|██████████| 289/289 [00:48<00:00,  5.94it/s]"
     ]
    },
    {
     "name": "stdout",
     "output_type": "stream",
     "text": [
      "                   all      10399       1029      0.739      0.688      0.743      0.452\n"
     ]
    },
    {
     "name": "stderr",
     "output_type": "stream",
     "text": [
      "\n"
     ]
    },
    {
     "name": "stdout",
     "output_type": "stream",
     "text": [
      "\n",
      "      Epoch    GPU_mem   box_loss   cls_loss   dfl_loss  Instances       Size\n"
     ]
    },
    {
     "name": "stderr",
     "output_type": "stream",
     "text": [
      "     16/120      4.26G      1.672      1.995      1.492          4        640: 100%|██████████| 2003/2003 [07:39<00:00,  4.36it/s]\n",
      "                 Class     Images  Instances      Box(P          R      mAP50  mAP50-95): 100%|██████████| 289/289 [00:49<00:00,  5.85it/s]"
     ]
    },
    {
     "name": "stdout",
     "output_type": "stream",
     "text": [
      "                   all      10399       1029      0.721      0.679      0.726      0.452\n"
     ]
    },
    {
     "name": "stderr",
     "output_type": "stream",
     "text": [
      "\n"
     ]
    },
    {
     "name": "stdout",
     "output_type": "stream",
     "text": [
      "\n",
      "      Epoch    GPU_mem   box_loss   cls_loss   dfl_loss  Instances       Size\n"
     ]
    },
    {
     "name": "stderr",
     "output_type": "stream",
     "text": [
      "     17/120       4.4G       1.62      1.952      1.455          7        640: 100%|██████████| 2003/2003 [07:43<00:00,  4.32it/s]\n",
      "                 Class     Images  Instances      Box(P          R      mAP50  mAP50-95): 100%|██████████| 289/289 [00:49<00:00,  5.87it/s]"
     ]
    },
    {
     "name": "stdout",
     "output_type": "stream",
     "text": [
      "                   all      10399       1029       0.74       0.68      0.738      0.455\n"
     ]
    },
    {
     "name": "stderr",
     "output_type": "stream",
     "text": [
      "\n"
     ]
    },
    {
     "name": "stdout",
     "output_type": "stream",
     "text": [
      "\n",
      "      Epoch    GPU_mem   box_loss   cls_loss   dfl_loss  Instances       Size\n"
     ]
    },
    {
     "name": "stderr",
     "output_type": "stream",
     "text": [
      "     18/120      4.27G      1.621      1.914      1.455          5        640: 100%|██████████| 2003/2003 [07:41<00:00,  4.34it/s]\n",
      "                 Class     Images  Instances      Box(P          R      mAP50  mAP50-95): 100%|██████████| 289/289 [00:49<00:00,  5.89it/s]"
     ]
    },
    {
     "name": "stdout",
     "output_type": "stream",
     "text": [
      "                   all      10399       1029       0.71      0.691      0.729      0.457\n"
     ]
    },
    {
     "name": "stderr",
     "output_type": "stream",
     "text": [
      "\n"
     ]
    },
    {
     "name": "stdout",
     "output_type": "stream",
     "text": [
      "\n",
      "      Epoch    GPU_mem   box_loss   cls_loss   dfl_loss  Instances       Size\n"
     ]
    },
    {
     "name": "stderr",
     "output_type": "stream",
     "text": [
      "     19/120       4.2G      1.631      1.912      1.465          4        640: 100%|██████████| 2003/2003 [07:43<00:00,  4.33it/s]\n",
      "                 Class     Images  Instances      Box(P          R      mAP50  mAP50-95): 100%|██████████| 289/289 [00:49<00:00,  5.84it/s]"
     ]
    },
    {
     "name": "stdout",
     "output_type": "stream",
     "text": [
      "                   all      10399       1029      0.731      0.686       0.74      0.464\n"
     ]
    },
    {
     "name": "stderr",
     "output_type": "stream",
     "text": [
      "\n"
     ]
    },
    {
     "name": "stdout",
     "output_type": "stream",
     "text": [
      "\n",
      "      Epoch    GPU_mem   box_loss   cls_loss   dfl_loss  Instances       Size\n"
     ]
    },
    {
     "name": "stderr",
     "output_type": "stream",
     "text": [
      "     20/120      4.26G      1.604      1.907      1.424          4        640: 100%|██████████| 2003/2003 [07:39<00:00,  4.36it/s]\n",
      "                 Class     Images  Instances      Box(P          R      mAP50  mAP50-95): 100%|██████████| 289/289 [00:48<00:00,  5.98it/s]"
     ]
    },
    {
     "name": "stdout",
     "output_type": "stream",
     "text": [
      "                   all      10399       1029      0.752      0.676      0.743      0.461\n"
     ]
    },
    {
     "name": "stderr",
     "output_type": "stream",
     "text": [
      "\n"
     ]
    },
    {
     "name": "stdout",
     "output_type": "stream",
     "text": [
      "\n",
      "      Epoch    GPU_mem   box_loss   cls_loss   dfl_loss  Instances       Size\n"
     ]
    },
    {
     "name": "stderr",
     "output_type": "stream",
     "text": [
      "     21/120      4.27G      1.597      1.818      1.443          8        640: 100%|██████████| 2003/2003 [07:38<00:00,  4.37it/s]\n",
      "                 Class     Images  Instances      Box(P          R      mAP50  mAP50-95): 100%|██████████| 289/289 [00:48<00:00,  6.01it/s]"
     ]
    },
    {
     "name": "stdout",
     "output_type": "stream",
     "text": [
      "                   all      10399       1029      0.721      0.717      0.738      0.461\n"
     ]
    },
    {
     "name": "stderr",
     "output_type": "stream",
     "text": [
      "\n"
     ]
    },
    {
     "name": "stdout",
     "output_type": "stream",
     "text": [
      "\n",
      "      Epoch    GPU_mem   box_loss   cls_loss   dfl_loss  Instances       Size\n"
     ]
    },
    {
     "name": "stderr",
     "output_type": "stream",
     "text": [
      "     22/120      4.27G      1.611      1.859      1.454         11        640: 100%|██████████| 2003/2003 [07:38<00:00,  4.37it/s]\n",
      "                 Class     Images  Instances      Box(P          R      mAP50  mAP50-95): 100%|██████████| 289/289 [00:47<00:00,  6.03it/s]"
     ]
    },
    {
     "name": "stdout",
     "output_type": "stream",
     "text": [
      "                   all      10399       1029      0.727      0.714       0.74      0.468\n"
     ]
    },
    {
     "name": "stderr",
     "output_type": "stream",
     "text": [
      "\n"
     ]
    },
    {
     "name": "stdout",
     "output_type": "stream",
     "text": [
      "\n",
      "      Epoch    GPU_mem   box_loss   cls_loss   dfl_loss  Instances       Size\n"
     ]
    },
    {
     "name": "stderr",
     "output_type": "stream",
     "text": [
      "     23/120      4.27G      1.579       1.83      1.433          1        640: 100%|██████████| 2003/2003 [07:38<00:00,  4.37it/s]\n",
      "                 Class     Images  Instances      Box(P          R      mAP50  mAP50-95): 100%|██████████| 289/289 [00:47<00:00,  6.03it/s]"
     ]
    },
    {
     "name": "stdout",
     "output_type": "stream",
     "text": [
      "                   all      10399       1029      0.728      0.716      0.743      0.475\n"
     ]
    },
    {
     "name": "stderr",
     "output_type": "stream",
     "text": [
      "\n"
     ]
    },
    {
     "name": "stdout",
     "output_type": "stream",
     "text": [
      "\n",
      "      Epoch    GPU_mem   box_loss   cls_loss   dfl_loss  Instances       Size\n"
     ]
    },
    {
     "name": "stderr",
     "output_type": "stream",
     "text": [
      "     24/120      4.26G      1.534      1.795      1.387         15        640: 100%|██████████| 2003/2003 [07:38<00:00,  4.37it/s]\n",
      "                 Class     Images  Instances      Box(P          R      mAP50  mAP50-95): 100%|██████████| 289/289 [00:47<00:00,  6.04it/s]"
     ]
    },
    {
     "name": "stdout",
     "output_type": "stream",
     "text": [
      "                   all      10399       1029      0.731      0.724      0.748      0.483\n"
     ]
    },
    {
     "name": "stderr",
     "output_type": "stream",
     "text": [
      "\n"
     ]
    },
    {
     "name": "stdout",
     "output_type": "stream",
     "text": [
      "\n",
      "      Epoch    GPU_mem   box_loss   cls_loss   dfl_loss  Instances       Size\n"
     ]
    },
    {
     "name": "stderr",
     "output_type": "stream",
     "text": [
      "     25/120       4.4G      1.549      1.763      1.409         14        640: 100%|██████████| 2003/2003 [07:39<00:00,  4.35it/s]\n",
      "                 Class     Images  Instances      Box(P          R      mAP50  mAP50-95): 100%|██████████| 289/289 [00:48<00:00,  5.95it/s]"
     ]
    },
    {
     "name": "stdout",
     "output_type": "stream",
     "text": [
      "                   all      10399       1029      0.743      0.716      0.755      0.481\n"
     ]
    },
    {
     "name": "stderr",
     "output_type": "stream",
     "text": [
      "\n"
     ]
    },
    {
     "name": "stdout",
     "output_type": "stream",
     "text": [
      "\n",
      "      Epoch    GPU_mem   box_loss   cls_loss   dfl_loss  Instances       Size\n"
     ]
    },
    {
     "name": "stderr",
     "output_type": "stream",
     "text": [
      "     26/120      4.39G      1.552      1.771      1.405          7        640: 100%|██████████| 2003/2003 [07:39<00:00,  4.36it/s]\n",
      "                 Class     Images  Instances      Box(P          R      mAP50  mAP50-95): 100%|██████████| 289/289 [00:48<00:00,  6.01it/s]"
     ]
    },
    {
     "name": "stdout",
     "output_type": "stream",
     "text": [
      "                   all      10399       1029      0.738      0.717      0.752      0.481\n"
     ]
    },
    {
     "name": "stderr",
     "output_type": "stream",
     "text": [
      "\n"
     ]
    },
    {
     "name": "stdout",
     "output_type": "stream",
     "text": [
      "\n",
      "      Epoch    GPU_mem   box_loss   cls_loss   dfl_loss  Instances       Size\n"
     ]
    },
    {
     "name": "stderr",
     "output_type": "stream",
     "text": [
      "     27/120      4.28G      1.528      1.752      1.382          2        640: 100%|██████████| 2003/2003 [07:37<00:00,  4.38it/s]\n",
      "                 Class     Images  Instances      Box(P          R      mAP50  mAP50-95): 100%|██████████| 289/289 [00:49<00:00,  5.80it/s]"
     ]
    },
    {
     "name": "stdout",
     "output_type": "stream",
     "text": [
      "                   all      10399       1029      0.746      0.724      0.758      0.485\n"
     ]
    },
    {
     "name": "stderr",
     "output_type": "stream",
     "text": [
      "\n"
     ]
    },
    {
     "name": "stdout",
     "output_type": "stream",
     "text": [
      "\n",
      "      Epoch    GPU_mem   box_loss   cls_loss   dfl_loss  Instances       Size\n"
     ]
    },
    {
     "name": "stderr",
     "output_type": "stream",
     "text": [
      "     28/120      4.41G      1.585      1.809      1.413          4        640: 100%|██████████| 2003/2003 [07:39<00:00,  4.36it/s]\n",
      "                 Class     Images  Instances      Box(P          R      mAP50  mAP50-95): 100%|██████████| 289/289 [00:47<00:00,  6.06it/s]"
     ]
    },
    {
     "name": "stdout",
     "output_type": "stream",
     "text": [
      "                   all      10399       1029      0.738      0.729      0.755      0.484\n"
     ]
    },
    {
     "name": "stderr",
     "output_type": "stream",
     "text": [
      "\n"
     ]
    },
    {
     "name": "stdout",
     "output_type": "stream",
     "text": [
      "\n",
      "      Epoch    GPU_mem   box_loss   cls_loss   dfl_loss  Instances       Size\n"
     ]
    },
    {
     "name": "stderr",
     "output_type": "stream",
     "text": [
      "     29/120       4.4G      1.539      1.743      1.399          5        640: 100%|██████████| 2003/2003 [07:38<00:00,  4.37it/s]\n",
      "                 Class     Images  Instances      Box(P          R      mAP50  mAP50-95): 100%|██████████| 289/289 [00:47<00:00,  6.08it/s]"
     ]
    },
    {
     "name": "stdout",
     "output_type": "stream",
     "text": [
      "                   all      10399       1029      0.742      0.719      0.755      0.484\n"
     ]
    },
    {
     "name": "stderr",
     "output_type": "stream",
     "text": [
      "\n"
     ]
    },
    {
     "name": "stdout",
     "output_type": "stream",
     "text": [
      "\n",
      "      Epoch    GPU_mem   box_loss   cls_loss   dfl_loss  Instances       Size\n"
     ]
    },
    {
     "name": "stderr",
     "output_type": "stream",
     "text": [
      "     30/120       4.3G      1.526       1.71       1.38          2        640: 100%|██████████| 2003/2003 [07:36<00:00,  4.39it/s]\n",
      "                 Class     Images  Instances      Box(P          R      mAP50  mAP50-95): 100%|██████████| 289/289 [00:47<00:00,  6.05it/s]"
     ]
    },
    {
     "name": "stdout",
     "output_type": "stream",
     "text": [
      "                   all      10399       1029      0.742      0.718      0.756      0.485\n"
     ]
    },
    {
     "name": "stderr",
     "output_type": "stream",
     "text": [
      "\n"
     ]
    },
    {
     "name": "stdout",
     "output_type": "stream",
     "text": [
      "\n",
      "      Epoch    GPU_mem   box_loss   cls_loss   dfl_loss  Instances       Size\n"
     ]
    },
    {
     "name": "stderr",
     "output_type": "stream",
     "text": [
      "     31/120      4.39G      1.536      1.776      1.398          5        640: 100%|██████████| 2003/2003 [07:36<00:00,  4.39it/s]\n",
      "                 Class     Images  Instances      Box(P          R      mAP50  mAP50-95): 100%|██████████| 289/289 [00:47<00:00,  6.08it/s]"
     ]
    },
    {
     "name": "stdout",
     "output_type": "stream",
     "text": [
      "                   all      10399       1029      0.738      0.715      0.757      0.487\n"
     ]
    },
    {
     "name": "stderr",
     "output_type": "stream",
     "text": [
      "\n"
     ]
    },
    {
     "name": "stdout",
     "output_type": "stream",
     "text": [
      "\n",
      "      Epoch    GPU_mem   box_loss   cls_loss   dfl_loss  Instances       Size\n"
     ]
    },
    {
     "name": "stderr",
     "output_type": "stream",
     "text": [
      "     32/120      4.26G      1.551      1.734      1.406         18        640: 100%|██████████| 2003/2003 [07:36<00:00,  4.38it/s]\n",
      "                 Class     Images  Instances      Box(P          R      mAP50  mAP50-95): 100%|██████████| 289/289 [00:47<00:00,  6.04it/s]"
     ]
    },
    {
     "name": "stdout",
     "output_type": "stream",
     "text": [
      "                   all      10399       1029      0.732      0.718      0.759      0.489\n"
     ]
    },
    {
     "name": "stderr",
     "output_type": "stream",
     "text": [
      "\n"
     ]
    },
    {
     "name": "stdout",
     "output_type": "stream",
     "text": [
      "\n",
      "      Epoch    GPU_mem   box_loss   cls_loss   dfl_loss  Instances       Size\n"
     ]
    },
    {
     "name": "stderr",
     "output_type": "stream",
     "text": [
      "     33/120       4.4G      1.538      1.734      1.393          8        640: 100%|██████████| 2003/2003 [07:36<00:00,  4.39it/s]\n",
      "                 Class     Images  Instances      Box(P          R      mAP50  mAP50-95): 100%|██████████| 289/289 [00:47<00:00,  6.07it/s]"
     ]
    },
    {
     "name": "stdout",
     "output_type": "stream",
     "text": [
      "                   all      10399       1029      0.736      0.713       0.76      0.492\n"
     ]
    },
    {
     "name": "stderr",
     "output_type": "stream",
     "text": [
      "\n"
     ]
    },
    {
     "name": "stdout",
     "output_type": "stream",
     "text": [
      "\n",
      "      Epoch    GPU_mem   box_loss   cls_loss   dfl_loss  Instances       Size\n"
     ]
    },
    {
     "name": "stderr",
     "output_type": "stream",
     "text": [
      "     34/120      4.28G      1.508      1.723      1.384          3        640: 100%|██████████| 2003/2003 [07:37<00:00,  4.38it/s]\n",
      "                 Class     Images  Instances      Box(P          R      mAP50  mAP50-95): 100%|██████████| 289/289 [00:47<00:00,  6.06it/s]"
     ]
    },
    {
     "name": "stdout",
     "output_type": "stream",
     "text": [
      "                   all      10399       1029      0.751      0.704      0.761      0.493\n"
     ]
    },
    {
     "name": "stderr",
     "output_type": "stream",
     "text": [
      "\n"
     ]
    },
    {
     "name": "stdout",
     "output_type": "stream",
     "text": [
      "\n",
      "      Epoch    GPU_mem   box_loss   cls_loss   dfl_loss  Instances       Size\n"
     ]
    },
    {
     "name": "stderr",
     "output_type": "stream",
     "text": [
      "     35/120      4.27G      1.524      1.688      1.384          3        640: 100%|██████████| 2003/2003 [07:36<00:00,  4.39it/s]\n",
      "                 Class     Images  Instances      Box(P          R      mAP50  mAP50-95): 100%|██████████| 289/289 [00:47<00:00,  6.06it/s]"
     ]
    },
    {
     "name": "stdout",
     "output_type": "stream",
     "text": [
      "                   all      10399       1029       0.75      0.703      0.763      0.496\n"
     ]
    },
    {
     "name": "stderr",
     "output_type": "stream",
     "text": [
      "\n"
     ]
    },
    {
     "name": "stdout",
     "output_type": "stream",
     "text": [
      "\n",
      "      Epoch    GPU_mem   box_loss   cls_loss   dfl_loss  Instances       Size\n"
     ]
    },
    {
     "name": "stderr",
     "output_type": "stream",
     "text": [
      "     36/120      4.26G        1.5      1.614      1.372          1        640: 100%|██████████| 2003/2003 [07:37<00:00,  4.38it/s]\n",
      "                 Class     Images  Instances      Box(P          R      mAP50  mAP50-95): 100%|██████████| 289/289 [00:47<00:00,  6.04it/s]"
     ]
    },
    {
     "name": "stdout",
     "output_type": "stream",
     "text": [
      "                   all      10399       1029      0.756        0.7      0.765      0.498\n"
     ]
    },
    {
     "name": "stderr",
     "output_type": "stream",
     "text": [
      "\n"
     ]
    },
    {
     "name": "stdout",
     "output_type": "stream",
     "text": [
      "\n",
      "      Epoch    GPU_mem   box_loss   cls_loss   dfl_loss  Instances       Size\n"
     ]
    },
    {
     "name": "stderr",
     "output_type": "stream",
     "text": [
      "     37/120      4.28G      1.507      1.665      1.376          2        640: 100%|██████████| 2003/2003 [07:38<00:00,  4.36it/s]\n",
      "                 Class     Images  Instances      Box(P          R      mAP50  mAP50-95): 100%|██████████| 289/289 [00:47<00:00,  6.06it/s]"
     ]
    },
    {
     "name": "stdout",
     "output_type": "stream",
     "text": [
      "                   all      10399       1029      0.758        0.7      0.769      0.499\n"
     ]
    },
    {
     "name": "stderr",
     "output_type": "stream",
     "text": [
      "\n"
     ]
    },
    {
     "name": "stdout",
     "output_type": "stream",
     "text": [
      "\n",
      "      Epoch    GPU_mem   box_loss   cls_loss   dfl_loss  Instances       Size\n"
     ]
    },
    {
     "name": "stderr",
     "output_type": "stream",
     "text": [
      "     38/120      4.27G      1.514      1.685      1.382          4        640: 100%|██████████| 2003/2003 [07:37<00:00,  4.37it/s]\n",
      "                 Class     Images  Instances      Box(P          R      mAP50  mAP50-95): 100%|██████████| 289/289 [00:47<00:00,  6.04it/s]"
     ]
    },
    {
     "name": "stdout",
     "output_type": "stream",
     "text": [
      "                   all      10399       1029      0.758      0.707      0.768      0.501\n"
     ]
    },
    {
     "name": "stderr",
     "output_type": "stream",
     "text": [
      "\n"
     ]
    },
    {
     "name": "stdout",
     "output_type": "stream",
     "text": [
      "\n",
      "      Epoch    GPU_mem   box_loss   cls_loss   dfl_loss  Instances       Size\n"
     ]
    },
    {
     "name": "stderr",
     "output_type": "stream",
     "text": [
      "     39/120      4.27G      1.494      1.666      1.368          0        640: 100%|██████████| 2003/2003 [07:37<00:00,  4.38it/s]\n",
      "                 Class     Images  Instances      Box(P          R      mAP50  mAP50-95): 100%|██████████| 289/289 [00:47<00:00,  6.05it/s]"
     ]
    },
    {
     "name": "stdout",
     "output_type": "stream",
     "text": [
      "                   all      10399       1029      0.769      0.696      0.769        0.5\n"
     ]
    },
    {
     "name": "stderr",
     "output_type": "stream",
     "text": [
      "\n"
     ]
    },
    {
     "name": "stdout",
     "output_type": "stream",
     "text": [
      "\n",
      "      Epoch    GPU_mem   box_loss   cls_loss   dfl_loss  Instances       Size\n"
     ]
    },
    {
     "name": "stderr",
     "output_type": "stream",
     "text": [
      "     40/120      4.26G      1.507      1.641       1.37          3        640: 100%|██████████| 2003/2003 [07:37<00:00,  4.37it/s]\n",
      "                 Class     Images  Instances      Box(P          R      mAP50  mAP50-95): 100%|██████████| 289/289 [00:47<00:00,  6.04it/s]"
     ]
    },
    {
     "name": "stdout",
     "output_type": "stream",
     "text": [
      "                   all      10399       1029      0.768      0.696       0.77      0.503\n"
     ]
    },
    {
     "name": "stderr",
     "output_type": "stream",
     "text": [
      "\n"
     ]
    },
    {
     "name": "stdout",
     "output_type": "stream",
     "text": [
      "\n",
      "      Epoch    GPU_mem   box_loss   cls_loss   dfl_loss  Instances       Size\n"
     ]
    },
    {
     "name": "stderr",
     "output_type": "stream",
     "text": [
      "     41/120      4.27G      1.517      1.712      1.375          9        640: 100%|██████████| 2003/2003 [07:38<00:00,  4.37it/s]\n",
      "                 Class     Images  Instances      Box(P          R      mAP50  mAP50-95): 100%|██████████| 289/289 [00:47<00:00,  6.05it/s]"
     ]
    },
    {
     "name": "stdout",
     "output_type": "stream",
     "text": [
      "                   all      10399       1029      0.768      0.693       0.77      0.504\n"
     ]
    },
    {
     "name": "stderr",
     "output_type": "stream",
     "text": [
      "\n"
     ]
    },
    {
     "name": "stdout",
     "output_type": "stream",
     "text": [
      "\n",
      "      Epoch    GPU_mem   box_loss   cls_loss   dfl_loss  Instances       Size\n"
     ]
    },
    {
     "name": "stderr",
     "output_type": "stream",
     "text": [
      "     42/120      4.27G      1.495      1.608      1.374          7        640: 100%|██████████| 2003/2003 [07:38<00:00,  4.37it/s]\n",
      "                 Class     Images  Instances      Box(P          R      mAP50  mAP50-95): 100%|██████████| 289/289 [00:47<00:00,  6.05it/s]"
     ]
    },
    {
     "name": "stdout",
     "output_type": "stream",
     "text": [
      "                   all      10399       1029      0.771      0.693      0.771      0.505\n"
     ]
    },
    {
     "name": "stderr",
     "output_type": "stream",
     "text": [
      "\n"
     ]
    },
    {
     "name": "stdout",
     "output_type": "stream",
     "text": [
      "\n",
      "      Epoch    GPU_mem   box_loss   cls_loss   dfl_loss  Instances       Size\n"
     ]
    },
    {
     "name": "stderr",
     "output_type": "stream",
     "text": [
      "     43/120      4.27G      1.518      1.655      1.386          7        640: 100%|██████████| 2003/2003 [07:40<00:00,  4.35it/s]\n",
      "                 Class     Images  Instances      Box(P          R      mAP50  mAP50-95): 100%|██████████| 289/289 [00:47<00:00,  6.05it/s]"
     ]
    },
    {
     "name": "stdout",
     "output_type": "stream",
     "text": [
      "                   all      10399       1029      0.765      0.697       0.77      0.504\n"
     ]
    },
    {
     "name": "stderr",
     "output_type": "stream",
     "text": [
      "\n"
     ]
    },
    {
     "name": "stdout",
     "output_type": "stream",
     "text": [
      "\n",
      "      Epoch    GPU_mem   box_loss   cls_loss   dfl_loss  Instances       Size\n"
     ]
    },
    {
     "name": "stderr",
     "output_type": "stream",
     "text": [
      "     44/120      4.26G      1.502      1.627      1.368          3        640: 100%|██████████| 2003/2003 [07:38<00:00,  4.36it/s]\n",
      "                 Class     Images  Instances      Box(P          R      mAP50  mAP50-95): 100%|██████████| 289/289 [00:47<00:00,  6.05it/s]"
     ]
    },
    {
     "name": "stdout",
     "output_type": "stream",
     "text": [
      "                   all      10399       1029      0.768        0.7      0.771      0.504\n"
     ]
    },
    {
     "name": "stderr",
     "output_type": "stream",
     "text": [
      "\n"
     ]
    },
    {
     "name": "stdout",
     "output_type": "stream",
     "text": [
      "\n",
      "      Epoch    GPU_mem   box_loss   cls_loss   dfl_loss  Instances       Size\n"
     ]
    },
    {
     "name": "stderr",
     "output_type": "stream",
     "text": [
      "     45/120       4.4G      1.485      1.629      1.356          1        640: 100%|██████████| 2003/2003 [07:38<00:00,  4.37it/s]\n",
      "                 Class     Images  Instances      Box(P          R      mAP50  mAP50-95): 100%|██████████| 289/289 [00:47<00:00,  6.04it/s]"
     ]
    },
    {
     "name": "stdout",
     "output_type": "stream",
     "text": [
      "                   all      10399       1029      0.768      0.704      0.772      0.505\n"
     ]
    },
    {
     "name": "stderr",
     "output_type": "stream",
     "text": [
      "\n"
     ]
    },
    {
     "name": "stdout",
     "output_type": "stream",
     "text": [
      "\n",
      "      Epoch    GPU_mem   box_loss   cls_loss   dfl_loss  Instances       Size\n"
     ]
    },
    {
     "name": "stderr",
     "output_type": "stream",
     "text": [
      "     46/120      4.27G      1.463       1.59      1.347          1        640: 100%|██████████| 2003/2003 [07:39<00:00,  4.36it/s]\n",
      "                 Class     Images  Instances      Box(P          R      mAP50  mAP50-95): 100%|██████████| 289/289 [00:48<00:00,  6.02it/s]"
     ]
    },
    {
     "name": "stdout",
     "output_type": "stream",
     "text": [
      "                   all      10399       1029      0.772      0.704      0.774      0.507\n"
     ]
    },
    {
     "name": "stderr",
     "output_type": "stream",
     "text": [
      "\n"
     ]
    },
    {
     "name": "stdout",
     "output_type": "stream",
     "text": [
      "\n",
      "      Epoch    GPU_mem   box_loss   cls_loss   dfl_loss  Instances       Size\n"
     ]
    },
    {
     "name": "stderr",
     "output_type": "stream",
     "text": [
      "     47/120      4.28G      1.495      1.593      1.367          7        640: 100%|██████████| 2003/2003 [07:38<00:00,  4.37it/s]\n",
      "                 Class     Images  Instances      Box(P          R      mAP50  mAP50-95): 100%|██████████| 289/289 [00:47<00:00,  6.03it/s]"
     ]
    },
    {
     "name": "stdout",
     "output_type": "stream",
     "text": [
      "                   all      10399       1029      0.771      0.702      0.774      0.507\n"
     ]
    },
    {
     "name": "stderr",
     "output_type": "stream",
     "text": [
      "\n"
     ]
    },
    {
     "name": "stdout",
     "output_type": "stream",
     "text": [
      "\n",
      "      Epoch    GPU_mem   box_loss   cls_loss   dfl_loss  Instances       Size\n"
     ]
    },
    {
     "name": "stderr",
     "output_type": "stream",
     "text": [
      "     48/120      4.26G      1.457      1.569      1.337          6        640: 100%|██████████| 2003/2003 [07:39<00:00,  4.36it/s]\n",
      "                 Class     Images  Instances      Box(P          R      mAP50  mAP50-95): 100%|██████████| 289/289 [00:47<00:00,  6.02it/s]"
     ]
    },
    {
     "name": "stdout",
     "output_type": "stream",
     "text": [
      "                   all      10399       1029      0.759      0.709      0.776      0.507\n"
     ]
    },
    {
     "name": "stderr",
     "output_type": "stream",
     "text": [
      "\n"
     ]
    },
    {
     "name": "stdout",
     "output_type": "stream",
     "text": [
      "\n",
      "      Epoch    GPU_mem   box_loss   cls_loss   dfl_loss  Instances       Size\n"
     ]
    },
    {
     "name": "stderr",
     "output_type": "stream",
     "text": [
      "     49/120      4.27G      1.485      1.616      1.359          3        640: 100%|██████████| 2003/2003 [07:39<00:00,  4.36it/s]\n",
      "                 Class     Images  Instances      Box(P          R      mAP50  mAP50-95): 100%|██████████| 289/289 [00:48<00:00,  6.01it/s]"
     ]
    },
    {
     "name": "stdout",
     "output_type": "stream",
     "text": [
      "                   all      10399       1029      0.761      0.709      0.776      0.507\n"
     ]
    },
    {
     "name": "stderr",
     "output_type": "stream",
     "text": [
      "\n"
     ]
    },
    {
     "name": "stdout",
     "output_type": "stream",
     "text": [
      "\n",
      "      Epoch    GPU_mem   box_loss   cls_loss   dfl_loss  Instances       Size\n"
     ]
    },
    {
     "name": "stderr",
     "output_type": "stream",
     "text": [
      "     50/120       4.4G      1.462      1.536      1.351          3        640: 100%|██████████| 2003/2003 [07:39<00:00,  4.36it/s]\n",
      "                 Class     Images  Instances      Box(P          R      mAP50  mAP50-95): 100%|██████████| 289/289 [00:48<00:00,  5.99it/s]"
     ]
    },
    {
     "name": "stdout",
     "output_type": "stream",
     "text": [
      "                   all      10399       1029      0.764      0.713      0.777      0.509\n"
     ]
    },
    {
     "name": "stderr",
     "output_type": "stream",
     "text": [
      "\n"
     ]
    },
    {
     "name": "stdout",
     "output_type": "stream",
     "text": [
      "\n",
      "      Epoch    GPU_mem   box_loss   cls_loss   dfl_loss  Instances       Size\n"
     ]
    },
    {
     "name": "stderr",
     "output_type": "stream",
     "text": [
      "     51/120      4.28G      1.467      1.574      1.345          2        640: 100%|██████████| 2003/2003 [07:38<00:00,  4.37it/s]\n",
      "                 Class     Images  Instances      Box(P          R      mAP50  mAP50-95): 100%|██████████| 289/289 [00:47<00:00,  6.10it/s]"
     ]
    },
    {
     "name": "stdout",
     "output_type": "stream",
     "text": [
      "                   all      10399       1029      0.761      0.716      0.779      0.511\n"
     ]
    },
    {
     "name": "stderr",
     "output_type": "stream",
     "text": [
      "\n"
     ]
    },
    {
     "name": "stdout",
     "output_type": "stream",
     "text": [
      "\n",
      "      Epoch    GPU_mem   box_loss   cls_loss   dfl_loss  Instances       Size\n"
     ]
    },
    {
     "name": "stderr",
     "output_type": "stream",
     "text": [
      "     52/120      4.26G      1.471       1.58      1.347          4        640: 100%|██████████| 2003/2003 [07:36<00:00,  4.39it/s]\n",
      "                 Class     Images  Instances      Box(P          R      mAP50  mAP50-95): 100%|██████████| 289/289 [00:47<00:00,  6.03it/s]"
     ]
    },
    {
     "name": "stdout",
     "output_type": "stream",
     "text": [
      "                   all      10399       1029      0.762      0.715       0.78      0.511\n"
     ]
    },
    {
     "name": "stderr",
     "output_type": "stream",
     "text": [
      "\n"
     ]
    },
    {
     "name": "stdout",
     "output_type": "stream",
     "text": [
      "\n",
      "      Epoch    GPU_mem   box_loss   cls_loss   dfl_loss  Instances       Size\n"
     ]
    },
    {
     "name": "stderr",
     "output_type": "stream",
     "text": [
      "     53/120      4.28G      1.427      1.548      1.323          5        640: 100%|██████████| 2003/2003 [07:36<00:00,  4.39it/s]\n",
      "                 Class     Images  Instances      Box(P          R      mAP50  mAP50-95): 100%|██████████| 289/289 [00:47<00:00,  6.10it/s]"
     ]
    },
    {
     "name": "stdout",
     "output_type": "stream",
     "text": [
      "                   all      10399       1029       0.76      0.717      0.781      0.512\n"
     ]
    },
    {
     "name": "stderr",
     "output_type": "stream",
     "text": [
      "\n"
     ]
    },
    {
     "name": "stdout",
     "output_type": "stream",
     "text": [
      "\n",
      "      Epoch    GPU_mem   box_loss   cls_loss   dfl_loss  Instances       Size\n"
     ]
    },
    {
     "name": "stderr",
     "output_type": "stream",
     "text": [
      "     54/120      4.27G      1.469      1.568      1.353          4        640: 100%|██████████| 2003/2003 [07:37<00:00,  4.38it/s]\n",
      "                 Class     Images  Instances      Box(P          R      mAP50  mAP50-95): 100%|██████████| 289/289 [00:47<00:00,  6.04it/s]"
     ]
    },
    {
     "name": "stdout",
     "output_type": "stream",
     "text": [
      "                   all      10399       1029      0.763      0.719      0.782      0.514\n"
     ]
    },
    {
     "name": "stderr",
     "output_type": "stream",
     "text": [
      "\n"
     ]
    },
    {
     "name": "stdout",
     "output_type": "stream",
     "text": [
      "\n",
      "      Epoch    GPU_mem   box_loss   cls_loss   dfl_loss  Instances       Size\n"
     ]
    },
    {
     "name": "stderr",
     "output_type": "stream",
     "text": [
      "     55/120      4.32G       1.42      1.473      1.313          5        640: 100%|██████████| 2003/2003 [07:35<00:00,  4.39it/s]\n",
      "                 Class     Images  Instances      Box(P          R      mAP50  mAP50-95): 100%|██████████| 289/289 [00:47<00:00,  6.11it/s]"
     ]
    },
    {
     "name": "stdout",
     "output_type": "stream",
     "text": [
      "                   all      10399       1029      0.763      0.719      0.783      0.516\n"
     ]
    },
    {
     "name": "stderr",
     "output_type": "stream",
     "text": [
      "\n"
     ]
    },
    {
     "name": "stdout",
     "output_type": "stream",
     "text": [
      "\n",
      "      Epoch    GPU_mem   box_loss   cls_loss   dfl_loss  Instances       Size\n"
     ]
    },
    {
     "name": "stderr",
     "output_type": "stream",
     "text": [
      "     56/120      4.26G      1.447      1.547      1.343          5        640: 100%|██████████| 2003/2003 [07:36<00:00,  4.38it/s]\n",
      "                 Class     Images  Instances      Box(P          R      mAP50  mAP50-95): 100%|██████████| 289/289 [00:47<00:00,  6.05it/s]"
     ]
    },
    {
     "name": "stdout",
     "output_type": "stream",
     "text": [
      "                   all      10399       1029      0.761       0.72      0.782      0.516\n"
     ]
    },
    {
     "name": "stderr",
     "output_type": "stream",
     "text": [
      "\n"
     ]
    },
    {
     "name": "stdout",
     "output_type": "stream",
     "text": [
      "\n",
      "      Epoch    GPU_mem   box_loss   cls_loss   dfl_loss  Instances       Size\n"
     ]
    },
    {
     "name": "stderr",
     "output_type": "stream",
     "text": [
      "     57/120      4.27G      1.437      1.508      1.337          4        640: 100%|██████████| 2003/2003 [07:36<00:00,  4.39it/s]\n",
      "                 Class     Images  Instances      Box(P          R      mAP50  mAP50-95): 100%|██████████| 289/289 [00:47<00:00,  6.11it/s]"
     ]
    },
    {
     "name": "stdout",
     "output_type": "stream",
     "text": [
      "                   all      10399       1029      0.763      0.721      0.784      0.517\n"
     ]
    },
    {
     "name": "stderr",
     "output_type": "stream",
     "text": [
      "\n"
     ]
    },
    {
     "name": "stdout",
     "output_type": "stream",
     "text": [
      "\n",
      "      Epoch    GPU_mem   box_loss   cls_loss   dfl_loss  Instances       Size\n"
     ]
    },
    {
     "name": "stderr",
     "output_type": "stream",
     "text": [
      "     58/120      4.28G      1.442      1.545      1.333          3        640: 100%|██████████| 2003/2003 [07:36<00:00,  4.38it/s]\n",
      "                 Class     Images  Instances      Box(P          R      mAP50  mAP50-95): 100%|██████████| 289/289 [00:47<00:00,  6.04it/s]"
     ]
    },
    {
     "name": "stdout",
     "output_type": "stream",
     "text": [
      "                   all      10399       1029      0.767      0.722      0.785      0.518\n"
     ]
    },
    {
     "name": "stderr",
     "output_type": "stream",
     "text": [
      "\n"
     ]
    },
    {
     "name": "stdout",
     "output_type": "stream",
     "text": [
      "\n",
      "      Epoch    GPU_mem   box_loss   cls_loss   dfl_loss  Instances       Size\n"
     ]
    },
    {
     "name": "stderr",
     "output_type": "stream",
     "text": [
      "     59/120      4.28G      1.447      1.526      1.344          2        640: 100%|██████████| 2003/2003 [07:37<00:00,  4.38it/s]\n",
      "                 Class     Images  Instances      Box(P          R      mAP50  mAP50-95): 100%|██████████| 289/289 [00:47<00:00,  6.11it/s]"
     ]
    },
    {
     "name": "stdout",
     "output_type": "stream",
     "text": [
      "                   all      10399       1029      0.771      0.722      0.785      0.518\n"
     ]
    },
    {
     "name": "stderr",
     "output_type": "stream",
     "text": [
      "\n"
     ]
    },
    {
     "name": "stdout",
     "output_type": "stream",
     "text": [
      "\n",
      "      Epoch    GPU_mem   box_loss   cls_loss   dfl_loss  Instances       Size\n"
     ]
    },
    {
     "name": "stderr",
     "output_type": "stream",
     "text": [
      "     60/120      4.26G      1.429      1.485      1.321          6        640: 100%|██████████| 2003/2003 [07:37<00:00,  4.38it/s]\n",
      "                 Class     Images  Instances      Box(P          R      mAP50  mAP50-95): 100%|██████████| 289/289 [00:47<00:00,  6.06it/s]"
     ]
    },
    {
     "name": "stdout",
     "output_type": "stream",
     "text": [
      "                   all      10399       1029      0.774      0.719      0.784      0.519\n"
     ]
    },
    {
     "name": "stderr",
     "output_type": "stream",
     "text": [
      "\n"
     ]
    },
    {
     "name": "stdout",
     "output_type": "stream",
     "text": [
      "\n",
      "      Epoch    GPU_mem   box_loss   cls_loss   dfl_loss  Instances       Size\n"
     ]
    },
    {
     "name": "stderr",
     "output_type": "stream",
     "text": [
      "     61/120      4.28G      1.411      1.491      1.305          3        640: 100%|██████████| 2003/2003 [07:36<00:00,  4.38it/s]\n",
      "                 Class     Images  Instances      Box(P          R      mAP50  mAP50-95): 100%|██████████| 289/289 [00:47<00:00,  6.12it/s]"
     ]
    },
    {
     "name": "stdout",
     "output_type": "stream",
     "text": [
      "                   all      10399       1029      0.774      0.719      0.785      0.519\n"
     ]
    },
    {
     "name": "stderr",
     "output_type": "stream",
     "text": [
      "\n"
     ]
    },
    {
     "name": "stdout",
     "output_type": "stream",
     "text": [
      "\n",
      "      Epoch    GPU_mem   box_loss   cls_loss   dfl_loss  Instances       Size\n"
     ]
    },
    {
     "name": "stderr",
     "output_type": "stream",
     "text": [
      "     62/120      4.27G       1.42      1.493      1.306          3        640: 100%|██████████| 2003/2003 [07:36<00:00,  4.38it/s]\n",
      "                 Class     Images  Instances      Box(P          R      mAP50  mAP50-95): 100%|██████████| 289/289 [00:47<00:00,  6.06it/s]"
     ]
    },
    {
     "name": "stdout",
     "output_type": "stream",
     "text": [
      "                   all      10399       1029      0.767      0.724      0.786      0.521\n"
     ]
    },
    {
     "name": "stderr",
     "output_type": "stream",
     "text": [
      "\n"
     ]
    },
    {
     "name": "stdout",
     "output_type": "stream",
     "text": [
      "\n",
      "      Epoch    GPU_mem   box_loss   cls_loss   dfl_loss  Instances       Size\n"
     ]
    },
    {
     "name": "stderr",
     "output_type": "stream",
     "text": [
      "     63/120      4.27G      1.417      1.493      1.309          7        640: 100%|██████████| 2003/2003 [07:36<00:00,  4.38it/s]\n",
      "                 Class     Images  Instances      Box(P          R      mAP50  mAP50-95): 100%|██████████| 289/289 [00:47<00:00,  6.11it/s]"
     ]
    },
    {
     "name": "stdout",
     "output_type": "stream",
     "text": [
      "                   all      10399       1029      0.771      0.723      0.788      0.522\n"
     ]
    },
    {
     "name": "stderr",
     "output_type": "stream",
     "text": [
      "\n"
     ]
    },
    {
     "name": "stdout",
     "output_type": "stream",
     "text": [
      "\n",
      "      Epoch    GPU_mem   box_loss   cls_loss   dfl_loss  Instances       Size\n"
     ]
    },
    {
     "name": "stderr",
     "output_type": "stream",
     "text": [
      "     64/120      4.26G      1.388       1.47      1.282          4        640: 100%|██████████| 2003/2003 [07:37<00:00,  4.38it/s]\n",
      "                 Class     Images  Instances      Box(P          R      mAP50  mAP50-95): 100%|██████████| 289/289 [00:47<00:00,  6.04it/s]"
     ]
    },
    {
     "name": "stdout",
     "output_type": "stream",
     "text": [
      "                   all      10399       1029      0.771      0.722      0.787      0.523\n"
     ]
    },
    {
     "name": "stderr",
     "output_type": "stream",
     "text": [
      "\n"
     ]
    },
    {
     "name": "stdout",
     "output_type": "stream",
     "text": [
      "\n",
      "      Epoch    GPU_mem   box_loss   cls_loss   dfl_loss  Instances       Size\n"
     ]
    },
    {
     "name": "stderr",
     "output_type": "stream",
     "text": [
      "     65/120      4.27G      1.431       1.48      1.329          6        640: 100%|██████████| 2003/2003 [07:37<00:00,  4.38it/s]\n",
      "                 Class     Images  Instances      Box(P          R      mAP50  mAP50-95): 100%|██████████| 289/289 [00:47<00:00,  6.12it/s]"
     ]
    },
    {
     "name": "stdout",
     "output_type": "stream",
     "text": [
      "                   all      10399       1029      0.775      0.723       0.79      0.525\n"
     ]
    },
    {
     "name": "stderr",
     "output_type": "stream",
     "text": [
      "\n"
     ]
    },
    {
     "name": "stdout",
     "output_type": "stream",
     "text": [
      "\n",
      "      Epoch    GPU_mem   box_loss   cls_loss   dfl_loss  Instances       Size\n"
     ]
    },
    {
     "name": "stderr",
     "output_type": "stream",
     "text": [
      "     66/120      4.27G      1.417      1.446      1.314          2        640: 100%|██████████| 2003/2003 [07:37<00:00,  4.38it/s]\n",
      "                 Class     Images  Instances      Box(P          R      mAP50  mAP50-95): 100%|██████████| 289/289 [00:47<00:00,  6.06it/s]"
     ]
    },
    {
     "name": "stdout",
     "output_type": "stream",
     "text": [
      "                   all      10399       1029      0.776      0.722      0.791      0.525\n"
     ]
    },
    {
     "name": "stderr",
     "output_type": "stream",
     "text": [
      "\n"
     ]
    },
    {
     "name": "stdout",
     "output_type": "stream",
     "text": [
      "\n",
      "      Epoch    GPU_mem   box_loss   cls_loss   dfl_loss  Instances       Size\n"
     ]
    },
    {
     "name": "stderr",
     "output_type": "stream",
     "text": [
      "     67/120      4.28G      1.441      1.478       1.34          6        640: 100%|██████████| 2003/2003 [07:36<00:00,  4.38it/s]\n",
      "                 Class     Images  Instances      Box(P          R      mAP50  mAP50-95): 100%|██████████| 289/289 [00:47<00:00,  6.12it/s]"
     ]
    },
    {
     "name": "stdout",
     "output_type": "stream",
     "text": [
      "                   all      10399       1029      0.778      0.724      0.792      0.526\n"
     ]
    },
    {
     "name": "stderr",
     "output_type": "stream",
     "text": [
      "\n"
     ]
    },
    {
     "name": "stdout",
     "output_type": "stream",
     "text": [
      "\n",
      "      Epoch    GPU_mem   box_loss   cls_loss   dfl_loss  Instances       Size\n"
     ]
    },
    {
     "name": "stderr",
     "output_type": "stream",
     "text": [
      "     68/120      4.18G      1.424      1.468      1.335          2        640: 100%|██████████| 2003/2003 [07:37<00:00,  4.38it/s]\n",
      "                 Class     Images  Instances      Box(P          R      mAP50  mAP50-95): 100%|██████████| 289/289 [00:47<00:00,  6.06it/s]"
     ]
    },
    {
     "name": "stdout",
     "output_type": "stream",
     "text": [
      "                   all      10399       1029      0.775      0.724      0.792      0.526\n"
     ]
    },
    {
     "name": "stderr",
     "output_type": "stream",
     "text": [
      "\n"
     ]
    },
    {
     "name": "stdout",
     "output_type": "stream",
     "text": [
      "\n",
      "      Epoch    GPU_mem   box_loss   cls_loss   dfl_loss  Instances       Size\n"
     ]
    },
    {
     "name": "stderr",
     "output_type": "stream",
     "text": [
      "     69/120      4.27G      1.392      1.443      1.296          5        640: 100%|██████████| 2003/2003 [07:36<00:00,  4.39it/s]\n",
      "                 Class     Images  Instances      Box(P          R      mAP50  mAP50-95): 100%|██████████| 289/289 [00:47<00:00,  6.13it/s]"
     ]
    },
    {
     "name": "stdout",
     "output_type": "stream",
     "text": [
      "                   all      10399       1029      0.771      0.735      0.793      0.528\n"
     ]
    },
    {
     "name": "stderr",
     "output_type": "stream",
     "text": [
      "\n"
     ]
    },
    {
     "name": "stdout",
     "output_type": "stream",
     "text": [
      "\n",
      "      Epoch    GPU_mem   box_loss   cls_loss   dfl_loss  Instances       Size\n"
     ]
    },
    {
     "name": "stderr",
     "output_type": "stream",
     "text": [
      "     70/120       4.4G      1.412       1.43      1.318          5        640: 100%|██████████| 2003/2003 [07:36<00:00,  4.38it/s]\n",
      "                 Class     Images  Instances      Box(P          R      mAP50  mAP50-95): 100%|██████████| 289/289 [00:47<00:00,  6.08it/s]"
     ]
    },
    {
     "name": "stdout",
     "output_type": "stream",
     "text": [
      "                   all      10399       1029      0.774      0.733      0.794      0.528\n"
     ]
    },
    {
     "name": "stderr",
     "output_type": "stream",
     "text": [
      "\n"
     ]
    },
    {
     "name": "stdout",
     "output_type": "stream",
     "text": [
      "\n",
      "      Epoch    GPU_mem   box_loss   cls_loss   dfl_loss  Instances       Size\n"
     ]
    },
    {
     "name": "stderr",
     "output_type": "stream",
     "text": [
      "     71/120      4.27G      1.412      1.432      1.319          3        640: 100%|██████████| 2003/2003 [07:37<00:00,  4.38it/s]\n",
      "                 Class     Images  Instances      Box(P          R      mAP50  mAP50-95): 100%|██████████| 289/289 [00:47<00:00,  6.13it/s]"
     ]
    },
    {
     "name": "stdout",
     "output_type": "stream",
     "text": [
      "                   all      10399       1029       0.78      0.731      0.798      0.529\n"
     ]
    },
    {
     "name": "stderr",
     "output_type": "stream",
     "text": [
      "\n"
     ]
    },
    {
     "name": "stdout",
     "output_type": "stream",
     "text": [
      "\n",
      "      Epoch    GPU_mem   box_loss   cls_loss   dfl_loss  Instances       Size\n"
     ]
    },
    {
     "name": "stderr",
     "output_type": "stream",
     "text": [
      "     72/120      4.26G      1.393      1.448      1.303          2        640: 100%|██████████| 2003/2003 [07:37<00:00,  4.38it/s]\n",
      "                 Class     Images  Instances      Box(P          R      mAP50  mAP50-95): 100%|██████████| 289/289 [00:47<00:00,  6.06it/s]"
     ]
    },
    {
     "name": "stdout",
     "output_type": "stream",
     "text": [
      "                   all      10399       1029      0.774      0.735        0.8      0.531\n"
     ]
    },
    {
     "name": "stderr",
     "output_type": "stream",
     "text": [
      "\n"
     ]
    },
    {
     "name": "stdout",
     "output_type": "stream",
     "text": [
      "\n",
      "      Epoch    GPU_mem   box_loss   cls_loss   dfl_loss  Instances       Size\n"
     ]
    },
    {
     "name": "stderr",
     "output_type": "stream",
     "text": [
      "     73/120      4.27G      1.398      1.443      1.312          2        640: 100%|██████████| 2003/2003 [07:38<00:00,  4.37it/s]\n",
      "                 Class     Images  Instances      Box(P          R      mAP50  mAP50-95): 100%|██████████| 289/289 [00:49<00:00,  5.85it/s]\n"
     ]
    },
    {
     "name": "stdout",
     "output_type": "stream",
     "text": [
      "                   all      10399       1029      0.777      0.736      0.801      0.532\n",
      "\n",
      "      Epoch    GPU_mem   box_loss   cls_loss   dfl_loss  Instances       Size\n"
     ]
    },
    {
     "name": "stderr",
     "output_type": "stream",
     "text": [
      "     74/120      4.27G      1.383      1.403      1.296          2        640: 100%|██████████| 2003/2003 [07:38<00:00,  4.37it/s]\n",
      "                 Class     Images  Instances      Box(P          R      mAP50  mAP50-95): 100%|██████████| 289/289 [00:47<00:00,  6.10it/s]"
     ]
    },
    {
     "name": "stdout",
     "output_type": "stream",
     "text": [
      "                   all      10399       1029      0.778      0.732      0.802      0.533\n"
     ]
    },
    {
     "name": "stderr",
     "output_type": "stream",
     "text": [
      "\n"
     ]
    },
    {
     "name": "stdout",
     "output_type": "stream",
     "text": [
      "\n",
      "      Epoch    GPU_mem   box_loss   cls_loss   dfl_loss  Instances       Size\n"
     ]
    },
    {
     "name": "stderr",
     "output_type": "stream",
     "text": [
      "     75/120      4.27G      1.381      1.383      1.302          8        640: 100%|██████████| 2003/2003 [07:36<00:00,  4.39it/s]\n",
      "                 Class     Images  Instances      Box(P          R      mAP50  mAP50-95): 100%|██████████| 289/289 [00:47<00:00,  6.12it/s]"
     ]
    },
    {
     "name": "stdout",
     "output_type": "stream",
     "text": [
      "                   all      10399       1029      0.781      0.734      0.802      0.534\n"
     ]
    },
    {
     "name": "stderr",
     "output_type": "stream",
     "text": [
      "\n"
     ]
    },
    {
     "name": "stdout",
     "output_type": "stream",
     "text": [
      "\n",
      "      Epoch    GPU_mem   box_loss   cls_loss   dfl_loss  Instances       Size\n"
     ]
    },
    {
     "name": "stderr",
     "output_type": "stream",
     "text": [
      "     76/120      4.26G      1.399      1.426       1.31          0        640: 100%|██████████| 2003/2003 [07:37<00:00,  4.38it/s]\n",
      "                 Class     Images  Instances      Box(P          R      mAP50  mAP50-95): 100%|██████████| 289/289 [00:47<00:00,  6.10it/s]"
     ]
    },
    {
     "name": "stdout",
     "output_type": "stream",
     "text": [
      "                   all      10399       1029      0.779      0.734      0.803      0.534\n"
     ]
    },
    {
     "name": "stderr",
     "output_type": "stream",
     "text": [
      "\n"
     ]
    },
    {
     "name": "stdout",
     "output_type": "stream",
     "text": [
      "\n",
      "      Epoch    GPU_mem   box_loss   cls_loss   dfl_loss  Instances       Size\n"
     ]
    },
    {
     "name": "stderr",
     "output_type": "stream",
     "text": [
      "     77/120       4.4G      1.414      1.396      1.318          3        640: 100%|██████████| 2003/2003 [07:38<00:00,  4.37it/s]\n",
      "                 Class     Images  Instances      Box(P          R      mAP50  mAP50-95): 100%|██████████| 289/289 [00:47<00:00,  6.12it/s]"
     ]
    },
    {
     "name": "stdout",
     "output_type": "stream",
     "text": [
      "                   all      10399       1029      0.778      0.733      0.805      0.535\n"
     ]
    },
    {
     "name": "stderr",
     "output_type": "stream",
     "text": [
      "\n"
     ]
    },
    {
     "name": "stdout",
     "output_type": "stream",
     "text": [
      "\n",
      "      Epoch    GPU_mem   box_loss   cls_loss   dfl_loss  Instances       Size\n"
     ]
    },
    {
     "name": "stderr",
     "output_type": "stream",
     "text": [
      "     78/120      4.27G      1.388      1.391      1.308         17        640: 100%|██████████| 2003/2003 [07:37<00:00,  4.38it/s]\n",
      "                 Class     Images  Instances      Box(P          R      mAP50  mAP50-95): 100%|██████████| 289/289 [00:47<00:00,  6.11it/s]"
     ]
    },
    {
     "name": "stdout",
     "output_type": "stream",
     "text": [
      "                   all      10399       1029       0.78      0.733      0.806      0.537\n"
     ]
    },
    {
     "name": "stderr",
     "output_type": "stream",
     "text": [
      "\n"
     ]
    },
    {
     "name": "stdout",
     "output_type": "stream",
     "text": [
      "\n",
      "      Epoch    GPU_mem   box_loss   cls_loss   dfl_loss  Instances       Size\n"
     ]
    },
    {
     "name": "stderr",
     "output_type": "stream",
     "text": [
      "     79/120      4.27G      1.366      1.418       1.28          6        640: 100%|██████████| 2003/2003 [07:36<00:00,  4.38it/s]\n",
      "                 Class     Images  Instances      Box(P          R      mAP50  mAP50-95): 100%|██████████| 289/289 [00:47<00:00,  6.13it/s]"
     ]
    },
    {
     "name": "stdout",
     "output_type": "stream",
     "text": [
      "                   all      10399       1029      0.782      0.735      0.807      0.537\n"
     ]
    },
    {
     "name": "stderr",
     "output_type": "stream",
     "text": [
      "\n"
     ]
    },
    {
     "name": "stdout",
     "output_type": "stream",
     "text": [
      "\n",
      "      Epoch    GPU_mem   box_loss   cls_loss   dfl_loss  Instances       Size\n"
     ]
    },
    {
     "name": "stderr",
     "output_type": "stream",
     "text": [
      "     80/120      4.26G      1.376      1.379      1.294         11        640: 100%|██████████| 2003/2003 [07:37<00:00,  4.37it/s]\n",
      "                 Class     Images  Instances      Box(P          R      mAP50  mAP50-95): 100%|██████████| 289/289 [00:47<00:00,  6.12it/s]"
     ]
    },
    {
     "name": "stdout",
     "output_type": "stream",
     "text": [
      "                   all      10399       1029      0.782      0.735      0.808      0.539\n"
     ]
    },
    {
     "name": "stderr",
     "output_type": "stream",
     "text": [
      "\n"
     ]
    },
    {
     "name": "stdout",
     "output_type": "stream",
     "text": [
      "\n",
      "      Epoch    GPU_mem   box_loss   cls_loss   dfl_loss  Instances       Size\n"
     ]
    },
    {
     "name": "stderr",
     "output_type": "stream",
     "text": [
      "     81/120      4.28G      1.407      1.411      1.301          2        640: 100%|██████████| 2003/2003 [07:37<00:00,  4.37it/s]\n",
      "                 Class     Images  Instances      Box(P          R      mAP50  mAP50-95): 100%|██████████| 289/289 [00:47<00:00,  6.13it/s]"
     ]
    },
    {
     "name": "stdout",
     "output_type": "stream",
     "text": [
      "                   all      10399       1029      0.779      0.734       0.81      0.539\n"
     ]
    },
    {
     "name": "stderr",
     "output_type": "stream",
     "text": [
      "\n"
     ]
    },
    {
     "name": "stdout",
     "output_type": "stream",
     "text": [
      "\n",
      "      Epoch    GPU_mem   box_loss   cls_loss   dfl_loss  Instances       Size\n"
     ]
    },
    {
     "name": "stderr",
     "output_type": "stream",
     "text": [
      "     82/120      4.19G      1.369      1.336      1.288          4        640: 100%|██████████| 2003/2003 [07:45<00:00,  4.30it/s]\n",
      "                 Class     Images  Instances      Box(P          R      mAP50  mAP50-95): 100%|██████████| 289/289 [00:49<00:00,  5.89it/s]"
     ]
    },
    {
     "name": "stdout",
     "output_type": "stream",
     "text": [
      "                   all      10399       1029      0.777      0.736       0.81      0.539\n"
     ]
    },
    {
     "name": "stderr",
     "output_type": "stream",
     "text": [
      "\n"
     ]
    },
    {
     "name": "stdout",
     "output_type": "stream",
     "text": [
      "\n",
      "      Epoch    GPU_mem   box_loss   cls_loss   dfl_loss  Instances       Size\n"
     ]
    },
    {
     "name": "stderr",
     "output_type": "stream",
     "text": [
      "     83/120      4.27G      1.349      1.343      1.264          3        640: 100%|██████████| 2003/2003 [08:15<00:00,  4.04it/s]\n",
      "                 Class     Images  Instances      Box(P          R      mAP50  mAP50-95): 100%|██████████| 289/289 [00:52<00:00,  5.52it/s]"
     ]
    },
    {
     "name": "stdout",
     "output_type": "stream",
     "text": [
      "                   all      10399       1029      0.784      0.735      0.812      0.541\n"
     ]
    },
    {
     "name": "stderr",
     "output_type": "stream",
     "text": [
      "\n"
     ]
    },
    {
     "name": "stdout",
     "output_type": "stream",
     "text": [
      "\n",
      "      Epoch    GPU_mem   box_loss   cls_loss   dfl_loss  Instances       Size\n"
     ]
    },
    {
     "name": "stderr",
     "output_type": "stream",
     "text": [
      "     84/120      4.25G      1.335      1.304      1.266          6        640: 100%|██████████| 2003/2003 [08:11<00:00,  4.07it/s]\n",
      "                 Class     Images  Instances      Box(P          R      mAP50  mAP50-95): 100%|██████████| 289/289 [00:50<00:00,  5.73it/s]"
     ]
    },
    {
     "name": "stdout",
     "output_type": "stream",
     "text": [
      "                   all      10399       1029      0.777      0.739      0.813      0.542\n"
     ]
    },
    {
     "name": "stderr",
     "output_type": "stream",
     "text": [
      "\n"
     ]
    },
    {
     "name": "stdout",
     "output_type": "stream",
     "text": [
      "\n",
      "      Epoch    GPU_mem   box_loss   cls_loss   dfl_loss  Instances       Size\n"
     ]
    },
    {
     "name": "stderr",
     "output_type": "stream",
     "text": [
      "     85/120      4.33G      1.364      1.372       1.28          3        640: 100%|██████████| 2003/2003 [08:05<00:00,  4.12it/s]\n",
      "                 Class     Images  Instances      Box(P          R      mAP50  mAP50-95): 100%|██████████| 289/289 [00:51<00:00,  5.64it/s]"
     ]
    },
    {
     "name": "stdout",
     "output_type": "stream",
     "text": [
      "                   all      10399       1029       0.78      0.739      0.814      0.542\n"
     ]
    },
    {
     "name": "stderr",
     "output_type": "stream",
     "text": [
      "\n"
     ]
    },
    {
     "name": "stdout",
     "output_type": "stream",
     "text": [
      "\n",
      "      Epoch    GPU_mem   box_loss   cls_loss   dfl_loss  Instances       Size\n"
     ]
    },
    {
     "name": "stderr",
     "output_type": "stream",
     "text": [
      "     86/120      4.27G      1.366      1.341      1.293          6        640: 100%|██████████| 2003/2003 [08:01<00:00,  4.16it/s]\n",
      "                 Class     Images  Instances      Box(P          R      mAP50  mAP50-95): 100%|██████████| 289/289 [00:50<00:00,  5.72it/s]"
     ]
    },
    {
     "name": "stdout",
     "output_type": "stream",
     "text": [
      "                   all      10399       1029      0.781      0.741      0.814      0.543\n"
     ]
    },
    {
     "name": "stderr",
     "output_type": "stream",
     "text": [
      "\n"
     ]
    },
    {
     "name": "stdout",
     "output_type": "stream",
     "text": [
      "\n",
      "      Epoch    GPU_mem   box_loss   cls_loss   dfl_loss  Instances       Size\n"
     ]
    },
    {
     "name": "stderr",
     "output_type": "stream",
     "text": [
      "     87/120      4.27G      1.334      1.298      1.273          5        640: 100%|██████████| 2003/2003 [08:01<00:00,  4.16it/s]\n",
      "                 Class     Images  Instances      Box(P          R      mAP50  mAP50-95): 100%|██████████| 289/289 [00:49<00:00,  5.87it/s]"
     ]
    },
    {
     "name": "stdout",
     "output_type": "stream",
     "text": [
      "                   all      10399       1029      0.792      0.738      0.816      0.545\n"
     ]
    },
    {
     "name": "stderr",
     "output_type": "stream",
     "text": [
      "\n"
     ]
    },
    {
     "name": "stdout",
     "output_type": "stream",
     "text": [
      "\n",
      "      Epoch    GPU_mem   box_loss   cls_loss   dfl_loss  Instances       Size\n"
     ]
    },
    {
     "name": "stderr",
     "output_type": "stream",
     "text": [
      "     88/120      4.26G      1.349      1.304      1.273          0        640: 100%|██████████| 2003/2003 [07:59<00:00,  4.18it/s]\n",
      "                 Class     Images  Instances      Box(P          R      mAP50  mAP50-95): 100%|██████████| 289/289 [00:49<00:00,  5.90it/s]"
     ]
    },
    {
     "name": "stdout",
     "output_type": "stream",
     "text": [
      "                   all      10399       1029       0.79      0.737      0.817      0.546\n"
     ]
    },
    {
     "name": "stderr",
     "output_type": "stream",
     "text": [
      "\n"
     ]
    },
    {
     "name": "stdout",
     "output_type": "stream",
     "text": [
      "\n",
      "      Epoch    GPU_mem   box_loss   cls_loss   dfl_loss  Instances       Size\n"
     ]
    },
    {
     "name": "stderr",
     "output_type": "stream",
     "text": [
      "     89/120      4.27G      1.342      1.314      1.259          3        640: 100%|██████████| 2003/2003 [08:01<00:00,  4.16it/s]\n",
      "                 Class     Images  Instances      Box(P          R      mAP50  mAP50-95): 100%|██████████| 289/289 [00:49<00:00,  5.86it/s]"
     ]
    },
    {
     "name": "stdout",
     "output_type": "stream",
     "text": [
      "                   all      10399       1029      0.787      0.736      0.816      0.546\n"
     ]
    },
    {
     "name": "stderr",
     "output_type": "stream",
     "text": [
      "\n"
     ]
    },
    {
     "name": "stdout",
     "output_type": "stream",
     "text": [
      "\n",
      "      Epoch    GPU_mem   box_loss   cls_loss   dfl_loss  Instances       Size\n"
     ]
    },
    {
     "name": "stderr",
     "output_type": "stream",
     "text": [
      "     90/120      4.27G      1.322      1.309      1.246          2        640: 100%|██████████| 2003/2003 [07:58<00:00,  4.18it/s]\n",
      "                 Class     Images  Instances      Box(P          R      mAP50  mAP50-95): 100%|██████████| 289/289 [00:49<00:00,  5.88it/s]"
     ]
    },
    {
     "name": "stdout",
     "output_type": "stream",
     "text": [
      "                   all      10399       1029      0.787       0.74      0.817      0.547\n"
     ]
    },
    {
     "name": "stderr",
     "output_type": "stream",
     "text": [
      "\n"
     ]
    },
    {
     "name": "stdout",
     "output_type": "stream",
     "text": [
      "\n",
      "      Epoch    GPU_mem   box_loss   cls_loss   dfl_loss  Instances       Size\n"
     ]
    },
    {
     "name": "stderr",
     "output_type": "stream",
     "text": [
      "     91/120      4.27G      1.333      1.276      1.258          2        640: 100%|██████████| 2003/2003 [07:58<00:00,  4.19it/s]\n",
      "                 Class     Images  Instances      Box(P          R      mAP50  mAP50-95): 100%|██████████| 289/289 [00:48<00:00,  5.91it/s]"
     ]
    },
    {
     "name": "stdout",
     "output_type": "stream",
     "text": [
      "                   all      10399       1029      0.787      0.743      0.819      0.548\n"
     ]
    },
    {
     "name": "stderr",
     "output_type": "stream",
     "text": [
      "\n"
     ]
    },
    {
     "name": "stdout",
     "output_type": "stream",
     "text": [
      "\n",
      "      Epoch    GPU_mem   box_loss   cls_loss   dfl_loss  Instances       Size\n"
     ]
    },
    {
     "name": "stderr",
     "output_type": "stream",
     "text": [
      "     92/120      4.38G      1.306      1.265      1.237          1        640: 100%|██████████| 2003/2003 [07:58<00:00,  4.19it/s]\n",
      "                 Class     Images  Instances      Box(P          R      mAP50  mAP50-95): 100%|██████████| 289/289 [00:49<00:00,  5.89it/s]"
     ]
    },
    {
     "name": "stdout",
     "output_type": "stream",
     "text": [
      "                   all      10399       1029      0.788      0.743       0.82      0.549\n"
     ]
    },
    {
     "name": "stderr",
     "output_type": "stream",
     "text": [
      "\n"
     ]
    },
    {
     "name": "stdout",
     "output_type": "stream",
     "text": [
      "\n",
      "      Epoch    GPU_mem   box_loss   cls_loss   dfl_loss  Instances       Size\n"
     ]
    },
    {
     "name": "stderr",
     "output_type": "stream",
     "text": [
      "     93/120      4.27G      1.338      1.285      1.266          2        640: 100%|██████████| 2003/2003 [07:53<00:00,  4.23it/s]\n",
      "                 Class     Images  Instances      Box(P          R      mAP50  mAP50-95): 100%|██████████| 289/289 [00:48<00:00,  5.97it/s]"
     ]
    },
    {
     "name": "stdout",
     "output_type": "stream",
     "text": [
      "                   all      10399       1029      0.794      0.744      0.821       0.55\n"
     ]
    },
    {
     "name": "stderr",
     "output_type": "stream",
     "text": [
      "\n"
     ]
    },
    {
     "name": "stdout",
     "output_type": "stream",
     "text": [
      "\n",
      "      Epoch    GPU_mem   box_loss   cls_loss   dfl_loss  Instances       Size\n"
     ]
    },
    {
     "name": "stderr",
     "output_type": "stream",
     "text": [
      "     94/120      4.27G      1.313       1.27      1.244          1        640: 100%|██████████| 2003/2003 [07:58<00:00,  4.19it/s]\n",
      "                 Class     Images  Instances      Box(P          R      mAP50  mAP50-95): 100%|██████████| 289/289 [00:48<00:00,  5.91it/s]"
     ]
    },
    {
     "name": "stdout",
     "output_type": "stream",
     "text": [
      "                   all      10399       1029      0.796      0.742      0.821      0.551\n"
     ]
    },
    {
     "name": "stderr",
     "output_type": "stream",
     "text": [
      "\n"
     ]
    },
    {
     "name": "stdout",
     "output_type": "stream",
     "text": [
      "\n",
      "      Epoch    GPU_mem   box_loss   cls_loss   dfl_loss  Instances       Size\n"
     ]
    },
    {
     "name": "stderr",
     "output_type": "stream",
     "text": [
      "     95/120       4.4G      1.301      1.289      1.236          1        640: 100%|██████████| 2003/2003 [07:34<00:00,  4.41it/s]\n",
      "                 Class     Images  Instances      Box(P          R      mAP50  mAP50-95): 100%|██████████| 289/289 [00:46<00:00,  6.16it/s]"
     ]
    },
    {
     "name": "stdout",
     "output_type": "stream",
     "text": [
      "                   all      10399       1029      0.793      0.744      0.823      0.552\n"
     ]
    },
    {
     "name": "stderr",
     "output_type": "stream",
     "text": [
      "\n"
     ]
    },
    {
     "name": "stdout",
     "output_type": "stream",
     "text": [
      "\n",
      "      Epoch    GPU_mem   box_loss   cls_loss   dfl_loss  Instances       Size\n"
     ]
    },
    {
     "name": "stderr",
     "output_type": "stream",
     "text": [
      "     96/120      4.26G      1.342      1.268      1.267          8        640: 100%|██████████| 2003/2003 [07:26<00:00,  4.49it/s]\n",
      "                 Class     Images  Instances      Box(P          R      mAP50  mAP50-95): 100%|██████████| 289/289 [00:46<00:00,  6.23it/s]"
     ]
    },
    {
     "name": "stdout",
     "output_type": "stream",
     "text": [
      "                   all      10399       1029      0.802      0.741      0.824      0.553\n"
     ]
    },
    {
     "name": "stderr",
     "output_type": "stream",
     "text": [
      "\n"
     ]
    },
    {
     "name": "stdout",
     "output_type": "stream",
     "text": [
      "\n",
      "      Epoch    GPU_mem   box_loss   cls_loss   dfl_loss  Instances       Size\n"
     ]
    },
    {
     "name": "stderr",
     "output_type": "stream",
     "text": [
      "     97/120      4.27G      1.316      1.272      1.252          4        640: 100%|██████████| 2003/2003 [07:25<00:00,  4.50it/s]\n",
      "                 Class     Images  Instances      Box(P          R      mAP50  mAP50-95): 100%|██████████| 289/289 [00:46<00:00,  6.20it/s]"
     ]
    },
    {
     "name": "stdout",
     "output_type": "stream",
     "text": [
      "                   all      10399       1029      0.798      0.744      0.824      0.555\n"
     ]
    },
    {
     "name": "stderr",
     "output_type": "stream",
     "text": [
      "\n"
     ]
    },
    {
     "name": "stdout",
     "output_type": "stream",
     "text": [
      "\n",
      "      Epoch    GPU_mem   box_loss   cls_loss   dfl_loss  Instances       Size\n"
     ]
    },
    {
     "name": "stderr",
     "output_type": "stream",
     "text": [
      "     98/120      4.27G      1.288      1.214       1.22          4        640: 100%|██████████| 2003/2003 [07:24<00:00,  4.51it/s]\n",
      "                 Class     Images  Instances      Box(P          R      mAP50  mAP50-95): 100%|██████████| 289/289 [00:46<00:00,  6.22it/s]"
     ]
    },
    {
     "name": "stdout",
     "output_type": "stream",
     "text": [
      "                   all      10399       1029        0.8      0.746      0.825      0.555\n"
     ]
    },
    {
     "name": "stderr",
     "output_type": "stream",
     "text": [
      "\n"
     ]
    },
    {
     "name": "stdout",
     "output_type": "stream",
     "text": [
      "\n",
      "      Epoch    GPU_mem   box_loss   cls_loss   dfl_loss  Instances       Size\n"
     ]
    },
    {
     "name": "stderr",
     "output_type": "stream",
     "text": [
      "     99/120      4.39G      1.284      1.249      1.234          2        640: 100%|██████████| 2003/2003 [07:24<00:00,  4.50it/s]\n",
      "                 Class     Images  Instances      Box(P          R      mAP50  mAP50-95): 100%|██████████| 289/289 [00:46<00:00,  6.20it/s]"
     ]
    },
    {
     "name": "stdout",
     "output_type": "stream",
     "text": [
      "                   all      10399       1029      0.794      0.752      0.826      0.555\n"
     ]
    },
    {
     "name": "stderr",
     "output_type": "stream",
     "text": [
      "\n"
     ]
    },
    {
     "name": "stdout",
     "output_type": "stream",
     "text": [
      "\n",
      "      Epoch    GPU_mem   box_loss   cls_loss   dfl_loss  Instances       Size\n"
     ]
    },
    {
     "name": "stderr",
     "output_type": "stream",
     "text": [
      "    100/120      4.26G      1.318      1.255      1.253          3        640: 100%|██████████| 2003/2003 [07:26<00:00,  4.49it/s]\n",
      "                 Class     Images  Instances      Box(P          R      mAP50  mAP50-95): 100%|██████████| 289/289 [00:47<00:00,  6.11it/s]"
     ]
    },
    {
     "name": "stdout",
     "output_type": "stream",
     "text": [
      "                   all      10399       1029      0.794      0.752      0.827      0.556\n"
     ]
    },
    {
     "name": "stderr",
     "output_type": "stream",
     "text": [
      "\n"
     ]
    },
    {
     "name": "stdout",
     "output_type": "stream",
     "text": [
      "\n",
      "      Epoch    GPU_mem   box_loss   cls_loss   dfl_loss  Instances       Size\n"
     ]
    },
    {
     "name": "stderr",
     "output_type": "stream",
     "text": [
      "    101/120      4.28G       1.28       1.24      1.229          3        640: 100%|██████████| 2003/2003 [07:26<00:00,  4.49it/s]\n",
      "                 Class     Images  Instances      Box(P          R      mAP50  mAP50-95): 100%|██████████| 289/289 [00:46<00:00,  6.21it/s]"
     ]
    },
    {
     "name": "stdout",
     "output_type": "stream",
     "text": [
      "                   all      10399       1029      0.793      0.755      0.829      0.557\n"
     ]
    },
    {
     "name": "stderr",
     "output_type": "stream",
     "text": [
      "\n"
     ]
    },
    {
     "name": "stdout",
     "output_type": "stream",
     "text": [
      "\n",
      "      Epoch    GPU_mem   box_loss   cls_loss   dfl_loss  Instances       Size\n"
     ]
    },
    {
     "name": "stderr",
     "output_type": "stream",
     "text": [
      "    102/120      4.27G      1.287      1.196      1.234         14        640: 100%|██████████| 2003/2003 [07:37<00:00,  4.38it/s]\n",
      "                 Class     Images  Instances      Box(P          R      mAP50  mAP50-95): 100%|██████████| 289/289 [00:48<00:00,  5.91it/s]"
     ]
    },
    {
     "name": "stdout",
     "output_type": "stream",
     "text": [
      "                   all      10399       1029       0.79       0.76      0.831      0.558\n"
     ]
    },
    {
     "name": "stderr",
     "output_type": "stream",
     "text": [
      "\n"
     ]
    },
    {
     "name": "stdout",
     "output_type": "stream",
     "text": [
      "\n",
      "      Epoch    GPU_mem   box_loss   cls_loss   dfl_loss  Instances       Size\n"
     ]
    },
    {
     "name": "stderr",
     "output_type": "stream",
     "text": [
      "    103/120      4.27G      1.288      1.216      1.232          6        640: 100%|██████████| 2003/2003 [08:00<00:00,  4.17it/s]\n",
      "                 Class     Images  Instances      Box(P          R      mAP50  mAP50-95): 100%|██████████| 289/289 [00:48<00:00,  5.90it/s]"
     ]
    },
    {
     "name": "stdout",
     "output_type": "stream",
     "text": [
      "                   all      10399       1029      0.792      0.763      0.832       0.56\n"
     ]
    },
    {
     "name": "stderr",
     "output_type": "stream",
     "text": [
      "\n"
     ]
    },
    {
     "name": "stdout",
     "output_type": "stream",
     "text": [
      "\n",
      "      Epoch    GPU_mem   box_loss   cls_loss   dfl_loss  Instances       Size\n"
     ]
    },
    {
     "name": "stderr",
     "output_type": "stream",
     "text": [
      "    104/120      4.26G      1.284      1.215      1.238          5        640: 100%|██████████| 2003/2003 [07:59<00:00,  4.18it/s]\n",
      "                 Class     Images  Instances      Box(P          R      mAP50  mAP50-95): 100%|██████████| 289/289 [00:49<00:00,  5.87it/s]"
     ]
    },
    {
     "name": "stdout",
     "output_type": "stream",
     "text": [
      "                   all      10399       1029      0.792      0.764      0.833      0.561\n"
     ]
    },
    {
     "name": "stderr",
     "output_type": "stream",
     "text": [
      "\n"
     ]
    },
    {
     "name": "stdout",
     "output_type": "stream",
     "text": [
      "\n",
      "      Epoch    GPU_mem   box_loss   cls_loss   dfl_loss  Instances       Size\n"
     ]
    },
    {
     "name": "stderr",
     "output_type": "stream",
     "text": [
      "    105/120      4.28G      1.276      1.191      1.224          5        640: 100%|██████████| 2003/2003 [08:04<00:00,  4.13it/s]\n",
      "                 Class     Images  Instances      Box(P          R      mAP50  mAP50-95): 100%|██████████| 289/289 [00:49<00:00,  5.86it/s]"
     ]
    },
    {
     "name": "stdout",
     "output_type": "stream",
     "text": [
      "                   all      10399       1029      0.792      0.763      0.834      0.562\n"
     ]
    },
    {
     "name": "stderr",
     "output_type": "stream",
     "text": [
      "\n"
     ]
    },
    {
     "name": "stdout",
     "output_type": "stream",
     "text": [
      "\n",
      "      Epoch    GPU_mem   box_loss   cls_loss   dfl_loss  Instances       Size\n"
     ]
    },
    {
     "name": "stderr",
     "output_type": "stream",
     "text": [
      "    106/120      4.28G      1.253      1.158      1.207          4        640: 100%|██████████| 2003/2003 [08:02<00:00,  4.15it/s]\n",
      "                 Class     Images  Instances      Box(P          R      mAP50  mAP50-95): 100%|██████████| 289/289 [00:49<00:00,  5.87it/s]"
     ]
    },
    {
     "name": "stdout",
     "output_type": "stream",
     "text": [
      "                   all      10399       1029      0.793      0.761      0.835      0.563\n"
     ]
    },
    {
     "name": "stderr",
     "output_type": "stream",
     "text": [
      "\n"
     ]
    },
    {
     "name": "stdout",
     "output_type": "stream",
     "text": [
      "\n",
      "      Epoch    GPU_mem   box_loss   cls_loss   dfl_loss  Instances       Size\n"
     ]
    },
    {
     "name": "stderr",
     "output_type": "stream",
     "text": [
      "    107/120       4.4G      1.258      1.186      1.204          4        640: 100%|██████████| 2003/2003 [07:58<00:00,  4.18it/s]\n",
      "                 Class     Images  Instances      Box(P          R      mAP50  mAP50-95): 100%|██████████| 289/289 [00:48<00:00,  5.93it/s]"
     ]
    },
    {
     "name": "stdout",
     "output_type": "stream",
     "text": [
      "                   all      10399       1029      0.794      0.766      0.835      0.563\n"
     ]
    },
    {
     "name": "stderr",
     "output_type": "stream",
     "text": [
      "\n"
     ]
    },
    {
     "name": "stdout",
     "output_type": "stream",
     "text": [
      "\n",
      "      Epoch    GPU_mem   box_loss   cls_loss   dfl_loss  Instances       Size\n"
     ]
    },
    {
     "name": "stderr",
     "output_type": "stream",
     "text": [
      "    108/120      4.26G      1.256      1.143      1.212          3        640: 100%|██████████| 2003/2003 [08:04<00:00,  4.14it/s]\n",
      "                 Class     Images  Instances      Box(P          R      mAP50  mAP50-95): 100%|██████████| 289/289 [00:49<00:00,  5.87it/s]"
     ]
    },
    {
     "name": "stdout",
     "output_type": "stream",
     "text": [
      "                   all      10399       1029      0.794      0.769      0.834      0.564\n"
     ]
    },
    {
     "name": "stderr",
     "output_type": "stream",
     "text": [
      "\n"
     ]
    },
    {
     "name": "stdout",
     "output_type": "stream",
     "text": [
      "\n",
      "      Epoch    GPU_mem   box_loss   cls_loss   dfl_loss  Instances       Size\n"
     ]
    },
    {
     "name": "stderr",
     "output_type": "stream",
     "text": [
      "    109/120       4.4G      1.244      1.129      1.205          5        640: 100%|██████████| 2003/2003 [08:03<00:00,  4.14it/s]\n",
      "                 Class     Images  Instances      Box(P          R      mAP50  mAP50-95): 100%|██████████| 289/289 [00:49<00:00,  5.87it/s]"
     ]
    },
    {
     "name": "stdout",
     "output_type": "stream",
     "text": [
      "                   all      10399       1029      0.789       0.77      0.835      0.566\n"
     ]
    },
    {
     "name": "stderr",
     "output_type": "stream",
     "text": [
      "\n"
     ]
    },
    {
     "name": "stdout",
     "output_type": "stream",
     "text": [
      "\n",
      "      Epoch    GPU_mem   box_loss   cls_loss   dfl_loss  Instances       Size\n"
     ]
    },
    {
     "name": "stderr",
     "output_type": "stream",
     "text": [
      "    110/120      4.28G      1.246      1.125      1.201          2        640: 100%|██████████| 2003/2003 [08:01<00:00,  4.16it/s]\n",
      "                 Class     Images  Instances      Box(P          R      mAP50  mAP50-95): 100%|██████████| 289/289 [00:49<00:00,  5.89it/s]"
     ]
    },
    {
     "name": "stdout",
     "output_type": "stream",
     "text": [
      "                   all      10399       1029      0.786       0.77      0.835      0.566\n"
     ]
    },
    {
     "name": "stderr",
     "output_type": "stream",
     "text": [
      "\n"
     ]
    },
    {
     "name": "stdout",
     "output_type": "stream",
     "text": [
      "Closing dataloader mosaic\n",
      "\n",
      "      Epoch    GPU_mem   box_loss   cls_loss   dfl_loss  Instances       Size\n"
     ]
    },
    {
     "name": "stderr",
     "output_type": "stream",
     "text": [
      "    111/120      4.27G     0.7323     0.6099     0.7802          1        640: 100%|██████████| 2003/2003 [07:46<00:00,  4.29it/s]\n",
      "                 Class     Images  Instances      Box(P          R      mAP50  mAP50-95): 100%|██████████| 289/289 [00:49<00:00,  5.86it/s]"
     ]
    },
    {
     "name": "stdout",
     "output_type": "stream",
     "text": [
      "                   all      10399       1029      0.785      0.774      0.836      0.566\n"
     ]
    },
    {
     "name": "stderr",
     "output_type": "stream",
     "text": [
      "\n"
     ]
    },
    {
     "name": "stdout",
     "output_type": "stream",
     "text": [
      "\n",
      "      Epoch    GPU_mem   box_loss   cls_loss   dfl_loss  Instances       Size\n"
     ]
    },
    {
     "name": "stderr",
     "output_type": "stream",
     "text": [
      "    112/120      4.38G     0.7447     0.6189     0.7852          2        640: 100%|██████████| 2003/2003 [07:43<00:00,  4.32it/s]\n",
      "                 Class     Images  Instances      Box(P          R      mAP50  mAP50-95): 100%|██████████| 289/289 [00:49<00:00,  5.87it/s]"
     ]
    },
    {
     "name": "stdout",
     "output_type": "stream",
     "text": [
      "                   all      10399       1029      0.786      0.779      0.838      0.568\n"
     ]
    },
    {
     "name": "stderr",
     "output_type": "stream",
     "text": [
      "\n"
     ]
    },
    {
     "name": "stdout",
     "output_type": "stream",
     "text": [
      "\n",
      "      Epoch    GPU_mem   box_loss   cls_loss   dfl_loss  Instances       Size\n"
     ]
    },
    {
     "name": "stderr",
     "output_type": "stream",
     "text": [
      "    113/120      4.31G     0.7394     0.6003     0.7862          1        640: 100%|██████████| 2003/2003 [07:40<00:00,  4.35it/s]\n",
      "                 Class     Images  Instances      Box(P          R      mAP50  mAP50-95): 100%|██████████| 289/289 [00:48<00:00,  5.94it/s]"
     ]
    },
    {
     "name": "stdout",
     "output_type": "stream",
     "text": [
      "                   all      10399       1029      0.787      0.781       0.84      0.569\n"
     ]
    },
    {
     "name": "stderr",
     "output_type": "stream",
     "text": [
      "\n"
     ]
    },
    {
     "name": "stdout",
     "output_type": "stream",
     "text": [
      "\n",
      "      Epoch    GPU_mem   box_loss   cls_loss   dfl_loss  Instances       Size\n"
     ]
    },
    {
     "name": "stderr",
     "output_type": "stream",
     "text": [
      "    114/120      4.27G     0.7305     0.6169     0.7879          1        640: 100%|██████████| 2003/2003 [07:36<00:00,  4.39it/s]\n",
      "                 Class     Images  Instances      Box(P          R      mAP50  mAP50-95): 100%|██████████| 289/289 [00:47<00:00,  6.03it/s]"
     ]
    },
    {
     "name": "stdout",
     "output_type": "stream",
     "text": [
      "                   all      10399       1029      0.789      0.782       0.84      0.571\n"
     ]
    },
    {
     "name": "stderr",
     "output_type": "stream",
     "text": [
      "\n"
     ]
    },
    {
     "name": "stdout",
     "output_type": "stream",
     "text": [
      "\n",
      "      Epoch    GPU_mem   box_loss   cls_loss   dfl_loss  Instances       Size\n"
     ]
    },
    {
     "name": "stderr",
     "output_type": "stream",
     "text": [
      "    115/120      4.27G     0.7415      0.572      0.783          0        640: 100%|██████████| 2003/2003 [07:38<00:00,  4.37it/s]\n",
      "                 Class     Images  Instances      Box(P          R      mAP50  mAP50-95): 100%|██████████| 289/289 [00:48<00:00,  6.00it/s]"
     ]
    },
    {
     "name": "stdout",
     "output_type": "stream",
     "text": [
      "                   all      10399       1029       0.79       0.78      0.841      0.571\n"
     ]
    },
    {
     "name": "stderr",
     "output_type": "stream",
     "text": [
      "\n"
     ]
    },
    {
     "name": "stdout",
     "output_type": "stream",
     "text": [
      "\n",
      "      Epoch    GPU_mem   box_loss   cls_loss   dfl_loss  Instances       Size\n"
     ]
    },
    {
     "name": "stderr",
     "output_type": "stream",
     "text": [
      "    116/120       4.3G     0.7421     0.5922     0.7936          1        640: 100%|██████████| 2003/2003 [07:38<00:00,  4.37it/s]\n",
      "                 Class     Images  Instances      Box(P          R      mAP50  mAP50-95): 100%|██████████| 289/289 [00:48<00:00,  5.98it/s]"
     ]
    },
    {
     "name": "stdout",
     "output_type": "stream",
     "text": [
      "                   all      10399       1029      0.796      0.777      0.843      0.574\n"
     ]
    },
    {
     "name": "stderr",
     "output_type": "stream",
     "text": [
      "\n"
     ]
    },
    {
     "name": "stdout",
     "output_type": "stream",
     "text": [
      "\n",
      "      Epoch    GPU_mem   box_loss   cls_loss   dfl_loss  Instances       Size\n"
     ]
    },
    {
     "name": "stderr",
     "output_type": "stream",
     "text": [
      "    117/120      4.28G     0.7193     0.5405     0.7741          1        640: 100%|██████████| 2003/2003 [07:36<00:00,  4.39it/s]\n",
      "                 Class     Images  Instances      Box(P          R      mAP50  mAP50-95): 100%|██████████| 289/289 [00:48<00:00,  6.02it/s]"
     ]
    },
    {
     "name": "stdout",
     "output_type": "stream",
     "text": [
      "                   all      10399       1029      0.794      0.777      0.844      0.575\n"
     ]
    },
    {
     "name": "stderr",
     "output_type": "stream",
     "text": [
      "\n"
     ]
    },
    {
     "name": "stdout",
     "output_type": "stream",
     "text": [
      "\n",
      "      Epoch    GPU_mem   box_loss   cls_loss   dfl_loss  Instances       Size\n"
     ]
    },
    {
     "name": "stderr",
     "output_type": "stream",
     "text": [
      "    118/120       4.4G     0.6927     0.5535     0.7567          2        640: 100%|██████████| 2003/2003 [07:32<00:00,  4.43it/s]\n",
      "                 Class     Images  Instances      Box(P          R      mAP50  mAP50-95): 100%|██████████| 289/289 [00:47<00:00,  6.05it/s]"
     ]
    },
    {
     "name": "stdout",
     "output_type": "stream",
     "text": [
      "                   all      10399       1029      0.795      0.781      0.846      0.574\n"
     ]
    },
    {
     "name": "stderr",
     "output_type": "stream",
     "text": [
      "\n"
     ]
    },
    {
     "name": "stdout",
     "output_type": "stream",
     "text": [
      "\n",
      "      Epoch    GPU_mem   box_loss   cls_loss   dfl_loss  Instances       Size\n"
     ]
    },
    {
     "name": "stderr",
     "output_type": "stream",
     "text": [
      "    119/120      4.31G     0.7199       0.55     0.7796          1        640: 100%|██████████| 2003/2003 [07:48<00:00,  4.28it/s]\n",
      "                 Class     Images  Instances      Box(P          R      mAP50  mAP50-95): 100%|██████████| 289/289 [00:51<00:00,  5.62it/s]"
     ]
    },
    {
     "name": "stdout",
     "output_type": "stream",
     "text": [
      "                   all      10399       1029      0.798      0.782      0.846      0.575\n"
     ]
    },
    {
     "name": "stderr",
     "output_type": "stream",
     "text": [
      "\n"
     ]
    },
    {
     "name": "stdout",
     "output_type": "stream",
     "text": [
      "\n",
      "      Epoch    GPU_mem   box_loss   cls_loss   dfl_loss  Instances       Size\n"
     ]
    },
    {
     "name": "stderr",
     "output_type": "stream",
     "text": [
      "    120/120      4.18G     0.7019     0.5234     0.7637          0        640: 100%|██████████| 2003/2003 [08:18<00:00,  4.02it/s]\n",
      "                 Class     Images  Instances      Box(P          R      mAP50  mAP50-95): 100%|██████████| 289/289 [00:56<00:00,  5.10it/s]"
     ]
    },
    {
     "name": "stdout",
     "output_type": "stream",
     "text": [
      "                   all      10399       1029      0.796      0.786      0.848      0.577\n"
     ]
    },
    {
     "name": "stderr",
     "output_type": "stream",
     "text": [
      "\n"
     ]
    },
    {
     "name": "stdout",
     "output_type": "stream",
     "text": [
      "\n",
      "120 epochs completed in 17.086 hours.\n",
      "Optimizer stripped from runs\\detect\\train\\weights\\last.pt, 22.5MB\n",
      "Optimizer stripped from runs\\detect\\train\\weights\\best.pt, 22.5MB\n",
      "\n",
      "Validating runs\\detect\\train\\weights\\best.pt...\n",
      "Ultralytics 8.3.23  Python-3.10.0 torch-2.5.0+cu121 CUDA:0 (NVIDIA GeForce RTX 3060, 12287MiB)\n",
      "Model summary (fused): 168 layers, 11,125,971 parameters, 0 gradients, 28.4 GFLOPs\n"
     ]
    },
    {
     "name": "stderr",
     "output_type": "stream",
     "text": [
      "                 Class     Images  Instances      Box(P          R      mAP50  mAP50-95): 100%|██████████| 289/289 [00:47<00:00,  6.04it/s]\n"
     ]
    },
    {
     "name": "stdout",
     "output_type": "stream",
     "text": [
      "                   all      10399       1029      0.797      0.787      0.847      0.577\n",
      "Speed: 0.1ms preprocess, 3.6ms inference, 0.0ms loss, 0.3ms postprocess per image\n",
      "Results saved to \u001b[1mruns\\detect\\train\u001b[0m\n"
     ]
    },
    {
     "data": {
      "text/plain": [
       "ultralytics.utils.metrics.DetMetrics object with attributes:\n",
       "\n",
       "ap_class_index: array([0])\n",
       "box: ultralytics.utils.metrics.Metric object\n",
       "confusion_matrix: <ultralytics.utils.metrics.ConfusionMatrix object at 0x000001B8451EA620>\n",
       "curves: ['Precision-Recall(B)', 'F1-Confidence(B)', 'Precision-Confidence(B)', 'Recall-Confidence(B)']\n",
       "curves_results: [[array([          0,    0.001001,    0.002002,    0.003003,    0.004004,    0.005005,    0.006006,    0.007007,    0.008008,    0.009009,     0.01001,    0.011011,    0.012012,    0.013013,    0.014014,    0.015015,    0.016016,    0.017017,    0.018018,    0.019019,     0.02002,    0.021021,    0.022022,    0.023023,\n",
       "          0.024024,    0.025025,    0.026026,    0.027027,    0.028028,    0.029029,     0.03003,    0.031031,    0.032032,    0.033033,    0.034034,    0.035035,    0.036036,    0.037037,    0.038038,    0.039039,     0.04004,    0.041041,    0.042042,    0.043043,    0.044044,    0.045045,    0.046046,    0.047047,\n",
       "          0.048048,    0.049049,     0.05005,    0.051051,    0.052052,    0.053053,    0.054054,    0.055055,    0.056056,    0.057057,    0.058058,    0.059059,     0.06006,    0.061061,    0.062062,    0.063063,    0.064064,    0.065065,    0.066066,    0.067067,    0.068068,    0.069069,     0.07007,    0.071071,\n",
       "          0.072072,    0.073073,    0.074074,    0.075075,    0.076076,    0.077077,    0.078078,    0.079079,     0.08008,    0.081081,    0.082082,    0.083083,    0.084084,    0.085085,    0.086086,    0.087087,    0.088088,    0.089089,     0.09009,    0.091091,    0.092092,    0.093093,    0.094094,    0.095095,\n",
       "          0.096096,    0.097097,    0.098098,    0.099099,      0.1001,      0.1011,      0.1021,      0.1031,      0.1041,     0.10511,     0.10611,     0.10711,     0.10811,     0.10911,     0.11011,     0.11111,     0.11211,     0.11311,     0.11411,     0.11512,     0.11612,     0.11712,     0.11812,     0.11912,\n",
       "           0.12012,     0.12112,     0.12212,     0.12312,     0.12412,     0.12513,     0.12613,     0.12713,     0.12813,     0.12913,     0.13013,     0.13113,     0.13213,     0.13313,     0.13413,     0.13514,     0.13614,     0.13714,     0.13814,     0.13914,     0.14014,     0.14114,     0.14214,     0.14314,\n",
       "           0.14414,     0.14515,     0.14615,     0.14715,     0.14815,     0.14915,     0.15015,     0.15115,     0.15215,     0.15315,     0.15415,     0.15516,     0.15616,     0.15716,     0.15816,     0.15916,     0.16016,     0.16116,     0.16216,     0.16316,     0.16416,     0.16517,     0.16617,     0.16717,\n",
       "           0.16817,     0.16917,     0.17017,     0.17117,     0.17217,     0.17317,     0.17417,     0.17518,     0.17618,     0.17718,     0.17818,     0.17918,     0.18018,     0.18118,     0.18218,     0.18318,     0.18418,     0.18519,     0.18619,     0.18719,     0.18819,     0.18919,     0.19019,     0.19119,\n",
       "           0.19219,     0.19319,     0.19419,      0.1952,      0.1962,      0.1972,      0.1982,      0.1992,      0.2002,      0.2012,      0.2022,      0.2032,      0.2042,     0.20521,     0.20621,     0.20721,     0.20821,     0.20921,     0.21021,     0.21121,     0.21221,     0.21321,     0.21421,     0.21522,\n",
       "           0.21622,     0.21722,     0.21822,     0.21922,     0.22022,     0.22122,     0.22222,     0.22322,     0.22422,     0.22523,     0.22623,     0.22723,     0.22823,     0.22923,     0.23023,     0.23123,     0.23223,     0.23323,     0.23423,     0.23524,     0.23624,     0.23724,     0.23824,     0.23924,\n",
       "           0.24024,     0.24124,     0.24224,     0.24324,     0.24424,     0.24525,     0.24625,     0.24725,     0.24825,     0.24925,     0.25025,     0.25125,     0.25225,     0.25325,     0.25425,     0.25526,     0.25626,     0.25726,     0.25826,     0.25926,     0.26026,     0.26126,     0.26226,     0.26326,\n",
       "           0.26426,     0.26527,     0.26627,     0.26727,     0.26827,     0.26927,     0.27027,     0.27127,     0.27227,     0.27327,     0.27427,     0.27528,     0.27628,     0.27728,     0.27828,     0.27928,     0.28028,     0.28128,     0.28228,     0.28328,     0.28428,     0.28529,     0.28629,     0.28729,\n",
       "           0.28829,     0.28929,     0.29029,     0.29129,     0.29229,     0.29329,     0.29429,      0.2953,      0.2963,      0.2973,      0.2983,      0.2993,      0.3003,      0.3013,      0.3023,      0.3033,      0.3043,     0.30531,     0.30631,     0.30731,     0.30831,     0.30931,     0.31031,     0.31131,\n",
       "           0.31231,     0.31331,     0.31431,     0.31532,     0.31632,     0.31732,     0.31832,     0.31932,     0.32032,     0.32132,     0.32232,     0.32332,     0.32432,     0.32533,     0.32633,     0.32733,     0.32833,     0.32933,     0.33033,     0.33133,     0.33233,     0.33333,     0.33433,     0.33534,\n",
       "           0.33634,     0.33734,     0.33834,     0.33934,     0.34034,     0.34134,     0.34234,     0.34334,     0.34434,     0.34535,     0.34635,     0.34735,     0.34835,     0.34935,     0.35035,     0.35135,     0.35235,     0.35335,     0.35435,     0.35536,     0.35636,     0.35736,     0.35836,     0.35936,\n",
       "           0.36036,     0.36136,     0.36236,     0.36336,     0.36436,     0.36537,     0.36637,     0.36737,     0.36837,     0.36937,     0.37037,     0.37137,     0.37237,     0.37337,     0.37437,     0.37538,     0.37638,     0.37738,     0.37838,     0.37938,     0.38038,     0.38138,     0.38238,     0.38338,\n",
       "           0.38438,     0.38539,     0.38639,     0.38739,     0.38839,     0.38939,     0.39039,     0.39139,     0.39239,     0.39339,     0.39439,      0.3954,      0.3964,      0.3974,      0.3984,      0.3994,      0.4004,      0.4014,      0.4024,      0.4034,      0.4044,     0.40541,     0.40641,     0.40741,\n",
       "           0.40841,     0.40941,     0.41041,     0.41141,     0.41241,     0.41341,     0.41441,     0.41542,     0.41642,     0.41742,     0.41842,     0.41942,     0.42042,     0.42142,     0.42242,     0.42342,     0.42442,     0.42543,     0.42643,     0.42743,     0.42843,     0.42943,     0.43043,     0.43143,\n",
       "           0.43243,     0.43343,     0.43443,     0.43544,     0.43644,     0.43744,     0.43844,     0.43944,     0.44044,     0.44144,     0.44244,     0.44344,     0.44444,     0.44545,     0.44645,     0.44745,     0.44845,     0.44945,     0.45045,     0.45145,     0.45245,     0.45345,     0.45445,     0.45546,\n",
       "           0.45646,     0.45746,     0.45846,     0.45946,     0.46046,     0.46146,     0.46246,     0.46346,     0.46446,     0.46547,     0.46647,     0.46747,     0.46847,     0.46947,     0.47047,     0.47147,     0.47247,     0.47347,     0.47447,     0.47548,     0.47648,     0.47748,     0.47848,     0.47948,\n",
       "           0.48048,     0.48148,     0.48248,     0.48348,     0.48448,     0.48549,     0.48649,     0.48749,     0.48849,     0.48949,     0.49049,     0.49149,     0.49249,     0.49349,     0.49449,      0.4955,      0.4965,      0.4975,      0.4985,      0.4995,      0.5005,      0.5015,      0.5025,      0.5035,\n",
       "            0.5045,     0.50551,     0.50651,     0.50751,     0.50851,     0.50951,     0.51051,     0.51151,     0.51251,     0.51351,     0.51451,     0.51552,     0.51652,     0.51752,     0.51852,     0.51952,     0.52052,     0.52152,     0.52252,     0.52352,     0.52452,     0.52553,     0.52653,     0.52753,\n",
       "           0.52853,     0.52953,     0.53053,     0.53153,     0.53253,     0.53353,     0.53453,     0.53554,     0.53654,     0.53754,     0.53854,     0.53954,     0.54054,     0.54154,     0.54254,     0.54354,     0.54454,     0.54555,     0.54655,     0.54755,     0.54855,     0.54955,     0.55055,     0.55155,\n",
       "           0.55255,     0.55355,     0.55455,     0.55556,     0.55656,     0.55756,     0.55856,     0.55956,     0.56056,     0.56156,     0.56256,     0.56356,     0.56456,     0.56557,     0.56657,     0.56757,     0.56857,     0.56957,     0.57057,     0.57157,     0.57257,     0.57357,     0.57457,     0.57558,\n",
       "           0.57658,     0.57758,     0.57858,     0.57958,     0.58058,     0.58158,     0.58258,     0.58358,     0.58458,     0.58559,     0.58659,     0.58759,     0.58859,     0.58959,     0.59059,     0.59159,     0.59259,     0.59359,     0.59459,      0.5956,      0.5966,      0.5976,      0.5986,      0.5996,\n",
       "            0.6006,      0.6016,      0.6026,      0.6036,      0.6046,     0.60561,     0.60661,     0.60761,     0.60861,     0.60961,     0.61061,     0.61161,     0.61261,     0.61361,     0.61461,     0.61562,     0.61662,     0.61762,     0.61862,     0.61962,     0.62062,     0.62162,     0.62262,     0.62362,\n",
       "           0.62462,     0.62563,     0.62663,     0.62763,     0.62863,     0.62963,     0.63063,     0.63163,     0.63263,     0.63363,     0.63463,     0.63564,     0.63664,     0.63764,     0.63864,     0.63964,     0.64064,     0.64164,     0.64264,     0.64364,     0.64464,     0.64565,     0.64665,     0.64765,\n",
       "           0.64865,     0.64965,     0.65065,     0.65165,     0.65265,     0.65365,     0.65465,     0.65566,     0.65666,     0.65766,     0.65866,     0.65966,     0.66066,     0.66166,     0.66266,     0.66366,     0.66466,     0.66567,     0.66667,     0.66767,     0.66867,     0.66967,     0.67067,     0.67167,\n",
       "           0.67267,     0.67367,     0.67467,     0.67568,     0.67668,     0.67768,     0.67868,     0.67968,     0.68068,     0.68168,     0.68268,     0.68368,     0.68468,     0.68569,     0.68669,     0.68769,     0.68869,     0.68969,     0.69069,     0.69169,     0.69269,     0.69369,     0.69469,      0.6957,\n",
       "            0.6967,      0.6977,      0.6987,      0.6997,      0.7007,      0.7017,      0.7027,      0.7037,      0.7047,     0.70571,     0.70671,     0.70771,     0.70871,     0.70971,     0.71071,     0.71171,     0.71271,     0.71371,     0.71471,     0.71572,     0.71672,     0.71772,     0.71872,     0.71972,\n",
       "           0.72072,     0.72172,     0.72272,     0.72372,     0.72472,     0.72573,     0.72673,     0.72773,     0.72873,     0.72973,     0.73073,     0.73173,     0.73273,     0.73373,     0.73473,     0.73574,     0.73674,     0.73774,     0.73874,     0.73974,     0.74074,     0.74174,     0.74274,     0.74374,\n",
       "           0.74474,     0.74575,     0.74675,     0.74775,     0.74875,     0.74975,     0.75075,     0.75175,     0.75275,     0.75375,     0.75475,     0.75576,     0.75676,     0.75776,     0.75876,     0.75976,     0.76076,     0.76176,     0.76276,     0.76376,     0.76476,     0.76577,     0.76677,     0.76777,\n",
       "           0.76877,     0.76977,     0.77077,     0.77177,     0.77277,     0.77377,     0.77477,     0.77578,     0.77678,     0.77778,     0.77878,     0.77978,     0.78078,     0.78178,     0.78278,     0.78378,     0.78478,     0.78579,     0.78679,     0.78779,     0.78879,     0.78979,     0.79079,     0.79179,\n",
       "           0.79279,     0.79379,     0.79479,      0.7958,      0.7968,      0.7978,      0.7988,      0.7998,      0.8008,      0.8018,      0.8028,      0.8038,      0.8048,     0.80581,     0.80681,     0.80781,     0.80881,     0.80981,     0.81081,     0.81181,     0.81281,     0.81381,     0.81481,     0.81582,\n",
       "           0.81682,     0.81782,     0.81882,     0.81982,     0.82082,     0.82182,     0.82282,     0.82382,     0.82482,     0.82583,     0.82683,     0.82783,     0.82883,     0.82983,     0.83083,     0.83183,     0.83283,     0.83383,     0.83483,     0.83584,     0.83684,     0.83784,     0.83884,     0.83984,\n",
       "           0.84084,     0.84184,     0.84284,     0.84384,     0.84484,     0.84585,     0.84685,     0.84785,     0.84885,     0.84985,     0.85085,     0.85185,     0.85285,     0.85385,     0.85485,     0.85586,     0.85686,     0.85786,     0.85886,     0.85986,     0.86086,     0.86186,     0.86286,     0.86386,\n",
       "           0.86486,     0.86587,     0.86687,     0.86787,     0.86887,     0.86987,     0.87087,     0.87187,     0.87287,     0.87387,     0.87487,     0.87588,     0.87688,     0.87788,     0.87888,     0.87988,     0.88088,     0.88188,     0.88288,     0.88388,     0.88488,     0.88589,     0.88689,     0.88789,\n",
       "           0.88889,     0.88989,     0.89089,     0.89189,     0.89289,     0.89389,     0.89489,      0.8959,      0.8969,      0.8979,      0.8989,      0.8999,      0.9009,      0.9019,      0.9029,      0.9039,      0.9049,     0.90591,     0.90691,     0.90791,     0.90891,     0.90991,     0.91091,     0.91191,\n",
       "           0.91291,     0.91391,     0.91491,     0.91592,     0.91692,     0.91792,     0.91892,     0.91992,     0.92092,     0.92192,     0.92292,     0.92392,     0.92492,     0.92593,     0.92693,     0.92793,     0.92893,     0.92993,     0.93093,     0.93193,     0.93293,     0.93393,     0.93493,     0.93594,\n",
       "           0.93694,     0.93794,     0.93894,     0.93994,     0.94094,     0.94194,     0.94294,     0.94394,     0.94494,     0.94595,     0.94695,     0.94795,     0.94895,     0.94995,     0.95095,     0.95195,     0.95295,     0.95395,     0.95495,     0.95596,     0.95696,     0.95796,     0.95896,     0.95996,\n",
       "           0.96096,     0.96196,     0.96296,     0.96396,     0.96496,     0.96597,     0.96697,     0.96797,     0.96897,     0.96997,     0.97097,     0.97197,     0.97297,     0.97397,     0.97497,     0.97598,     0.97698,     0.97798,     0.97898,     0.97998,     0.98098,     0.98198,     0.98298,     0.98398,\n",
       "           0.98498,     0.98599,     0.98699,     0.98799,     0.98899,     0.98999,     0.99099,     0.99199,     0.99299,     0.99399,     0.99499,       0.996,       0.997,       0.998,       0.999,           1]), array([[          1,           1,           1,           1,           1,           1,           1,           1,           1,           1,           1,           1,           1,           1,           1,           1,           1,           1,           1,           1,           1,           1,           1,\n",
       "                  1,           1,           1,           1,           1,           1,           1,           1,           1,           1,           1,           1,           1,           1,           1,           1,           1,           1,           1,           1,           1,           1,           1,\n",
       "                  1,           1,           1,           1,           1,           1,           1,           1,           1,           1,           1,           1,           1,           1,           1,           1,           1,           1,           1,           1,           1,           1,           1,\n",
       "                  1,           1,           1,           1,           1,           1,           1,           1,           1,           1,           1,           1,           1,           1,           1,           1,           1,           1,           1,           1,           1,           1,           1,\n",
       "                  1,           1,           1,           1,           1,           1,           1,           1,           1,           1,           1,           1,           1,           1,           1,           1,           1,           1,           1,           1,           1,           1,           1,\n",
       "                  1,           1,           1,           1,           1,           1,           1,           1,           1,           1,           1,           1,           1,           1,           1,           1,           1,           1,           1,           1,           1,           1,           1,\n",
       "                  1,           1,           1,           1,           1,           1,           1,           1,           1,           1,           1,           1,           1,           1,           1,           1,           1,           1,           1,           1,           1,           1,           1,\n",
       "                  1,           1,           1,           1,           1,           1,           1,           1,           1,           1,           1,           1,           1,           1,           1,           1,           1,           1,           1,           1,           1,           1,           1,\n",
       "                  1,           1,           1,           1,           1,           1,           1,           1,           1,           1,           1,           1,           1,           1,           1,           1,           1,           1,           1,           1,           1,           1,           1,\n",
       "            0.99611,     0.99611,     0.99611,     0.99611,     0.99611,     0.99611,     0.99611,     0.99611,     0.99611,     0.99611,     0.99611,     0.99611,     0.99611,     0.99611,     0.99611,     0.99611,     0.99611,     0.99611,     0.99611,     0.99611,     0.99611,     0.99611,     0.99611,\n",
       "            0.99611,     0.99611,     0.99611,     0.99611,     0.99611,     0.99611,     0.99611,     0.99611,     0.99611,     0.99611,     0.99611,     0.99611,     0.99611,     0.99611,     0.99611,     0.99611,     0.99611,     0.99611,     0.99611,     0.99267,     0.99267,     0.99267,     0.99267,\n",
       "            0.99267,     0.99267,     0.99267,     0.99267,     0.99267,     0.99267,     0.99267,     0.99267,     0.99267,     0.99267,     0.99267,     0.98973,     0.98973,     0.98973,     0.98973,     0.98973,     0.98973,     0.98973,     0.98973,     0.98973,     0.98973,     0.98973,     0.98973,\n",
       "            0.98973,     0.98973,     0.98973,     0.98973,     0.98973,     0.98718,     0.98718,     0.98718,     0.98718,     0.98718,     0.98718,     0.98718,     0.98718,     0.98718,     0.98718,     0.98718,     0.98718,     0.98718,     0.98718,     0.98718,     0.98718,     0.98718,     0.98718,\n",
       "            0.98718,     0.98462,     0.98462,     0.98462,     0.98462,     0.98462,     0.98462,     0.98462,     0.98462,     0.98462,     0.98462,     0.98462,     0.98237,     0.98237,     0.98237,     0.98237,     0.98237,     0.98237,     0.98237,     0.98237,     0.98237,     0.98237,     0.98237,\n",
       "            0.98237,     0.98237,     0.98237,     0.98237,     0.98237,     0.98237,     0.98237,     0.98237,     0.98237,     0.98237,     0.98237,     0.98237,     0.98237,     0.98237,     0.98237,     0.98237,     0.98237,     0.98237,     0.98237,     0.98237,     0.98237,     0.98237,     0.98237,\n",
       "            0.98237,     0.98237,     0.98237,     0.98237,     0.98237,     0.98237,     0.98237,     0.98237,     0.98237,     0.98237,     0.98237,     0.98237,     0.98237,     0.98237,     0.98237,     0.98237,     0.98237,     0.98237,     0.98237,     0.98237,     0.98237,     0.98237,     0.98237,\n",
       "            0.98237,     0.98237,     0.98237,     0.98237,     0.98237,     0.98237,     0.98237,     0.98237,     0.98237,     0.98237,     0.98237,     0.98025,     0.98025,     0.98025,     0.98025,     0.98025,     0.98025,     0.98025,     0.97917,     0.97917,     0.97917,     0.97917,     0.97917,\n",
       "            0.97917,     0.97917,     0.97917,     0.97917,     0.97917,     0.97917,     0.97917,     0.97917,     0.97917,     0.97917,     0.97917,     0.97917,     0.97917,     0.97917,     0.97917,     0.97917,     0.97917,     0.97917,     0.97917,     0.97917,     0.97753,     0.97753,     0.97753,\n",
       "            0.97753,     0.97753,     0.97753,     0.97753,     0.97753,     0.97753,     0.97753,     0.97753,     0.97753,     0.97539,     0.97351,     0.97351,     0.97351,     0.97351,     0.97351,     0.96937,     0.96937,     0.96739,     0.96739,     0.96391,     0.96391,     0.96391,     0.96391,\n",
       "            0.96391,     0.96391,     0.96391,     0.96391,     0.96242,     0.96242,     0.96242,     0.96242,     0.96242,     0.96242,     0.96242,     0.96099,     0.96099,     0.96099,     0.96099,     0.96099,     0.96099,     0.96099,     0.95992,     0.95992,     0.95992,     0.95992,     0.95992,\n",
       "            0.95992,     0.95992,     0.95992,     0.95992,     0.95992,     0.95992,     0.95825,     0.95825,     0.95777,     0.95777,     0.95777,     0.95777,     0.95777,     0.95777,     0.95777,     0.95777,     0.95777,     0.95777,     0.95777,     0.95777,     0.95777,     0.95777,     0.95777,\n",
       "            0.95777,     0.95777,     0.95709,     0.95709,     0.95709,     0.95709,     0.95709,     0.95709,     0.95709,     0.95709,     0.95709,     0.95709,     0.95709,     0.95709,     0.95709,     0.95709,      0.9537,     0.95203,     0.95064,     0.95064,     0.95064,     0.95064,     0.94783,\n",
       "            0.94783,     0.94783,     0.94783,     0.94783,     0.94783,     0.94783,     0.94783,     0.94783,     0.94783,     0.94783,     0.94783,     0.94783,     0.94783,     0.94783,     0.94783,     0.94783,     0.94783,     0.94783,     0.94783,     0.94783,     0.94783,     0.94783,     0.94783,\n",
       "            0.94783,     0.94664,     0.94664,     0.94664,     0.94664,     0.94539,     0.94539,     0.94539,     0.94539,     0.94407,     0.94407,     0.94407,     0.94286,     0.94286,     0.94286,     0.94286,     0.94137,      0.9402,      0.9402,      0.9402,      0.9402,     0.93874,     0.93729,\n",
       "            0.93648,     0.93648,     0.93648,     0.93648,     0.93648,     0.93648,     0.93648,     0.93366,     0.93366,     0.93142,     0.93142,     0.93142,     0.93142,     0.93142,     0.93142,      0.9288,      0.9288,      0.9288,     0.92835,     0.92835,     0.92835,     0.92835,     0.92835,\n",
       "            0.92835,     0.92835,     0.92835,     0.92835,     0.92702,     0.92649,     0.92649,     0.92649,     0.92649,     0.92649,     0.92649,     0.92649,     0.92649,     0.92564,     0.92564,     0.92564,     0.92564,     0.92564,     0.92308,     0.92308,      0.9218,     0.92054,     0.91679,\n",
       "            0.91679,     0.91679,     0.91642,     0.91642,     0.91642,     0.91642,     0.91642,     0.91642,     0.91642,      0.9157,      0.9157,      0.9157,      0.9157,      0.9157,     0.91486,     0.91486,     0.91486,     0.91486,     0.91273,     0.91273,     0.91273,     0.91273,     0.91218,\n",
       "            0.91218,     0.91218,     0.91218,     0.91218,     0.91218,     0.91114,     0.91114,     0.90871,     0.90769,     0.90769,     0.90656,     0.90569,     0.90569,     0.90456,     0.90358,     0.90358,     0.90274,     0.90274,     0.90274,     0.90244,     0.90244,     0.90244,     0.90244,\n",
       "            0.90244,     0.90244,     0.90244,     0.90162,     0.90162,     0.90162,     0.90054,     0.89853,     0.89853,     0.89853,     0.89641,     0.89641,     0.89592,     0.89592,     0.89592,     0.89592,     0.89592,     0.89488,     0.89048,     0.89048,     0.88961,     0.88961,     0.88789,\n",
       "            0.88789,     0.88789,     0.88689,     0.88604,     0.88604,      0.8852,      0.8852,     0.88481,     0.88481,     0.88481,     0.88481,     0.88481,     0.88413,     0.88413,     0.88413,     0.88346,     0.88346,     0.88346,      0.8814,     0.88045,     0.87965,     0.87965,     0.87763,\n",
       "             0.8767,     0.87469,     0.87393,     0.87393,     0.87317,     0.87317,     0.87152,     0.87152,     0.87152,     0.86852,     0.86691,     0.86691,      0.8631,      0.8631,     0.86223,      0.8595,      0.8595,     0.85765,     0.85714,     0.85714,     0.85714,     0.85631,     0.85566,\n",
       "            0.85566,     0.85566,     0.85566,     0.85566,     0.85566,     0.85566,     0.85566,     0.85484,     0.85419,     0.85419,     0.85355,     0.85355,     0.85274,      0.8521,      0.8521,     0.85131,     0.85085,     0.85085,     0.85085,      0.8491,     0.84093,     0.84018,     0.83885,\n",
       "            0.83885,     0.83885,     0.83718,     0.83589,     0.83589,     0.83589,     0.83243,      0.8299,     0.82866,     0.82866,     0.82866,     0.82707,     0.82479,     0.82479,     0.82166,     0.82166,     0.81837,     0.81809,     0.81809,     0.81809,     0.81742,     0.81733,     0.81733,\n",
       "            0.81733,     0.81733,     0.81686,     0.81686,     0.81031,     0.80884,     0.80655,      0.8055,      0.8055,     0.80466,     0.80466,     0.80466,     0.80466,     0.80382,     0.80382,     0.80382,     0.80382,     0.80321,      0.8028,      0.8028,      0.8022,     0.80199,     0.80199,\n",
       "            0.80199,     0.79842,     0.79842,     0.79724,     0.79724,     0.79317,     0.79317,     0.79317,     0.79106,      0.7907,      0.7907,     0.78937,     0.78826,     0.78826,     0.78489,     0.78489,      0.7836,     0.77788,     0.77538,     0.77413,     0.77218,     0.76952,     0.76688,\n",
       "            0.76568,     0.76309,      0.7626,      0.7559,     0.75203,      0.7509,     0.74643,     0.74136,     0.73703,     0.73532,     0.72853,     0.72688,     0.72399,     0.72361,     0.72161,     0.72161,     0.71878,     0.70879,     0.70432,      0.7034,     0.70016,     0.69984,     0.69951,\n",
       "            0.69804,      0.6915,     0.68675,     0.68535,     0.68396,     0.67373,     0.67341,     0.67341,     0.67341,     0.67341,     0.67341,     0.67341,     0.67341,     0.67002,     0.66795,     0.66795,     0.65587,     0.65587,     0.65367,     0.65198,     0.64959,     0.64959,      0.6458,\n",
       "             0.6458,     0.62181,     0.62164,     0.62103,     0.61825,     0.61662,     0.61662,     0.61646,     0.61587,     0.61442,     0.61384,     0.61241,     0.60149,     0.60135,     0.59799,     0.59336,      0.5901,     0.58382,     0.57994,     0.57946,     0.57554,     0.57554,     0.57107,\n",
       "            0.56801,     0.56801,     0.56792,     0.56535,     0.56037,     0.55926,     0.55271,     0.54469,     0.54366,     0.54361,     0.54001,     0.53584,     0.53298,     0.53198,     0.53198,     0.53194,     0.52853,     0.52698,     0.52574,     0.52332,      0.5224,     0.51944,     0.51796,\n",
       "             0.5063,     0.48864,     0.48406,     0.48333,     0.48185,     0.46547,     0.44954,     0.44937,     0.44429,     0.44036,     0.43938,     0.42857,     0.42824,     0.42617,     0.42604,     0.41174,     0.40491,     0.39899,     0.39899,     0.39899,     0.39689,     0.39515,     0.38201,\n",
       "            0.38088,     0.37839,      0.3752,     0.37426,     0.36531,     0.35744,     0.35744,     0.35741,      0.3546,      0.3521,      0.3384,     0.32432,     0.32323,     0.31203,     0.30601,     0.30182,     0.29058,     0.28639,     0.28466,     0.27969,     0.27396,     0.26373,     0.24987,\n",
       "            0.24515,     0.24441,     0.24393,      0.2346,     0.23428,      0.2246,     0.21652,     0.21315,     0.21272,     0.20881,      0.2042,     0.19763,     0.19516,     0.18893,     0.18893,     0.18322,     0.17282,     0.17254,     0.16877,     0.16877,     0.16819,     0.14547,     0.14454,\n",
       "             0.1322,     0.13144,     0.13067,     0.13067,     0.12715,     0.12637,     0.12506,     0.12463,     0.11906,     0.10561,    0.096653,    0.092451,    0.088249,    0.084046,    0.079844,    0.075642,    0.071439,    0.067237,    0.063035,    0.058832,     0.05463,    0.050428,    0.046225,\n",
       "           0.042023,    0.037821,    0.033618,    0.029416,    0.025214,    0.021012,    0.016809,    0.012607,   0.0084046,   0.0042023,           0]]), 'Recall', 'Precision'], [array([          0,    0.001001,    0.002002,    0.003003,    0.004004,    0.005005,    0.006006,    0.007007,    0.008008,    0.009009,     0.01001,    0.011011,    0.012012,    0.013013,    0.014014,    0.015015,    0.016016,    0.017017,    0.018018,    0.019019,     0.02002,    0.021021,    0.022022,    0.023023,\n",
       "          0.024024,    0.025025,    0.026026,    0.027027,    0.028028,    0.029029,     0.03003,    0.031031,    0.032032,    0.033033,    0.034034,    0.035035,    0.036036,    0.037037,    0.038038,    0.039039,     0.04004,    0.041041,    0.042042,    0.043043,    0.044044,    0.045045,    0.046046,    0.047047,\n",
       "          0.048048,    0.049049,     0.05005,    0.051051,    0.052052,    0.053053,    0.054054,    0.055055,    0.056056,    0.057057,    0.058058,    0.059059,     0.06006,    0.061061,    0.062062,    0.063063,    0.064064,    0.065065,    0.066066,    0.067067,    0.068068,    0.069069,     0.07007,    0.071071,\n",
       "          0.072072,    0.073073,    0.074074,    0.075075,    0.076076,    0.077077,    0.078078,    0.079079,     0.08008,    0.081081,    0.082082,    0.083083,    0.084084,    0.085085,    0.086086,    0.087087,    0.088088,    0.089089,     0.09009,    0.091091,    0.092092,    0.093093,    0.094094,    0.095095,\n",
       "          0.096096,    0.097097,    0.098098,    0.099099,      0.1001,      0.1011,      0.1021,      0.1031,      0.1041,     0.10511,     0.10611,     0.10711,     0.10811,     0.10911,     0.11011,     0.11111,     0.11211,     0.11311,     0.11411,     0.11512,     0.11612,     0.11712,     0.11812,     0.11912,\n",
       "           0.12012,     0.12112,     0.12212,     0.12312,     0.12412,     0.12513,     0.12613,     0.12713,     0.12813,     0.12913,     0.13013,     0.13113,     0.13213,     0.13313,     0.13413,     0.13514,     0.13614,     0.13714,     0.13814,     0.13914,     0.14014,     0.14114,     0.14214,     0.14314,\n",
       "           0.14414,     0.14515,     0.14615,     0.14715,     0.14815,     0.14915,     0.15015,     0.15115,     0.15215,     0.15315,     0.15415,     0.15516,     0.15616,     0.15716,     0.15816,     0.15916,     0.16016,     0.16116,     0.16216,     0.16316,     0.16416,     0.16517,     0.16617,     0.16717,\n",
       "           0.16817,     0.16917,     0.17017,     0.17117,     0.17217,     0.17317,     0.17417,     0.17518,     0.17618,     0.17718,     0.17818,     0.17918,     0.18018,     0.18118,     0.18218,     0.18318,     0.18418,     0.18519,     0.18619,     0.18719,     0.18819,     0.18919,     0.19019,     0.19119,\n",
       "           0.19219,     0.19319,     0.19419,      0.1952,      0.1962,      0.1972,      0.1982,      0.1992,      0.2002,      0.2012,      0.2022,      0.2032,      0.2042,     0.20521,     0.20621,     0.20721,     0.20821,     0.20921,     0.21021,     0.21121,     0.21221,     0.21321,     0.21421,     0.21522,\n",
       "           0.21622,     0.21722,     0.21822,     0.21922,     0.22022,     0.22122,     0.22222,     0.22322,     0.22422,     0.22523,     0.22623,     0.22723,     0.22823,     0.22923,     0.23023,     0.23123,     0.23223,     0.23323,     0.23423,     0.23524,     0.23624,     0.23724,     0.23824,     0.23924,\n",
       "           0.24024,     0.24124,     0.24224,     0.24324,     0.24424,     0.24525,     0.24625,     0.24725,     0.24825,     0.24925,     0.25025,     0.25125,     0.25225,     0.25325,     0.25425,     0.25526,     0.25626,     0.25726,     0.25826,     0.25926,     0.26026,     0.26126,     0.26226,     0.26326,\n",
       "           0.26426,     0.26527,     0.26627,     0.26727,     0.26827,     0.26927,     0.27027,     0.27127,     0.27227,     0.27327,     0.27427,     0.27528,     0.27628,     0.27728,     0.27828,     0.27928,     0.28028,     0.28128,     0.28228,     0.28328,     0.28428,     0.28529,     0.28629,     0.28729,\n",
       "           0.28829,     0.28929,     0.29029,     0.29129,     0.29229,     0.29329,     0.29429,      0.2953,      0.2963,      0.2973,      0.2983,      0.2993,      0.3003,      0.3013,      0.3023,      0.3033,      0.3043,     0.30531,     0.30631,     0.30731,     0.30831,     0.30931,     0.31031,     0.31131,\n",
       "           0.31231,     0.31331,     0.31431,     0.31532,     0.31632,     0.31732,     0.31832,     0.31932,     0.32032,     0.32132,     0.32232,     0.32332,     0.32432,     0.32533,     0.32633,     0.32733,     0.32833,     0.32933,     0.33033,     0.33133,     0.33233,     0.33333,     0.33433,     0.33534,\n",
       "           0.33634,     0.33734,     0.33834,     0.33934,     0.34034,     0.34134,     0.34234,     0.34334,     0.34434,     0.34535,     0.34635,     0.34735,     0.34835,     0.34935,     0.35035,     0.35135,     0.35235,     0.35335,     0.35435,     0.35536,     0.35636,     0.35736,     0.35836,     0.35936,\n",
       "           0.36036,     0.36136,     0.36236,     0.36336,     0.36436,     0.36537,     0.36637,     0.36737,     0.36837,     0.36937,     0.37037,     0.37137,     0.37237,     0.37337,     0.37437,     0.37538,     0.37638,     0.37738,     0.37838,     0.37938,     0.38038,     0.38138,     0.38238,     0.38338,\n",
       "           0.38438,     0.38539,     0.38639,     0.38739,     0.38839,     0.38939,     0.39039,     0.39139,     0.39239,     0.39339,     0.39439,      0.3954,      0.3964,      0.3974,      0.3984,      0.3994,      0.4004,      0.4014,      0.4024,      0.4034,      0.4044,     0.40541,     0.40641,     0.40741,\n",
       "           0.40841,     0.40941,     0.41041,     0.41141,     0.41241,     0.41341,     0.41441,     0.41542,     0.41642,     0.41742,     0.41842,     0.41942,     0.42042,     0.42142,     0.42242,     0.42342,     0.42442,     0.42543,     0.42643,     0.42743,     0.42843,     0.42943,     0.43043,     0.43143,\n",
       "           0.43243,     0.43343,     0.43443,     0.43544,     0.43644,     0.43744,     0.43844,     0.43944,     0.44044,     0.44144,     0.44244,     0.44344,     0.44444,     0.44545,     0.44645,     0.44745,     0.44845,     0.44945,     0.45045,     0.45145,     0.45245,     0.45345,     0.45445,     0.45546,\n",
       "           0.45646,     0.45746,     0.45846,     0.45946,     0.46046,     0.46146,     0.46246,     0.46346,     0.46446,     0.46547,     0.46647,     0.46747,     0.46847,     0.46947,     0.47047,     0.47147,     0.47247,     0.47347,     0.47447,     0.47548,     0.47648,     0.47748,     0.47848,     0.47948,\n",
       "           0.48048,     0.48148,     0.48248,     0.48348,     0.48448,     0.48549,     0.48649,     0.48749,     0.48849,     0.48949,     0.49049,     0.49149,     0.49249,     0.49349,     0.49449,      0.4955,      0.4965,      0.4975,      0.4985,      0.4995,      0.5005,      0.5015,      0.5025,      0.5035,\n",
       "            0.5045,     0.50551,     0.50651,     0.50751,     0.50851,     0.50951,     0.51051,     0.51151,     0.51251,     0.51351,     0.51451,     0.51552,     0.51652,     0.51752,     0.51852,     0.51952,     0.52052,     0.52152,     0.52252,     0.52352,     0.52452,     0.52553,     0.52653,     0.52753,\n",
       "           0.52853,     0.52953,     0.53053,     0.53153,     0.53253,     0.53353,     0.53453,     0.53554,     0.53654,     0.53754,     0.53854,     0.53954,     0.54054,     0.54154,     0.54254,     0.54354,     0.54454,     0.54555,     0.54655,     0.54755,     0.54855,     0.54955,     0.55055,     0.55155,\n",
       "           0.55255,     0.55355,     0.55455,     0.55556,     0.55656,     0.55756,     0.55856,     0.55956,     0.56056,     0.56156,     0.56256,     0.56356,     0.56456,     0.56557,     0.56657,     0.56757,     0.56857,     0.56957,     0.57057,     0.57157,     0.57257,     0.57357,     0.57457,     0.57558,\n",
       "           0.57658,     0.57758,     0.57858,     0.57958,     0.58058,     0.58158,     0.58258,     0.58358,     0.58458,     0.58559,     0.58659,     0.58759,     0.58859,     0.58959,     0.59059,     0.59159,     0.59259,     0.59359,     0.59459,      0.5956,      0.5966,      0.5976,      0.5986,      0.5996,\n",
       "            0.6006,      0.6016,      0.6026,      0.6036,      0.6046,     0.60561,     0.60661,     0.60761,     0.60861,     0.60961,     0.61061,     0.61161,     0.61261,     0.61361,     0.61461,     0.61562,     0.61662,     0.61762,     0.61862,     0.61962,     0.62062,     0.62162,     0.62262,     0.62362,\n",
       "           0.62462,     0.62563,     0.62663,     0.62763,     0.62863,     0.62963,     0.63063,     0.63163,     0.63263,     0.63363,     0.63463,     0.63564,     0.63664,     0.63764,     0.63864,     0.63964,     0.64064,     0.64164,     0.64264,     0.64364,     0.64464,     0.64565,     0.64665,     0.64765,\n",
       "           0.64865,     0.64965,     0.65065,     0.65165,     0.65265,     0.65365,     0.65465,     0.65566,     0.65666,     0.65766,     0.65866,     0.65966,     0.66066,     0.66166,     0.66266,     0.66366,     0.66466,     0.66567,     0.66667,     0.66767,     0.66867,     0.66967,     0.67067,     0.67167,\n",
       "           0.67267,     0.67367,     0.67467,     0.67568,     0.67668,     0.67768,     0.67868,     0.67968,     0.68068,     0.68168,     0.68268,     0.68368,     0.68468,     0.68569,     0.68669,     0.68769,     0.68869,     0.68969,     0.69069,     0.69169,     0.69269,     0.69369,     0.69469,      0.6957,\n",
       "            0.6967,      0.6977,      0.6987,      0.6997,      0.7007,      0.7017,      0.7027,      0.7037,      0.7047,     0.70571,     0.70671,     0.70771,     0.70871,     0.70971,     0.71071,     0.71171,     0.71271,     0.71371,     0.71471,     0.71572,     0.71672,     0.71772,     0.71872,     0.71972,\n",
       "           0.72072,     0.72172,     0.72272,     0.72372,     0.72472,     0.72573,     0.72673,     0.72773,     0.72873,     0.72973,     0.73073,     0.73173,     0.73273,     0.73373,     0.73473,     0.73574,     0.73674,     0.73774,     0.73874,     0.73974,     0.74074,     0.74174,     0.74274,     0.74374,\n",
       "           0.74474,     0.74575,     0.74675,     0.74775,     0.74875,     0.74975,     0.75075,     0.75175,     0.75275,     0.75375,     0.75475,     0.75576,     0.75676,     0.75776,     0.75876,     0.75976,     0.76076,     0.76176,     0.76276,     0.76376,     0.76476,     0.76577,     0.76677,     0.76777,\n",
       "           0.76877,     0.76977,     0.77077,     0.77177,     0.77277,     0.77377,     0.77477,     0.77578,     0.77678,     0.77778,     0.77878,     0.77978,     0.78078,     0.78178,     0.78278,     0.78378,     0.78478,     0.78579,     0.78679,     0.78779,     0.78879,     0.78979,     0.79079,     0.79179,\n",
       "           0.79279,     0.79379,     0.79479,      0.7958,      0.7968,      0.7978,      0.7988,      0.7998,      0.8008,      0.8018,      0.8028,      0.8038,      0.8048,     0.80581,     0.80681,     0.80781,     0.80881,     0.80981,     0.81081,     0.81181,     0.81281,     0.81381,     0.81481,     0.81582,\n",
       "           0.81682,     0.81782,     0.81882,     0.81982,     0.82082,     0.82182,     0.82282,     0.82382,     0.82482,     0.82583,     0.82683,     0.82783,     0.82883,     0.82983,     0.83083,     0.83183,     0.83283,     0.83383,     0.83483,     0.83584,     0.83684,     0.83784,     0.83884,     0.83984,\n",
       "           0.84084,     0.84184,     0.84284,     0.84384,     0.84484,     0.84585,     0.84685,     0.84785,     0.84885,     0.84985,     0.85085,     0.85185,     0.85285,     0.85385,     0.85485,     0.85586,     0.85686,     0.85786,     0.85886,     0.85986,     0.86086,     0.86186,     0.86286,     0.86386,\n",
       "           0.86486,     0.86587,     0.86687,     0.86787,     0.86887,     0.86987,     0.87087,     0.87187,     0.87287,     0.87387,     0.87487,     0.87588,     0.87688,     0.87788,     0.87888,     0.87988,     0.88088,     0.88188,     0.88288,     0.88388,     0.88488,     0.88589,     0.88689,     0.88789,\n",
       "           0.88889,     0.88989,     0.89089,     0.89189,     0.89289,     0.89389,     0.89489,      0.8959,      0.8969,      0.8979,      0.8989,      0.8999,      0.9009,      0.9019,      0.9029,      0.9039,      0.9049,     0.90591,     0.90691,     0.90791,     0.90891,     0.90991,     0.91091,     0.91191,\n",
       "           0.91291,     0.91391,     0.91491,     0.91592,     0.91692,     0.91792,     0.91892,     0.91992,     0.92092,     0.92192,     0.92292,     0.92392,     0.92492,     0.92593,     0.92693,     0.92793,     0.92893,     0.92993,     0.93093,     0.93193,     0.93293,     0.93393,     0.93493,     0.93594,\n",
       "           0.93694,     0.93794,     0.93894,     0.93994,     0.94094,     0.94194,     0.94294,     0.94394,     0.94494,     0.94595,     0.94695,     0.94795,     0.94895,     0.94995,     0.95095,     0.95195,     0.95295,     0.95395,     0.95495,     0.95596,     0.95696,     0.95796,     0.95896,     0.95996,\n",
       "           0.96096,     0.96196,     0.96296,     0.96396,     0.96496,     0.96597,     0.96697,     0.96797,     0.96897,     0.96997,     0.97097,     0.97197,     0.97297,     0.97397,     0.97497,     0.97598,     0.97698,     0.97798,     0.97898,     0.97998,     0.98098,     0.98198,     0.98298,     0.98398,\n",
       "           0.98498,     0.98599,     0.98699,     0.98799,     0.98899,     0.98999,     0.99099,     0.99199,     0.99299,     0.99399,     0.99499,       0.996,       0.997,       0.998,       0.999,           1]), array([[    0.17799,     0.17799,     0.23054,     0.26577,     0.29274,     0.31508,     0.33362,     0.35015,     0.36617,     0.38022,     0.39193,     0.40362,     0.41243,     0.42193,     0.42937,     0.43687,     0.44341,     0.45254,     0.46101,      0.4678,     0.47375,        0.48,     0.48775,\n",
       "            0.49521,     0.50335,     0.51077,      0.5172,     0.52459,     0.53073,     0.53389,     0.53992,     0.54827,     0.55424,     0.55783,     0.56239,      0.5675,     0.57124,     0.57548,     0.58165,     0.58618,     0.59106,     0.59533,     0.60051,     0.60332,     0.60658,     0.61147,\n",
       "            0.61453,     0.61784,     0.62123,      0.6254,     0.62809,     0.62975,     0.63336,     0.63779,     0.64001,     0.64262,     0.64644,     0.64792,     0.65371,     0.65651,     0.65758,     0.65955,     0.66065,     0.66158,     0.66243,     0.66347,     0.66514,     0.66739,     0.67013,\n",
       "            0.67219,     0.67284,     0.67489,     0.67659,     0.67867,     0.68008,     0.68252,      0.6845,     0.68639,     0.68854,       0.689,     0.69072,     0.69211,     0.69345,     0.69417,       0.696,     0.69594,      0.6969,     0.69866,     0.69916,      0.7014,     0.70256,     0.70455,\n",
       "            0.70522,     0.70637,     0.70791,     0.70913,     0.71082,     0.71219,     0.71317,     0.71465,     0.71633,     0.71703,     0.71675,     0.71733,     0.71727,     0.71783,     0.71847,     0.71904,     0.71921,     0.71957,     0.72049,     0.72162,     0.72294,     0.72399,     0.72446,\n",
       "            0.72544,      0.7261,     0.72681,      0.7285,     0.73058,      0.7316,     0.73273,     0.73401,     0.73385,     0.73508,     0.73592,     0.73585,     0.73702,     0.73761,     0.73833,     0.73892,       0.739,     0.73992,     0.74128,     0.74255,     0.74333,     0.74378,     0.74477,\n",
       "            0.74586,     0.74554,     0.74517,     0.74602,     0.74599,     0.74739,      0.7475,     0.74681,     0.74594,     0.74552,     0.74562,     0.74622,     0.74723,     0.74818,     0.74854,     0.74901,     0.74941,     0.75031,      0.7509,     0.75056,     0.75086,      0.7514,      0.7519,\n",
       "            0.75177,     0.75279,     0.75415,     0.75427,     0.75471,     0.75556,     0.75617,     0.75712,     0.75771,     0.75741,     0.75781,     0.75817,     0.75804,     0.75763,     0.75747,     0.75848,      0.7593,      0.7594,     0.75929,     0.75902,     0.76009,     0.76113,     0.76149,\n",
       "            0.76137,       0.762,     0.76258,     0.76292,     0.76395,     0.76454,     0.76511,      0.7657,     0.76627,     0.76653,     0.76696,     0.76658,     0.76691,      0.7671,     0.76755,     0.76762,      0.7679,     0.76806,     0.76831,     0.76796,     0.76815,     0.76774,     0.76819,\n",
       "            0.76891,     0.76921,      0.7689,     0.76908,      0.7697,     0.76989,     0.77037,     0.77163,     0.77233,     0.77296,     0.77325,     0.77279,     0.77301,     0.77399,     0.77426,     0.77508,     0.77524,     0.77547,     0.77558,     0.77531,     0.77531,     0.77573,     0.77705,\n",
       "            0.77768,     0.77795,     0.77769,     0.77912,      0.7797,     0.77995,        0.78,     0.77997,     0.78014,      0.7803,     0.78088,     0.78123,     0.78146,     0.78228,     0.78281,     0.78301,     0.78321,     0.78341,     0.78451,     0.78467,     0.78481,     0.78435,     0.78419,\n",
       "            0.78438,     0.78492,     0.78543,     0.78511,     0.78554,     0.78566,     0.78569,      0.7862,     0.78643,     0.78657,      0.7866,     0.78642,     0.78662,     0.78675,     0.78694,     0.78752,     0.78705,     0.78787,     0.78813,     0.78741,     0.78734,     0.78753,      0.7882,\n",
       "            0.78865,     0.78842,     0.78812,     0.78865,     0.78887,     0.78946,     0.78971,     0.78982,     0.78994,     0.79068,     0.79108,     0.79091,     0.79074,     0.79057,     0.79078,     0.79116,     0.79044,      0.7911,     0.79136,     0.79183,      0.7913,     0.79143,     0.79166,\n",
       "             0.7915,     0.79047,     0.79065,     0.79082,     0.79111,     0.79121,     0.79074,      0.7904,      0.7901,     0.78994,     0.79036,     0.79102,     0.79206,     0.79104,     0.79156,     0.79104,     0.79063,     0.79087,      0.7917,     0.79249,     0.79106,     0.79113,     0.79072,\n",
       "            0.79083,     0.78991,     0.78976,      0.7896,     0.78817,     0.78824,     0.78788,     0.78741,     0.78628,     0.78644,      0.7866,     0.78597,     0.78533,     0.78511,     0.78488,     0.78594,     0.78612,     0.78592,     0.78601,     0.78635,     0.78682,     0.78723,     0.78777,\n",
       "            0.78792,     0.78807,     0.78829,     0.78869,     0.78814,     0.78786,     0.78787,     0.78811,      0.7879,     0.78769,      0.7875,     0.78739,     0.78729,     0.78719,     0.78708,     0.78698,     0.78655,     0.78604,     0.78573,     0.78548,     0.78564,      0.7858,      0.7853,\n",
       "            0.78501,     0.78476,     0.78412,     0.78406,     0.78425,     0.78432,     0.78439,     0.78446,     0.78453,     0.78463,     0.78487,     0.78538,     0.78416,     0.78524,     0.78556,     0.78472,     0.78503,     0.78542,     0.78518,     0.78532,     0.78546,     0.78553,     0.78496,\n",
       "            0.78454,     0.78433,     0.78412,     0.78428,     0.78426,     0.78438,     0.78449,     0.78461,     0.78501,     0.78524,     0.78487,     0.78545,     0.78594,     0.78534,     0.78485,     0.78531,      0.7853,     0.78383,     0.78402,     0.78375,     0.78381,     0.78409,     0.78437,\n",
       "            0.78424,     0.78465,     0.78555,     0.78591,     0.78603,     0.78615,     0.78645,     0.78631,     0.78655,     0.78609,      0.7851,     0.78474,     0.78502,     0.78482,     0.78441,     0.78408,     0.78406,     0.78374,     0.78391,      0.7836,     0.78307,     0.78286,     0.78209,\n",
       "            0.78206,     0.78202,      0.7818,     0.78201,     0.78155,     0.78064,      0.7802,     0.77937,     0.77903,     0.77873,     0.77846,      0.7782,     0.77795,     0.77752,      0.7777,     0.77675,     0.77556,     0.77584,     0.77539,     0.77594,     0.77549,     0.77487,     0.77499,\n",
       "            0.77511,     0.77567,     0.77563,     0.77458,     0.77543,     0.77584,     0.77598,     0.77612,      0.7757,     0.77519,     0.77427,     0.77455,     0.77478,     0.77499,     0.77467,     0.77528,      0.7755,     0.77504,     0.77399,     0.77446,     0.77347,     0.77354,     0.77282,\n",
       "            0.77248,     0.77243,     0.77265,     0.77261,     0.77245,     0.77209,     0.77267,     0.77233,     0.77199,     0.77164,     0.77156,     0.77132,     0.77106,     0.77162,     0.77127,     0.77026,     0.76991,     0.76982,        0.77,     0.77007,     0.76909,     0.76823,     0.76781,\n",
       "            0.76735,     0.76673,     0.76536,     0.76547,     0.76438,     0.76455,     0.76446,     0.76422,     0.76399,     0.76365,     0.76307,     0.76341,     0.76262,     0.76234,     0.76205,     0.76177,     0.76114,     0.76147,     0.76077,     0.76021,     0.76047,     0.75976,     0.75966,\n",
       "            0.75983,        0.76,     0.76071,     0.76033,     0.75946,     0.75884,     0.75827,     0.75756,     0.75734,     0.75621,     0.75629,     0.75636,     0.75643,      0.7565,     0.75658,      0.7566,     0.75518,     0.75507,     0.75529,     0.75556,     0.75567,     0.75519,     0.75542,\n",
       "            0.75522,     0.75486,      0.7545,     0.75414,     0.75375,     0.75108,     0.75012,     0.74976,     0.74928,     0.74852,     0.74723,     0.74738,     0.74752,     0.74664,     0.74627,     0.74644,     0.74632,     0.74595,      0.7461,     0.74586,     0.74561,     0.74497,      0.7445,\n",
       "            0.74424,     0.74387,     0.74406,     0.74356,     0.74283,     0.74311,     0.74255,     0.74297,     0.74327,     0.74294,      0.7422,     0.74212,     0.74175,     0.74143,     0.74113,     0.74053,     0.73888,     0.73835,     0.73708,     0.73633,     0.73618,     0.73531,     0.73346,\n",
       "            0.73357,     0.73368,     0.73379,     0.73344,     0.73194,     0.73119,      0.7304,     0.72935,     0.72859,      0.7267,     0.72519,     0.72465,     0.72487,     0.72417,     0.72379,     0.72292,     0.72328,      0.7235,     0.72343,     0.72338,     0.72268,     0.72228,      0.7219,\n",
       "            0.72234,      0.7227,     0.72043,     0.71991,     0.71909,     0.71931,     0.71836,     0.71797,     0.71729,     0.71651,     0.71496,     0.71357,     0.71317,     0.71229,      0.7115,     0.70994,      0.7077,     0.70717,     0.70638,     0.70489,     0.70511,     0.70526,     0.70361,\n",
       "            0.70091,     0.70009,     0.70038,      0.7006,     0.69931,     0.69896,     0.69735,     0.69653,     0.69587,     0.69554,     0.69522,     0.69457,     0.69478,     0.69405,     0.69383,     0.69366,     0.69106,     0.69083,     0.69003,      0.6892,      0.6877,     0.68715,     0.68619,\n",
       "            0.68594,     0.68304,     0.68201,     0.68137,     0.68053,     0.67969,     0.67922,     0.67951,     0.67717,     0.67549,     0.67423,     0.67088,     0.67002,     0.66623,     0.66205,     0.66241,     0.66184,     0.66024,     0.65933,     0.65848,      0.6563,     0.65481,      0.6551,\n",
       "            0.65528,     0.65542,     0.65557,     0.65286,     0.65242,     0.65147,     0.65049,     0.64873,     0.64725,     0.64652,     0.64346,     0.63944,     0.63768,     0.63708,      0.6354,     0.63227,     0.62958,     0.62889,     0.62917,     0.62768,     0.62672,      0.6231,     0.62188,\n",
       "            0.61988,     0.61804,     0.61738,     0.61712,      0.6174,      0.6147,     0.61407,     0.61328,     0.61044,     0.60851,     0.60478,     0.60417,     0.60379,     0.60129,     0.59908,     0.59592,     0.59506,     0.59368,     0.59058,     0.58897,     0.58573,      0.5817,     0.57973,\n",
       "            0.57377,     0.56937,     0.56335,     0.55984,     0.55332,     0.55361,     0.54907,     0.54803,     0.54686,     0.54055,      0.5381,     0.53521,     0.53212,     0.52658,     0.52077,      0.5162,     0.51276,     0.50791,     0.50641,     0.50409,     0.49655,     0.49425,     0.48928,\n",
       "            0.48539,     0.48312,     0.47698,      0.4745,      0.4702,     0.46003,     0.45557,     0.45398,     0.44405,     0.44142,      0.4337,     0.43097,     0.42347,     0.41679,      0.4122,      0.4085,      0.4074,     0.40656,     0.39703,     0.39443,     0.39064,     0.38426,     0.38108,\n",
       "            0.37007,     0.36819,     0.35168,     0.34718,     0.34582,     0.34313,     0.33031,     0.32718,     0.31789,      0.3134,     0.30668,     0.30499,     0.29813,     0.29368,      0.2838,     0.27285,     0.26922,     0.26257,     0.25735,     0.25243,     0.25128,     0.24074,     0.23859,\n",
       "            0.22717,      0.2256,      0.2222,     0.21904,     0.21394,     0.21115,     0.20842,     0.20682,     0.20467,     0.19889,     0.19507,     0.19023,     0.18287,     0.18047,     0.17393,     0.16739,     0.16627,     0.15733,     0.15327,     0.14991,     0.14319,     0.13849,     0.13215,\n",
       "            0.12834,     0.12484,     0.12133,     0.11436,     0.11271,     0.11133,      0.1089,     0.10009,    0.096346,     0.09189,    0.089239,    0.082027,    0.074761,    0.072048,    0.065531,    0.062884,    0.059877,    0.052801,    0.051541,    0.048563,    0.042903,     0.03721,    0.030281,\n",
       "           0.028992,    0.025291,    0.022251,    0.021276,    0.017737,    0.014547,    0.013565,    0.011649,    0.011246,    0.010888,    0.010529,    0.010171,   0.0098124,   0.0084739,   0.0064965,   0.0053812,   0.0047205,   0.0040593,   0.0036573,   0.0033518,   0.0030463,   0.0027407,    0.002435,\n",
       "          0.0021292,           0,           0,           0,           0,           0,           0,           0,           0,           0,           0,           0,           0,           0,           0,           0,           0,           0,           0,           0,           0,           0,           0,\n",
       "                  0,           0,           0,           0,           0,           0,           0,           0,           0,           0,           0,           0,           0,           0,           0,           0,           0,           0,           0,           0,           0,           0,           0,\n",
       "                  0,           0,           0,           0,           0,           0,           0,           0,           0,           0,           0,           0,           0,           0,           0,           0,           0,           0,           0,           0,           0,           0,           0,\n",
       "                  0,           0,           0,           0,           0,           0,           0,           0,           0,           0,           0,           0,           0,           0,           0,           0,           0,           0,           0,           0,           0,           0,           0,\n",
       "                  0,           0,           0,           0,           0,           0,           0,           0,           0,           0,           0,           0,           0,           0,           0,           0,           0,           0,           0,           0,           0,           0,           0,\n",
       "                  0,           0,           0,           0,           0,           0,           0,           0,           0,           0,           0]]), 'Confidence', 'F1'], [array([          0,    0.001001,    0.002002,    0.003003,    0.004004,    0.005005,    0.006006,    0.007007,    0.008008,    0.009009,     0.01001,    0.011011,    0.012012,    0.013013,    0.014014,    0.015015,    0.016016,    0.017017,    0.018018,    0.019019,     0.02002,    0.021021,    0.022022,    0.023023,\n",
       "          0.024024,    0.025025,    0.026026,    0.027027,    0.028028,    0.029029,     0.03003,    0.031031,    0.032032,    0.033033,    0.034034,    0.035035,    0.036036,    0.037037,    0.038038,    0.039039,     0.04004,    0.041041,    0.042042,    0.043043,    0.044044,    0.045045,    0.046046,    0.047047,\n",
       "          0.048048,    0.049049,     0.05005,    0.051051,    0.052052,    0.053053,    0.054054,    0.055055,    0.056056,    0.057057,    0.058058,    0.059059,     0.06006,    0.061061,    0.062062,    0.063063,    0.064064,    0.065065,    0.066066,    0.067067,    0.068068,    0.069069,     0.07007,    0.071071,\n",
       "          0.072072,    0.073073,    0.074074,    0.075075,    0.076076,    0.077077,    0.078078,    0.079079,     0.08008,    0.081081,    0.082082,    0.083083,    0.084084,    0.085085,    0.086086,    0.087087,    0.088088,    0.089089,     0.09009,    0.091091,    0.092092,    0.093093,    0.094094,    0.095095,\n",
       "          0.096096,    0.097097,    0.098098,    0.099099,      0.1001,      0.1011,      0.1021,      0.1031,      0.1041,     0.10511,     0.10611,     0.10711,     0.10811,     0.10911,     0.11011,     0.11111,     0.11211,     0.11311,     0.11411,     0.11512,     0.11612,     0.11712,     0.11812,     0.11912,\n",
       "           0.12012,     0.12112,     0.12212,     0.12312,     0.12412,     0.12513,     0.12613,     0.12713,     0.12813,     0.12913,     0.13013,     0.13113,     0.13213,     0.13313,     0.13413,     0.13514,     0.13614,     0.13714,     0.13814,     0.13914,     0.14014,     0.14114,     0.14214,     0.14314,\n",
       "           0.14414,     0.14515,     0.14615,     0.14715,     0.14815,     0.14915,     0.15015,     0.15115,     0.15215,     0.15315,     0.15415,     0.15516,     0.15616,     0.15716,     0.15816,     0.15916,     0.16016,     0.16116,     0.16216,     0.16316,     0.16416,     0.16517,     0.16617,     0.16717,\n",
       "           0.16817,     0.16917,     0.17017,     0.17117,     0.17217,     0.17317,     0.17417,     0.17518,     0.17618,     0.17718,     0.17818,     0.17918,     0.18018,     0.18118,     0.18218,     0.18318,     0.18418,     0.18519,     0.18619,     0.18719,     0.18819,     0.18919,     0.19019,     0.19119,\n",
       "           0.19219,     0.19319,     0.19419,      0.1952,      0.1962,      0.1972,      0.1982,      0.1992,      0.2002,      0.2012,      0.2022,      0.2032,      0.2042,     0.20521,     0.20621,     0.20721,     0.20821,     0.20921,     0.21021,     0.21121,     0.21221,     0.21321,     0.21421,     0.21522,\n",
       "           0.21622,     0.21722,     0.21822,     0.21922,     0.22022,     0.22122,     0.22222,     0.22322,     0.22422,     0.22523,     0.22623,     0.22723,     0.22823,     0.22923,     0.23023,     0.23123,     0.23223,     0.23323,     0.23423,     0.23524,     0.23624,     0.23724,     0.23824,     0.23924,\n",
       "           0.24024,     0.24124,     0.24224,     0.24324,     0.24424,     0.24525,     0.24625,     0.24725,     0.24825,     0.24925,     0.25025,     0.25125,     0.25225,     0.25325,     0.25425,     0.25526,     0.25626,     0.25726,     0.25826,     0.25926,     0.26026,     0.26126,     0.26226,     0.26326,\n",
       "           0.26426,     0.26527,     0.26627,     0.26727,     0.26827,     0.26927,     0.27027,     0.27127,     0.27227,     0.27327,     0.27427,     0.27528,     0.27628,     0.27728,     0.27828,     0.27928,     0.28028,     0.28128,     0.28228,     0.28328,     0.28428,     0.28529,     0.28629,     0.28729,\n",
       "           0.28829,     0.28929,     0.29029,     0.29129,     0.29229,     0.29329,     0.29429,      0.2953,      0.2963,      0.2973,      0.2983,      0.2993,      0.3003,      0.3013,      0.3023,      0.3033,      0.3043,     0.30531,     0.30631,     0.30731,     0.30831,     0.30931,     0.31031,     0.31131,\n",
       "           0.31231,     0.31331,     0.31431,     0.31532,     0.31632,     0.31732,     0.31832,     0.31932,     0.32032,     0.32132,     0.32232,     0.32332,     0.32432,     0.32533,     0.32633,     0.32733,     0.32833,     0.32933,     0.33033,     0.33133,     0.33233,     0.33333,     0.33433,     0.33534,\n",
       "           0.33634,     0.33734,     0.33834,     0.33934,     0.34034,     0.34134,     0.34234,     0.34334,     0.34434,     0.34535,     0.34635,     0.34735,     0.34835,     0.34935,     0.35035,     0.35135,     0.35235,     0.35335,     0.35435,     0.35536,     0.35636,     0.35736,     0.35836,     0.35936,\n",
       "           0.36036,     0.36136,     0.36236,     0.36336,     0.36436,     0.36537,     0.36637,     0.36737,     0.36837,     0.36937,     0.37037,     0.37137,     0.37237,     0.37337,     0.37437,     0.37538,     0.37638,     0.37738,     0.37838,     0.37938,     0.38038,     0.38138,     0.38238,     0.38338,\n",
       "           0.38438,     0.38539,     0.38639,     0.38739,     0.38839,     0.38939,     0.39039,     0.39139,     0.39239,     0.39339,     0.39439,      0.3954,      0.3964,      0.3974,      0.3984,      0.3994,      0.4004,      0.4014,      0.4024,      0.4034,      0.4044,     0.40541,     0.40641,     0.40741,\n",
       "           0.40841,     0.40941,     0.41041,     0.41141,     0.41241,     0.41341,     0.41441,     0.41542,     0.41642,     0.41742,     0.41842,     0.41942,     0.42042,     0.42142,     0.42242,     0.42342,     0.42442,     0.42543,     0.42643,     0.42743,     0.42843,     0.42943,     0.43043,     0.43143,\n",
       "           0.43243,     0.43343,     0.43443,     0.43544,     0.43644,     0.43744,     0.43844,     0.43944,     0.44044,     0.44144,     0.44244,     0.44344,     0.44444,     0.44545,     0.44645,     0.44745,     0.44845,     0.44945,     0.45045,     0.45145,     0.45245,     0.45345,     0.45445,     0.45546,\n",
       "           0.45646,     0.45746,     0.45846,     0.45946,     0.46046,     0.46146,     0.46246,     0.46346,     0.46446,     0.46547,     0.46647,     0.46747,     0.46847,     0.46947,     0.47047,     0.47147,     0.47247,     0.47347,     0.47447,     0.47548,     0.47648,     0.47748,     0.47848,     0.47948,\n",
       "           0.48048,     0.48148,     0.48248,     0.48348,     0.48448,     0.48549,     0.48649,     0.48749,     0.48849,     0.48949,     0.49049,     0.49149,     0.49249,     0.49349,     0.49449,      0.4955,      0.4965,      0.4975,      0.4985,      0.4995,      0.5005,      0.5015,      0.5025,      0.5035,\n",
       "            0.5045,     0.50551,     0.50651,     0.50751,     0.50851,     0.50951,     0.51051,     0.51151,     0.51251,     0.51351,     0.51451,     0.51552,     0.51652,     0.51752,     0.51852,     0.51952,     0.52052,     0.52152,     0.52252,     0.52352,     0.52452,     0.52553,     0.52653,     0.52753,\n",
       "           0.52853,     0.52953,     0.53053,     0.53153,     0.53253,     0.53353,     0.53453,     0.53554,     0.53654,     0.53754,     0.53854,     0.53954,     0.54054,     0.54154,     0.54254,     0.54354,     0.54454,     0.54555,     0.54655,     0.54755,     0.54855,     0.54955,     0.55055,     0.55155,\n",
       "           0.55255,     0.55355,     0.55455,     0.55556,     0.55656,     0.55756,     0.55856,     0.55956,     0.56056,     0.56156,     0.56256,     0.56356,     0.56456,     0.56557,     0.56657,     0.56757,     0.56857,     0.56957,     0.57057,     0.57157,     0.57257,     0.57357,     0.57457,     0.57558,\n",
       "           0.57658,     0.57758,     0.57858,     0.57958,     0.58058,     0.58158,     0.58258,     0.58358,     0.58458,     0.58559,     0.58659,     0.58759,     0.58859,     0.58959,     0.59059,     0.59159,     0.59259,     0.59359,     0.59459,      0.5956,      0.5966,      0.5976,      0.5986,      0.5996,\n",
       "            0.6006,      0.6016,      0.6026,      0.6036,      0.6046,     0.60561,     0.60661,     0.60761,     0.60861,     0.60961,     0.61061,     0.61161,     0.61261,     0.61361,     0.61461,     0.61562,     0.61662,     0.61762,     0.61862,     0.61962,     0.62062,     0.62162,     0.62262,     0.62362,\n",
       "           0.62462,     0.62563,     0.62663,     0.62763,     0.62863,     0.62963,     0.63063,     0.63163,     0.63263,     0.63363,     0.63463,     0.63564,     0.63664,     0.63764,     0.63864,     0.63964,     0.64064,     0.64164,     0.64264,     0.64364,     0.64464,     0.64565,     0.64665,     0.64765,\n",
       "           0.64865,     0.64965,     0.65065,     0.65165,     0.65265,     0.65365,     0.65465,     0.65566,     0.65666,     0.65766,     0.65866,     0.65966,     0.66066,     0.66166,     0.66266,     0.66366,     0.66466,     0.66567,     0.66667,     0.66767,     0.66867,     0.66967,     0.67067,     0.67167,\n",
       "           0.67267,     0.67367,     0.67467,     0.67568,     0.67668,     0.67768,     0.67868,     0.67968,     0.68068,     0.68168,     0.68268,     0.68368,     0.68468,     0.68569,     0.68669,     0.68769,     0.68869,     0.68969,     0.69069,     0.69169,     0.69269,     0.69369,     0.69469,      0.6957,\n",
       "            0.6967,      0.6977,      0.6987,      0.6997,      0.7007,      0.7017,      0.7027,      0.7037,      0.7047,     0.70571,     0.70671,     0.70771,     0.70871,     0.70971,     0.71071,     0.71171,     0.71271,     0.71371,     0.71471,     0.71572,     0.71672,     0.71772,     0.71872,     0.71972,\n",
       "           0.72072,     0.72172,     0.72272,     0.72372,     0.72472,     0.72573,     0.72673,     0.72773,     0.72873,     0.72973,     0.73073,     0.73173,     0.73273,     0.73373,     0.73473,     0.73574,     0.73674,     0.73774,     0.73874,     0.73974,     0.74074,     0.74174,     0.74274,     0.74374,\n",
       "           0.74474,     0.74575,     0.74675,     0.74775,     0.74875,     0.74975,     0.75075,     0.75175,     0.75275,     0.75375,     0.75475,     0.75576,     0.75676,     0.75776,     0.75876,     0.75976,     0.76076,     0.76176,     0.76276,     0.76376,     0.76476,     0.76577,     0.76677,     0.76777,\n",
       "           0.76877,     0.76977,     0.77077,     0.77177,     0.77277,     0.77377,     0.77477,     0.77578,     0.77678,     0.77778,     0.77878,     0.77978,     0.78078,     0.78178,     0.78278,     0.78378,     0.78478,     0.78579,     0.78679,     0.78779,     0.78879,     0.78979,     0.79079,     0.79179,\n",
       "           0.79279,     0.79379,     0.79479,      0.7958,      0.7968,      0.7978,      0.7988,      0.7998,      0.8008,      0.8018,      0.8028,      0.8038,      0.8048,     0.80581,     0.80681,     0.80781,     0.80881,     0.80981,     0.81081,     0.81181,     0.81281,     0.81381,     0.81481,     0.81582,\n",
       "           0.81682,     0.81782,     0.81882,     0.81982,     0.82082,     0.82182,     0.82282,     0.82382,     0.82482,     0.82583,     0.82683,     0.82783,     0.82883,     0.82983,     0.83083,     0.83183,     0.83283,     0.83383,     0.83483,     0.83584,     0.83684,     0.83784,     0.83884,     0.83984,\n",
       "           0.84084,     0.84184,     0.84284,     0.84384,     0.84484,     0.84585,     0.84685,     0.84785,     0.84885,     0.84985,     0.85085,     0.85185,     0.85285,     0.85385,     0.85485,     0.85586,     0.85686,     0.85786,     0.85886,     0.85986,     0.86086,     0.86186,     0.86286,     0.86386,\n",
       "           0.86486,     0.86587,     0.86687,     0.86787,     0.86887,     0.86987,     0.87087,     0.87187,     0.87287,     0.87387,     0.87487,     0.87588,     0.87688,     0.87788,     0.87888,     0.87988,     0.88088,     0.88188,     0.88288,     0.88388,     0.88488,     0.88589,     0.88689,     0.88789,\n",
       "           0.88889,     0.88989,     0.89089,     0.89189,     0.89289,     0.89389,     0.89489,      0.8959,      0.8969,      0.8979,      0.8989,      0.8999,      0.9009,      0.9019,      0.9029,      0.9039,      0.9049,     0.90591,     0.90691,     0.90791,     0.90891,     0.90991,     0.91091,     0.91191,\n",
       "           0.91291,     0.91391,     0.91491,     0.91592,     0.91692,     0.91792,     0.91892,     0.91992,     0.92092,     0.92192,     0.92292,     0.92392,     0.92492,     0.92593,     0.92693,     0.92793,     0.92893,     0.92993,     0.93093,     0.93193,     0.93293,     0.93393,     0.93493,     0.93594,\n",
       "           0.93694,     0.93794,     0.93894,     0.93994,     0.94094,     0.94194,     0.94294,     0.94394,     0.94494,     0.94595,     0.94695,     0.94795,     0.94895,     0.94995,     0.95095,     0.95195,     0.95295,     0.95395,     0.95495,     0.95596,     0.95696,     0.95796,     0.95896,     0.95996,\n",
       "           0.96096,     0.96196,     0.96296,     0.96396,     0.96496,     0.96597,     0.96697,     0.96797,     0.96897,     0.96997,     0.97097,     0.97197,     0.97297,     0.97397,     0.97497,     0.97598,     0.97698,     0.97798,     0.97898,     0.97998,     0.98098,     0.98198,     0.98298,     0.98398,\n",
       "           0.98498,     0.98599,     0.98699,     0.98799,     0.98899,     0.98999,     0.99099,     0.99199,     0.99299,     0.99399,     0.99499,       0.996,       0.997,       0.998,       0.999,           1]), array([[   0.097915,    0.097915,     0.13084,     0.15413,     0.17273,     0.18854,     0.20214,     0.21461,     0.22688,     0.23789,     0.24733,     0.25679,     0.26404,     0.27187,     0.27817,     0.28458,     0.29044,     0.29832,     0.30584,     0.31195,     0.31737,     0.32316,     0.33043,\n",
       "            0.33732,     0.34505,     0.35206,     0.35893,     0.36624,     0.37225,     0.37569,     0.38219,     0.39061,     0.39688,     0.40132,     0.40624,      0.4116,     0.41575,     0.42026,      0.4273,     0.43264,     0.43798,     0.44315,     0.44939,     0.45279,     0.45647,     0.46204,\n",
       "             0.4658,     0.46961,     0.47353,     0.47839,     0.48183,     0.48462,      0.4892,     0.49451,     0.49719,     0.50035,       0.505,     0.50711,     0.51424,     0.51771,     0.51937,     0.52229,     0.52422,     0.52538,      0.5268,     0.52879,     0.53196,      0.5352,     0.53909,\n",
       "            0.54213,     0.54371,     0.54676,       0.549,     0.55174,     0.55399,     0.55723,     0.56027,     0.56321,     0.56653,     0.56837,     0.57071,     0.57303,     0.57528,     0.57671,     0.57937,      0.5798,     0.58135,      0.5838,     0.58494,     0.58809,     0.58971,     0.59298,\n",
       "            0.59438,     0.59648,     0.59914,     0.60184,     0.60428,     0.60626,     0.60768,     0.60984,     0.61228,     0.61383,     0.61389,     0.61623,     0.61645,     0.61815,     0.61944,     0.62028,     0.62144,     0.62262,       0.624,      0.6257,     0.62769,     0.62927,     0.62998,\n",
       "            0.63146,     0.63246,     0.63354,     0.63612,     0.63929,     0.64085,     0.64259,     0.64456,     0.64533,     0.64734,     0.64864,     0.64966,     0.65207,     0.65346,      0.6547,     0.65563,     0.65693,     0.65839,     0.66054,     0.66256,      0.6638,     0.66451,     0.66611,\n",
       "            0.66792,     0.66777,     0.66797,     0.66932,      0.6698,     0.67215,     0.67309,     0.67277,     0.67273,     0.67291,     0.67366,     0.67528,     0.67693,      0.6785,     0.67973,     0.68051,     0.68116,     0.68265,     0.68387,     0.68373,     0.68423,     0.68579,     0.68661,\n",
       "            0.68707,     0.68877,     0.69105,     0.69143,     0.69266,     0.69409,     0.69513,     0.69674,     0.69796,     0.69792,      0.6986,     0.69922,     0.69937,     0.69968,     0.69997,     0.70184,     0.70323,     0.70412,     0.70422,      0.7041,     0.70602,     0.70781,     0.70843,\n",
       "            0.70865,     0.71004,     0.71106,     0.71165,     0.71345,     0.71448,     0.71547,     0.71649,     0.71749,     0.71794,     0.71876,      0.7186,     0.71936,      0.7197,     0.72134,     0.72213,     0.72261,     0.72289,     0.72354,     0.72339,     0.72395,     0.72377,     0.72466,\n",
       "            0.72594,     0.72646,     0.72668,       0.727,     0.72844,     0.72924,     0.73009,     0.73236,     0.73361,     0.73476,     0.73528,     0.73512,     0.73564,     0.73822,      0.7387,     0.74021,     0.74049,     0.74091,     0.74131,      0.7412,     0.74142,     0.74219,     0.74461,\n",
       "            0.74577,     0.74626,     0.74629,     0.74925,     0.75033,     0.75079,     0.75172,      0.7525,     0.75281,     0.75312,     0.75419,     0.75485,     0.75577,     0.75766,     0.75866,     0.75903,     0.75941,     0.75979,     0.76186,     0.76215,     0.76241,     0.76241,     0.76298,\n",
       "            0.76333,     0.76437,     0.76534,     0.76549,     0.76642,     0.76684,      0.7676,     0.76857,     0.76901,     0.76927,     0.76948,     0.76988,     0.77025,     0.77052,     0.77087,     0.77214,     0.77197,     0.77356,     0.77412,     0.77503,     0.77526,     0.77563,     0.77693,\n",
       "            0.77779,     0.77778,     0.77768,     0.77872,     0.77915,      0.7803,      0.7808,     0.78102,     0.78123,     0.78268,     0.78358,     0.78352,     0.78346,      0.7834,     0.78383,     0.78457,     0.78504,     0.78635,     0.78685,     0.78779,     0.78799,     0.78891,     0.78935,\n",
       "            0.79058,     0.79086,     0.79121,     0.79156,     0.79214,     0.79303,     0.79287,     0.79275,     0.79265,     0.79272,     0.79358,     0.79491,     0.79702,     0.79694,       0.798,     0.79817,     0.79804,     0.79859,     0.80029,     0.80192,      0.8015,      0.8022,     0.80206,\n",
       "             0.8026,     0.80277,     0.80309,     0.80372,     0.80325,     0.80464,     0.80452,     0.80436,     0.80468,     0.80502,     0.80535,     0.80527,     0.80506,     0.80498,     0.80491,     0.80826,     0.80864,     0.80874,     0.80949,     0.81131,     0.81231,     0.81319,     0.81435,\n",
       "            0.81466,     0.81498,     0.81545,     0.81678,      0.8166,     0.81652,     0.81678,     0.81732,     0.81726,     0.81719,     0.81713,      0.8171,     0.81707,     0.81703,       0.817,     0.81697,     0.81684,     0.81668,     0.81658,     0.81726,     0.81762,     0.81797,     0.81791,\n",
       "            0.81782,     0.81774,     0.81773,     0.81826,     0.81917,     0.81932,     0.81948,     0.81963,     0.81979,     0.82001,     0.82052,     0.82163,     0.82129,     0.82365,     0.82473,     0.82447,     0.82555,     0.82642,     0.82708,     0.82738,     0.82769,     0.82856,     0.82838,\n",
       "            0.82826,      0.8282,     0.82813,     0.82865,     0.82982,     0.83008,     0.83034,     0.83061,     0.83151,     0.83237,     0.83227,     0.83372,     0.83482,     0.83558,     0.83605,      0.8371,     0.83879,     0.83837,     0.84044,      0.8408,     0.84125,     0.84189,     0.84253,\n",
       "             0.8435,     0.84447,     0.84655,     0.84738,     0.84766,     0.84794,     0.84864,     0.84901,     0.85019,     0.85065,     0.85073,     0.85122,     0.85189,     0.85203,     0.85192,     0.85183,     0.85227,     0.85288,     0.85328,     0.85343,      0.8533,     0.85348,     0.85391,\n",
       "             0.8543,     0.85477,     0.85503,     0.85554,     0.85553,     0.85529,     0.85517,     0.85496,     0.85487,     0.85479,     0.85472,     0.85465,     0.85546,     0.85581,      0.8563,     0.85695,      0.8567,     0.85739,      0.8575,     0.85946,     0.85935,     0.85931,      0.8596,\n",
       "             0.8599,     0.86128,     0.86265,     0.86295,     0.86506,     0.86609,     0.86644,      0.8668,     0.86679,     0.86667,     0.86661,     0.86732,     0.86789,     0.86843,     0.86912,     0.87066,      0.8712,     0.87138,     0.87113,     0.87314,     0.87294,     0.87392,     0.87376,\n",
       "            0.87425,     0.87568,     0.87623,     0.87665,      0.8776,     0.87794,     0.87963,     0.87956,     0.87948,      0.8794,     0.87972,      0.8807,     0.88128,     0.88343,     0.88335,     0.88313,     0.88306,     0.88325,      0.8837,     0.88411,      0.8839,     0.88394,     0.88465,\n",
       "            0.88455,     0.88442,     0.88412,     0.88491,     0.88495,      0.8858,       0.886,     0.88595,      0.8859,     0.88676,     0.88676,     0.88782,     0.88772,     0.88766,      0.8876,      0.8886,     0.88853,      0.8896,     0.88945,     0.88948,     0.89046,     0.89031,     0.89146,\n",
       "            0.89194,     0.89242,     0.89438,     0.89511,     0.89569,     0.89556,     0.89545,     0.89531,     0.89575,     0.89623,     0.89643,     0.89664,     0.89684,     0.89705,     0.89725,     0.89845,     0.89817,     0.89852,     0.89914,      0.8999,     0.90052,     0.90042,     0.90136,\n",
       "            0.90156,      0.9015,     0.90143,     0.90136,     0.90223,     0.90192,     0.90174,     0.90167,     0.90274,      0.9026,     0.90257,       0.903,     0.90342,     0.90341,     0.90334,     0.90418,     0.90452,     0.90445,     0.90565,     0.90561,     0.90556,     0.90545,     0.90638,\n",
       "             0.9065,     0.90643,     0.90765,     0.90757,     0.90743,      0.9083,     0.90863,     0.90991,     0.91079,     0.91107,     0.91094,     0.91214,     0.91208,     0.91202,     0.91197,     0.91187,     0.91158,     0.91249,      0.9125,     0.91237,     0.91433,     0.91469,     0.91451,\n",
       "            0.91486,      0.9152,     0.91554,     0.91563,     0.91538,     0.91526,     0.91591,     0.91622,     0.91609,     0.91578,     0.91553,     0.91559,     0.91629,     0.91665,     0.91658,     0.91688,     0.91804,     0.91874,     0.92044,     0.92299,     0.92296,      0.9229,     0.92287,\n",
       "             0.9243,     0.92564,      0.9253,     0.92522,     0.92553,     0.92626,     0.92634,     0.92628,     0.92618,     0.92607,     0.92584,       0.927,     0.92694,      0.9282,     0.92808,     0.92785,     0.92753,     0.92745,     0.92733,     0.92995,     0.93071,     0.93141,     0.93118,\n",
       "             0.9308,     0.93161,     0.93265,     0.93342,     0.93347,     0.93635,     0.93614,     0.93603,     0.93595,      0.9359,     0.93586,     0.93644,     0.93723,      0.9372,     0.93937,     0.94015,     0.94061,     0.94132,     0.94275,     0.94266,     0.94266,     0.94396,     0.94385,\n",
       "             0.9449,     0.94504,     0.94651,     0.94643,     0.94634,     0.94624,     0.94656,     0.94768,     0.94756,     0.94738,     0.94723,     0.94686,     0.94676,     0.94633,     0.94592,     0.94755,     0.94749,     0.94731,     0.94829,     0.95049,     0.95369,     0.95379,       0.955,\n",
       "            0.95576,     0.95637,     0.95698,     0.95683,     0.95679,      0.9567,     0.95661,     0.95644,      0.9563,     0.95623,     0.95597,     0.95736,     0.95719,     0.95714,     0.95698,     0.95668,     0.95642,     0.95659,     0.95789,     0.95811,      0.9599,     0.95957,     0.95946,\n",
       "            0.95928,     0.95911,     0.95905,     0.95957,     0.96091,     0.96075,     0.96069,     0.96062,     0.96234,     0.96217,     0.96386,     0.96381,     0.96378,     0.96357,     0.96339,     0.96771,     0.96928,     0.97342,     0.97323,     0.97746,     0.97729,     0.97707,     0.97696,\n",
       "             0.9789,     0.97868,     0.97837,     0.97818,     0.97788,     0.98024,     0.98002,     0.97997,     0.98236,     0.98208,     0.98197,     0.98184,      0.9817,     0.98144,     0.98117,     0.98095,     0.98078,     0.98054,     0.98046,     0.98034,     0.97995,     0.97983,     0.97956,\n",
       "            0.97935,     0.97923,     0.97888,      0.9817,     0.98451,     0.98407,     0.98704,     0.98698,     0.98661,     0.98651,     0.98961,     0.98953,     0.98929,     0.98908,     0.99258,      0.9925,     0.99247,     0.99245,      0.9961,     0.99606,     0.99602,     0.99593,     0.99589,\n",
       "            0.99574,     0.99572,     0.99547,      0.9954,     0.99538,     0.99533,           1,           1,           1,           1,           1,           1,           1,           1,           1,           1,           1,           1,           1,           1,           1,           1,           1,\n",
       "                  1,           1,           1,           1,           1,           1,           1,           1,           1,           1,           1,           1,           1,           1,           1,           1,           1,           1,           1,           1,           1,           1,           1,\n",
       "                  1,           1,           1,           1,           1,           1,           1,           1,           1,           1,           1,           1,           1,           1,           1,           1,           1,           1,           1,           1,           1,           1,           1,\n",
       "                  1,           1,           1,           1,           1,           1,           1,           1,           1,           1,           1,           1,           1,           1,           1,           1,           1,           1,           1,           1,           1,           1,           1,\n",
       "                  1,           1,           1,           1,           1,           1,           1,           1,           1,           1,           1,           1,           1,           1,           1,           1,           1,           1,           1,           1,           1,           1,           1,\n",
       "                  1,           1,           1,           1,           1,           1,           1,           1,           1,           1,           1,           1,           1,           1,           1,           1,           1,           1,           1,           1,           1,           1,           1,\n",
       "                  1,           1,           1,           1,           1,           1,           1,           1,           1,           1,           1,           1,           1,           1,           1,           1,           1,           1,           1,           1,           1,           1,           1,\n",
       "                  1,           1,           1,           1,           1,           1,           1,           1,           1,           1,           1,           1,           1,           1,           1,           1,           1,           1,           1,           1,           1,           1,           1,\n",
       "                  1,           1,           1,           1,           1,           1,           1,           1,           1,           1,           1,           1,           1,           1,           1,           1,           1,           1,           1,           1,           1,           1,           1,\n",
       "                  1,           1,           1,           1,           1,           1,           1,           1,           1,           1,           1]]), 'Confidence', 'Precision'], [array([          0,    0.001001,    0.002002,    0.003003,    0.004004,    0.005005,    0.006006,    0.007007,    0.008008,    0.009009,     0.01001,    0.011011,    0.012012,    0.013013,    0.014014,    0.015015,    0.016016,    0.017017,    0.018018,    0.019019,     0.02002,    0.021021,    0.022022,    0.023023,\n",
       "          0.024024,    0.025025,    0.026026,    0.027027,    0.028028,    0.029029,     0.03003,    0.031031,    0.032032,    0.033033,    0.034034,    0.035035,    0.036036,    0.037037,    0.038038,    0.039039,     0.04004,    0.041041,    0.042042,    0.043043,    0.044044,    0.045045,    0.046046,    0.047047,\n",
       "          0.048048,    0.049049,     0.05005,    0.051051,    0.052052,    0.053053,    0.054054,    0.055055,    0.056056,    0.057057,    0.058058,    0.059059,     0.06006,    0.061061,    0.062062,    0.063063,    0.064064,    0.065065,    0.066066,    0.067067,    0.068068,    0.069069,     0.07007,    0.071071,\n",
       "          0.072072,    0.073073,    0.074074,    0.075075,    0.076076,    0.077077,    0.078078,    0.079079,     0.08008,    0.081081,    0.082082,    0.083083,    0.084084,    0.085085,    0.086086,    0.087087,    0.088088,    0.089089,     0.09009,    0.091091,    0.092092,    0.093093,    0.094094,    0.095095,\n",
       "          0.096096,    0.097097,    0.098098,    0.099099,      0.1001,      0.1011,      0.1021,      0.1031,      0.1041,     0.10511,     0.10611,     0.10711,     0.10811,     0.10911,     0.11011,     0.11111,     0.11211,     0.11311,     0.11411,     0.11512,     0.11612,     0.11712,     0.11812,     0.11912,\n",
       "           0.12012,     0.12112,     0.12212,     0.12312,     0.12412,     0.12513,     0.12613,     0.12713,     0.12813,     0.12913,     0.13013,     0.13113,     0.13213,     0.13313,     0.13413,     0.13514,     0.13614,     0.13714,     0.13814,     0.13914,     0.14014,     0.14114,     0.14214,     0.14314,\n",
       "           0.14414,     0.14515,     0.14615,     0.14715,     0.14815,     0.14915,     0.15015,     0.15115,     0.15215,     0.15315,     0.15415,     0.15516,     0.15616,     0.15716,     0.15816,     0.15916,     0.16016,     0.16116,     0.16216,     0.16316,     0.16416,     0.16517,     0.16617,     0.16717,\n",
       "           0.16817,     0.16917,     0.17017,     0.17117,     0.17217,     0.17317,     0.17417,     0.17518,     0.17618,     0.17718,     0.17818,     0.17918,     0.18018,     0.18118,     0.18218,     0.18318,     0.18418,     0.18519,     0.18619,     0.18719,     0.18819,     0.18919,     0.19019,     0.19119,\n",
       "           0.19219,     0.19319,     0.19419,      0.1952,      0.1962,      0.1972,      0.1982,      0.1992,      0.2002,      0.2012,      0.2022,      0.2032,      0.2042,     0.20521,     0.20621,     0.20721,     0.20821,     0.20921,     0.21021,     0.21121,     0.21221,     0.21321,     0.21421,     0.21522,\n",
       "           0.21622,     0.21722,     0.21822,     0.21922,     0.22022,     0.22122,     0.22222,     0.22322,     0.22422,     0.22523,     0.22623,     0.22723,     0.22823,     0.22923,     0.23023,     0.23123,     0.23223,     0.23323,     0.23423,     0.23524,     0.23624,     0.23724,     0.23824,     0.23924,\n",
       "           0.24024,     0.24124,     0.24224,     0.24324,     0.24424,     0.24525,     0.24625,     0.24725,     0.24825,     0.24925,     0.25025,     0.25125,     0.25225,     0.25325,     0.25425,     0.25526,     0.25626,     0.25726,     0.25826,     0.25926,     0.26026,     0.26126,     0.26226,     0.26326,\n",
       "           0.26426,     0.26527,     0.26627,     0.26727,     0.26827,     0.26927,     0.27027,     0.27127,     0.27227,     0.27327,     0.27427,     0.27528,     0.27628,     0.27728,     0.27828,     0.27928,     0.28028,     0.28128,     0.28228,     0.28328,     0.28428,     0.28529,     0.28629,     0.28729,\n",
       "           0.28829,     0.28929,     0.29029,     0.29129,     0.29229,     0.29329,     0.29429,      0.2953,      0.2963,      0.2973,      0.2983,      0.2993,      0.3003,      0.3013,      0.3023,      0.3033,      0.3043,     0.30531,     0.30631,     0.30731,     0.30831,     0.30931,     0.31031,     0.31131,\n",
       "           0.31231,     0.31331,     0.31431,     0.31532,     0.31632,     0.31732,     0.31832,     0.31932,     0.32032,     0.32132,     0.32232,     0.32332,     0.32432,     0.32533,     0.32633,     0.32733,     0.32833,     0.32933,     0.33033,     0.33133,     0.33233,     0.33333,     0.33433,     0.33534,\n",
       "           0.33634,     0.33734,     0.33834,     0.33934,     0.34034,     0.34134,     0.34234,     0.34334,     0.34434,     0.34535,     0.34635,     0.34735,     0.34835,     0.34935,     0.35035,     0.35135,     0.35235,     0.35335,     0.35435,     0.35536,     0.35636,     0.35736,     0.35836,     0.35936,\n",
       "           0.36036,     0.36136,     0.36236,     0.36336,     0.36436,     0.36537,     0.36637,     0.36737,     0.36837,     0.36937,     0.37037,     0.37137,     0.37237,     0.37337,     0.37437,     0.37538,     0.37638,     0.37738,     0.37838,     0.37938,     0.38038,     0.38138,     0.38238,     0.38338,\n",
       "           0.38438,     0.38539,     0.38639,     0.38739,     0.38839,     0.38939,     0.39039,     0.39139,     0.39239,     0.39339,     0.39439,      0.3954,      0.3964,      0.3974,      0.3984,      0.3994,      0.4004,      0.4014,      0.4024,      0.4034,      0.4044,     0.40541,     0.40641,     0.40741,\n",
       "           0.40841,     0.40941,     0.41041,     0.41141,     0.41241,     0.41341,     0.41441,     0.41542,     0.41642,     0.41742,     0.41842,     0.41942,     0.42042,     0.42142,     0.42242,     0.42342,     0.42442,     0.42543,     0.42643,     0.42743,     0.42843,     0.42943,     0.43043,     0.43143,\n",
       "           0.43243,     0.43343,     0.43443,     0.43544,     0.43644,     0.43744,     0.43844,     0.43944,     0.44044,     0.44144,     0.44244,     0.44344,     0.44444,     0.44545,     0.44645,     0.44745,     0.44845,     0.44945,     0.45045,     0.45145,     0.45245,     0.45345,     0.45445,     0.45546,\n",
       "           0.45646,     0.45746,     0.45846,     0.45946,     0.46046,     0.46146,     0.46246,     0.46346,     0.46446,     0.46547,     0.46647,     0.46747,     0.46847,     0.46947,     0.47047,     0.47147,     0.47247,     0.47347,     0.47447,     0.47548,     0.47648,     0.47748,     0.47848,     0.47948,\n",
       "           0.48048,     0.48148,     0.48248,     0.48348,     0.48448,     0.48549,     0.48649,     0.48749,     0.48849,     0.48949,     0.49049,     0.49149,     0.49249,     0.49349,     0.49449,      0.4955,      0.4965,      0.4975,      0.4985,      0.4995,      0.5005,      0.5015,      0.5025,      0.5035,\n",
       "            0.5045,     0.50551,     0.50651,     0.50751,     0.50851,     0.50951,     0.51051,     0.51151,     0.51251,     0.51351,     0.51451,     0.51552,     0.51652,     0.51752,     0.51852,     0.51952,     0.52052,     0.52152,     0.52252,     0.52352,     0.52452,     0.52553,     0.52653,     0.52753,\n",
       "           0.52853,     0.52953,     0.53053,     0.53153,     0.53253,     0.53353,     0.53453,     0.53554,     0.53654,     0.53754,     0.53854,     0.53954,     0.54054,     0.54154,     0.54254,     0.54354,     0.54454,     0.54555,     0.54655,     0.54755,     0.54855,     0.54955,     0.55055,     0.55155,\n",
       "           0.55255,     0.55355,     0.55455,     0.55556,     0.55656,     0.55756,     0.55856,     0.55956,     0.56056,     0.56156,     0.56256,     0.56356,     0.56456,     0.56557,     0.56657,     0.56757,     0.56857,     0.56957,     0.57057,     0.57157,     0.57257,     0.57357,     0.57457,     0.57558,\n",
       "           0.57658,     0.57758,     0.57858,     0.57958,     0.58058,     0.58158,     0.58258,     0.58358,     0.58458,     0.58559,     0.58659,     0.58759,     0.58859,     0.58959,     0.59059,     0.59159,     0.59259,     0.59359,     0.59459,      0.5956,      0.5966,      0.5976,      0.5986,      0.5996,\n",
       "            0.6006,      0.6016,      0.6026,      0.6036,      0.6046,     0.60561,     0.60661,     0.60761,     0.60861,     0.60961,     0.61061,     0.61161,     0.61261,     0.61361,     0.61461,     0.61562,     0.61662,     0.61762,     0.61862,     0.61962,     0.62062,     0.62162,     0.62262,     0.62362,\n",
       "           0.62462,     0.62563,     0.62663,     0.62763,     0.62863,     0.62963,     0.63063,     0.63163,     0.63263,     0.63363,     0.63463,     0.63564,     0.63664,     0.63764,     0.63864,     0.63964,     0.64064,     0.64164,     0.64264,     0.64364,     0.64464,     0.64565,     0.64665,     0.64765,\n",
       "           0.64865,     0.64965,     0.65065,     0.65165,     0.65265,     0.65365,     0.65465,     0.65566,     0.65666,     0.65766,     0.65866,     0.65966,     0.66066,     0.66166,     0.66266,     0.66366,     0.66466,     0.66567,     0.66667,     0.66767,     0.66867,     0.66967,     0.67067,     0.67167,\n",
       "           0.67267,     0.67367,     0.67467,     0.67568,     0.67668,     0.67768,     0.67868,     0.67968,     0.68068,     0.68168,     0.68268,     0.68368,     0.68468,     0.68569,     0.68669,     0.68769,     0.68869,     0.68969,     0.69069,     0.69169,     0.69269,     0.69369,     0.69469,      0.6957,\n",
       "            0.6967,      0.6977,      0.6987,      0.6997,      0.7007,      0.7017,      0.7027,      0.7037,      0.7047,     0.70571,     0.70671,     0.70771,     0.70871,     0.70971,     0.71071,     0.71171,     0.71271,     0.71371,     0.71471,     0.71572,     0.71672,     0.71772,     0.71872,     0.71972,\n",
       "           0.72072,     0.72172,     0.72272,     0.72372,     0.72472,     0.72573,     0.72673,     0.72773,     0.72873,     0.72973,     0.73073,     0.73173,     0.73273,     0.73373,     0.73473,     0.73574,     0.73674,     0.73774,     0.73874,     0.73974,     0.74074,     0.74174,     0.74274,     0.74374,\n",
       "           0.74474,     0.74575,     0.74675,     0.74775,     0.74875,     0.74975,     0.75075,     0.75175,     0.75275,     0.75375,     0.75475,     0.75576,     0.75676,     0.75776,     0.75876,     0.75976,     0.76076,     0.76176,     0.76276,     0.76376,     0.76476,     0.76577,     0.76677,     0.76777,\n",
       "           0.76877,     0.76977,     0.77077,     0.77177,     0.77277,     0.77377,     0.77477,     0.77578,     0.77678,     0.77778,     0.77878,     0.77978,     0.78078,     0.78178,     0.78278,     0.78378,     0.78478,     0.78579,     0.78679,     0.78779,     0.78879,     0.78979,     0.79079,     0.79179,\n",
       "           0.79279,     0.79379,     0.79479,      0.7958,      0.7968,      0.7978,      0.7988,      0.7998,      0.8008,      0.8018,      0.8028,      0.8038,      0.8048,     0.80581,     0.80681,     0.80781,     0.80881,     0.80981,     0.81081,     0.81181,     0.81281,     0.81381,     0.81481,     0.81582,\n",
       "           0.81682,     0.81782,     0.81882,     0.81982,     0.82082,     0.82182,     0.82282,     0.82382,     0.82482,     0.82583,     0.82683,     0.82783,     0.82883,     0.82983,     0.83083,     0.83183,     0.83283,     0.83383,     0.83483,     0.83584,     0.83684,     0.83784,     0.83884,     0.83984,\n",
       "           0.84084,     0.84184,     0.84284,     0.84384,     0.84484,     0.84585,     0.84685,     0.84785,     0.84885,     0.84985,     0.85085,     0.85185,     0.85285,     0.85385,     0.85485,     0.85586,     0.85686,     0.85786,     0.85886,     0.85986,     0.86086,     0.86186,     0.86286,     0.86386,\n",
       "           0.86486,     0.86587,     0.86687,     0.86787,     0.86887,     0.86987,     0.87087,     0.87187,     0.87287,     0.87387,     0.87487,     0.87588,     0.87688,     0.87788,     0.87888,     0.87988,     0.88088,     0.88188,     0.88288,     0.88388,     0.88488,     0.88589,     0.88689,     0.88789,\n",
       "           0.88889,     0.88989,     0.89089,     0.89189,     0.89289,     0.89389,     0.89489,      0.8959,      0.8969,      0.8979,      0.8989,      0.8999,      0.9009,      0.9019,      0.9029,      0.9039,      0.9049,     0.90591,     0.90691,     0.90791,     0.90891,     0.90991,     0.91091,     0.91191,\n",
       "           0.91291,     0.91391,     0.91491,     0.91592,     0.91692,     0.91792,     0.91892,     0.91992,     0.92092,     0.92192,     0.92292,     0.92392,     0.92492,     0.92593,     0.92693,     0.92793,     0.92893,     0.92993,     0.93093,     0.93193,     0.93293,     0.93393,     0.93493,     0.93594,\n",
       "           0.93694,     0.93794,     0.93894,     0.93994,     0.94094,     0.94194,     0.94294,     0.94394,     0.94494,     0.94595,     0.94695,     0.94795,     0.94895,     0.94995,     0.95095,     0.95195,     0.95295,     0.95395,     0.95495,     0.95596,     0.95696,     0.95796,     0.95896,     0.95996,\n",
       "           0.96096,     0.96196,     0.96296,     0.96396,     0.96496,     0.96597,     0.96697,     0.96797,     0.96897,     0.96997,     0.97097,     0.97197,     0.97297,     0.97397,     0.97497,     0.97598,     0.97698,     0.97798,     0.97898,     0.97998,     0.98098,     0.98198,     0.98298,     0.98398,\n",
       "           0.98498,     0.98599,     0.98699,     0.98799,     0.98899,     0.98999,     0.99099,     0.99199,     0.99299,     0.99399,     0.99499,       0.996,       0.997,       0.998,       0.999,           1]), array([[    0.97668,     0.97668,      0.9689,     0.96404,     0.95918,     0.95821,     0.95432,     0.95044,     0.94849,     0.94655,     0.94363,     0.94266,     0.94169,     0.94169,     0.94072,     0.93975,     0.93683,     0.93683,     0.93586,     0.93489,     0.93392,     0.93264,       0.931,\n",
       "              0.931,     0.93003,     0.93003,     0.92517,      0.9242,      0.9242,     0.92225,     0.91934,     0.91934,     0.91837,     0.91448,     0.91351,     0.91351,     0.91254,     0.91254,     0.91059,     0.90865,     0.90865,     0.90671,     0.90476,     0.90379,     0.90379,     0.90379,\n",
       "            0.90282,     0.90282,     0.90282,     0.90282,     0.90185,     0.89893,     0.89796,     0.89796,     0.89796,     0.89796,     0.89796,     0.89699,     0.89699,     0.89699,     0.89602,     0.89465,      0.8931,      0.8931,     0.89213,     0.89018,     0.88727,      0.8863,     0.88533,\n",
       "            0.88435,     0.88241,     0.88144,     0.88144,     0.88144,     0.88047,     0.88047,     0.87949,     0.87852,     0.87755,     0.87464,     0.87464,     0.87366,     0.87272,     0.87172,     0.87141,     0.87026,     0.86978,     0.86978,      0.8688,      0.8688,      0.8688,     0.86783,\n",
       "            0.86686,     0.86589,     0.86492,     0.86297,     0.86297,     0.86297,     0.86297,     0.86297,     0.86297,     0.86195,     0.86103,     0.85811,     0.85751,     0.85583,      0.8552,      0.8552,      0.8535,     0.85228,     0.85228,     0.85228,     0.85228,     0.85228,     0.85228,\n",
       "            0.85228,     0.85228,     0.85228,     0.85228,     0.85228,     0.85228,     0.85228,     0.85228,     0.85052,     0.85034,     0.85034,      0.8484,     0.84742,     0.84663,     0.84645,     0.84645,     0.84451,     0.84451,     0.84451,     0.84451,     0.84451,     0.84451,     0.84451,\n",
       "             0.8444,     0.84383,     0.84257,     0.84257,     0.84173,     0.84159,      0.8404,     0.83916,     0.83702,     0.83569,     0.83479,     0.83382,     0.83382,     0.83382,     0.83285,     0.83285,     0.83285,     0.83285,      0.8325,     0.83188,     0.83188,      0.8309,      0.8309,\n",
       "            0.82993,     0.82993,     0.82993,     0.82968,     0.82896,     0.82896,     0.82896,     0.82896,     0.82865,     0.82799,     0.82799,     0.82799,     0.82746,     0.82604,     0.82526,     0.82507,     0.82507,      0.8241,     0.82371,     0.82324,     0.82313,     0.82313,     0.82313,\n",
       "            0.82258,     0.82216,     0.82216,     0.82216,     0.82216,     0.82216,     0.82216,     0.82216,     0.82216,     0.82216,     0.82209,     0.82143,     0.82119,     0.82119,     0.82009,     0.81924,     0.81924,     0.81924,     0.81898,     0.81837,     0.81811,     0.81738,      0.8173,\n",
       "             0.8173,      0.8173,     0.81633,     0.81633,     0.81592,     0.81535,     0.81535,     0.81535,     0.81535,     0.81535,     0.81535,     0.81453,     0.81438,     0.81341,     0.81341,     0.81341,     0.81341,     0.81341,     0.81318,     0.81271,     0.81244,     0.81244,     0.81244,\n",
       "            0.81244,     0.81244,     0.81185,     0.81147,     0.81147,     0.81147,      0.8105,     0.80952,     0.80952,     0.80952,     0.80952,     0.80952,     0.80897,     0.80855,     0.80855,     0.80855,     0.80855,     0.80855,     0.80855,     0.80855,     0.80855,     0.80758,     0.80661,\n",
       "            0.80661,     0.80661,     0.80661,     0.80576,     0.80564,     0.80544,     0.80466,     0.80466,     0.80466,     0.80466,     0.80451,     0.80369,     0.80369,     0.80369,     0.80369,     0.80353,     0.80274,     0.80272,     0.80266,     0.80018,     0.79981,     0.79981,     0.79981,\n",
       "            0.79981,     0.79935,     0.79885,     0.79883,     0.79883,     0.79883,     0.79883,     0.79883,     0.79883,     0.79883,     0.79872,     0.79844,     0.79815,     0.79787,     0.79786,     0.79786,     0.79592,     0.79592,     0.79592,     0.79592,     0.79464,     0.79397,     0.79397,\n",
       "            0.79243,     0.79009,     0.79009,     0.79009,     0.79009,     0.78939,     0.78863,     0.78807,     0.78757,     0.78717,     0.78717,     0.78717,     0.78717,     0.78523,     0.78523,     0.78402,     0.78336,     0.78328,     0.78328,     0.78328,     0.78089,     0.78036,      0.7797,\n",
       "             0.7794,     0.77745,     0.77686,     0.77596,     0.77366,     0.77249,     0.77192,     0.77115,     0.76871,     0.76871,     0.76871,     0.76757,     0.76655,     0.76619,     0.76582,     0.76482,     0.76482,     0.76435,     0.76385,     0.76288,     0.76288,     0.76288,     0.76288,\n",
       "            0.76288,     0.76288,     0.76288,     0.76247,     0.76159,     0.76115,     0.76093,     0.76091,     0.76058,     0.76025,     0.75994,     0.75977,     0.75961,     0.75944,     0.75928,     0.75911,     0.75844,     0.75762,     0.75713,     0.75607,     0.75607,     0.75607,     0.75519,\n",
       "            0.75473,     0.75433,     0.75316,     0.75261,     0.75219,     0.75219,     0.75219,     0.75219,     0.75219,     0.75219,     0.75219,     0.75219,     0.75024,     0.75024,     0.74994,     0.74862,      0.7483,      0.7483,     0.74733,     0.74733,     0.74733,     0.74676,     0.74586,\n",
       "            0.74521,     0.74488,     0.74455,     0.74441,     0.74344,     0.74344,     0.74344,     0.74344,     0.74344,     0.74316,     0.74259,     0.74247,     0.74247,      0.7408,     0.73955,     0.73955,     0.73822,     0.73595,     0.73469,     0.73396,     0.73372,     0.73372,     0.73372,\n",
       "            0.73275,     0.73275,     0.73275,     0.73275,     0.73275,     0.73275,     0.73275,     0.73224,     0.73178,     0.73064,     0.72886,     0.72789,     0.72789,     0.72745,     0.72682,     0.72632,     0.72595,     0.72498,     0.72498,     0.72432,     0.72353,     0.72303,     0.72142,\n",
       "            0.72109,     0.72068,     0.72012,     0.72012,     0.71935,     0.71797,     0.71731,     0.71605,     0.71556,      0.7151,      0.7147,      0.7143,     0.71331,     0.71234,     0.71231,     0.71028,     0.70845,     0.70845,     0.70763,     0.70722,     0.70655,     0.70554,     0.70554,\n",
       "            0.70554,     0.70554,     0.70457,     0.70262,     0.70262,     0.70262,     0.70262,     0.70262,     0.70193,     0.70117,     0.69971,     0.69971,     0.69971,     0.69971,     0.69874,     0.69874,     0.69874,     0.69789,     0.69634,     0.69582,     0.69435,     0.69384,     0.69279,\n",
       "            0.69193,     0.69096,     0.69096,     0.69065,     0.68981,     0.68902,      0.6889,     0.68841,     0.68791,     0.68741,     0.68707,      0.6861,     0.68535,     0.68493,     0.68443,     0.68296,     0.68246,     0.68222,     0.68222,     0.68209,     0.68067,      0.6793,     0.67824,\n",
       "            0.67758,     0.67669,     0.67472,     0.67444,     0.67273,      0.6725,     0.67223,      0.6719,     0.67157,     0.67055,     0.66967,     0.66958,     0.66843,     0.66803,     0.66763,     0.66663,     0.66569,     0.66561,     0.66461,     0.66375,     0.66359,      0.6626,     0.66181,\n",
       "            0.66181,     0.66181,     0.66181,     0.66084,     0.65921,     0.65833,     0.65754,     0.65655,     0.65598,     0.65403,     0.65403,     0.65403,     0.65403,     0.65403,     0.65403,     0.65344,     0.65147,     0.65112,     0.65112,     0.65112,     0.65096,      0.6503,     0.65015,\n",
       "            0.64975,     0.64925,     0.64875,     0.64826,     0.64723,     0.64346,     0.64215,     0.64165,     0.64041,     0.63938,     0.63751,     0.63751,     0.63751,     0.63623,     0.63573,     0.63557,     0.63522,     0.63472,     0.63435,     0.63402,     0.63369,     0.63281,     0.63168,\n",
       "            0.63125,     0.63075,     0.63042,     0.62976,     0.62878,     0.62877,     0.62779,     0.62779,     0.62779,      0.6272,      0.6262,     0.62553,     0.62503,      0.6246,      0.6242,     0.62339,      0.6212,     0.62002,     0.61823,     0.61724,     0.61613,     0.61476,     0.61224,\n",
       "            0.61224,     0.61224,     0.61224,     0.61172,     0.60975,     0.60876,     0.60739,     0.60579,      0.6048,     0.60234,     0.60037,     0.59961,     0.59961,      0.5985,       0.598,      0.5967,      0.5967,      0.5967,     0.59589,     0.59475,     0.59381,      0.5933,     0.59281,\n",
       "            0.59281,     0.59274,     0.58983,     0.58917,     0.58795,     0.58795,     0.58664,     0.58614,     0.58529,     0.58429,     0.58232,     0.58002,     0.57952,     0.57788,     0.57688,     0.57491,     0.57211,     0.57145,     0.57047,     0.56754,     0.56754,     0.56748,     0.56542,\n",
       "            0.56208,     0.56074,     0.56074,     0.56074,     0.55907,     0.55759,     0.55562,     0.55462,     0.55381,     0.55341,     0.55302,     0.55199,     0.55199,     0.55108,     0.55005,     0.54957,     0.54616,     0.54564,     0.54415,     0.54316,      0.5413,     0.54019,     0.53903,\n",
       "            0.53839,     0.53477,     0.53305,      0.5323,      0.5313,      0.5303,     0.52964,     0.52964,     0.52683,     0.52486,     0.52338,     0.51947,     0.51847,     0.51407,     0.50923,     0.50919,     0.50852,     0.50669,     0.50534,     0.50372,      0.5003,     0.49854,     0.49854,\n",
       "            0.49854,     0.49854,     0.49854,     0.49546,     0.49496,     0.49389,     0.49279,     0.49082,     0.48917,     0.48835,     0.48494,     0.48004,     0.47809,     0.47743,     0.47559,     0.47216,     0.46922,     0.46842,     0.46842,     0.46672,     0.46524,     0.46133,     0.46002,\n",
       "            0.45788,     0.45591,      0.4552,     0.45481,     0.45481,     0.45193,     0.45125,     0.45042,     0.44699,     0.44496,     0.44063,     0.43999,     0.43959,     0.43699,      0.4347,     0.43052,     0.42931,     0.42708,     0.42391,     0.42146,     0.41819,     0.41412,     0.41215,\n",
       "            0.40581,     0.40147,     0.39556,     0.39213,     0.38581,     0.38573,     0.38137,     0.38038,     0.37889,      0.3729,     0.37058,     0.36787,     0.36498,     0.35982,     0.35445,     0.35026,     0.34711,     0.34272,     0.34136,     0.33927,     0.33252,     0.33047,     0.32607,\n",
       "            0.32266,     0.32066,     0.31531,     0.31286,     0.30886,     0.30018,     0.29612,     0.29478,      0.2865,     0.28432,      0.2777,     0.27547,     0.26939,     0.26402,     0.26011,     0.25717,      0.2563,     0.25564,     0.24792,      0.2459,     0.24297,     0.23806,     0.23562,\n",
       "            0.22727,     0.22586,     0.21357,     0.21026,     0.20926,     0.20729,     0.19782,     0.19558,     0.18898,     0.18582,     0.18111,     0.17994,     0.17518,     0.17211,     0.16536,     0.15797,     0.15555,     0.15112,     0.14768,     0.14445,     0.14369,     0.13684,     0.13545,\n",
       "            0.12814,     0.12714,     0.12499,     0.12299,     0.11978,     0.11804,     0.11633,     0.11533,       0.114,     0.11043,     0.10808,     0.10511,     0.10064,    0.099183,    0.095247,    0.091338,    0.090673,    0.085383,    0.082997,     0.08103,    0.077118,    0.074395,    0.070752,\n",
       "            0.06857,    0.066578,    0.064585,     0.06065,    0.059721,    0.058945,    0.057588,     0.05268,    0.050611,    0.048157,    0.046704,    0.042768,    0.038832,     0.03737,    0.033875,    0.032462,    0.030863,    0.027116,    0.026452,    0.024886,    0.021922,    0.018958,    0.015373,\n",
       "           0.014709,    0.012807,    0.011251,    0.010752,   0.0089477,   0.0073268,   0.0068287,   0.0058586,   0.0056548,   0.0054737,   0.0052926,   0.0051115,   0.0049304,    0.004255,   0.0032588,   0.0026979,   0.0023658,   0.0020338,    0.001832,   0.0016787,   0.0015255,   0.0013722,    0.001219,\n",
       "          0.0010657,           0,           0,           0,           0,           0,           0,           0,           0,           0,           0,           0,           0,           0,           0,           0,           0,           0,           0,           0,           0,           0,           0,\n",
       "                  0,           0,           0,           0,           0,           0,           0,           0,           0,           0,           0,           0,           0,           0,           0,           0,           0,           0,           0,           0,           0,           0,           0,\n",
       "                  0,           0,           0,           0,           0,           0,           0,           0,           0,           0,           0,           0,           0,           0,           0,           0,           0,           0,           0,           0,           0,           0,           0,\n",
       "                  0,           0,           0,           0,           0,           0,           0,           0,           0,           0,           0,           0,           0,           0,           0,           0,           0,           0,           0,           0,           0,           0,           0,\n",
       "                  0,           0,           0,           0,           0,           0,           0,           0,           0,           0,           0,           0,           0,           0,           0,           0,           0,           0,           0,           0,           0,           0,           0,\n",
       "                  0,           0,           0,           0,           0,           0,           0,           0,           0,           0,           0]]), 'Confidence', 'Recall']]\n",
       "fitness: 0.6041149330290007\n",
       "keys: ['metrics/precision(B)', 'metrics/recall(B)', 'metrics/mAP50(B)', 'metrics/mAP50-95(B)']\n",
       "maps: array([    0.57708])\n",
       "names: {0: 'person'}\n",
       "plot: True\n",
       "results_dict: {'metrics/precision(B)': 0.7970170539852095, 'metrics/recall(B)': 0.7871720116618076, 'metrics/mAP50(B)': 0.8474400430371162, 'metrics/mAP50-95(B)': 0.5770788096947655, 'fitness': 0.6041149330290007}\n",
       "save_dir: WindowsPath('runs/detect/train')\n",
       "speed: {'preprocess': 0.13212312103544407, 'inference': 3.5789147261553445, 'loss': 0.0002901191172181144, 'postprocess': 0.28202347783403153}\n",
       "task: 'detect'"
      ]
     },
     "execution_count": 4,
     "metadata": {},
     "output_type": "execute_result"
    }
   ],
   "source": [
    "# model.train(data=PATH_DATASET, cfg=CONFIG)\n",
    "model.train(data=PATH_DATASET, \n",
    "            batch=18, \n",
    "            epochs=120, \n",
    "            imgsz=640, \n",
    "            mixup=0.7, \n",
    "            flipud=0.5, \n",
    "            shear=0.3, \n",
    "            degrees=0.3,\n",
    "            device=DEVICE)\n",
    "# results = model.val(data=PATH_DATASET, split='test', imgsz=640, conf=0.3, save_json=True)"
   ]
  }
 ],
 "metadata": {
  "kernelspec": {
   "display_name": "Python 3",
   "language": "python",
   "name": "python3"
  },
  "language_info": {
   "codemirror_mode": {
    "name": "ipython",
    "version": 3
   },
   "file_extension": ".py",
   "mimetype": "text/x-python",
   "name": "python",
   "nbconvert_exporter": "python",
   "pygments_lexer": "ipython3",
   "version": "3.10.0"
  }
 },
 "nbformat": 4,
 "nbformat_minor": 2
}
