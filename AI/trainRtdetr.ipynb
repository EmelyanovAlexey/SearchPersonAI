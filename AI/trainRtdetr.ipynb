{
 "cells": [
  {
   "cell_type": "markdown",
   "metadata": {},
   "source": [
    "# Обучение\n",
    "\n",
    "## 1 Выбор модели\n",
    "- YOLOv8n (nano): Этот вариант — самый лёгкий и быстрый, подходящий для устройств с ограниченными ресурсами, таких как дроны с мобильными процессорами или устройства типа NVIDIA Jetson Nano. Однако точность этой модели ниже, чем у более крупных вариантов.\n",
    "\n",
    "- YOLOv8s (small): Этот вариант предлагает хороший баланс между точностью и скоростью, лучше подходит для реальных условий, если у дрона есть чуть более мощный процессор, например, Jetson Xavier NX или эквивалент.\n",
    "\n",
    "- YOLOv8m (medium): Используйте его, если вам важна более высокая точность и вы можете позволить себе снижение скорости, например, если дрон оснащён мощным вычислительным блоком. Модель будет давать более стабильные и точные результаты.\n"
   ]
  },
  {
   "cell_type": "markdown",
   "metadata": {},
   "source": [
    "# Библиотеки"
   ]
  },
  {
   "cell_type": "code",
   "execution_count": null,
   "metadata": {},
   "outputs": [],
   "source": [
    "from ultralytics import RTDETR\n",
    "import ultralytics\n",
    "import torch"
   ]
  },
  {
   "cell_type": "markdown",
   "metadata": {},
   "source": [
    "# Константы"
   ]
  },
  {
   "cell_type": "code",
   "execution_count": null,
   "metadata": {},
   "outputs": [],
   "source": [
    "PATH_DATASET = './DataSet/SplitDataAll/dataset.yaml'\n",
    "MODEL = 'rtdetr-l.pt'\n",
    "DEVICE = 'cuda' if torch.cuda.is_available() else 'cpu'\n",
    "CONFIG = './Param/train.yaml'\n",
    "\n",
    "# print(torch.cuda.is_available()) \n",
    "print(DEVICE)"
   ]
  },
  {
   "cell_type": "markdown",
   "metadata": {},
   "source": [
    "# Программа"
   ]
  },
  {
   "cell_type": "code",
   "execution_count": null,
   "metadata": {},
   "outputs": [],
   "source": [
    "from ultralytics import RTDETR\n",
    "\n",
    "# Load a COCO-pretrained RT-DETR-l model\n",
    "model = RTDETR(\"rtdetr-l.pt\")\n",
    "\n",
    "# Display model information (optional)\n",
    "model.info()"
   ]
  },
  {
   "cell_type": "code",
   "execution_count": null,
   "metadata": {},
   "outputs": [],
   "source": [
    "# model = YOLO(\"./runs/detect/train/weights/best.pt\") "
   ]
  },
  {
   "cell_type": "code",
   "execution_count": null,
   "metadata": {},
   "outputs": [],
   "source": [
    "# Train the model on the COCO8 example dataset for 100 epochs\n",
    "results = model.train(\n",
    "    data=PATH_DATASET,\n",
    "    epochs=100,\n",
    "    batch=16,\n",
    "    imgsz=640,\n",
    "    device=DEVICE,\n",
    "    iou=0.4,\n",
    "    patience=40,   \n",
    "    max_det=30,\n",
    "    single_cls=True,\n",
    "    augment=True,\n",
    "    copy_paste=0.5\n",
    "    )"
   ]
  },
  {
   "cell_type": "code",
   "execution_count": null,
   "metadata": {},
   "outputs": [],
   "source": []
  },
  {
   "cell_type": "code",
   "execution_count": null,
   "metadata": {},
   "outputs": [],
   "source": []
  }
 ],
 "metadata": {
  "kernelspec": {
   "display_name": "Python 3",
   "language": "python",
   "name": "python3"
  },
  "language_info": {
   "codemirror_mode": {
    "name": "ipython",
    "version": 3
   },
   "file_extension": ".py",
   "mimetype": "text/x-python",
   "name": "python",
   "nbconvert_exporter": "python",
   "pygments_lexer": "ipython3",
   "version": "3.10.0"
  }
 },
 "nbformat": 4,
 "nbformat_minor": 2
}
