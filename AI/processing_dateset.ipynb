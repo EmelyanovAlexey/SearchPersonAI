{
 "cells": [
  {
   "cell_type": "markdown",
   "metadata": {},
   "source": [
    "# Обработка датасета\n",
    "\n",
    "- rename_on_order_in_folder - Переименовать изображения и метки по порядку\n",
    "\n",
    "\n",
    "- ImageLabelViewer - класс для просмотра изображений (run_viewer() - запуск)\n"
   ]
  },
  {
   "cell_type": "markdown",
   "metadata": {},
   "source": [
    "# Библиотеки"
   ]
  },
  {
   "cell_type": "code",
   "execution_count": 2,
   "metadata": {},
   "outputs": [],
   "source": [
    "import os\n",
    "import cv2\n",
    "\n",
    "from Module import rename_on_order_in_folder\n",
    "from Module import ImageLabelViewer, DatasetCreate"
   ]
  },
  {
   "cell_type": "markdown",
   "metadata": {},
   "source": [
    "# Константы"
   ]
  },
  {
   "cell_type": "code",
   "execution_count": 3,
   "metadata": {},
   "outputs": [],
   "source": [
    "FOLDER_WINTER_PATH = \"./DataSet/MyData/Winter/\"\n",
    "FOLDER_SUMMER_PATH = \"./DataSet/MyData/Summer/\"\n",
    "\n",
    "FOLDER_TRAIN_PATH = \"./DataSet/SplitData/Train2/\"\n",
    "\n",
    "FOLDER_VALID_PATH = \"./DataSet/MyData/Valid/\"\n",
    "FOLDER_TEST_PATH = \"./DataSet/MyData/Test/\""
   ]
  },
  {
   "cell_type": "markdown",
   "metadata": {},
   "source": [
    "Переименовать файлы в папке поочереди"
   ]
  },
  {
   "cell_type": "code",
   "execution_count": 4,
   "metadata": {},
   "outputs": [],
   "source": [
    "# rename_on_order_in_folder(FOLDER_SUMMER_PATH, nweName=\"\")"
   ]
  },
  {
   "cell_type": "markdown",
   "metadata": {},
   "source": [
    "Расформировать данные train valid test"
   ]
  },
  {
   "cell_type": "code",
   "execution_count": 5,
   "metadata": {},
   "outputs": [],
   "source": [
    "# new_data = DatasetCreate(\n",
    "#     FOLDER_WINTER_PATH, \n",
    "#     FOLDER_SUMMER_PATH, \n",
    "#     FOLDER_TRAIN_PATH, \n",
    "#     FOLDER_VALID_PATH, \n",
    "#     FOLDER_TEST_PATH)\n",
    "\n",
    "# new_data.create_data_for_dataset()\n"
   ]
  },
  {
   "cell_type": "markdown",
   "metadata": {},
   "source": [
    "Просмотр картинко с рамками в папке"
   ]
  },
  {
   "cell_type": "code",
   "execution_count": 6,
   "metadata": {},
   "outputs": [],
   "source": [
    "# использование класса\n",
    "viewer = ImageLabelViewer(FOLDER_TRAIN_PATH)\n",
    "viewer.run_viewer()"
   ]
  }
 ],
 "metadata": {
  "kernelspec": {
   "display_name": "Python 3",
   "language": "python",
   "name": "python3"
  },
  "language_info": {
   "codemirror_mode": {
    "name": "ipython",
    "version": 3
   },
   "file_extension": ".py",
   "mimetype": "text/x-python",
   "name": "python",
   "nbconvert_exporter": "python",
   "pygments_lexer": "ipython3",
   "version": "3.10.0"
  }
 },
 "nbformat": 4,
 "nbformat_minor": 2
}
