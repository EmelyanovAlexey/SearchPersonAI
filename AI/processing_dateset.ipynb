{
 "cells": [
  {
   "cell_type": "markdown",
   "metadata": {},
   "source": [
    "# Обработка датасета\n",
    "\n",
    "- rename_on_order_in_folder - Переименовать изображения и метки по порядку\n",
    "\n",
    "\n",
    "- ImageLabelViewer - класс для просмотра изображений (run_viewer() - запуск)\n"
   ]
  },
  {
   "cell_type": "markdown",
   "metadata": {},
   "source": [
    "# Библиотеки"
   ]
  },
  {
   "cell_type": "code",
   "execution_count": 7,
   "metadata": {},
   "outputs": [],
   "source": [
    "import os\n",
    "import cv2\n",
    "\n",
    "from Module import rename_on_order_in_folder\n",
    "# from Module import ImageLabelViewer, DatasetCreate"
   ]
  },
  {
   "cell_type": "markdown",
   "metadata": {},
   "source": [
    "# Константы"
   ]
  },
  {
   "cell_type": "code",
   "execution_count": 8,
   "metadata": {},
   "outputs": [],
   "source": [
    "FOLDER_WINTER_PATH = \"./DataSet/MyData/WinterAll/\"\n",
    "FOLDER_SUMMER_PATH = \"./DataSet/MyData/SummerAll/\"\n",
    "\n",
    "FOLDER_TRAIN_PATH = \"./DataSet/NewDataAll/Train/\"\n",
    "FOLDER_TRAIN_PATH = \"./DataSet/SplitDataScale/Train2/\"\n",
    "FOLDER_VALID_PATH = \"./DataSet/NewDataAll/Valid/\"\n",
    "FOLDER_TEST_PATH = \"./DataSet/NewDataAll/Test/\""
   ]
  },
  {
   "cell_type": "markdown",
   "metadata": {},
   "source": [
    "Переименовать файлы в папке поочереди"
   ]
  },
  {
   "cell_type": "code",
   "execution_count": 26,
   "metadata": {},
   "outputs": [],
   "source": [
    "\n",
    "\n",
    "import os\n",
    "\n",
    "# Переименовать изображения и метки по порядку\n",
    "def rename_on_order_in_folder(path, newName = \"img_\"):\n",
    "    '''\n",
    "        Переименовать все файлы в папке попорядку\n",
    "\n",
    "        - path - путь\n",
    "        - newName - имя для переименования\n",
    "    '''\n",
    "    images_folder = f\"{path}images\"\n",
    "    labels_folder = f\"{path}labels\"\n",
    "\n",
    "    images_files = sorted(os.listdir(images_folder))\n",
    "    labels_files = sorted(os.listdir(labels_folder))\n",
    "\n",
    "    # if len(images_files) != len(labels_files):\n",
    "    #     print(\"Количество файлов в папках не совпадает!\")\n",
    "    # else:\n",
    "        # Переименовываем файлы в обоих папках\n",
    "    for i, (img_file, lbl_file) in enumerate(zip(images_files, labels_files), start=1):\n",
    "        # Новый формат имени\n",
    "        new_name = f\"{newName}{i}\"\n",
    "        \n",
    "        # Определяем расширения файлов\n",
    "        img_ext = os.path.splitext(img_file)[1]\n",
    "        lbl_ext = os.path.splitext(lbl_file)[1]\n",
    "\n",
    "        # Полные пути к старым и новым файлам\n",
    "        old_img_path = os.path.join(images_folder, img_file)\n",
    "        new_img_path = os.path.join(images_folder, f\"{new_name}{img_ext}\")\n",
    "        \n",
    "        old_lbl_path = os.path.join(labels_folder, lbl_file)\n",
    "        new_lbl_path = os.path.join(labels_folder, f\"{new_name}{lbl_ext}\")\n",
    "\n",
    "        # Переименовываем файлы\n",
    "        os.rename(old_img_path, new_img_path)\n",
    "        os.rename(old_lbl_path, new_lbl_path)\n",
    "\n",
    "    print(\"Файлы успешно переименованы!\")"
   ]
  },
  {
   "cell_type": "markdown",
   "metadata": {},
   "source": [
    "Расформировать данные train valid test"
   ]
  },
  {
   "cell_type": "code",
   "execution_count": 32,
   "metadata": {},
   "outputs": [
    {
     "name": "stdout",
     "output_type": "stream",
     "text": [
      "Файлы успешно переименованы!\n"
     ]
    }
   ],
   "source": [
    "rename_on_order_in_folder(FOLDER_WINTER_PATH, newName=\"winter_\")"
   ]
  },
  {
   "cell_type": "code",
   "execution_count": 39,
   "metadata": {},
   "outputs": [],
   "source": [
    "import os\n",
    "import random\n",
    "import shutil\n",
    "from tqdm import tqdm\n",
    "\n",
    "class DatasetCreate:\n",
    "    '''\n",
    "        Формирования дата сета для обучения\n",
    "    '''\n",
    "\n",
    "    def __init__(self, path_winter, path_summer, path_train, path_valid, path_test):\n",
    "        self.path_winter = path_winter\n",
    "        self.path_summer = path_summer\n",
    "        self.path_train = path_train\n",
    "        self.path_valid = path_valid\n",
    "        self.path_test = path_test\n",
    "\n",
    "        self.data_index = 0\n",
    "\n",
    "    def get_split_data_for_train(self, data, train = 7, valid = 2, test = 1):\n",
    "        '''\n",
    "            Делим на 3 части\n",
    "        '''\n",
    "        \n",
    "        total_length = len(data)\n",
    "        part1_length = (total_length * 7) // 10 \n",
    "        part2_length = (total_length * 2) // 10 \n",
    "\n",
    "        train = data[:part1_length]\n",
    "        valid = data[part1_length:part1_length + part2_length]\n",
    "        test = data[part1_length + part2_length:]\n",
    "\n",
    "        return train, valid, test\n",
    "\n",
    "    def reset_directory(self, directory):\n",
    "        '''\n",
    "            Отчищаем дерикторию\n",
    "        '''\n",
    "\n",
    "        if os.path.exists(directory):\n",
    "            shutil.rmtree(directory)\n",
    "        os.makedirs(directory)\n",
    "\n",
    "    def copy_data(self, data, path_from, path_to, isClear = False, text = \"\"):\n",
    "        '''\n",
    "            Копируем дата данные в нужную папку\n",
    "        '''\n",
    "\n",
    "        if isClear:\n",
    "            self.reset_directory(f'{path_to}/images')\n",
    "            self.reset_directory(f'{path_to}/labels')\n",
    "\n",
    "        for img in tqdm(data, desc=f\"Копирование файлов {text}\", unit=\"файл\"):\n",
    "            src_img = os.path.join(f'{path_from}/images', img)\n",
    "            dst_img = os.path.join(f'{path_to}/images', f'{self.data_index}.jpg')\n",
    "            shutil.copy(src_img, dst_img)\n",
    "\n",
    "            # Находим соответствующую метку\n",
    "            label_name = img.replace('.jpg', '.txt')\n",
    "            label_name = label_name.replace('.JPG', '.txt')\n",
    "            src_label = os.path.join(f'{path_from}/labels', label_name)\n",
    "            dst_label = os.path.join(f'{path_to}/labels', f'{self.data_index}.txt')\n",
    "            # print(src_label, dst_label)\n",
    "            shutil.copy(src_label, dst_label)\n",
    "\n",
    "            self.data_index += 1\n",
    "\n",
    "    def create_data_for_dataset(self):\n",
    "        '''\n",
    "            Формирвоание данных для обучения\n",
    "        '''\n",
    "\n",
    "        files_winter_images = os.listdir(f'{self.path_winter}images')\n",
    "        files_summer_images = os.listdir(f'{self.path_summer}images')\n",
    "\n",
    "        # перемешали \n",
    "        random.shuffle(files_winter_images)\n",
    "        random.shuffle(files_summer_images)\n",
    "\n",
    "        train_w, valid_w, test_w = self.get_split_data_for_train(files_winter_images)\n",
    "        train_s, valid_s, test_s = self.get_split_data_for_train(files_summer_images)\n",
    "\n",
    "        self.data_index = 0\n",
    "        self.copy_data(train_w, self.path_winter, self.path_train, True, text=\"train зимняя\")\n",
    "        self.copy_data(train_s, self.path_summer, self.path_train, False, text=\"train зимняя\")\n",
    "\n",
    "        self.data_index = 0\n",
    "        self.copy_data(valid_w, self.path_winter, self.path_valid, True, text=\"valid зимняя\")\n",
    "        self.copy_data(valid_s, self.path_summer, self.path_valid, False, text=\"valid зимняя\")\n",
    "\n",
    "        self.data_index = 0\n",
    "        self.copy_data(test_w, self.path_winter, self.path_test, True, text=\"test зимняя\")\n",
    "        self.copy_data(test_s, self.path_summer, self.path_test, False, text=\"test зимняя\")"
   ]
  },
  {
   "cell_type": "code",
   "execution_count": 40,
   "metadata": {},
   "outputs": [
    {
     "name": "stderr",
     "output_type": "stream",
     "text": [
      "Копирование файлов train зимняя: 100%|██████████| 3420/3420 [00:47<00:00, 71.83файл/s]\n",
      "Копирование файлов train зимняя: 100%|██████████| 1723/1723 [00:41<00:00, 41.79файл/s]\n",
      "Копирование файлов valid зимняя: 100%|██████████| 977/977 [00:14<00:00, 65.80файл/s]\n",
      "Копирование файлов valid зимняя: 100%|██████████| 492/492 [00:11<00:00, 41.44файл/s]\n",
      "Копирование файлов test зимняя: 100%|██████████| 489/489 [00:07<00:00, 64.68файл/s]\n",
      "Копирование файлов test зимняя: 100%|██████████| 247/247 [00:05<00:00, 41.69файл/s]\n"
     ]
    }
   ],
   "source": [
    "new_data = DatasetCreate(\n",
    "    FOLDER_WINTER_PATH, \n",
    "    FOLDER_SUMMER_PATH, \n",
    "    FOLDER_TRAIN_PATH, \n",
    "    FOLDER_VALID_PATH, \n",
    "    FOLDER_TEST_PATH)\n",
    "\n",
    "new_data.create_data_for_dataset()\n"
   ]
  },
  {
   "cell_type": "markdown",
   "metadata": {},
   "source": [
    "Просмотр картинко с рамками в папке"
   ]
  },
  {
   "cell_type": "code",
   "execution_count": 16,
   "metadata": {},
   "outputs": [],
   "source": [
    "import os\n",
    "import cv2\n",
    "\n",
    "class ImageLabelViewer:\n",
    "    '''\n",
    "        Просмотр изображений с масской\n",
    "\n",
    "        - path - путь к папке\n",
    "        - display_size - размер изображения\n",
    "        -------------------------------------------\n",
    "        - run_viewer - запуск\n",
    "    '''\n",
    "\n",
    "    def __init__(self, path, display_size=(1280, 880)):\n",
    "        self.images_folder = os.path.join(path, \"images\")\n",
    "        self.labels_folder = os.path.join(path, \"labels\")\n",
    "        \n",
    "        # self.images_files = sorted(os.listdir(self.images_folder))\n",
    "        # self.labels_files = sorted(os.listdir(self.labels_folder))\n",
    "\n",
    "        self.images_files = os.listdir(self.images_folder)\n",
    "        self.labels_files = os.listdir(self.labels_folder)\n",
    "        \n",
    "        # if len(self.images_files) != len(self.labels_files):\n",
    "        #     raise ValueError(\"Количество файлов в папках не совпадает!\")\n",
    "        \n",
    "        self.current_index = 0\n",
    "        self.display_size = display_size\n",
    "\n",
    "    def _draw_bounding_boxes(self, image, label_file):\n",
    "        h, w = image.shape[:2]\n",
    "\n",
    "        with open(label_file, 'r') as f:\n",
    "            for line in f:\n",
    "                parts = line.strip().split()\n",
    "                # class_id = int(parts[0])\n",
    "                x_center, y_center, box_width, box_height = map(float, parts[1:])\n",
    "\n",
    "                # Переводим центр и размеры в абсолютные координаты\n",
    "                x_min = int((x_center - box_width / 2) * w)\n",
    "                y_min = int((y_center - box_height / 2) * h)\n",
    "                x_max = int((x_center + box_width / 2) * w)\n",
    "                y_max = int((y_center + box_height / 2) * h)\n",
    "\n",
    "                cv2.rectangle(image, (x_min, y_min), (x_max, y_max), (0, 0, 255), 2)\n",
    "        return image\n",
    "\n",
    "    def _show_image_with_boxes(self):\n",
    "        # Получаем текущее изображение и соответствующий файл меток\n",
    "        img_file = os.path.join(self.images_folder, self.images_files[self.current_index])\n",
    "        lbl_file = os.path.join(self.labels_folder, self.labels_files[self.current_index])\n",
    "        image = cv2.imread(img_file)\n",
    "        \n",
    "        cv2.putText(image, f\"image-{self.current_index}\", (10,50), cv2.FONT_HERSHEY_SIMPLEX, 1.5, (0, 255, 255), 4)\n",
    "        cv2.putText(image, \"A-back, d-next, esc-exit\", (10,120), cv2.FONT_HERSHEY_SIMPLEX, 1.5, (0, 255, 255), 4)\n",
    "\n",
    "        image_with_boxes = self._draw_bounding_boxes(image, lbl_file)\n",
    "        image_with_boxes = cv2.resize(image_with_boxes, self.display_size)\n",
    "        cv2.imshow(f\"Image\", image_with_boxes)\n",
    "\n",
    "    def _next_image(self):\n",
    "        # Переход к следующему изображению\n",
    "        self.current_index = (self.current_index + 1) % len(self.images_files)\n",
    "        self._show_image_with_boxes()\n",
    "    \n",
    "    def _prev_image(self):\n",
    "        # Переход к предыдущему изображению\n",
    "        self.current_index = (self.current_index - 1) % len(self.images_files)\n",
    "        self._show_image_with_boxes()\n",
    "\n",
    "    def run_viewer(self):\n",
    "        # Показать первое изображение\n",
    "        self._show_image_with_boxes()\n",
    "\n",
    "        while True:\n",
    "            # Ожидаем нажатие клавиши\n",
    "            key = cv2.waitKey(0)\n",
    "\n",
    "            # Обработка нажатия клавиш\n",
    "            if key == ord('d'):  # 'n' - следующее изображение\n",
    "                self._next_image()\n",
    "            elif key == ord('a'):  # 'p' - предыдущее изображение\n",
    "                self._prev_image()\n",
    "            elif key == 27:  # ESC - выход\n",
    "                break\n",
    "\n",
    "        # Закрываем окно\n",
    "        cv2.destroyAllWindows()"
   ]
  },
  {
   "cell_type": "code",
   "execution_count": 24,
   "metadata": {},
   "outputs": [],
   "source": [
    "FOLDER_TRAIN_PATH = \"./DataSet/SplitData/Valid/\"\n",
    "\n",
    "# использование класса\n",
    "viewer = ImageLabelViewer(FOLDER_TRAIN_PATH)\n",
    "viewer.run_viewer()"
   ]
  }
 ],
 "metadata": {
  "kernelspec": {
   "display_name": "Python 3",
   "language": "python",
   "name": "python3"
  },
  "language_info": {
   "codemirror_mode": {
    "name": "ipython",
    "version": 3
   },
   "file_extension": ".py",
   "mimetype": "text/x-python",
   "name": "python",
   "nbconvert_exporter": "python",
   "pygments_lexer": "ipython3",
   "version": "3.10.0"
  }
 },
 "nbformat": 4,
 "nbformat_minor": 2
}
